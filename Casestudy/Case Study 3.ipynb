{
 "cells": [
  {
   "cell_type": "markdown",
   "metadata": {},
   "source": [
    "# Case Study 3"
   ]
  },
  {
   "cell_type": "markdown",
   "metadata": {},
   "source": [
    "# Program Flow Cotrol"
   ]
  },
  {
   "cell_type": "markdown",
   "metadata": {},
   "source": [
    "### Domain – Telecom \n",
    "\n",
    "focus – Optimization\n",
    "\n",
    "Business challenge/requirement\n",
    "LifeTel Telecom is the latest entrant in the highly competitive Telecom market of Singapore. It issues SIM to the verified users. Till now verification was manual through the photocopy of approved id card document. However, government has recently introduced Social ID called Reference ID which is mapped to fingerprint of user. LifeTel should now verify user against the fingerprint and Reference ID\n",
    "\n",
    "\n",
    "Key issues\n",
    "Build a system where when user enters Reference ID it is encrypted, so that hackers cannot view the mapping of Reference ID and finger print\n",
    "\n",
    "\n",
    "Considerations\n",
    "System should be secure\n",
    "\n",
    "\n",
    "Data volume\n",
    "-\tNA\n",
    "\n",
    "Additional information\n",
    "-\tNA\n",
    "\n",
    "\n",
    "Business benefits\n",
    "Company will be able to quickly issue SIM to user and expected gain in volume is approximately 10 times as the manual process of verification is replaced with secure automated system\n",
    "\n",
    "Approach to Solve\n",
    "You have to use fundamentals of Python taught in module 1\n",
    "1.\tRead the input from command line – Reference ID\n",
    "2.\tCheck for validity – it should be 12 digits and allows on number and alphabet\n",
    "3.\tEncrypt the Reference ID and print it for reference\n",
    "\n",
    "Enhancements for code\n",
    "You can try these enhancements in code\n",
    "1.\tAllow some special characters in ReferenceID\n",
    "2.\tGive the option for decryption to user"
   ]
  },
  {
   "cell_type": "code",
   "execution_count": 1,
   "metadata": {},
   "outputs": [],
   "source": [
    "import base64 # Used for encoding"
   ]
  },
  {
   "cell_type": "markdown",
   "metadata": {},
   "source": [
    "### Take Input from user"
   ]
  },
  {
   "cell_type": "code",
   "execution_count": 2,
   "metadata": {},
   "outputs": [
    {
     "name": "stdout",
     "output_type": "stream",
     "text": [
      "Enter Reference ID: HelloWorld\n",
      "Reference ID should be 12 characters\n"
     ]
    }
   ],
   "source": [
    "reference_id = input ('Enter Reference ID: ')\n",
    "if(len(reference_id) != 12):\n",
    "    print(\"Reference ID should be 12 characters\")\n"
   ]
  },
  {
   "cell_type": "code",
   "execution_count": 3,
   "metadata": {},
   "outputs": [],
   "source": [
    "# list of characters allowed\n",
    "allowed_chars = \"ABCDEFGHIJKLMNOPQRSTUVWXYZ\" + \"abcdefghijklmnopqrstuvwxyz\" +  \"0123456789\"\n",
    "\n",
    "is_validated = True\n"
   ]
  },
  {
   "cell_type": "code",
   "execution_count": 4,
   "metadata": {},
   "outputs": [],
   "source": [
    "for c in reference_id:\n",
    "    if (c not in allowed_chars):\n",
    "        is_validated = False\n",
    "        break\n"
   ]
  },
  {
   "cell_type": "code",
   "execution_count": 5,
   "metadata": {},
   "outputs": [
    {
     "name": "stdout",
     "output_type": "stream",
     "text": [
      "Is validated: True\n",
      " Congratulations!!! ReferenceID is encrypted, You are Safe from Hackers: b'SGVsbG9Xb3JsZA=='\n"
     ]
    }
   ],
   "source": [
    "print(\"Is validated:\", is_validated)\n",
    "if(not is_validated) :\n",
    "    print(\"Reference ID should contain only number and alphabets\")\n",
    "\n",
    "\n",
    "\n",
    "# Encrypt the Reference ID:\n",
    "\n",
    "reference_id_encrypt = base64.b64encode(reference_id.encode())\n",
    "\n",
    "print(\" Congratulations!!! ReferenceID is encrypted, You are Safe from Hackers:\",reference_id_encrypt )\n"
   ]
  },
  {
   "cell_type": "markdown",
   "metadata": {},
   "source": [
    "## End of Case Study 3"
   ]
  }
 ],
 "metadata": {
  "kernelspec": {
   "display_name": "Python 3",
   "language": "python",
   "name": "python3"
  },
  "language_info": {
   "codemirror_mode": {
    "name": "ipython",
    "version": 3
   },
   "file_extension": ".py",
   "mimetype": "text/x-python",
   "name": "python",
   "nbconvert_exporter": "python",
   "pygments_lexer": "ipython3",
   "version": "3.6.5"
  }
 },
 "nbformat": 4,
 "nbformat_minor": 2
}
