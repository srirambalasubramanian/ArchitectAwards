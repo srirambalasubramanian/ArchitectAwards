{
 "cells": [
  {
   "cell_type": "markdown",
   "metadata": {},
   "source": [
    "# Case Study 5"
   ]
  },
  {
   "cell_type": "markdown",
   "metadata": {},
   "source": [
    "# Functions, OOPs, Modules, Errors and Exception"
   ]
  },
  {
   "cell_type": "markdown",
   "metadata": {},
   "source": [
    "### Domain – Banking Marketing\n",
    "\n",
    "focus – Optimization\n",
    "\n",
    "Business challenge/requirement\n",
    "\n",
    "Bank of Portugal runs marketing campaign to offer loans to clients. Loan is offered to only clients with particular professions. List of successful campaigns (with client data) is given in attached dataset. You have to come up with program which reads the file and builds a set of unique profession list and given input profession of client – system tells whether client is eligible to be approached for marketing campaign.\n",
    "Key issues\n",
    "Tele Caller can only make x number of cold calls in a day. Hence to increase her effectiveness only eligible customers should be called\n",
    "\n",
    "\n",
    "Considerations\n",
    "Current system does not differentiate clients based on age and profession\n",
    "\n",
    "\n",
    "Data volume\n",
    "447 records in bank-data.csv\n",
    "\n",
    "Additional information\n",
    "- NA\n",
    "\n",
    "\n",
    "Business benefits\n",
    "Company can achieve between 15% to 20% higher conversion by targeting right clients\n",
    "\n",
    "Approach to Solve\n",
    "You have to use fundamentals of Python taught in module 2\n",
    "1.\tRead file bank-data.csv\n",
    "2.\tBuild a set of unique jobs\n",
    "3.\tRead the input from command line –profession\n",
    "4.\tCheck if profession is in list\n",
    "5.\tPrint whether client is eligible\n",
    " \n",
    "Enhancements for code\n",
    "You can try these enhancements in code\n",
    "1.\tCompute max and min age for loan eligibility based on data in csv file\n",
    "2.\tStore max and min age in dictionary\n",
    "3.\tMake the profession check case insensitive\n",
    "4.\tCurrently program ends after the check. Take the input in while loop and end only if user types \"END\" for profession\n"
   ]
  },
  {
   "cell_type": "markdown",
   "metadata": {},
   "source": [
    "### Read the file in read only mode"
   ]
  },
  {
   "cell_type": "code",
   "execution_count": 1,
   "metadata": {},
   "outputs": [],
   "source": [
    "campaign_data = open('bank-data.csv','r')"
   ]
  },
  {
   "cell_type": "code",
   "execution_count": 2,
   "metadata": {},
   "outputs": [],
   "source": [
    "i = 0;\n",
    "joblist = set() # empty set to store list of jobs\n"
   ]
  },
  {
   "cell_type": "markdown",
   "metadata": {},
   "source": [
    "### Read the Data from file"
   ]
  },
  {
   "cell_type": "code",
   "execution_count": 4,
   "metadata": {},
   "outputs": [],
   "source": [
    "for data in campaign_data:\n",
    "    i += 1\n",
    "    if i == 1 :     # 1st Line is header skip it.\n",
    "        continue\n"
   ]
  },
  {
   "cell_type": "markdown",
   "metadata": {},
   "source": [
    "### Strip new line characters"
   ]
  },
  {
   "cell_type": "code",
   "execution_count": 5,
   "metadata": {},
   "outputs": [],
   "source": [
    "data = data.rstrip('\\n')"
   ]
  },
  {
   "cell_type": "code",
   "execution_count": 6,
   "metadata": {},
   "outputs": [],
   "source": [
    "#print (\" data is:\" , data)\n",
    "# Split the line on comma read the second word as it contains the job name\n",
    "words = data.split(',')\n",
    "joblist.add(words[1])\n"
   ]
  },
  {
   "cell_type": "markdown",
   "metadata": {},
   "source": [
    "### Close the file after reading"
   ]
  },
  {
   "cell_type": "code",
   "execution_count": 7,
   "metadata": {},
   "outputs": [],
   "source": [
    "campaign_data.close()"
   ]
  },
  {
   "cell_type": "code",
   "execution_count": 8,
   "metadata": {},
   "outputs": [
    {
     "name": "stdout",
     "output_type": "stream",
     "text": [
      " List of Jobs Eligible For Campaign: {'blue-collar'}\n"
     ]
    }
   ],
   "source": [
    "print(\" List of Jobs Eligible For Campaign:\", joblist)"
   ]
  },
  {
   "cell_type": "markdown",
   "metadata": {},
   "source": [
    "### Take input from TeleCaller to check eligibilty of Client"
   ]
  },
  {
   "cell_type": "code",
   "execution_count": 9,
   "metadata": {},
   "outputs": [
    {
     "name": "stdout",
     "output_type": "stream",
     "text": [
      "Enter client profession: Engineer\n"
     ]
    }
   ],
   "source": [
    "client_prof = input('Enter client profession: ')"
   ]
  },
  {
   "cell_type": "code",
   "execution_count": 10,
   "metadata": {},
   "outputs": [
    {
     "name": "stdout",
     "output_type": "stream",
     "text": [
      "Skip this one *** Client Needs to be in one of these jobs {'blue-collar'}\n"
     ]
    }
   ],
   "source": [
    "if (client_prof in joblist):\n",
    "    print ( \"Go Ahead!!! and Make Some Sales !!!! Client is eligible for Tele Calling\" )\n",
    "else:\n",
    "    print(\"Skip this one *** Client Needs to be in one of these jobs\", joblist)\n"
   ]
  },
  {
   "cell_type": "markdown",
   "metadata": {},
   "source": [
    "## End of Case Study 5"
   ]
  },
  {
   "cell_type": "code",
   "execution_count": null,
   "metadata": {},
   "outputs": [],
   "source": []
  }
 ],
 "metadata": {
  "kernelspec": {
   "display_name": "Python 3",
   "language": "python",
   "name": "python3"
  },
  "language_info": {
   "codemirror_mode": {
    "name": "ipython",
    "version": 3
   },
   "file_extension": ".py",
   "mimetype": "text/x-python",
   "name": "python",
   "nbconvert_exporter": "python",
   "pygments_lexer": "ipython3",
   "version": "3.6.5"
  }
 },
 "nbformat": 4,
 "nbformat_minor": 2
}
