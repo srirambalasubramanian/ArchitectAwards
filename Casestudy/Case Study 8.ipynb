{
 "cells": [
  {
   "cell_type": "markdown",
   "metadata": {},
   "source": [
    "# Case Study 8"
   ]
  },
  {
   "cell_type": "markdown",
   "metadata": {},
   "source": [
    "# Numpy, Pandas & Matplotlib"
   ]
  },
  {
   "cell_type": "markdown",
   "metadata": {},
   "source": [
    "### Domain – Education\n",
    "\n",
    "focus – Data analysis\n",
    "\n",
    "Business challenge/requirement\n",
    "You are a data analyst with University of Cal USA (Not a machine learning expert yet as you still have not completed ML with Python Course :-)).The University has data of Math, Physics and Data Structure score of sophomore students. This data is stored in different files. The University has hired a data science company to do analysis of scores and find if there is any correlation of score with age, ethnicity etc. Before the data is given to the company you have to do data wrangling.\n",
    "Key issues\n",
    "Ensure students identify is not revealed to the agency and only relevant data is shared\n",
    "\n",
    "    Considerations NONE\n",
    "\n",
    "Data volume\n",
    "-\tIn thousands, but only around 1800 records are shared in files MathScoreTerm1.csv DSScoreTerm1.csv, PhysicsScoreTerm1.csv\n",
    "\n",
    "Additional information\n",
    "-\tNA\n",
    "\n",
    "\n",
    "Business benefits\n",
    "University can get more students enrollment by improving its international ranking through personalized course/curriculum for students\n",
    "\n",
    "\n",
    "Approach to Solve\n",
    "You have to use fundamentals of Numpy and Pandas covered in module 4.\n",
    "1.\tRead the three csv files which contains the score of same students in term1 for each Subject\n",
    "2.\tRemove the name and ethnicity column (to ensure confidentiality)\n",
    " \n",
    "3.\tFill missing score data with zero\n",
    "4.\tMerge the three files\n",
    "5.\tChange Sex(M/F) Column to 1/2 for further analysis\n",
    "6.\tStore the data in new file – ScoreFinal.csv\n",
    "\n",
    "Enhancements for code\n",
    "You can try these enhancements in code\n",
    "1.\tConvert ethnicity to numerical value\n",
    "2.\tFill the missing score for a student to the average of the class\n"
   ]
  },
  {
   "cell_type": "code",
   "execution_count": 3,
   "metadata": {},
   "outputs": [
    {
     "name": "stdout",
     "output_type": "stream",
     "text": [
      "             Name  Score  Age         Ethinicity Subject Sex  ID\n",
      "0  AI-KYUNG CHUNG   88.0   18     White American   Maths   M   1\n",
      "1     ALAN HARVEY   85.0   19  European American   Maths   M   2\n",
      "2    ALAN REYNAUD   45.0   19  European American   Maths   M   3\n",
      "3  ALBERT CENDANA   82.0   18     White American   Maths   M   4\n",
      "4  ALBERT HOLT JR   82.0   18     White American   Maths   F   5\n",
      "   Score  Age Subject Sex  ID\n",
      "0   88.0   18   Maths   M   1\n",
      "1   85.0   19   Maths   M   2\n",
      "2   45.0   19   Maths   M   3\n",
      "3   82.0   18   Maths   M   4\n",
      "4   82.0   18   Maths   F   5\n",
      "Score      3\n",
      "Age        0\n",
      "Subject    0\n",
      "Sex        0\n",
      "ID         0\n",
      "dtype: int64\n",
      "Score      0\n",
      "Age        0\n",
      "Subject    0\n",
      "Sex        0\n",
      "ID         0\n",
      "dtype: int64\n",
      "Done\n"
     ]
    }
   ],
   "source": [
    "import pandas as pd\n",
    "import numpy as np\n",
    "\n",
    "\n",
    "# Read the three files\n",
    "\n",
    "math_data = pd.read_csv(\"MathScoreTerm1.csv\")\n",
    "ds_data = pd.read_csv(\"DSScoreTerm1.csv\")\n",
    "physics_data = pd.read_csv(\"PhysicsScoreTerm1.csv\")\n",
    "\n",
    "# Preview the first data set\n",
    "print(math_data.head())\n",
    "\n",
    "\n",
    "#Remove Name and Ethinicty columns from each  data set\n",
    "math_data = math_data.drop(['Name','Ethinicity'], axis=1)\n",
    "print(math_data.head())\n",
    "\n",
    "# print Summary of missing values in Term1 Data\n",
    "print (math_data.isnull().sum())\n",
    "\n",
    "# Fill Missing Scores with 0\n",
    "math_data['Score'] = math_data['Score'].fillna(0)\n",
    "# Check Again if values are filled correctly\n",
    "print (math_data.isnull().sum())\n",
    "\n",
    "\n",
    "# Do the same for DS and Physics\n",
    "\n",
    "ds_data = ds_data.drop(['Name','Ethinicity'], axis=1)\n",
    "ds_data['Score'] = ds_data['Score'].fillna(0)\n",
    "\n",
    "physics_data = physics_data.drop(['Name','Ethinicity'], axis=1)\n",
    "physics_data['Score'] = physics_data['Score'].fillna(0)\n",
    "\n",
    "all_data =[math_data,ds_data,physics_data]\n",
    "\n",
    "# Convert Sex M to 1 and F to 2\n",
    "for dataset in all_data:\n",
    "    dataset['Sex'] = dataset['Sex'].map({'M': 1, 'F': 2}).astype(int)\n",
    "\n",
    "all_data_df = pd.concat(all_data)\n",
    "all_data_df.to_csv('ScoreFinal.csv',index=False)\n",
    "\n",
    "print (\"Done\")\n"
   ]
  },
  {
   "cell_type": "markdown",
   "metadata": {
    "collapsed": true
   },
   "source": [
    "# End of Case Study 8"
   ]
  }
 ],
 "metadata": {
  "kernelspec": {
   "display_name": "Python 3",
   "language": "python",
   "name": "python3"
  },
  "language_info": {
   "codemirror_mode": {
    "name": "ipython",
    "version": 3
   },
   "file_extension": ".py",
   "mimetype": "text/x-python",
   "name": "python",
   "nbconvert_exporter": "python",
   "pygments_lexer": "ipython3",
   "version": "3.6.5"
  }
 },
 "nbformat": 4,
 "nbformat_minor": 2
}
