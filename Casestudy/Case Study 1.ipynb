{
 "cells": [
  {
   "cell_type": "markdown",
   "metadata": {},
   "source": [
    "# Case Study 1"
   ]
  },
  {
   "cell_type": "markdown",
   "metadata": {},
   "source": [
    "# Program Flow Cotrol"
   ]
  },
  {
   "cell_type": "markdown",
   "metadata": {},
   "source": [
    "### 1.Write a program which will find factors of given number and find whether the factor is even or odd.\n",
    "\n",
    "Hint: Use Loop with if-else statements"
   ]
  },
  {
   "cell_type": "code",
   "execution_count": null,
   "metadata": {},
   "outputs": [],
   "source": [
    "num=50\n",
    "\n",
    "for i in range(1,num+1): rem=num%i\n",
    "\n",
    "if(rem==0): if(i%2==0):\n",
    "print(\"Factor is even:\",i) else:\n",
    "print(\"factor is odd: \",i)\n",
    "\n",
    "else:\n",
    "pass"
   ]
  },
  {
   "cell_type": "markdown",
   "metadata": {},
   "source": [
    "### 2.Write a code which accepts a sequence of words as input and prints the words in a sequence after sorting them alphabetically.\n",
    "\n",
    "Hint: In case of input data being supplied to the question, it should be assumed to be a console input.\n"
   ]
  },
  {
   "cell_type": "code",
   "execution_count": null,
   "metadata": {},
   "outputs": [],
   "source": [
    "my_str = \"Welcome to Python\"\n",
    "\n",
    "# breakdown the string into a list of words words = my_str.split()\n",
    " \n",
    "# sort the list \n",
    "words.sort()\n",
    "\n",
    "# display the sorted words\n",
    "print(\"The sorted words are:\") for word in words:\n",
    "print(word)\n"
   ]
  },
  {
   "cell_type": "markdown",
   "metadata": {},
   "source": [
    "### 3.Write a program, which will find all the numbers between 1000 and 3000 (both included) such that each digit of a number is an even number. The numbers obtained should be printed in a comma separated sequence on a single line.\n",
    "\n",
    "Hint: In case of input data being supplied to the question, it should be assumed to be a console input. Divide each digit with 2 and verify is it even or not\n"
   ]
  },
  {
   "cell_type": "code",
   "execution_count": null,
   "metadata": {},
   "outputs": [],
   "source": [
    "values = []\n",
    "for i in range(1000,3001): s = str(i)\n",
    "if (int(s[0])%2==0) and (int(s[1])%2==0) and (int(s[2])%2==0) and\n",
    "(int(s[3])%2==0):\n",
    "print(values.append(s)) print (\",\".join(values))"
   ]
  },
  {
   "cell_type": "markdown",
   "metadata": {},
   "source": [
    "### 4.Write a program that accepts a sentence and calculate the number of letters and digits.\n",
    "Suppose if the entered string is: Python0325 Then the output will be:\n",
    "LETTERS: 6 DIGITS:4\n",
    "\n",
    "Hint: Use built-in functions of string."
   ]
  },
  {
   "cell_type": "code",
   "execution_count": null,
   "metadata": {},
   "outputs": [],
   "source": [
    "s = “aac34520”\n",
    "d={\"DIGITS\":0, \"LETTERS\":0}\n",
    "for c in s:\n",
    "if c.isdigit(): d[\"DIGITS\"]+=1\n",
    "elif c.isalpha(): d[\"LETTERS\"]+=1\n",
    "else:\n",
    "pass\n",
    "print(\"LETTERS\", d[\"LETTERS\"])\n",
    "print(\"DIGITS\", d[\"DIGITS\"])"
   ]
  },
  {
   "cell_type": "markdown",
   "metadata": {},
   "source": [
    "### 5.Design a code which will find the given number is Palindrome number or not."
   ]
  },
  {
   "cell_type": "code",
   "execution_count": null,
   "metadata": {},
   "outputs": [],
   "source": [
    "# change this value for a different output \n",
    "my_str = 'aIbohPhoBiA'\n",
    "\n",
    "# make it suitable for caseless comparison \n",
    "my_str = my_str.casefold()\n",
    "\n",
    "# reverse the string \n",
    "rev_str = reversed(my_str)\n",
    "\n",
    "# check if the string is equal to its reverse\n",
    "if list(my_str) == list(rev_str): print(\"It is palindrome\")\n",
    "else:\n",
    "print(\"It is not palindrome\")"
   ]
  },
  {
   "cell_type": "markdown",
   "metadata": {},
   "source": [
    "## End of Case Study 1"
   ]
  }
 ],
 "metadata": {
  "kernelspec": {
   "display_name": "Python 3",
   "language": "python",
   "name": "python3"
  },
  "language_info": {
   "codemirror_mode": {
    "name": "ipython",
    "version": 3
   },
   "file_extension": ".py",
   "mimetype": "text/x-python",
   "name": "python",
   "nbconvert_exporter": "python",
   "pygments_lexer": "ipython3",
   "version": "3.6.5"
  }
 },
 "nbformat": 4,
 "nbformat_minor": 2
}
