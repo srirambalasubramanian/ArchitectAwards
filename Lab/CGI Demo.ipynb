{
 "cells": [
  {
   "cell_type": "markdown",
   "metadata": {},
   "source": [
    "# CGI Demo"
   ]
  },
  {
   "cell_type": "markdown",
   "metadata": {},
   "source": [
    "## To Print Hello Word! This is my first CGI program"
   ]
  },
  {
   "cell_type": "code",
   "execution_count": null,
   "metadata": {},
   "outputs": [],
   "source": [
    "print \"Content-type:text/html\\r\\n\\r\\n\"\n",
    "print '<html>'\n",
    "print '<head>'\n",
    "print '<title>Hello Word - First CGI Program</title>'\n",
    "print '</head>'\n",
    "print '<body>'\n",
    "print '<h2>Hello Word! This is my first CGI program</h2>'\n",
    "print '</body>'\n",
    "print '</html>'"
   ]
  },
  {
   "cell_type": "markdown",
   "metadata": {},
   "source": [
    "## Simple URL Example:Get Method\n",
    "\n",
    "- Here is a simple URL, which passes two values to hello_get.py program using GET method."
   ]
  },
  {
   "cell_type": "code",
   "execution_count": null,
   "metadata": {},
   "outputs": [],
   "source": [
    "#!/usr/bin/python\n",
    "\n",
    "# Import modules for CGI handling \n",
    "import cgi, cgitb \n",
    "\n",
    "# Create instance of FieldStorage \n",
    "form = cgi.FieldStorage() \n",
    "\n",
    "# Get data from fields\n",
    "first_name = form.getvalue('first_name')\n",
    "last_name  = form.getvalue('last_name')\n",
    "\n",
    "print \"Content-type:text/html\\r\\n\\r\\n\"\n",
    "print \"<html>\"\n",
    "print \"<head>\"\n",
    "print \"<title>Hello - Second CGI Program</title>\"\n",
    "print \"</head>\"\n",
    "print \"<body>\"\n",
    "print \"<h2>Hello %s %s</h2>\" % (first_name, last_name)\n",
    "print \"</body>\"\n",
    "print \"</html>\""
   ]
  },
  {
   "cell_type": "markdown",
   "metadata": {},
   "source": [
    "## Simple FORM Example:GET Method\n",
    "\n",
    "This example passes two values using HTML FORM and submit button. We use same CGI script hello_get.py to handle this input."
   ]
  },
  {
   "cell_type": "code",
   "execution_count": null,
   "metadata": {},
   "outputs": [],
   "source": [
    "<form action = \"/cgi-bin/hello_get.py\" method = \"get\">\n",
    "First Name: <input type = \"text\" name = \"first_name\">  <br />\n",
    "\n",
    "Last Name: <input type = \"text\" name = \"last_name\" />\n",
    "<input type = \"submit\" value = \"Submit\" />\n",
    "</form>"
   ]
  },
  {
   "cell_type": "markdown",
   "metadata": {},
   "source": [
    "## Passing Information UsingPost Method\n",
    "\n",
    "- A generally more reliable method of passing information to a CGI program is the POST method. This packages the information in exactly the same way as GET methods, but instead of sending it as a text string after a ? in the URL it sends it as a separate message. This message comes into the CGI script in the form of the standard input.\n",
    "\n",
    "- Below is same hello_get.py script which handles GET as well as POST method."
   ]
  },
  {
   "cell_type": "code",
   "execution_count": null,
   "metadata": {},
   "outputs": [],
   "source": [
    "#!/usr/bin/python\n",
    "\n",
    "# Import modules for CGI handling \n",
    "import cgi, cgitb \n",
    "\n",
    "# Create instance of FieldStorage \n",
    "form = cgi.FieldStorage() \n",
    "\n",
    "# Get data from fields\n",
    "first_name = form.getvalue('first_name')\n",
    "last_name  = form.getvalue('last_name')\n",
    "\n",
    "print \"Content-type:text/html\\r\\n\\r\\n\"\n",
    "print \"<html>\"\n",
    "print \"<head>\"\n",
    "print \"<title>Hello - Second CGI Program</title>\"\n",
    "print \"</head>\"\n",
    "print \"<body>\"\n",
    "print \"<h2>Hello %s %s</h2>\" % (first_name, last_name)\n",
    "print \"</body>\"\n",
    "print \"</html>\""
   ]
  },
  {
   "cell_type": "code",
   "execution_count": null,
   "metadata": {},
   "outputs": [],
   "source": [
    "<form action = \"/cgi-bin/hello_get.py\" method = \"post\">\n",
    "First Name: <input type = \"text\" name = \"first_name\"><br />\n",
    "Last Name: <input type = \"text\" name = \"last_name\" />\n",
    "\n",
    "<input type = \"submit\" value = \"Submit\" />\n",
    "</form>"
   ]
  },
  {
   "cell_type": "markdown",
   "metadata": {},
   "source": [
    "## Passing Checkbox Data to CGI Program\n",
    "\n",
    "- Checkboxes are used when more than one option is required to be selected."
   ]
  },
  {
   "cell_type": "code",
   "execution_count": null,
   "metadata": {},
   "outputs": [],
   "source": [
    "#!/usr/bin/python\n",
    "\n",
    "# Import modules for CGI handling \n",
    "import cgi, cgitb \n",
    "\n",
    "# Create instance of FieldStorage \n",
    "form = cgi.FieldStorage() \n",
    "\n",
    "# Get data from fields\n",
    "if form.getvalue('maths'):\n",
    "   math_flag = \"ON\"\n",
    "else:\n",
    "   math_flag = \"OFF\"\n",
    "\n",
    "if form.getvalue('physics'):\n",
    "   physics_flag = \"ON\"\n",
    "else:\n",
    "   physics_flag = \"OFF\"\n",
    "\n",
    "print \"Content-type:text/html\\r\\n\\r\\n\"\n",
    "print \"<html>\"\n",
    "print \"<head>\"\n",
    "print \"<title>Checkbox - Third CGI Program</title>\"\n",
    "print \"</head>\"\n",
    "print \"<body>\"\n",
    "print \"<h2> CheckBox Maths is : %s</h2>\" % math_flag\n",
    "print \"<h2> CheckBox Physics is : %s</h2>\" % physics_flag\n",
    "print \"</body>\"\n",
    "print \"</html>\""
   ]
  },
  {
   "cell_type": "code",
   "execution_count": null,
   "metadata": {},
   "outputs": [],
   "source": [
    "<form action = \"/cgi-bin/checkbox.cgi\" method = \"POST\" target = \"_blank\">\n",
    "<input type = \"checkbox\" name = \"maths\" value = \"on\" /> Maths\n",
    "<input type = \"checkbox\" name = \"physics\" value = \"on\" /> Physics\n",
    "<input type = \"submit\" value = \"Select Subject\" />\n",
    "</form>"
   ]
  },
  {
   "cell_type": "markdown",
   "metadata": {},
   "source": [
    "## Passing Radio Button Data to CGI Program\n",
    "\n",
    "- Radio Buttons are used when only one option is required to be selected."
   ]
  },
  {
   "cell_type": "code",
   "execution_count": null,
   "metadata": {},
   "outputs": [],
   "source": [
    "#!/usr/bin/python\n",
    "\n",
    "# Import modules for CGI handling \n",
    "import cgi, cgitb \n",
    "\n",
    "# Create instance of FieldStorage \n",
    "form = cgi.FieldStorage() \n",
    "\n",
    "# Get data from fields\n",
    "if form.getvalue('subject'):\n",
    "   subject = form.getvalue('subject')\n",
    "else:\n",
    "   subject = \"Not set\"\n",
    "\n",
    "print \"Content-type:text/html\\r\\n\\r\\n\"\n",
    "print \"<html>\"\n",
    "print \"<head>\"\n",
    "print \"<title>Radio - Fourth CGI Program</title>\"\n",
    "print \"</head>\"\n",
    "print \"<body>\"\n",
    "print \"<h2> Selected Subject is %s</h2>\" % subject\n",
    "print \"</body>\"\n",
    "print \"</html>\""
   ]
  },
  {
   "cell_type": "code",
   "execution_count": null,
   "metadata": {},
   "outputs": [],
   "source": [
    "<form action = \"/cgi-bin/radiobutton.py\" method = \"post\" target = \"_blank\">\n",
    "<input type = \"radio\" name = \"subject\" value = \"maths\" /> Maths\n",
    "<input type = \"radio\" name = \"subject\" value = \"physics\" /> Physics\n",
    "<input type = \"submit\" value = \"Select Subject\" />\n",
    "</form>"
   ]
  },
  {
   "cell_type": "markdown",
   "metadata": {},
   "source": [
    "## Passing Text Area Data to CGI Program\n",
    "\n",
    "- TEXTAREA element is used when multiline text has to be passed to the CGI Program."
   ]
  },
  {
   "cell_type": "code",
   "execution_count": null,
   "metadata": {},
   "outputs": [],
   "source": [
    "#!/usr/bin/python\n",
    "\n",
    "# Import modules for CGI handling \n",
    "import cgi, cgitb \n",
    "\n",
    "# Create instance of FieldStorage \n",
    "form = cgi.FieldStorage() \n",
    "\n",
    "# Get data from fields\n",
    "if form.getvalue('textcontent'):\n",
    "   text_content = form.getvalue('textcontent')\n",
    "else:\n",
    "   text_content = \"Not entered\"\n",
    "\n",
    "print \"Content-type:text/html\\r\\n\\r\\n\"\n",
    "print \"<html>\"\n",
    "print \"<head>\";\n",
    "print \"<title>Text Area - Fifth CGI Program</title>\"\n",
    "print \"</head>\"\n",
    "print \"<body>\"\n",
    "print \"<h2> Entered Text Content is %s</h2>\" % text_content\n",
    "print \"</body>\""
   ]
  },
  {
   "cell_type": "code",
   "execution_count": null,
   "metadata": {},
   "outputs": [],
   "source": [
    "<form action = \"/cgi-bin/textarea.py\" method = \"post\" target = \"_blank\">\n",
    "<textarea name = \"textcontent\" cols = \"40\" rows = \"4\">\n",
    "Type your text here...\n",
    "</textarea>\n",
    "<input type = \"submit\" value = \"Submit\" />\n",
    "</form>"
   ]
  },
  {
   "cell_type": "markdown",
   "metadata": {},
   "source": [
    "# Passing Drop Down Box Data to CGI Program\n",
    "\n",
    "- Drop Down Box is used when we have many options available but only one or two will be selected."
   ]
  },
  {
   "cell_type": "code",
   "execution_count": null,
   "metadata": {},
   "outputs": [],
   "source": [
    "#!/usr/bin/python\n",
    "\n",
    "# Import modules for CGI handling \n",
    "import cgi, cgitb \n",
    "\n",
    "# Create instance of FieldStorage \n",
    "form = cgi.FieldStorage() \n",
    "\n",
    "# Get data from fields\n",
    "if form.getvalue('dropdown'):\n",
    "   subject = form.getvalue('dropdown')\n",
    "else:\n",
    "   subject = \"Not entered\"\n",
    "\n",
    "print \"Content-type:text/html\\r\\n\\r\\n\"\n",
    "print \"<html>\"\n",
    "print \"<head>\"\n",
    "print \"<title>Dropdown Box - Sixth CGI Program</title>\"\n",
    "print \"</head>\"\n",
    "print \"<body>\"\n",
    "print \"<h2> Selected Subject is %s</h2>\" % subject\n",
    "print \"</body>\"\n",
    "print \"</html>\""
   ]
  },
  {
   "cell_type": "code",
   "execution_count": null,
   "metadata": {},
   "outputs": [],
   "source": [
    "<form action = \"/cgi-bin/dropdown.py\" method = \"post\" target = \"_blank\">\n",
    "<select name = \"dropdown\">\n",
    "<option value = \"Maths\" selected>Maths</option>\n",
    "<option value = \"Physics\">Physics</option>\n",
    "</select>\n",
    "<input type = \"submit\" value = \"Submit\"/>\n",
    "</form>"
   ]
  },
  {
   "cell_type": "markdown",
   "metadata": {},
   "source": [
    "## File Upload\n",
    "\n",
    "- To upload a file, the HTML form must have the enctype attribute set to multipart/form-data. The input tag with the file type creates a \"Browse\" button."
   ]
  },
  {
   "cell_type": "code",
   "execution_count": null,
   "metadata": {},
   "outputs": [],
   "source": [
    "<html>\n",
    "<body>\n",
    "   <form enctype = \"multipart/form-data\" \n",
    "                     action = \"save_file.py\" method = \"post\">\n",
    "   <p>File: <input type = \"file\" name = \"filename\" /></p>\n",
    "   <p><input type = \"submit\" value = \"Upload\" /></p>\n",
    "   </form>\n",
    "</body>\n",
    "</html>"
   ]
  },
  {
   "cell_type": "markdown",
   "metadata": {},
   "source": [
    "- Here is the script save_file.py to handle file upload "
   ]
  },
  {
   "cell_type": "code",
   "execution_count": null,
   "metadata": {},
   "outputs": [],
   "source": [
    "#!/usr/bin/python\n",
    "\n",
    "import cgi, os\n",
    "import cgitb; cgitb.enable()\n",
    "\n",
    "form = cgi.FieldStorage()\n",
    "\n",
    "# Get filename here.\n",
    "fileitem = form['filename']\n",
    "\n",
    "# Test if the file was uploaded\n",
    "if fileitem.filename:\n",
    "   # strip leading path from file name to avoid \n",
    "   # directory traversal attacks\n",
    "   fn = os.path.basename(fileitem.filename)\n",
    "   open('/tmp/' + fn, 'wb').write(fileitem.file.read())\n",
    "\n",
    "   message = 'The file \"' + fn + '\" was uploaded successfully'\n",
    "   \n",
    "else:\n",
    "   message = 'No file was uploaded'\n",
    "   \n",
    "print \"\"\"\\\n",
    "Content-Type: text/html\\n\n",
    "<html>\n",
    "<body>\n",
    "   <p>%s</p>\n",
    "</body>\n",
    "</html>\n",
    "\"\"\" % (message,)"
   ]
  },
  {
   "cell_type": "markdown",
   "metadata": {},
   "source": [
    "## File Download Dialog Box\n",
    "\n",
    "- If you want make a FileName file downloadable from a given link, then its syntax is as follows −"
   ]
  },
  {
   "cell_type": "code",
   "execution_count": null,
   "metadata": {},
   "outputs": [],
   "source": [
    "#!/usr/bin/python\n",
    "\n",
    "# HTTP Header\n",
    "print \"Content-Type:application/octet-stream; name = \\\"FileName\\\"\\r\\n\";\n",
    "print \"Content-Disposition: attachment; filename = \\\"FileName\\\"\\r\\n\\n\";\n",
    "\n",
    "# Actual File Content will go here.\n",
    "fo = open(\"foo.txt\", \"rb\")\n",
    "\n",
    "str = fo.read();\n",
    "print str\n",
    "\n",
    "# Close opend file\n",
    "fo.close()"
   ]
  },
  {
   "cell_type": "markdown",
   "metadata": {},
   "source": [
    "# End of CGI Demo"
   ]
  }
 ],
 "metadata": {
  "kernelspec": {
   "display_name": "Python 3",
   "language": "python",
   "name": "python3"
  },
  "language_info": {
   "codemirror_mode": {
    "name": "ipython",
    "version": 3
   },
   "file_extension": ".py",
   "mimetype": "text/x-python",
   "name": "python",
   "nbconvert_exporter": "python",
   "pygments_lexer": "ipython3",
   "version": "3.6.5"
  }
 },
 "nbformat": 4,
 "nbformat_minor": 2
}
