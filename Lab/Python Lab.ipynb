{
 "cells": [
  {
   "cell_type": "markdown",
   "metadata": {},
   "source": [
    "# Python Lab Champion Welcomes You !!!!!!!!!!!!"
   ]
  },
  {
   "cell_type": "markdown",
   "metadata": {},
   "source": [
    "## Topics"
   ]
  },
  {
   "cell_type": "code",
   "execution_count": null,
   "metadata": {},
   "outputs": [],
   "source": [
    "Module 1.Python Basics\n",
    "Module 2.Program Flow Control\n",
    "Module 3.String Manipulation\n",
    "Module 4.List Maniplation\n",
    "Module 5.Tuples Manipulation\n",
    "Module 6.Sets Manupulation\n",
    "Module 7.Dictionaries Manipulation\n",
    "Module 8.Functions\n",
    "Module 9.Modules\n",
    "Module 10.Packages\n",
    "Module 11.OOPS, Exception Handling & Regular Expression\n",
    "Module 12.File Handling\n",
    "Module 13.NumPy\n",
    "Module 14.Pandas\n",
    "Module 15.Matplotlib\n",
    "Module 16.SciPy\n",
    "Module 17.Database\n",
    "Module 18.Networking\n",
    "Module 19.Multhithreading\n",
    "Module 20.Web Python"
   ]
  }
 ],
 "metadata": {
  "kernelspec": {
   "display_name": "Python 3",
   "language": "python",
   "name": "python3"
  },
  "language_info": {
   "codemirror_mode": {
    "name": "ipython",
    "version": 3
   },
   "file_extension": ".py",
   "mimetype": "text/x-python",
   "name": "python",
   "nbconvert_exporter": "python",
   "pygments_lexer": "ipython3",
   "version": "3.6.5"
  }
 },
 "nbformat": 4,
 "nbformat_minor": 2
}
