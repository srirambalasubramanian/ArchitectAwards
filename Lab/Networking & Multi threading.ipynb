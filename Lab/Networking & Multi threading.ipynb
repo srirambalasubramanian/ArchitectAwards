{
 "cells": [
  {
   "cell_type": "markdown",
   "metadata": {},
   "source": [
    "# Networking & Multi Threading Demo"
   ]
  },
  {
   "cell_type": "markdown",
   "metadata": {},
   "source": [
    "## 1. Networking Demo"
   ]
  },
  {
   "cell_type": "markdown",
   "metadata": {},
   "source": [
    "### 1.1 Establishing commnication with Client & Server"
   ]
  },
  {
   "cell_type": "markdown",
   "metadata": {},
   "source": [
    "### Server\n",
    "\n",
    "- To write Internet servers, we use the socket function available in socket module to create a socket object. A socket object is then used to call other functions to setup a socket server.\n",
    "\n",
    "- Now call bind(hostname, port) function to specify a port for your service on the given host.\n",
    "\n",
    "- Next, call the accept method of the returned object. This method waits until a client connects to the port you specified, and then returns a connection object that represents the connection to that client."
   ]
  },
  {
   "cell_type": "code",
   "execution_count": null,
   "metadata": {},
   "outputs": [],
   "source": [
    "#!/usr/bin/python           # This is server.py file\n",
    "\n",
    "import socket               # Import socket module\n",
    "\n",
    "s = socket.socket()         # Create a socket object\n",
    "host = socket.gethostname() # Get local machine name\n",
    "port = 12345                # Reserve a port for your service.\n",
    "s.bind((host, port))        # Bind to the port\n",
    "\n",
    "s.listen(5)                 # Now wait for client connection.\n",
    "while True:\n",
    "   c, addr = s.accept()     # Establish connection with client.\n",
    "   print 'Got connection from', addr\n",
    "   c.send('Thank you for connecting')\n",
    "   c.close()                # Close the connection"
   ]
  },
  {
   "cell_type": "markdown",
   "metadata": {},
   "source": [
    "### Client\n",
    "\n",
    "- Let us write a very simple client program which opens a connection to a given port 12345 and given host. This is very simple to create a socket client using Python's socket module function.\n",
    "\n",
    "- The socket.connect(hosname, port ) opens a TCP connection to hostname on the port. Once you have a socket open, you can read from it like any IO object. When done, remember to close it, as you would close a file.\n",
    "\n",
    "- he following code is a very simple client that connects to a given host and port, reads any available data from the socket, and then exits −"
   ]
  },
  {
   "cell_type": "code",
   "execution_count": null,
   "metadata": {},
   "outputs": [],
   "source": [
    "#!/usr/bin/python           # This is client.py file\n",
    "\n",
    "import socket               # Import socket module\n",
    "\n",
    "s = socket.socket()         # Create a socket object\n",
    "host = socket.gethostname() # Get local machine name\n",
    "port = 12345                # Reserve a port for your service.\n",
    "\n",
    "s.connect((host, port))\n",
    "print s.recv(1024)\n",
    "s.close()                  # Close the socket when done"
   ]
  },
  {
   "cell_type": "code",
   "execution_count": null,
   "metadata": {},
   "outputs": [],
   "source": [
    "### Execution"
   ]
  },
  {
   "cell_type": "code",
   "execution_count": null,
   "metadata": {},
   "outputs": [],
   "source": [
    "# Following would start a server in background.\n",
    "$ python server.py & \n",
    "\n",
    "# Once server is started run client as follows:\n",
    "$ python client.py"
   ]
  },
  {
   "cell_type": "markdown",
   "metadata": {},
   "source": [
    "### 1.2 Sending Attachments as an E-mail\n",
    "\n",
    "- To send an e-mail with mixed content requires to set Content-type header to multipart/mixed. Then, text and attachment sections can be specified within boundaries.\n",
    "\n",
    "- A boundary is started with two hyphens followed by a unique number, which cannot appear in the message part of the e-mail. A final boundary denoting the e-mail's final section must also end with two hyphens.\n",
    "\n",
    "- Attached files should be encoded with the pack(\"m\") function to have base64 encoding before transmission.\n",
    "\n",
    "- Example: Following is the example, which sends a file /tmp/test.txt as an attachment"
   ]
  },
  {
   "cell_type": "code",
   "execution_count": null,
   "metadata": {},
   "outputs": [],
   "source": [
    "#!/usr/bin/python\n",
    "\n",
    "import smtplib\n",
    "import base64\n",
    "\n",
    "filename = \"/tmp/test.txt\"\n",
    "\n",
    "# Read a file and encode it into base64 format\n",
    "fo = open(filename, \"rb\")\n",
    "filecontent = fo.read()\n",
    "encodedcontent = base64.b64encode(filecontent)  # base64\n",
    "\n",
    "sender = 'webmaster@gmail.com'\n",
    "reciever = 'admin@gmail.com'\n",
    "\n",
    "marker = \"AUNIQUEMARKER\"\n",
    "\n",
    "body =\"\"\"\n",
    "This is a test email to send an attachement.\n",
    "\"\"\"\n",
    "# Define the main headers.\n",
    "part1 = \"\"\"From: From Person <me@fromdomain.net>\n",
    "To: To Person <amrood.admin@gmail.com>\n",
    "Subject: Sending Attachement\n",
    "MIME-Version: 1.0\n",
    "Content-Type: multipart/mixed; boundary=%s\n",
    "--%s\n",
    "\"\"\" % (marker, marker)\n",
    "\n",
    "# Define the message action\n",
    "part2 = \"\"\"Content-Type: text/plain\n",
    "Content-Transfer-Encoding:8bit\n",
    "\n",
    "%s\n",
    "--%s\n",
    "\"\"\" % (body,marker)\n",
    "\n",
    "# Define the attachment section\n",
    "part3 = \"\"\"Content-Type: multipart/mixed; name=\\\"%s\\\"\n",
    "Content-Transfer-Encoding:base64\n",
    "Content-Disposition: attachment; filename=%s\n",
    "\n",
    "%s\n",
    "--%s--\n",
    "\"\"\" %(filename, filename, encodedcontent, marker)\n",
    "message = part1 + part2 + part3\n",
    "\n",
    "try:\n",
    "   smtpObj = smtplib.SMTP('localhost')\n",
    "   smtpObj.sendmail(sender, reciever, message)\n",
    "   print \"Successfully sent email\"\n",
    "except Exception:\n",
    "   print \"Error: unable to send email\""
   ]
  },
  {
   "cell_type": "markdown",
   "metadata": {},
   "source": [
    "## 2. Multithreadig Demo"
   ]
  },
  {
   "cell_type": "markdown",
   "metadata": {},
   "source": [
    "### 2.1 Thread Creation"
   ]
  },
  {
   "cell_type": "code",
   "execution_count": null,
   "metadata": {},
   "outputs": [],
   "source": [
    "#!/usr/bin/python\n",
    "import threading\n",
    "import time\n",
    "exitFlag = 0\n",
    "class myThread (threading.Thread):\n",
    "   def __init__(self, threadID, name, counter):\n",
    "      threading.Thread.__init__(self)\n",
    "      self.threadID = threadID\n",
    "      self.name = name\n",
    "      self.counter = counter\n",
    "   def run(self):\n",
    "      print \"Starting \" + self.name\n",
    "      print_time(self.name, self.counter, 5)\n",
    "      print \"Exiting \" + self.name\n",
    "\n",
    "def print_time(threadName, counter, delay):\n",
    "   while counter:\n",
    "      if exitFlag:\n",
    "         threadName.exit()\n",
    "      time.sleep(delay)\n",
    "      print \"%s: %s\" % (threadName, time.ctime(time.time()))\n",
    "      counter -= 1\n",
    "\n",
    "# Create new threads\n",
    "thread1 = myThread(1, \"Thread-1\", 1)\n",
    "thread2 = myThread(2, \"Thread-2\", 2)\n",
    "\n",
    "# Start new Threads\n",
    "thread1.start()\n",
    "thread2.start()\n",
    "\n",
    "print \"Exiting Main Thread\"\n",
    "    "
   ]
  },
  {
   "cell_type": "markdown",
   "metadata": {},
   "source": [
    "### 2.2 Synchronizing Threads"
   ]
  },
  {
   "cell_type": "code",
   "execution_count": null,
   "metadata": {},
   "outputs": [],
   "source": [
    "#!/usr/bin/python\n",
    "\n",
    "import threading\n",
    "import time\n",
    "\n",
    "class myThread (threading.Thread):\n",
    "   def __init__(self, threadID, name, counter):\n",
    "      threading.Thread.__init__(self)\n",
    "      self.threadID = threadID\n",
    "      self.name = name\n",
    "      self.counter = counter\n",
    "   def run(self):\n",
    "      print \"Starting \" + self.name\n",
    "      # Get lock to synchronize threads\n",
    "      threadLock.acquire()\n",
    "      print_time(self.name, self.counter, 3)\n",
    "      # Free lock to release next thread\n",
    "      threadLock.release()\n",
    "\n",
    "def print_time(threadName, delay, counter):\n",
    "   while counter:\n",
    "      time.sleep(delay)\n",
    "      print \"%s: %s\" % (threadName, time.ctime(time.time()))\n",
    "      counter -= 1\n",
    "\n",
    "threadLock = threading.Lock()\n",
    "threads = []\n",
    "\n",
    "# Create new threads\n",
    "thread1 = myThread(1, \"Thread-1\", 1)\n",
    "thread2 = myThread(2, \"Thread-2\", 2)\n",
    "\n",
    "# Start new Threads\n",
    "thread1.start()\n",
    "thread2.start()\n",
    "\n",
    "# Add threads to thread list\n",
    "threads.append(thread1)\n",
    "threads.append(thread2)\n",
    "\n",
    "# Wait for all threads to complete\n",
    "for t in threads:\n",
    "    t.join()\n",
    "print \"Exiting Main Thread\"\n"
   ]
  },
  {
   "cell_type": "markdown",
   "metadata": {},
   "source": [
    "### 2.3 Multithreaded Priority Queue"
   ]
  },
  {
   "cell_type": "code",
   "execution_count": null,
   "metadata": {},
   "outputs": [],
   "source": [
    "#!/usr/bin/python\n",
    "\n",
    "import Queue\n",
    "import threading\n",
    "import time\n",
    "\n",
    "exitFlag = 0\n",
    "\n",
    "class myThread (threading.Thread):\n",
    "   def __init__(self, threadID, name, q):\n",
    "      threading.Thread.__init__(self)\n",
    "      self.threadID = threadID\n",
    "      self.name = name\n",
    "      self.q = q\n",
    "   def run(self):\n",
    "      print \"Starting \" + self.name\n",
    "      process_data(self.name, self.q)\n",
    "      print \"Exiting \" + self.name\n",
    "\n",
    "def process_data(threadName, q):\n",
    "   while not exitFlag:\n",
    "      queueLock.acquire()\n",
    "         if not workQueue.empty():\n",
    "            data = q.get()\n",
    "            queueLock.release()\n",
    "            print \"%s processing %s\" % (threadName, data)\n",
    "         else:\n",
    "            queueLock.release()\n",
    "         time.sleep(1)\n",
    "\n",
    "threadList = [\"Thread-1\", \"Thread-2\", \"Thread-3\"]\n",
    "nameList = [\"One\", \"Two\", \"Three\", \"Four\", \"Five\"]\n",
    "queueLock = threading.Lock()\n",
    "workQueue = Queue.Queue(10)\n",
    "threads = []\n",
    "threadID = 1\n",
    "\n",
    "# Create new threads\n",
    "for tName in threadList:\n",
    "   thread = myThread(threadID, tName, workQueue)\n",
    "   thread.start()\n",
    "   threads.append(thread)\n",
    "   threadID += 1\n",
    "\n",
    "# Fill the queue\n",
    "queueLock.acquire()\n",
    "for word in nameList:\n",
    "   workQueue.put(word)\n",
    "queueLock.release()\n",
    "\n",
    "# Wait for queue to empty\n",
    "while not workQueue.empty():\n",
    "   pass\n",
    "\n",
    "# Notify threads it's time to exit\n",
    "exitFlag = 1\n",
    "\n",
    "# Wait for all threads to complete\n",
    "for t in threads:\n",
    "   t.join()\n",
    "print \"Exiting Main Thread\""
   ]
  },
  {
   "cell_type": "code",
   "execution_count": null,
   "metadata": {},
   "outputs": [],
   "source": []
  },
  {
   "cell_type": "markdown",
   "metadata": {},
   "source": [
    "# End of Networking & Multi Threading Demo"
   ]
  }
 ],
 "metadata": {
  "kernelspec": {
   "display_name": "Python 3",
   "language": "python",
   "name": "python3"
  },
  "language_info": {
   "codemirror_mode": {
    "name": "ipython",
    "version": 3
   },
   "file_extension": ".py",
   "mimetype": "text/x-python",
   "name": "python",
   "nbconvert_exporter": "python",
   "pygments_lexer": "ipython3",
   "version": "3.6.5"
  }
 },
 "nbformat": 4,
 "nbformat_minor": 2
}
