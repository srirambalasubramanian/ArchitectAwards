{
 "cells": [
  {
   "cell_type": "markdown",
   "metadata": {},
   "source": [
    "# Flask Demo"
   ]
  },
  {
   "cell_type": "markdown",
   "metadata": {},
   "source": [
    "## Flask Installation"
   ]
  },
  {
   "cell_type": "code",
   "execution_count": null,
   "metadata": {},
   "outputs": [],
   "source": [
    "The following command installs virtualenv\n",
    "pip install virtualenv\n",
    "\n",
    "On Windows, following can be used\n",
    "venv\\scripts\\activate\n",
    "\n",
    "We are now ready to install Flask in this environment.\n",
    "pip install Flask\n",
    "The above command can be run directly, without virtual environment for system-wide installation.\n"
   ]
  },
  {
   "cell_type": "markdown",
   "metadata": {},
   "source": [
    "## Flask- Sending Form Data to a Template\n",
    "\n",
    "The template dynamically renders an HTML table of form data.\n",
    "\n",
    "- Given below is the Python code of application "
   ]
  },
  {
   "cell_type": "code",
   "execution_count": null,
   "metadata": {},
   "outputs": [],
   "source": [
    "from flask import Flask, render_template, request\n",
    "app = Flask(__name__)\n",
    "\n",
    "@app.route('/')\n",
    "def student():\n",
    "   return render_template('student.html')\n",
    "\n",
    "@app.route('/result',methods = ['POST', 'GET'])\n",
    "def result():\n",
    "   if request.method == 'POST':\n",
    "      result = request.form\n",
    "      return render_template(\"result.html\",result = result)\n",
    "\n",
    "if __name__ == '__main__':\n",
    "   app.run(debug = True)\n"
   ]
  },
  {
   "cell_type": "markdown",
   "metadata": {},
   "source": [
    "### Given below is the HTML script of student.html."
   ]
  },
  {
   "cell_type": "code",
   "execution_count": null,
   "metadata": {},
   "outputs": [],
   "source": [
    "<html>\n",
    "   <body>\n",
    "      <form action = \"http://localhost:5000/result\" method = \"POST\">\n",
    "         <p>Name <input type = \"text\" name = \"Name\" /></p>\n",
    "         <p>Physics <input type = \"text\" name = \"Physics\" /></p>\n",
    "         <p>Chemistry <input type = \"text\" name = \"chemistry\" /></p>\n",
    "         <p>Maths <input type =\"text\" name = \"Mathematics\" /></p>\n",
    "         <p><input type = \"submit\" value = \"submit\" /></p>\n",
    "      </form>\n",
    "   </body>\n",
    "</html>\n"
   ]
  },
  {
   "cell_type": "markdown",
   "metadata": {},
   "source": [
    "### Code of template (result.html) is given below "
   ]
  },
  {
   "cell_type": "code",
   "execution_count": null,
   "metadata": {},
   "outputs": [],
   "source": [
    "<!doctype html>\n",
    "<html>\n",
    "   <body>\n",
    "      <table border = 1>\n",
    "         {% for key, value in result.items() %}\n",
    "            <tr>\n",
    "               <th> {{ key }} </th>\n",
    "               <td> {{ value }} </td>\n",
    "            </tr>\n",
    "         {% endfor %}\n",
    "      </table>\n",
    "   </body>\n",
    "</html>"
   ]
  },
  {
   "cell_type": "markdown",
   "metadata": {},
   "source": [
    "### Execution"
   ]
  },
  {
   "cell_type": "code",
   "execution_count": null,
   "metadata": {},
   "outputs": [],
   "source": [
    "Run the Python script and enter the URL http://localhost:5000/ in the browser."
   ]
  },
  {
   "cell_type": "markdown",
   "metadata": {},
   "source": [
    "## Flask – File Uploading\n",
    "\n",
    "- The following code has ‘/upload’ URL rule that displays ‘upload.html’ from the templates folder, and ‘/upload-file’ URL rule that calls uploader()function handling upload process.\n",
    "\n",
    "- ‘upload.html’ has a file chooser button and a submit button\n",
    "\n",
    "- Click Submit after choosing file. Form’s post method invokes ‘/upload_file’URL. The underlying function uploader() does the save operation."
   ]
  },
  {
   "cell_type": "code",
   "execution_count": null,
   "metadata": {},
   "outputs": [],
   "source": [
    "<html>\n",
    "   <body>\n",
    "      <form action = \"http://localhost:5000/uploader\" method = \"POST\" \n",
    "         enctype = \"multipart/form-data\">\n",
    "         <input type = \"file\" name = \"file\" />\n",
    "         <input type = \"submit\"/>\n",
    "      </form>\n",
    "   </body>\n",
    "</html>"
   ]
  },
  {
   "cell_type": "markdown",
   "metadata": {},
   "source": [
    "- Following is the Python code of Flask application."
   ]
  },
  {
   "cell_type": "code",
   "execution_count": null,
   "metadata": {},
   "outputs": [],
   "source": [
    "from flask import Flask, render_template, request\n",
    "from werkzeug import secure_filename\n",
    "app = Flask(__name__)\n",
    "\n",
    "@app.route('/upload')\n",
    "def upload_file():\n",
    "   return render_template('upload.html')\n",
    "\t\n",
    "@app.route('/uploader', methods = ['GET', 'POST'])\n",
    "def upload_file():\n",
    "   if request.method == 'POST':\n",
    "      f = request.files['file']\n",
    "      f.save(secure_filename(f.filename))\n",
    "      return 'file uploaded successfully'\n",
    "\t\t\n",
    "if __name__ == '__main__':\n",
    "   app.run(debug = True)"
   ]
  },
  {
   "cell_type": "markdown",
   "metadata": {},
   "source": [
    "## Flask – Mail\n",
    "\n",
    "Run the following script in Python Shell and visit http://localhost:5000"
   ]
  },
  {
   "cell_type": "code",
   "execution_count": null,
   "metadata": {},
   "outputs": [],
   "source": [
    "from flask import Flask\n",
    "from flask_mail import Mail, Message\n",
    "\n",
    "app =Flask(__name__)\n",
    "mail=Mail(app)\n",
    "\n",
    "app.config['MAIL_SERVER']='smtp.gmail.com'\n",
    "app.config['MAIL_PORT'] = 465\n",
    "app.config['MAIL_USERNAME'] = 'yourId@gmail.com'\n",
    "app.config['MAIL_PASSWORD'] = '*****'\n",
    "app.config['MAIL_USE_TLS'] = False\n",
    "app.config['MAIL_USE_SSL'] = True\n",
    "mail = Mail(app)\n",
    "\n",
    "@app.route(\"/\")\n",
    "def index():\n",
    "   msg = Message('Hello', sender = 'yourId@gmail.com', recipients = ['id1@gmail.com'])\n",
    "   msg.body = \"Hello Flask message sent from Flask-Mail\"\n",
    "   mail.send(msg)\n",
    "   return \"Sent\"\n",
    "\n",
    "if __name__ == '__main__':\n",
    "   app.run(debug = True)\n"
   ]
  },
  {
   "cell_type": "code",
   "execution_count": null,
   "metadata": {},
   "outputs": [],
   "source": [
    "Note that the built-insecurity features in Gmail service may block this login attempt. You may have to decrease the security level. \n",
    "Please log in to your Gmail account and visit this link to decrease the security."
   ]
  },
  {
   "cell_type": "markdown",
   "metadata": {},
   "source": [
    "## Flask – WTF\n",
    "\n",
    "The design of Contact form is given below (forms.py)"
   ]
  },
  {
   "cell_type": "code",
   "execution_count": null,
   "metadata": {},
   "outputs": [],
   "source": [
    "rom flask_wtf import Form\n",
    "from wtforms import TextField, IntegerField, TextAreaField, SubmitField, RadioField,\n",
    "   SelectField\n",
    "\n",
    "from wtforms import validators, ValidationError\n",
    "\n",
    "class ContactForm(Form):\n",
    "   name = TextField(\"Name Of Student\",[validators.Required(\"Please enter \n",
    "      your name.\")])\n",
    "   Gender = RadioField('Gender', choices = [('M','Male'),('F','Female')])\n",
    "   Address = TextAreaField(\"Address\")\n",
    "   \n",
    "   email = TextField(\"Email\",[validators.Required(\"Please enter your email address.\"),\n",
    "      validators.Email(\"Please enter your email address.\")])\n",
    "   \n",
    "   Age = IntegerField(\"age\")\n",
    "   language = SelectField('Languages', choices = [('cpp', 'C++'), \n",
    "      ('py', 'Python')])\n",
    "   submit = SubmitField(\"Send\")"
   ]
  },
  {
   "cell_type": "code",
   "execution_count": null,
   "metadata": {},
   "outputs": [],
   "source": [
    "Validators are applied to the Name and Email fields.\n",
    "Given below is the Flask application script (formexample.py)."
   ]
  },
  {
   "cell_type": "code",
   "execution_count": null,
   "metadata": {},
   "outputs": [],
   "source": [
    "from flask import Flask, render_template, request, flash\n",
    "from forms import ContactForm\n",
    "app = Flask(__name__)\n",
    "app.secret_key = 'development key'\n",
    "\n",
    "@app.route('/contact', methods = ['GET', 'POST'])\n",
    "def contact():\n",
    "   form = ContactForm()\n",
    "   \n",
    "   if request.method == 'POST':\n",
    "      if form.validate() == False:\n",
    "         flash('All fields are required.')\n",
    "         return render_template('contact.html', form = form)\n",
    "      else:\n",
    "         return render_template('success.html')\n",
    "      elif request.method == 'GET':\n",
    "         return render_template('contact.html', form = form)\n",
    "\n",
    "if __name__ == '__main__':\n",
    "   app.run(debug = True)\n"
   ]
  },
  {
   "cell_type": "code",
   "execution_count": null,
   "metadata": {},
   "outputs": [],
   "source": [
    "The Script of the template (contact.html) is as follows −"
   ]
  },
  {
   "cell_type": "code",
   "execution_count": null,
   "metadata": {},
   "outputs": [],
   "source": [
    "<!doctype html>\n",
    "<html>\n",
    "   <body>\n",
    "      <h2 style = \"text-align: center;\">Contact Form</h2>\n",
    "\t\t\n",
    "      {% for message in form.name.errors %}\n",
    "         <div>{{ message }}</div>\n",
    "      {% endfor %}\n",
    "      \n",
    "      {% for message in form.email.errors %}\n",
    "         <div>{{ message }}</div>\n",
    "      {% endfor %}\n",
    "      \n",
    "      <form action = \"http://localhost:5000/contact\" method = post>\n",
    "         <fieldset>\n",
    "            <legend>Contact Form</legend>\n",
    "            {{ form.hidden_tag() }}\n",
    "            \n",
    "            <div style = font-size:20px; font-weight:bold; margin-left:150px;>\n",
    "               {{ form.name.label }}<br>\n",
    "               {{ form.name }}\n",
    "               <br>\n",
    "               \n",
    "               {{ form.Gender.label }} {{ form.Gender }}\n",
    "               {{ form.Address.label }}<br>\n",
    "               {{ form.Address }}\n",
    "               <br>\n",
    "               \n",
    "               {{ form.email.label }}<br>\n",
    "               {{ form.email }}\n",
    "               <br>\n",
    "               \n",
    "               {{ form.Age.label }}<br>\n",
    "               {{ form.Age }}\n",
    "               <br>\n",
    "               \n",
    "               {{ form.language.label }}<br>\n",
    "               {{ form.language }}\n",
    "               <br>\n",
    "               {{ form.submit }}\n",
    "            </div>\n",
    "            \n",
    "         </fieldset>\n",
    "      </form>\n",
    "   </body>\n",
    "</html>\n"
   ]
  },
  {
   "cell_type": "markdown",
   "metadata": {},
   "source": [
    "### Execution"
   ]
  },
  {
   "cell_type": "code",
   "execution_count": null,
   "metadata": {},
   "outputs": [],
   "source": [
    "Run formexample.py in Python shell and visit URL http://localhost:5000/contact"
   ]
  },
  {
   "cell_type": "markdown",
   "metadata": {},
   "source": [
    "## Flask – SQLite\n",
    "\n",
    "The HTML script for ‘student.html’ is as follows −"
   ]
  },
  {
   "cell_type": "code",
   "execution_count": null,
   "metadata": {},
   "outputs": [],
   "source": [
    "<html>\n",
    "   <body>\n",
    "      <form action = \"{{ url_for('addrec') }}\" method = \"POST\">\n",
    "         <h3>Student Information</h3>\n",
    "         Name<br>\n",
    "         <input type = \"text\" name = \"nm\" /></br>\n",
    "         \n",
    "         Address<br>\n",
    "         <textarea name = \"add\" ></textarea><br>\n",
    "         \n",
    "         City<br>\n",
    "         <input type = \"text\" name = \"city\" /><br>\n",
    "         \n",
    "         PINCODE<br>\n",
    "         <input type = \"text\" name = \"pin\" /><br>\n",
    "         <input type = \"submit\" value = \"submit\" /><br>\n",
    "      </form>\n",
    "   </body>\n",
    "</html>"
   ]
  },
  {
   "cell_type": "code",
   "execution_count": null,
   "metadata": {},
   "outputs": [],
   "source": [
    "Finally, the ‘/’ URL rule renders a ‘home.html’ which acts as the entry point of the application."
   ]
  },
  {
   "cell_type": "code",
   "execution_count": null,
   "metadata": {},
   "outputs": [],
   "source": [
    "@app.route('/')\n",
    "def home():\n",
    "   return render_template('home.html')\n",
    " \n",
    "from flask import Flask, render_template, request\n",
    "import sqlite3 as sql\n",
    "app = Flask(__name__)\n",
    "\n",
    "@app.route('/')\n",
    "def home():\n",
    "   return render_template('home.html')\n",
    "\n",
    "@app.route('/enternew')\n",
    "def new_student():\n",
    "   return render_template('student.html')\n",
    "\n",
    "@app.route('/addrec',methods = ['POST', 'GET'])\n",
    "def addrec():\n",
    "   if request.method == 'POST':\n",
    "      try:\n",
    "         nm = request.form['nm']\n",
    "         addr = request.form['add']\n",
    "         city = request.form['city']\n",
    "         pin = request.form['pin']\n",
    "         \n",
    "         with sql.connect(\"database.db\") as con:\n",
    "            cur = con.cursor()\n",
    "            \n",
    "            cur.execute(\"INSERT INTO students (name,addr,city,pin) \n",
    "               VALUES (?,?,?,?)\",(nm,addr,city,pin) )\n",
    "            \n",
    "            con.commit()\n",
    "            msg = \"Record successfully added\"\n",
    "      except:\n",
    "         con.rollback()\n",
    "         msg = \"error in insert operation\"\n",
    "      \n",
    "      finally:\n",
    "         return render_template(\"result.html\",msg = msg)\n",
    "         con.close()\n",
    "\n",
    "@app.route('/list')\n",
    "def list():\n",
    "   con = sql.connect(\"database.db\")\n",
    "   con.row_factory = sql.Row\n",
    "   \n",
    "   cur = con.cursor()\n",
    "   cur.execute(\"select * from students\")\n",
    "   \n",
    "   rows = cur.fetchall();\n",
    "   return render_template(\"list.html\",rows = rows)\n",
    "\n",
    "if __name__ == '__main__':\n",
    "   app.run(debug = True)\n"
   ]
  },
  {
   "cell_type": "markdown",
   "metadata": {},
   "source": [
    "### Execution"
   ]
  },
  {
   "cell_type": "code",
   "execution_count": null,
   "metadata": {},
   "outputs": [],
   "source": [
    "Run this script from Python shell and as the development server starts running. \n",
    "\n",
    "Visit http://localhost:5000/ in browser \n",
    "        \n",
    "Click ‘Add New Record’ link to open the Student Information Form.\n",
    "\n",
    "Fill the form fields and submit it. The underlying function inserts the record in the students table.\n",
    "\n",
    "Go back to the home page and click ‘Show List’ link. The table showing the sample data will be displayed."
   ]
  },
  {
   "cell_type": "markdown",
   "metadata": {},
   "source": [
    "## Flask – SQLAlchemy"
   ]
  },
  {
   "cell_type": "code",
   "execution_count": null,
   "metadata": {},
   "outputs": [],
   "source": [
    "from flask import Flask, request, flash, url_for, redirect, render_template\n",
    "from flask_sqlalchemy import SQLAlchemy\n",
    "\n",
    "app = Flask(__name__)\n",
    "app.config['SQLALCHEMY_DATABASE_URI'] = 'sqlite:///students.sqlite3'\n",
    "app.config['SECRET_KEY'] = \"random string\"\n",
    "\n",
    "db = SQLAlchemy(app)\n",
    "\n",
    "class students(db.Model):\n",
    "   id = db.Column('student_id', db.Integer, primary_key = True)\n",
    "   name = db.Column(db.String(100))\n",
    "   city = db.Column(db.String(50))\n",
    "   addr = db.Column(db.String(200)) \n",
    "   pin = db.Column(db.String(10))\n",
    "\n",
    "def __init__(self, name, city, addr,pin):\n",
    "   self.name = name\n",
    "   self.city = city\n",
    "   self.addr = addr\n",
    "   self.pin = pin\n",
    "\n",
    "@app.route('/')\n",
    "def show_all():\n",
    "   return render_template('show_all.html', students = students.query.all() )\n",
    "\n",
    "@app.route('/new', methods = ['GET', 'POST'])\n",
    "def new():\n",
    "   if request.method == 'POST':\n",
    "      if not request.form['name'] or not request.form['city'] or not request.form['addr']:\n",
    "         flash('Please enter all the fields', 'error')\n",
    "      else:\n",
    "         student = students(request.form['name'], request.form['city'],\n",
    "            request.form['addr'], request.form['pin'])\n",
    "         \n",
    "         db.session.add(student)\n",
    "         db.session.commit()\n",
    "         flash('Record was successfully added')\n",
    "         return redirect(url_for('show_all'))\n",
    "   return render_template('new.html')\n",
    "\n",
    "if __name__ == '__main__':\n",
    "   db.create_all()\n",
    "   app.run(debug = True)\n"
   ]
  },
  {
   "cell_type": "markdown",
   "metadata": {},
   "source": [
    "### Execution"
   ]
  },
  {
   "cell_type": "code",
   "execution_count": null,
   "metadata": {},
   "outputs": [],
   "source": [
    "Run the script from Python shell and enter http://localhost:5000/ in the browser.\n",
    "\n",
    "Click the ‘Add Student’ link to open Student information form.   \n",
    "\n",
    "Fill the form and submit. The home page reappears with the submitted data.        "
   ]
  },
  {
   "cell_type": "markdown",
   "metadata": {},
   "source": [
    "## Flask – Sijax"
   ]
  },
  {
   "cell_type": "code",
   "execution_count": null,
   "metadata": {},
   "outputs": [],
   "source": [
    "import os\n",
    "from flask import Flask, g\n",
    "from flask_sijax import sijax\n",
    "\n",
    "path = os.path.join('.', os.path.dirname(__file__), 'static/js/sijax/')\n",
    "app = Flask(__name__)\n",
    "\n",
    "app.config['SIJAX_STATIC_PATH'] = path\n",
    "app.config['SIJAX_JSON_URI'] = '/static/js/sijax/json2.js'\n",
    "flask_sijax.Sijax(app)\n",
    "\n",
    "@app.route('/')\n",
    "def index():\n",
    "   return 'Index'\n",
    "\t\n",
    "@flask_sijax.route(app, '/hello')\n",
    "def hello():\n",
    "   def say_hi(obj_response):\n",
    "      obj_response.alert('Hi there!')\n",
    "   if g.sijax.is_sijax_request:\n",
    "      # Sijax request detected - let Sijax handle it\n",
    "      g.sijax.register_callback('say_hi', say_hi)\n",
    "      return g.sijax.process_request()\n",
    "      return _render_template('sijaxexample.html')\n",
    "\n",
    "if __name__ == '__main__':\n",
    "   app.run(debug = True)\n"
   ]
  },
  {
   "cell_type": "code",
   "execution_count": null,
   "metadata": {},
   "outputs": [],
   "source": [
    "When a Sijax requests (a special jQuery.ajax() request) to the server, this request is detected on the server by g.sijax.is_sijax_request(), in which case you let Sijax handle the request.\n",
    "All the functions registered using g.sijax.register_callback() are exposed for calling from the browser.\n",
    "Calling g.sijax.process_request() tells Sijax to execute the appropriate (previously registered) function and return the response to the browser."
   ]
  },
  {
   "cell_type": "markdown",
   "metadata": {},
   "source": [
    "# End of Flask Demo"
   ]
  }
 ],
 "metadata": {
  "kernelspec": {
   "display_name": "Python 3",
   "language": "python",
   "name": "python3"
  },
  "language_info": {
   "codemirror_mode": {
    "name": "ipython",
    "version": 3
   },
   "file_extension": ".py",
   "mimetype": "text/x-python",
   "name": "python",
   "nbconvert_exporter": "python",
   "pygments_lexer": "ipython3",
   "version": "3.6.5"
  }
 },
 "nbformat": 4,
 "nbformat_minor": 2
}
