{
 "cells": [
  {
   "cell_type": "markdown",
   "metadata": {},
   "source": [
    "# PCAP Certification Practice"
   ]
  },
  {
   "cell_type": "markdown",
   "metadata": {},
   "source": [
    "### Exam Information\n",
    "\n",
    "Exam name: PCAP – Certified Associate in Python Programming\n",
    "Exam version: PCAP-31-02\n",
    "\n",
    "\n",
    "Exam duration: 65 minutes (exam items) + 10 minutes (exam tutorial/Non-Disclosure Agreement)\n",
    "Number of questions: 40\n",
    "Format: Single-choice and multiple-choice questions\n",
    "Passing score: 70% (28/40 points)\n",
    "Exam item weight: each question is worth 1 point\n",
    "\n",
    "### Exam Contents\n",
    "\n",
    "Control and Evaluations (25%) Questions 1-10\n",
    "Data Aggregates (25%) Questions 11-20\n",
    "Functions and Modules (25%) Questions 21-30\n",
    "Classes, Objects, and Exceptions (25%) Questions 31-40\n",
    "\n",
    "\n",
    "Exam Syllabus at https://pythoninstitute.org/pcap-exam-syllabus/\n",
    "\n",
    "PCAP-31-02 Exam Information and Registrations: https://home.pearsonvue.com/PythonInstitute\n"
   ]
  },
  {
   "cell_type": "markdown",
   "metadata": {},
   "source": [
    "### About this Sample Test\n",
    "\n",
    "This Sample Test covers the following topics:\n",
    "1.\tControl and Evaluations (questions 1-10)\n",
    "2.\tData Aggregates (questions 11-20)\n",
    "3.\tFunctions and Modules (questions 21-30)\n",
    "4.\tClasses, Objects, and Exceptions (questions 31-40)\n",
    "\n",
    "Check out whether you are ready to take your certification exam! The practice questions you find here will give you a good idea of what kind of questions will appear on the real PCAP – Certified Associate in Python Programming exam that you can sit at a Pearson VUE Test Center."
   ]
  },
  {
   "cell_type": "markdown",
   "metadata": {},
   "source": [
    "### 1.The following expression is:\n",
    "\n",
    "A.\tinvalid\n",
    "B.\tequal to 16\n",
    "C.\tequal to 16.0\n",
    "D.\tequal to 512\n",
    "E.\tequal to 64\n",
    "F.\tequal to 128.0"
   ]
  },
  {
   "cell_type": "code",
   "execution_count": null,
   "metadata": {},
   "outputs": [],
   "source": [
    "Answer: 1.\tD"
   ]
  },
  {
   "cell_type": "markdown",
   "metadata": {},
   "source": [
    "### 2. If you want to build a string that reads:\n",
    "\n",
    "which of the following literals would you use? (Select all that apply)\n",
    "\n",
    "A.\t\"Peter's sister's name's \\\"Anna\\\"\"\n",
    "B.\t'Peter\\'s sister\\'s name\\'s \\\"Anna\\\"'\n",
    "C.\t\"Peter's sister's name's \"Anna\"\"\n",
    "D.\t'Peter's sister's name's \"Anna\"'"
   ]
  },
  {
   "cell_type": "code",
   "execution_count": null,
   "metadata": {},
   "outputs": [],
   "source": [
    "Answer: 2.\tA, B "
   ]
  },
  {
   "cell_type": "markdown",
   "metadata": {},
   "source": [
    "### 3.What is the expected output of the following snippet?\n",
    "\n",
    "A. 125\n",
    "B. 250\n",
    "C. 72\n",
    "D. 500"
   ]
  },
  {
   "cell_type": "code",
   "execution_count": null,
   "metadata": {},
   "outputs": [],
   "source": [
    "Answer: 3.\tA  "
   ]
  },
  {
   "cell_type": "markdown",
   "metadata": {},
   "source": [
    "### 4. What snippet would you insert in the line indicated below:\n",
    "\n",
    "To print the following string to the monitor after the loop finishes its execution:\n",
    "\n",
    "A.\tprint(n)\n",
    "B.\tprint(n, sep=\" \")\n",
    "C.\tprint(n, end=\" \")\n",
    "D.\tprint(n, \" \")"
   ]
  },
  {
   "cell_type": "code",
   "execution_count": null,
   "metadata": {},
   "outputs": [],
   "source": [
    "Answer: 4.\tC"
   ]
  },
  {
   "cell_type": "markdown",
   "metadata": {},
   "source": [
    "### 5. What is the value type returned after executing the following snippet?\n",
    "\n",
    "A.\tint\n",
    "B.\tfloat\n",
    "C.\tstr\n",
    "D.\tbool\n",
    "E.\tNoneType"
   ]
  },
  {
   "cell_type": "code",
   "execution_count": null,
   "metadata": {},
   "outputs": [],
   "source": [
    "Answer: 5.\tD"
   ]
  },
  {
   "cell_type": "markdown",
   "metadata": {},
   "source": [
    "### 6. What will the final value of the Val variable be when the following snippet finishes its execution?\n",
    "A.\t0\n",
    "B.\t1\n",
    "C.\t2\n",
    "D.\t4\n",
    "E.\tThe code is erroneous"
   ]
  },
  {
   "cell_type": "code",
   "execution_count": null,
   "metadata": {},
   "outputs": [],
   "source": [
    "Answer: 6.\tA"
   ]
  },
  {
   "cell_type": "markdown",
   "metadata": {},
   "source": [
    "### 7. Which line can be used instead of the comment to cause the snippet to produce the following expected output? (Select all that apply)\n",
    "\n",
    "Code:\n",
    "\n",
    "Expected output:\n",
    "A.\tx, y, z = y, z, x\n",
    "B.\tz, y, x = x, z, y\n",
    "C.\ty, z, x = x, y, z\n",
    "D.\tThe code is erroneous"
   ]
  },
  {
   "cell_type": "code",
   "execution_count": null,
   "metadata": {},
   "outputs": [],
   "source": [
    "Answer: 7.\tA, B"
   ]
  },
  {
   "cell_type": "markdown",
   "metadata": {},
   "source": [
    "### 8. What is the expected output of the following snippet?\n",
    "A.\t1\n",
    "B.\t2\n",
    "C.\t3\n",
    "D.\tThe code is erroneous"
   ]
  },
  {
   "cell_type": "code",
   "execution_count": null,
   "metadata": {},
   "outputs": [],
   "source": [
    "Answer: 8.\tC"
   ]
  },
  {
   "cell_type": "markdown",
   "metadata": {},
   "source": [
    "### 9. How many stars (*) does the following snippet print?\n",
    "A.\tthree\n",
    "B.\ttwo\n",
    "C.\tone\n",
    "D.\tThe code is erroneous"
   ]
  },
  {
   "cell_type": "code",
   "execution_count": null,
   "metadata": {},
   "outputs": [],
   "source": [
    "Answer: 9.\tA"
   ]
  },
  {
   "cell_type": "markdown",
   "metadata": {},
   "source": [
    "### 10. How many lines does each of the following code examples output when run separately?\n",
    "A.\tExample 1: two, Example 2: one, Example 3: one, Example 4: one\n",
    "B.\tExample 1: two, Example 2: one, Example 3: one, Example 4: two\n",
    "C.\tExample 1: two, Example 2: one, Example 3: two, Example 4: three\n",
    "D.\tExample 1: one, Example 2: one, Example 3: one, Example 4: two"
   ]
  },
  {
   "cell_type": "code",
   "execution_count": null,
   "metadata": {},
   "outputs": [],
   "source": [
    "Answer: 10.\tA"
   ]
  },
  {
   "cell_type": "markdown",
   "metadata": {},
   "source": [
    "### 11. Which of the following statements are true? (Select all that apply)\n",
    "A.\tUNICODE is the name of an operating system\n",
    "B.\tUTF-8 is the name of a data transmission device\n",
    "C.\tASCII is an acronym for Automatic Systems of Computer Inner Interoperability\n",
    "D.\tThe Python Language Reference is the official reference manual that describes the syntax and semantics of the Python language\n",
    "E.\tPython strings are immutable, which means they cannot be sliced\n",
    "F.\tPython strings are mutable, which means they can be sliced\n",
    "G.\tLists and strings in Python can be sliced"
   ]
  },
  {
   "cell_type": "code",
   "execution_count": null,
   "metadata": {},
   "outputs": [],
   "source": [
    "Answer: 11.\tD, G"
   ]
  },
  {
   "cell_type": "markdown",
   "metadata": {},
   "source": [
    "### 12. What is the result of the following comparison?\n",
    "A.\tTrue\n",
    "B.\tFalse\n",
    "C.\tNone\n",
    "D.\tThe comparison causes a runtime exception/error"
   ]
  },
  {
   "cell_type": "code",
   "execution_count": null,
   "metadata": {},
   "outputs": [],
   "source": [
    "Answer: 12.\tB"
   ]
  },
  {
   "cell_type": "markdown",
   "metadata": {},
   "source": [
    "### 13. What is the expected output of the following snippet?\n",
    "A.\tHello, Python!\n",
    "B.\t!nohtyP ,olleH\n",
    "C.\tHello, Python!Hello, Python!\n",
    "D.\t!nohtyP ,olleH!nohtyP ,olleH\n",
    "E.\tThe program causes a runtime exception/error\n",
    "F.\tThe result cannot be predicted"
   ]
  },
  {
   "cell_type": "code",
   "execution_count": null,
   "metadata": {},
   "outputs": [],
   "source": [
    "Answer: 13.\tA"
   ]
  },
  {
   "cell_type": "markdown",
   "metadata": {},
   "source": [
    "### 14. What is the expected output of the following snippet?\n",
    "A. [2, 4]\n",
    "B. ['C', 2, 4]\n",
    "C. ['B', 'C', 2, 4]\n",
    "D. ['A', 'B']"
   ]
  },
  {
   "cell_type": "code",
   "execution_count": null,
   "metadata": {},
   "outputs": [],
   "source": [
    "Answer: 14.\tA"
   ]
  },
  {
   "cell_type": "markdown",
   "metadata": {},
   "source": [
    "### 15. What is the expected output of the following snippet?\n",
    "\n",
    "A.\ta b c\n",
    "\n",
    "B.\t1 2 3\n",
    "\n",
    "C.\ta:1\n",
    "b:2\n",
    "c:3\n",
    "\n",
    "D.\t0\n",
    "1\n",
    "2\n",
    "\n",
    "E.\tThe code is erroneous"
   ]
  },
  {
   "cell_type": "code",
   "execution_count": null,
   "metadata": {},
   "outputs": [],
   "source": [
    "Answer: 15.\tA"
   ]
  },
  {
   "cell_type": "markdown",
   "metadata": {},
   "source": [
    "### 16. What is the expected output of the following snippet?\n",
    "\n",
    "A.\tPYTHON\n",
    "\n",
    "B.\tPython\n",
    "\n",
    "C.\tpython\n",
    "\n",
    "D.\tP\n",
    "    Y \n",
    "    T \n",
    "    H \n",
    "    O \n",
    "    N\n",
    "\n",
    "E.\tP \n",
    "    y \n",
    "    t \n",
    "    h \n",
    "    o \n",
    "    n\n",
    "\n",
    "F.\tThe code will cause a runtime exception"
   ]
  },
  {
   "cell_type": "code",
   "execution_count": null,
   "metadata": {},
   "outputs": [],
   "source": [
    "Answer: 16.\tC"
   ]
  },
  {
   "cell_type": "markdown",
   "metadata": {},
   "source": [
    "### 17. What is the expected output of the following snippet?\n",
    "A.\t0\n",
    "B.\t3\n",
    "C.\t7\n",
    "D.\t11\n",
    "E.\tThe program will cause a runtime exception"
   ]
  },
  {
   "cell_type": "code",
   "execution_count": null,
   "metadata": {},
   "outputs": [],
   "source": [
    "Answer: 17.\tE"
   ]
  },
  {
   "cell_type": "markdown",
   "metadata": {},
   "source": [
    "### 18. How many stars (*) will the following snippet send to the console?\n",
    "A.\tOne\n",
    "B.\tTwo\n",
    "C.\tThree\n",
    "D.\tFour\n",
    "E.\tThe program will cause a runtime exception/error"
   ]
  },
  {
   "cell_type": "code",
   "execution_count": null,
   "metadata": {},
   "outputs": [],
   "source": [
    "Answer: 18.\tC"
   ]
  },
  {
   "cell_type": "markdown",
   "metadata": {},
   "source": [
    "### 19. What would you insert instead of ??? so that the program prints 1024 to the monitor?\n",
    "\n",
    "Code:\n",
    "\n",
    "Expected output:\n",
    "A. [0]\n",
    "B. [1]\n",
    "C. [-1]\n",
    "D. [1024]\n",
    "E. [:]\n"
   ]
  },
  {
   "cell_type": "code",
   "execution_count": null,
   "metadata": {},
   "outputs": [],
   "source": [
    "Answer: 19.\tC"
   ]
  },
  {
   "cell_type": "markdown",
   "metadata": {},
   "source": [
    "### 20. What is the expected output of the following snippet?\n",
    "A.\tTrue\n",
    "B.\tFalse\n",
    "C.\tNone\n",
    "D.\tThe program will cause a runtime exception/error"
   ]
  },
  {
   "cell_type": "code",
   "execution_count": null,
   "metadata": {},
   "outputs": [],
   "source": [
    "Answer: 20.\tB"
   ]
  },
  {
   "cell_type": "markdown",
   "metadata": {},
   "source": [
    "### 21. What is the expected behavior of the following snippet?\n",
    "\n",
    "It will:\n",
    "\n",
    "A.\tprint 5\n",
    "B.\tprint 64\n",
    "C.\tprint 256\n",
    "D.\tprint 512\n",
    "E.\tThe code will cause a runtime exception/error"
   ]
  },
  {
   "cell_type": "code",
   "execution_count": null,
   "metadata": {},
   "outputs": [],
   "source": [
    "Answer: 21.\tC"
   ]
  },
  {
   "cell_type": "markdown",
   "metadata": {},
   "source": [
    "### 22.  What is the expected behavior of the following snippet?\n",
    "\n",
    "It will:\n",
    "A.\tprint 5\n",
    "B.\tprint 8\n",
    "C.\tprint 3\n",
    "D.\tThe code will cause a runtime exception/error"
   ]
  },
  {
   "cell_type": "code",
   "execution_count": null,
   "metadata": {},
   "outputs": [],
   "source": [
    "Answer: 22.\tC"
   ]
  },
  {
   "cell_type": "markdown",
   "metadata": {},
   "source": [
    "### 23. What can we deduce from the following snippet? Select the true sentences. (select all that apply)\n",
    "A.\tThe program will print the mathematical constant π = 3.141592…, to available precision\n",
    "B.\tThe program will cause a runtime exception/error\n",
    "C.\tThe program makes an alias for the name pi in the form of xyz\n",
    "D.\tThe original name pi will become inaccessible\n",
    "E.\tReplacing line 02 with print(xyz) will cause the program to run without errors"
   ]
  },
  {
   "cell_type": "code",
   "execution_count": null,
   "metadata": {},
   "outputs": [],
   "source": [
    "Answer: 23.\tB, C, D, E"
   ]
  },
  {
   "cell_type": "markdown",
   "metadata": {},
   "source": [
    "### 24. What is true about the \tinit .py file? (Select all that apply)\n",
    "A.\tIt cannot be an empty file\n",
    "B.\tIt can execute an initialization code for a package\n",
    "C.\tIt is required to make Python treat a given directory as a Python package directory\n",
    "D.\tIt is required to make Python treat a given directory containing packages as a directory without packages"
   ]
  },
  {
   "cell_type": "code",
   "execution_count": null,
   "metadata": {},
   "outputs": [],
   "source": [
    "Answer: 24.\tB, C"
   ]
  },
  {
   "cell_type": "markdown",
   "metadata": {},
   "source": [
    "### 25. What is the expected behavior of the following code snippet?\n",
    "A.\tThe program will generate a sequence of ten (pseudo)random integers from 1 to 5\n",
    "B.\tThe program will generate a sequence of ten (pseudo)random integers from 1 to 4\n",
    "C.\tThe program will generate a sequence of ten (pseudo)random numbers from 1 to 5\n",
    "D.\tThe program will generate a sequence of ten (pseudo)random numbers from 1 to 4\n",
    "E.\tThe result cannot be predicted\n",
    "F.\tThe program will cause a runtime exception/error"
   ]
  },
  {
   "cell_type": "code",
   "execution_count": null,
   "metadata": {},
   "outputs": [],
   "source": [
    "Answer: 25.\tF"
   ]
  },
  {
   "cell_type": "markdown",
   "metadata": {},
   "source": [
    "### 26. What is the expected behavior of the following snippet?\n",
    "It will:\n",
    "A.\tprint 8\n",
    "B.\tprint 4\n",
    "C.\tprint 6\n",
    "D.\tcause a runtime exception on line 4\n",
    "E.\tcause a runtime exception on line 5"
   ]
  },
  {
   "cell_type": "code",
   "execution_count": null,
   "metadata": {},
   "outputs": [],
   "source": [
    "Answer: 26.\tA"
   ]
  },
  {
   "cell_type": "markdown",
   "metadata": {},
   "source": [
    "### 27. What is the expected behavior of the following snippet?\n",
    "It will:\n",
    "A.\tprint hello\n",
    "B.\tprint h\n",
    "C.\tprint ello\n",
    "D.\tcause a runtime exception on line 2\n",
    "E.\tcause a runtime exception on line 3\n",
    "F.\tcause a runtime exception on line 4\n",
    "G.\tcause a runtime exception on line 5"
   ]
  },
  {
   "cell_type": "code",
   "execution_count": null,
   "metadata": {},
   "outputs": [],
   "source": [
    "Answer: 27.\tG"
   ]
  },
  {
   "cell_type": "markdown",
   "metadata": {},
   "source": [
    "### 28. What is the expected behavior of the following snippet?\n",
    "\n",
    "A.\tIt will print: SPAM\n",
    "\n",
    "B.\tIt will print: MAPS\n",
    "\n",
    "C.\tIt will print: None\n",
    "\n",
    "D.\tIt will print: SPAMMAPS\n",
    "\n",
    "E.\tIt will print: SPAM MAPS\n",
    "\n",
    "F.\tIt will cause a runtime exception/error\n",
    "\n",
    "G.\tIt will print an empty line"
   ]
  },
  {
   "cell_type": "code",
   "execution_count": null,
   "metadata": {},
   "outputs": [],
   "source": [
    "Answer: 28.\tD"
   ]
  },
  {
   "cell_type": "markdown",
   "metadata": {},
   "source": [
    "### 29. Select the true statements:\n",
    "(select all that apply)\n",
    "\n",
    "A.\tPositional arguments are also called keyword arguments\n",
    "B.\tThe order of arguments matters when they are passed positionally\n",
    "C.\tThe order of arguments matters when they are passed by their name\n",
    "D.\tA function can be called with a mix of positional and keyword arguments\n",
    " \n"
   ]
  },
  {
   "cell_type": "code",
   "execution_count": null,
   "metadata": {},
   "outputs": [],
   "source": [
    "Answer: 29.\tB, D"
   ]
  },
  {
   "cell_type": "markdown",
   "metadata": {},
   "source": [
    "### 30. What is the expected behavior of the following snippet?\n",
    "\n",
    "A.\tIt will print: <generator object gen at (some hex digits)>\n",
    "\n",
    "B.\tIt will print: 014916\n",
    "\n",
    "C.\tIt will print: 0\n",
    "1\n",
    "4\n",
    "9\n",
    "16\n",
    "\n",
    "D.\tIt will cause a runtime exception/error\n",
    "\n",
    "E.\tIt will print an empty line\n"
   ]
  },
  {
   "cell_type": "code",
   "execution_count": null,
   "metadata": {},
   "outputs": [],
   "source": [
    "Answer: 30.\tB"
   ]
  },
  {
   "cell_type": "markdown",
   "metadata": {},
   "source": [
    "### 31. Select the true statements:\n",
    "(select all that apply)\n",
    "\n",
    "A.\tThe class keyword marks the beginning of the class definition\n",
    "\n",
    "B.\tAn object cannot contain any references to other objects\n",
    "\n",
    "C.\tA class may define an object\n",
    "\n",
    "D.\tA constructor is used to instantiate an object\n",
    "\n",
    "E.\tAn object variable is a variable that is stored separately in every object"
   ]
  },
  {
   "cell_type": "code",
   "execution_count": null,
   "metadata": {},
   "outputs": [],
   "source": [
    "Answer: 31.\tA, C, D"
   ]
  },
  {
   "cell_type": "markdown",
   "metadata": {},
   "source": [
    "### 32. Select the true statements:\n",
    "(select all that apply)\n",
    "\n",
    "A.\tInheritance means passing attributes and methods from a superclass to a subclass\n",
    "\n",
    "B.\tissubclass(class1, class2) is an example of a function that returns\n",
    "True if class2 is a subclass of class1\n",
    "\n",
    "C.\tMultiple inheritance means that a class has more than one superclass\n",
    "\n",
    "D.\tPolymorphism is the situation in which a subclass is able to modify its superclass behavior\n",
    "\n",
    "E.\tA single inheritance is always more difficult to maintain than a multiple inheritance\n"
   ]
  },
  {
   "cell_type": "code",
   "execution_count": null,
   "metadata": {},
   "outputs": [],
   "source": [
    "Answer: 32.\tA, C, D"
   ]
  },
  {
   "cell_type": "markdown",
   "metadata": {},
   "source": [
    "### 33. Select the true statements:\n",
    "(select all that apply)\n",
    "\n",
    "A.\tA class definition may have any number of constructors, but their names must be unique\n",
    "\n",
    "B.\tIt is not possible to safely check if an object has a certain attribute\n",
    "\n",
    "C.\tA class constructor cannot return a value\n",
    "\n",
    "D.\t \tbases \tis a tuple filled with the names of all the direct superclasses\n",
    "\n",
    "E.\tissubclass(c1, c2) is a function that checks if c1 is an object derived from class c2"
   ]
  },
  {
   "cell_type": "code",
   "execution_count": null,
   "metadata": {},
   "outputs": [],
   "source": [
    "Answer: 33.\tC, D"
   ]
  },
  {
   "cell_type": "markdown",
   "metadata": {},
   "source": [
    "### 34. What will happen when you run each of the following code snippets?\n",
    "A.\tA ZeroDivisionError exception will be raised in Example 1, while Example 2 will print 0 to the screen\n",
    "B.\tA ZeroDivisionError exception will be raised in Example 2, while Example 1 will print 0 to the screen\n",
    "C.\tA ZeroDivisionError exception will be raised in Example 1 and Example 2\n",
    "D.\tA ValueError exception will be raised in Example 1, and a\n",
    "ZeroDivisionError exception will be raised in Example 2\n",
    "E.\tA ValueError exception will be raised in Example 2, and a\n",
    "ZeroDivisionError exception will be raised in Example 1"
   ]
  },
  {
   "cell_type": "code",
   "execution_count": null,
   "metadata": {},
   "outputs": [],
   "source": [
    "Answer: 34.\tC"
   ]
  },
  {
   "cell_type": "markdown",
   "metadata": {},
   "source": [
    "### 35. What is the expected output of the following code?\n",
    "The program will print the following to the screen:\n",
    "A.\t1 \n",
    "    2\n",
    "\n",
    "B.\tERROR MESSAGE \n",
    "    1\n",
    "    2\n",
    "\n",
    "C.\t0 \n",
    "    2\n",
    "\n",
    "D.\t0\n",
    "    ERROR MESSAGE \n",
    "    1\n",
    "    2"
   ]
  },
  {
   "cell_type": "code",
   "execution_count": null,
   "metadata": {},
   "outputs": [],
   "source": [
    "Answer: 35.\tD"
   ]
  },
  {
   "cell_type": "markdown",
   "metadata": {},
   "source": [
    "### 36. The following class hierarchy is given. What is the expected output of the code?\n",
    "\n",
    "A.\tAB\n",
    "B.\tABB\n",
    "C.\tBA\n",
    "D.\tBBA\n",
    "E.\tAAA\n",
    "F.\tBBB"
   ]
  },
  {
   "cell_type": "code",
   "execution_count": null,
   "metadata": {},
   "outputs": [],
   "source": [
    "Answer: 36.\tB"
   ]
  },
  {
   "cell_type": "markdown",
   "metadata": {},
   "source": [
    "### 37. If the following snippet is executed and the exception is raised\n",
    "we will see:\n",
    "\n",
    "A.\ttwo identical non-empty lines\n",
    "B.\ttwo different non-empty lines\n",
    "C.\ttwo empty lines\n",
    "D.\tone non-empty line and one empty line"
   ]
  },
  {
   "cell_type": "code",
   "execution_count": null,
   "metadata": {},
   "outputs": [],
   "source": [
    "Answer: 37.\tD"
   ]
  },
  {
   "cell_type": "markdown",
   "metadata": {},
   "source": [
    "### 38. Is there any difference in the error messages displayed once the two newly defined exceptions CriticalError have been raised separately?\n",
    "\n",
    "A.\tNo, both errors raised will display the same message: ERROR MESSAGE A\n",
    "B.\tNo, both errors raised will display the same message: ERROR MESSAGE B\n",
    "C.\tNo, both errors raised will display no message\n",
    "D.\tYes, the first error raised will display the message ERROR MESSAGE A, while the second ERROR MESSAGE B\n",
    "E.\tYes, the first error raised will display no message, while the second\n",
    "ERROR MESSAGE B\n",
    "F.\tYes, the first error raised will display no message, while the second\n",
    "ERROR MESSAGE A\n"
   ]
  },
  {
   "cell_type": "code",
   "execution_count": null,
   "metadata": {},
   "outputs": [],
   "source": [
    "Answer: 38.\tD"
   ]
  },
  {
   "cell_type": "markdown",
   "metadata": {},
   "source": [
    "### 39. You want to access the test.txt file and retrieve each line in it. Which option will you use? (Select all that apply)\n",
    "\n",
    "A.\tprint(file.readlines())\n",
    "\n",
    "B.\tprint(readlines(file))\n",
    "\n",
    "C.\tprint(file.readlines(:)\n",
    "\n",
    "D.\tfor l in file:\n",
    "print(l)\n",
    "\n",
    "E.\tprint(file.lines())\n",
    "\n",
    "F.\tprint(file.read())\n",
    "\n",
    "G.\tprint(read.file(test.txt))\n"
   ]
  },
  {
   "cell_type": "code",
   "execution_count": null,
   "metadata": {},
   "outputs": [],
   "source": [
    "Answer: 39.\tA, D, F"
   ]
  },
  {
   "cell_type": "markdown",
   "metadata": {},
   "source": [
    "### 40. The following code snippet when run\n",
    "\n",
    "will (select all that apply):\n",
    "A.\topen the file file.txt in write mode\n",
    "B.\tdelete the file contents if the file file.txt already exists\n",
    "C.\tleave the file contents unchanged if the file file.txt already exists\n",
    "D.\tcreate the file file.txt if it does not exist\n",
    "E.\traise the FileNotFoundError exception if the file does not exist"
   ]
  },
  {
   "cell_type": "code",
   "execution_count": null,
   "metadata": {},
   "outputs": [],
   "source": [
    "Answer: 40.\tA, B, D"
   ]
  },
  {
   "cell_type": "markdown",
   "metadata": {},
   "source": [
    "# End of PCAP Certification Practice"
   ]
  }
 ],
 "metadata": {
  "kernelspec": {
   "display_name": "Python 3",
   "language": "python",
   "name": "python3"
  },
  "language_info": {
   "codemirror_mode": {
    "name": "ipython",
    "version": 3
   },
   "file_extension": ".py",
   "mimetype": "text/x-python",
   "name": "python",
   "nbconvert_exporter": "python",
   "pygments_lexer": "ipython3",
   "version": "3.6.5"
  }
 },
 "nbformat": 4,
 "nbformat_minor": 2
}
