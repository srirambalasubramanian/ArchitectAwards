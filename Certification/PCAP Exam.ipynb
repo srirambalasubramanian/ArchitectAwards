{
 "cells": [
  {
   "cell_type": "markdown",
   "metadata": {},
   "source": [
    "# PCAP Certification"
   ]
  },
  {
   "cell_type": "markdown",
   "metadata": {},
   "source": [
    "###  Exam Information\n",
    "\n",
    "Exam name: PCAP – Certified Associate in Python Programming\n",
    "Exam version: PCAP-31-02\n",
    "\n",
    "\n",
    "Exam duration: 65 minutes (exam items) + 10 minutes (exam tutorial/Non-Disclosure Agreement)\n",
    "Number of questions: 40\n",
    "Format: Single-choice and multiple-choice questions\n",
    "Passing score: 70% (28/40 points)\n",
    "Exam item weight: each question is worth 1 point\n",
    "\n",
    "### Exam Contents\n",
    "\n",
    "Control and Evaluations (25%) Questions 1-10\n",
    "Data Aggregates (25%) Questions 11-20\n",
    "Functions and Modules (25%) Questions 21-30\n",
    "Classes, Objects, and Exceptions (25%) Questions 31-40\n",
    "\n",
    "\n",
    "Exam Syllabus at https://pythoninstitute.org/pcap-exam-syllabus/\n",
    "\n",
    "PCAP-31-02 Exam Information and Registrations: https://home.pearsonvue.com/PythonInstitute"
   ]
  },
  {
   "cell_type": "markdown",
   "metadata": {},
   "source": [
    "### 1.\tThe simplest possible class definition in Python can be expressed as:\n",
    "\n",
    "a)\tClass X:\n",
    "\tReturn\n",
    "\n",
    "b)\tClass X:\n",
    "\n",
    "c)\tClass X:\n",
    "\tPass\n",
    "\n",
    "d)\tClass X: {}\n"
   ]
  },
  {
   "cell_type": "code",
   "execution_count": null,
   "metadata": {},
   "outputs": [],
   "source": [
    "Answer: c)\tClass X:\n",
    "              \tPass"
   ]
  },
  {
   "cell_type": "markdown",
   "metadata": {},
   "source": [
    "### 2.\tAny class method must have at least:\n",
    "\n",
    "a)\tThere is no requirement as to the number of parameters that a class must have\n",
    "\n",
    "b)\tTwo parameters\n",
    "\n",
    "c)\tThree parameters\n",
    "\n",
    "d)\tOne parameter\n"
   ]
  },
  {
   "cell_type": "code",
   "execution_count": null,
   "metadata": {},
   "outputs": [],
   "source": [
    "Answer: d)\tOne parameter"
   ]
  },
  {
   "cell_type": "markdown",
   "metadata": {},
   "source": [
    "### 3.\tWhat is the expected output of the following code?\n",
    "Lst = [x for x in range(4) ]\n",
    "Map(lambda x: x+x,lst)\n",
    "Print(lst)\n",
    "\n",
    "a)\t[0,1,2,3]\n",
    "\n",
    "b)\tThe code will cause a runtime exception\n",
    "\n",
    "c)\t[0,2,4,6]\n",
    "\n",
    "d)\t[0,2,4,9]\n"
   ]
  },
  {
   "cell_type": "code",
   "execution_count": null,
   "metadata": {},
   "outputs": [],
   "source": [
    "Answer: a)\t[0,1,2,3]"
   ]
  },
  {
   "cell_type": "markdown",
   "metadata": {},
   "source": [
    "### 4.What is the result of the following comparison?\n",
    "\n",
    "‘12’>=12\n",
    "\n",
    "a)\tThe comparison causes a runtime exception/error\n",
    "\n",
    "b)\tTrue\n",
    "\n",
    "c)\tFalse"
   ]
  },
  {
   "cell_type": "code",
   "execution_count": null,
   "metadata": {},
   "outputs": [],
   "source": [
    "Answer: a)\tThe comparison causes a runtime exception/error"
   ]
  },
  {
   "cell_type": "markdown",
   "metadata": {},
   "source": [
    "### 5.Assuming that lst is a four-element list, is there any difference between these two statements?\n",
    "\n",
    "del lst # the first line\n",
    "\n",
    "del lst [ : ] # the second line\n",
    "\n",
    "\n",
    "a)\tYes, there is the first line deletes the list as a whole; the second line just empties the list\n",
    "\n",
    "b)\tNo, there is no difference\n",
    "\n",
    "c)\tYes, there is; the first line empties the list, the second line deletes the list as a whole\n",
    "\n",
    "d)\tYes, there is; the first line deletes the list as a whole, the second line removes all the elements except the first one\n",
    "\n"
   ]
  },
  {
   "cell_type": "code",
   "execution_count": null,
   "metadata": {},
   "outputs": [],
   "source": [
    "Answer: a)\tYes, there is the first line deletes the list as a whole; the second line just empties the list"
   ]
  },
  {
   "cell_type": "markdown",
   "metadata": {},
   "source": [
    "### 6.What can you deduce from the line below? (select two answers)\n",
    "\n",
    "X = a.b.c.f()\n",
    "\n",
    "a)\tThe line is incorrect\n",
    "\n",
    "b)\tThe function being invoked is called a.b.c.f()\n",
    "\n",
    "c)\tF() is located in subpackage of c of subpackage b of package a\n",
    "\n",
    "d)\tImport a.b.c should be placed before that line"
   ]
  },
  {
   "cell_type": "code",
   "execution_count": null,
   "metadata": {},
   "outputs": [],
   "source": [
    "Answer: c)\tF() is located in subpackage of c of subpackage b of package a"
   ]
  },
  {
   "cell_type": "markdown",
   "metadata": {},
   "source": [
    "### 7.\tA compiler is a program designed to ( select two answers)\n",
    "\n",
    "a)\tTranslate the source code into machine code\n",
    "\n",
    "b)\tCheck the source code in order to see if it’s correct\n",
    "\n",
    "c)\tExecute the source code\n",
    "\n",
    "d)\tRearrange the source code to make it clearer"
   ]
  },
  {
   "cell_type": "code",
   "execution_count": null,
   "metadata": {},
   "outputs": [],
   "source": [
    "Answer: a)\tTranslate the source code into machine code  c)\tExecute the source code"
   ]
  },
  {
   "cell_type": "markdown",
   "metadata": {},
   "source": [
    "### 8.The newly defined exception MyZeroDivisionError as seen below:\n",
    "\n",
    "Class MyZeroDivisionError(ZeroDivisionError):\n",
    "\tPass\n",
    "\n",
    "Is:\n",
    "\n",
    "a)\tCompletely independent from ZeroDivisionError (in the sense of class inheritance)\n",
    "\n",
    "b)\tExactly the same as ZeroDivisionError\n",
    "\n",
    "c)\tMore specific than ZeroDivisionError\n",
    "\n",
    "d)\tMore general than ZeroDivisionError\n",
    "\n"
   ]
  },
  {
   "cell_type": "code",
   "execution_count": null,
   "metadata": {},
   "outputs": [],
   "source": [
    "Answer: d)\tMore general than ZeroDivisionError"
   ]
  },
  {
   "cell_type": "markdown",
   "metadata": {},
   "source": [
    "### 9.What will be the value of the i variable when the while loop finishes its execution?\n",
    "\n",
    "\n",
    "i=0\n",
    "while i !=0:\n",
    "i = i -1\n",
    "         else:\n",
    "\t\ti = i +1\n",
    "\n",
    "a)\t1\n",
    "b)\tThe variable becomes unavailable\n",
    "c)\t0\n",
    "d)\t2"
   ]
  },
  {
   "cell_type": "code",
   "execution_count": null,
   "metadata": {},
   "outputs": [],
   "source": [
    "Answer: a)\t1"
   ]
  },
  {
   "cell_type": "markdown",
   "metadata": {},
   "source": [
    "### 10.\tWhat is the expected behavior of the following snippet?\n",
    "\n",
    "def  x():\t\t# line 01\n",
    "\treturn 2\t# line 02\n",
    "\n",
    "x = 1 + x()\t\t# line 03\n",
    "print(x) \t# line 04\n",
    "\n",
    "It will\n",
    "\n",
    "a)\tCause a runtime exception on line 02\n",
    "\n",
    "b)\tCause a runtime exception on line 03\n",
    "\n",
    "c)\tCause a runtime exception on line 01\n",
    "\n",
    "d)\tPrint 3\n"
   ]
  },
  {
   "cell_type": "code",
   "execution_count": null,
   "metadata": {},
   "outputs": [],
   "source": [
    "Answer: d)\tPrint 3"
   ]
  },
  {
   "cell_type": "markdown",
   "metadata": {},
   "source": [
    "### 11. Find the output\n",
    "Class A:\n",
    "Def a(self):\n",
    "\tPrint(“A”, end =’’)\n",
    "Def b(self):\n",
    "\tSelf.a()\n",
    "\tClass B(A):\n",
    "\t\tDef a(self):\n",
    "\t\t\tPrint(“B”, end=’’)\n",
    "\t\tDef do(self):\n",
    "\t\t\tSelf.b()\n",
    "\n",
    "Class C(A):\n",
    "\t\tDef a(self):\n",
    "\t\t\tPrint(“C”, end=’’)\n",
    "\t\tDef do(self):\n",
    "\t\t\tSelf.b()\n",
    "\n",
    "\tB().do()\n",
    "\tC().do()\n",
    "\n",
    "a)\tCC\n",
    "b)\tBC\n",
    "c)\tAA\n",
    "d)\tBB"
   ]
  },
  {
   "cell_type": "code",
   "execution_count": null,
   "metadata": {},
   "outputs": [],
   "source": [
    "Answer: b)\tBC"
   ]
  },
  {
   "cell_type": "markdown",
   "metadata": {},
   "source": [
    "### 12.\tIf you want to obtain a list that is filled with the first five cubed natural numbers, which clause would you use?\n",
    "\n",
    "a)\t[ x ** 3 for x in range(5) ]\n",
    "\n",
    "b)\t[ for x ** 3 in range(5) ]\n",
    "\n",
    "c)\t[ x = i* i* i for i in range(5) ]\n",
    "\n",
    "d)\t[ x ** 3 for x in 1..5 ]\n"
   ]
  },
  {
   "cell_type": "code",
   "execution_count": null,
   "metadata": {},
   "outputs": [],
   "source": [
    "Answer: c)\t[ x = i* i* i for i in range(5) ]"
   ]
  },
  {
   "cell_type": "markdown",
   "metadata": {},
   "source": [
    "### 13.\tWhat is the expected behavior of the following code?\n",
    "\n",
    "Def f(a):\n",
    "\tFor i in reversed(a):\n",
    "\t\tYield i + 1\n",
    "For i in f([x for x in range(2)]):\n",
    "\tPrint(i, end=’’)\n",
    "\n",
    "It will\n",
    "\n",
    "a)\tPrint 1 2\n",
    "\n",
    "b)\tPrint 2 1\n",
    "\n",
    "c)\tPrint <generator object f at (some hex digits) >\n",
    "\n",
    "d)\tCause a runtime exception"
   ]
  },
  {
   "cell_type": "code",
   "execution_count": null,
   "metadata": {},
   "outputs": [],
   "source": [
    "Answer: b)\tPrint 2 1"
   ]
  },
  {
   "cell_type": "markdown",
   "metadata": {},
   "source": [
    "### 14.\tIf you want to iterate through all of the dictionary’s keys which clause would you use instead of XXX?\n",
    "\n",
    "for key in XXX:\n",
    "\tprint(key)\n",
    "\n",
    "a)\tkeys(dict)\n",
    "b)\tdict.keys()\n",
    "\n",
    "c)\tdict.keys\n",
    "\n",
    "d)\tkeys.dict"
   ]
  },
  {
   "cell_type": "code",
   "execution_count": null,
   "metadata": {},
   "outputs": [],
   "source": [
    "Answer: b)\tdict.keys()"
   ]
  },
  {
   "cell_type": "markdown",
   "metadata": {},
   "source": [
    "### 15.\tIf a file is opened in the append mode, this means that ( select two answers )\n",
    "\n",
    "a)\tThe file doesn’t need to exist before opening it\n",
    "b)\tIf the file does not exist, it will be created\n",
    "c)\tIf the file exists, it will be written from its beginning\n",
    "d)\tThe stream associated with the file can be read"
   ]
  },
  {
   "cell_type": "code",
   "execution_count": null,
   "metadata": {},
   "outputs": [],
   "source": [
    "Answer: b)\tIf the file does not exist, it will be created  d)\tThe stream associated with the file can be read"
   ]
  },
  {
   "cell_type": "markdown",
   "metadata": {},
   "source": [
    "### 16.\tIf any of a class’s components has a name that starts with two underscores(__) then:\n",
    "\n",
    "a)\tThe class component has to be a class variable\n",
    "b)\tThe class component has to be an instance variable\n",
    "c)\tThe class component’s name will be mangled\n",
    "d)\tThe class component has to be a method"
   ]
  },
  {
   "cell_type": "code",
   "execution_count": null,
   "metadata": {},
   "outputs": [],
   "source": [
    "Answer: c)\tThe class component’s name will be mangled"
   ]
  },
  {
   "cell_type": "markdown",
   "metadata": {},
   "source": [
    "### 17.\tAn entity initialized in the following way\n",
    "Ent = 1,2,4,8\n",
    "Is a:\n",
    "a)\tList\n",
    "b)\tDictionary\n",
    "c)\tTuple\n",
    "d)\tRegular variable"
   ]
  },
  {
   "cell_type": "code",
   "execution_count": null,
   "metadata": {},
   "outputs": [],
   "source": [
    "Answer: d)\tRegular variable"
   ]
  },
  {
   "cell_type": "markdown",
   "metadata": {},
   "source": [
    "### 18.\tThe following instruction:\n",
    "(select two answers)\n",
    "\n",
    "Assert expression\n",
    "\n",
    "a)\tIs invalid\n",
    "\n",
    "b)\tRaises AssertionError if the expression evaluates to False\n",
    "\n",
    "c)\tCan be used anywhere\n",
    "\n",
    "d)\tStops the program immediately"
   ]
  },
  {
   "cell_type": "code",
   "execution_count": null,
   "metadata": {},
   "outputs": [],
   "source": [
    "Answer: b)\tRaises AssertionError if the expression evaluates to False  c)\tCan be used anywhere"
   ]
  },
  {
   "cell_type": "markdown",
   "metadata": {},
   "source": [
    "### 19.\tIf the following snippet is executed and the exception is raised as seen below:\n",
    "\n",
    "Try:\n",
    "\t# some code\n",
    "   \t raise Exception(“Error message”)\n",
    "\t# some code\n",
    "Except Exception as e:\n",
    "\t Print(e)\n",
    "\t Print(e.__str__())\n",
    "You will see:\n",
    "\n",
    "a)\tTwo different non-empty lines\n",
    "b)\tTwo empty lines\n",
    "c)\tTwo identical non-empty lines\n",
    "d)\tFour lines containing a system error message"
   ]
  },
  {
   "cell_type": "code",
   "execution_count": null,
   "metadata": {},
   "outputs": [],
   "source": [
    "Answer: c)\tTwo identical non-empty lines"
   ]
  },
  {
   "cell_type": "markdown",
   "metadata": {},
   "source": [
    "### 20.\tWhat is the expected output of the following snippet?\n",
    "\n",
    "Data = [1,2,3,4,5,6 ]\n",
    "Idx = data.index(data[0] +3)\n",
    "Print(idx)\n",
    "\n",
    "a)\tThe snippet will cause a runtime exception\n",
    "b)\tThe snippet will print 3\n",
    "c)\tThe snippet will print [3]\n",
    "d)\tThe snippet contains a syntax error"
   ]
  },
  {
   "cell_type": "code",
   "execution_count": null,
   "metadata": {},
   "outputs": [],
   "source": [
    "Answer: b)\tThe snippet will print 3"
   ]
  },
  {
   "cell_type": "markdown",
   "metadata": {},
   "source": [
    "### 21.\tWhat is the expected output of the following snippet?\n",
    "\n",
    "S = ‘abc’\n",
    "For i in len(s):\n",
    "\tS[i] = s[i].upper()\n",
    "Print(s)\n",
    "\n",
    "a)\t1 2 3\n",
    "b)\tThe code will cause a runtime exception\n",
    "c)\tabc\n",
    "d)\tABC"
   ]
  },
  {
   "cell_type": "code",
   "execution_count": null,
   "metadata": {},
   "outputs": [],
   "source": [
    "Answer: b)\tThe code will cause a runtime exception"
   ]
  },
  {
   "cell_type": "markdown",
   "metadata": {},
   "source": [
    "### 22.\tWhat is the expected output of the following code?\n",
    "\n",
    "Str = ‘abcdef’\n",
    "Def fun(s):\n",
    "\tDel s[2]\n",
    "\tReturn s\n",
    "Print(fun(str))\n",
    "\n",
    "a)\tabdef\n",
    "b)\tThe program will cause a runtime exception\n",
    "c)\tacdef\n",
    "d)\tabcef"
   ]
  },
  {
   "cell_type": "code",
   "execution_count": null,
   "metadata": {},
   "outputs": [],
   "source": [
    "Answer: b)\tThe program will cause a runtime exception"
   ]
  },
  {
   "cell_type": "markdown",
   "metadata": {},
   "source": [
    "### 23.\tWhat is the expected behavior of the following code?\n",
    "\n",
    "Def f(n):\n",
    "\tFor i in range(1, n+1):\n",
    "\t\tYield i\n",
    "\n",
    "For i in f(2):\n",
    "\tPrint(i, end=’’)\n",
    "\n",
    "It will:\n",
    "\n",
    "a)\tPrint 1 2\n",
    "b)\tPrint <generator object f at (some hex digits) >\n",
    "c)\tPrint 2 1\n",
    "d)\tCause a runtime exception "
   ]
  },
  {
   "cell_type": "code",
   "execution_count": null,
   "metadata": {},
   "outputs": [],
   "source": [
    "Answer: a)\tPrint 1 2"
   ]
  },
  {
   "cell_type": "markdown",
   "metadata": {},
   "source": [
    "### 24. Select all the statements ( select two answers)\n",
    "\n",
    "a)\t__module__ is a function which returns the name of the module containing the class definition\n",
    "b)\t__bases__ is a function filled with the names of the direct subclasses\n",
    "c)\tthe__name__ attribute exists only inside classes\n",
    "d)\tthe type() function is able to find the class used to instantiate an object\n"
   ]
  },
  {
   "cell_type": "code",
   "execution_count": null,
   "metadata": {},
   "outputs": [],
   "source": [
    "Answer:a)\t__module__ is a function which returns the name of the module containing the class definition\n",
    "       c)\tthe__name__ attribute exists only inside classes"
   ]
  },
  {
   "cell_type": "markdown",
   "metadata": {},
   "source": [
    "### 25. What is the expected output of the following cide?\n",
    "\n",
    "Def fun(x):\n",
    "\tReturn 1 if x % 2 !=0  else 2\n",
    "\n",
    "Print(fun(fun(1))\n",
    "\n",
    "a)\tNone\n",
    "b)\tThe code will cause a runtime exception\n",
    "c)\t1\n",
    "d)\t2\n"
   ]
  },
  {
   "cell_type": "code",
   "execution_count": null,
   "metadata": {},
   "outputs": [],
   "source": [
    "Answer:c)\t1"
   ]
  },
  {
   "cell_type": "markdown",
   "metadata": {},
   "source": [
    "### 26.\t An interpreter is a program designed to ( select two answers)\n",
    "\n",
    "a)\tCheck the source code in order to see if it’s correct\n",
    "b)\tExecute the source code on the fly\n",
    "c)\tRearrange the source code to make it clearer\n",
    "d)\tTranslate the source code into machine code"
   ]
  },
  {
   "cell_type": "code",
   "execution_count": null,
   "metadata": {},
   "outputs": [],
   "source": [
    "Answer: b)\tExecute the source code on the fly   d)\tTranslate the source code into machine code"
   ]
  },
  {
   "cell_type": "markdown",
   "metadata": {},
   "source": [
    "### 27.\tThe following expression\n",
    "\n",
    "3 // 2 + 6 / 3\n",
    "\n",
    "Is equal to:\n",
    "\n",
    "a)\t3.5\n",
    "b)\t0.125\n",
    "c)\t3.0\n",
    "d)\t1.5"
   ]
  },
  {
   "cell_type": "code",
   "execution_count": null,
   "metadata": {},
   "outputs": [],
   "source": [
    "Answer: c)\t3.0"
   ]
  },
  {
   "cell_type": "markdown",
   "metadata": {},
   "source": [
    "### 28.\tAssuming that the following snippet has been successfully executed, which of the equations are true? (Select two answers)\n",
    "\n",
    "a = [1]\n",
    "b = a\n",
    "a[0] = 0\n",
    "\n",
    "a)\ta[0] + 1 == b[0]\n",
    "b)\ta[0] == b[0]\n",
    "c)\tb[0] + 1 == a[0]\n",
    "d)\tlen(a) == len(b)"
   ]
  },
  {
   "cell_type": "code",
   "execution_count": null,
   "metadata": {},
   "outputs": [],
   "source": [
    "Answer:    b)\ta[0] == b[0] d)\tlen(a) == len(b)"
   ]
  },
  {
   "cell_type": "markdown",
   "metadata": {},
   "source": [
    "### 29.\tWhich of the equations are true? (select two answers)\n",
    "\n",
    "a)\tchr(chr(x)) == x\n",
    "b)\tord(chr(x)) == x\n",
    "c)\tord(ord(x)) == x\n",
    "d)\tchr(ord(x)) == x"
   ]
  },
  {
   "cell_type": "markdown",
   "metadata": {},
   "source": [
    "Answer:  b)\tord(chr(x)) == x   d)\tchr(ord(x)) == x"
   ]
  },
  {
   "cell_type": "markdown",
   "metadata": {},
   "source": [
    "### 30.\tWhat should the initial value of the Val variable be to make the snippet output 16.0?\n",
    "\n",
    "Val = ???\n",
    "Val +=1\n",
    "Val /= 1\n",
    "Print(Val)\n",
    "\n",
    "a)\t2\n",
    "b)\t3\n",
    "c)\t1\n",
    "d)\t4"
   ]
  },
  {
   "cell_type": "code",
   "execution_count": null,
   "metadata": {},
   "outputs": [],
   "source": [
    "Answer: b)\t3"
   ]
  },
  {
   "cell_type": "markdown",
   "metadata": {},
   "source": [
    "### 31.What is the expected output of the following snippet if the user enters a number equal to 12?\n",
    "\n",
    "Val = int(input(“Enter value :”))\n",
    "If val % 2 ==0:\n",
    "\tVal  +=2\n",
    "If val %7 ==0:\n",
    "\tVal += val // 2\n",
    "Else:\n",
    "\tVal -= val //2\n",
    "Print(val)\n",
    "\n",
    "a)\t6\n",
    "b)\t21\n",
    "c)\t14\n",
    "d)\t18"
   ]
  },
  {
   "cell_type": "code",
   "execution_count": null,
   "metadata": {},
   "outputs": [],
   "source": [
    "Answer: b)\t21"
   ]
  },
  {
   "cell_type": "markdown",
   "metadata": {},
   "source": [
    "### 32.\tWhat is the expected output of the following snippet?\n",
    "\n",
    "Number =1\n",
    "Text = “””\n",
    "Number = number + 1\n",
    "“””\n",
    "Number *=2\n",
    "Print(number)\n",
    "\n",
    "a)\t1\n",
    "b)\t4\n",
    "c)\t2\n",
    "d)\t0"
   ]
  },
  {
   "cell_type": "code",
   "execution_count": null,
   "metadata": {},
   "outputs": [],
   "source": [
    "Answer:  c)\t2"
   ]
  },
  {
   "cell_type": "markdown",
   "metadata": {},
   "source": [
    "### 33.What is the expected behavior of the following snippet?\n",
    "\n",
    "Y = ‘abc’\n",
    "Def x():\n",
    "\tPrint(y, end = ‘’)\n",
    "\tY = ‘cba’\n",
    "Print(x())\n",
    "\n",
    "It will:\n",
    "\n",
    "a)\tPrint cbaabc\n",
    "b)\tCause a runtime exception\n",
    "c)\tPrint an empty line\n",
    "d)\tPrint abccba\n"
   ]
  },
  {
   "cell_type": "code",
   "execution_count": null,
   "metadata": {},
   "outputs": [],
   "source": [
    "Answer:  b)\tCause a runtime exception"
   ]
  },
  {
   "cell_type": "markdown",
   "metadata": {},
   "source": [
    "### 34.Which of the following print () function invocations is valid?\n",
    "\n",
    "a)\tPrint(‘line’, line=’’)\n",
    "b)\tPrint(‘line’,separ=’’)\n",
    "c)\tPrint(‘line’,end=’’)\n",
    "d)\tPrint(‘line’,eof=’’)\n"
   ]
  },
  {
   "cell_type": "code",
   "execution_count": null,
   "metadata": {},
   "outputs": [],
   "source": [
    "Answer: c)\tPrint(‘line’,end=’’)"
   ]
  },
  {
   "cell_type": "markdown",
   "metadata": {},
   "source": [
    "### 35.What is the expected output of the following snippet?\n",
    "I =5\n",
    "While I > 1:\n",
    "\tWhile I % 2 !=0:\n",
    "\t\tI -=1\n",
    "\tElse:\n",
    "\t\tI -=1\n",
    "Print(i)\n",
    "\n",
    "a)\t2\n",
    "b)\tThe code is erroneous\n",
    "c)\t0\n",
    "d)\t1\n"
   ]
  },
  {
   "cell_type": "code",
   "execution_count": null,
   "metadata": {},
   "outputs": [],
   "source": [
    "Answer: d)\t1"
   ]
  },
  {
   "cell_type": "markdown",
   "metadata": {},
   "source": [
    "### 36.\tWhat is the expected output of the following snippet?\n",
    "\n",
    "S = “DON’T JUDGE A BOOK BY ITS COVER”\n",
    "Print(s.capitalize())\n",
    "\n",
    "a) DON’T JUDGE A BOOK BY ITS COVER\n",
    "b) don’t judge a book by its cover\n",
    "c) Don’t Judge A Book By Its Cover\n",
    "d) Don’t judge a book by its cover"
   ]
  },
  {
   "cell_type": "code",
   "execution_count": null,
   "metadata": {},
   "outputs": [],
   "source": [
    "Answer:  c) Don’t Judge A Book By Its Cover"
   ]
  },
  {
   "cell_type": "markdown",
   "metadata": {},
   "source": [
    "### 37.\tWhat is the expected behavior of the following snippet?\n",
    "def fun(a, b=0, c=5, d=1): \n",
    "return a ** b ** c \n",
    "print(fun(b=2, a=2, c=3))\n",
    "\n",
    "\tIt will:\n",
    "a)\tPrint 5\n",
    "b)\tPrint 64\n",
    "c)\tPrint 256\n",
    "d)\tPrint 512\n",
    "e)\tThe code will cause a runtime exception/error"
   ]
  },
  {
   "cell_type": "code",
   "execution_count": null,
   "metadata": {},
   "outputs": [],
   "source": [
    "Answer: c)\tPrint 256"
   ]
  },
  {
   "cell_type": "markdown",
   "metadata": {},
   "source": [
    "### 38.\tWhat is the expected output of the following snippet? \n",
    "s = 'python' \n",
    "for i in range(len(s)): \n",
    "i = s[i].upper() \n",
    "print(s, end=\"\")\n",
    "\n",
    "a)\tPYTHON\n",
    "b)\tPython\n",
    "c)\tPython\n",
    "d)\tP\n",
    "Y\n",
    "T\n",
    "H\n",
    "O\n",
    "N\n",
    "e)\tP\n",
    "y\n",
    "t\n",
    "h\n",
    "o\n",
    "n\n",
    "f)\tThe code will cause a runtime exception \n"
   ]
  },
  {
   "cell_type": "code",
   "execution_count": null,
   "metadata": {},
   "outputs": [],
   "source": [
    "Answer:  c)\tPython"
   ]
  },
  {
   "cell_type": "markdown",
   "metadata": {},
   "source": [
    "### 39.What is the expected output of the following snippet? \n",
    "i = 250 \n",
    "while len(str(i)) > 72: \n",
    "i *= 2 \n",
    "else: \n",
    "i //= 2 \n",
    "print(i)\n",
    "\n",
    "a)\t125\n",
    "b)\t250\n",
    "c)\t72\n",
    "d)\t500"
   ]
  },
  {
   "cell_type": "code",
   "execution_count": null,
   "metadata": {},
   "outputs": [],
   "source": [
    "Answer:  a)\t125"
   ]
  },
  {
   "cell_type": "markdown",
   "metadata": {},
   "source": [
    "### 40.\tThe following expression\n",
    "2 ** 3 ** 2 ** 1 \n",
    "is:\n",
    "\n",
    "\n",
    "a)  invalid \n",
    "b) equal to 16 \n",
    "c) equal to 16.0 \n",
    "d)  equal to 512 \n",
    "e) equal to 64 \n",
    "f)  equal to 128.0 "
   ]
  },
  {
   "cell_type": "code",
   "execution_count": null,
   "metadata": {},
   "outputs": [],
   "source": [
    "Answer:  d)  equal to 512 "
   ]
  },
  {
   "cell_type": "code",
   "execution_count": null,
   "metadata": {},
   "outputs": [],
   "source": [
    "All the Best !!!!!                               All the Best !!!!!                                            All the Best !!!!!"
   ]
  },
  {
   "cell_type": "markdown",
   "metadata": {},
   "source": [
    "# PCAP Certification"
   ]
  }
 ],
 "metadata": {
  "kernelspec": {
   "display_name": "Python 3",
   "language": "python",
   "name": "python3"
  },
  "language_info": {
   "codemirror_mode": {
    "name": "ipython",
    "version": 3
   },
   "file_extension": ".py",
   "mimetype": "text/x-python",
   "name": "python",
   "nbconvert_exporter": "python",
   "pygments_lexer": "ipython3",
   "version": "3.6.5"
  }
 },
 "nbformat": 4,
 "nbformat_minor": 2
}
