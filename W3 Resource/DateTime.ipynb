{
 "cells": [
  {
   "cell_type": "markdown",
   "metadata": {},
   "source": [
    "Date Time"
   ]
  },
  {
   "cell_type": "code",
   "execution_count": null,
   "metadata": {},
   "outputs": [],
   "source": [
    "'''\n",
    "#1.Write a Python script to display the various Date Time formats.\n",
    "\n",
    "a) Current date and time\n",
    "b) Current year\n",
    "c) Month of year\n",
    "d) Week number of the year\n",
    "e) Weekday of the week\n",
    "f) Day of year\n",
    "g) Day of the month\n",
    "h) Day of week\n",
    "'''\n",
    "import time\n",
    "import datetime\n",
    "print(\"Current date and time: \" , datetime.datetime.now())\n",
    "print(\"Current year: \", datetime.date.today().strftime(\"%Y\"))\n",
    "print(\"Month of year: \", datetime.date.today().strftime(\"%B\"))\n",
    "print(\"Week number of the year: \", datetime.date.today().strftime(\"%W\"))\n",
    "print(\"Weekday of the week: \", datetime.date.today().strftime(\"%w\"))\n",
    "print(\"Day of year: \", datetime.date.today().strftime(\"%j\"))\n",
    "print(\"Day of the month : \", datetime.date.today().strftime(\"%d\"))\n",
    "print(\"Day of week: \", datetime.date.today().strftime(\"%A\"))\n"
   ]
  },
  {
   "cell_type": "code",
   "execution_count": null,
   "metadata": {},
   "outputs": [],
   "source": [
    "'''\n",
    "#2.Write a Python program to determine whether a given year is a leap year.\n",
    "'''\n",
    "def leap_year(y):\n",
    "    if y % 400 == 0:\n",
    "        return True\n",
    "    if y % 100 == 0:\n",
    "        return False\n",
    "    if y % 4 == 0:\n",
    "        return True\n",
    "    else:\n",
    "        return False\n",
    "print(leap_year(1900))\n",
    "print(leap_year(2004))\n"
   ]
  },
  {
   "cell_type": "code",
   "execution_count": null,
   "metadata": {},
   "outputs": [],
   "source": [
    "'''\n",
    "#3.Write a Python program to convert a string to datetime.\n",
    "'''\n",
    "from datetime import datetime\n",
    "date_object = datetime.strptime('Jul 1 2014 2:43PM', '%b %d %Y %I:%M%p')\n",
    "print(date_object)"
   ]
  },
  {
   "cell_type": "code",
   "execution_count": null,
   "metadata": {},
   "outputs": [],
   "source": [
    "'''\n",
    "#4.Write a Python program to get the current time.\n",
    "'''\n",
    "import datetime\n",
    "print(datetime.datetime.now().time())"
   ]
  },
  {
   "cell_type": "code",
   "execution_count": null,
   "metadata": {},
   "outputs": [],
   "source": [
    "'''\n",
    "#5.Write a Python program to subtract five days from current date.\n",
    "'''\n",
    "from datetime import date, timedelta\n",
    "dt = date.today() - timedelta(5)\n",
    "print('Current Date :',date.today())\n",
    "print('5 days before Current Date :',dt)"
   ]
  },
  {
   "cell_type": "code",
   "execution_count": null,
   "metadata": {},
   "outputs": [],
   "source": [
    "'''\n",
    "#6.Write a Python program to convert unix timestamp string to readable date\n",
    "'''\n",
    "import datetime\n",
    "print(\n",
    "    datetime.datetime.fromtimestamp(\n",
    "        int(\"1284105682\")\n",
    "    ).strftime('%Y-%m-%d %H:%M:%S')\n",
    ")"
   ]
  },
  {
   "cell_type": "code",
   "execution_count": null,
   "metadata": {},
   "outputs": [],
   "source": [
    "'''\n",
    "#7.Write a Python program to print yesterday, today, tomorrow.\n",
    "\n",
    "Sample Unix timestamp string : 1284105682\n",
    "Expected Output : 2010-09-10 13:31:22\n",
    "'''\n",
    "import datetime \n",
    "today = datetime.date.today()\n",
    "yesterday = today - datetime.timedelta(days = 1)\n",
    "tomorrow = today + datetime.timedelta(days = 1) \n",
    "print('Yesterday : ',yesterday)\n",
    "print('Today : ',today)\n",
    "print('Tomorrow : ',tomorrow)"
   ]
  },
  {
   "cell_type": "code",
   "execution_count": null,
   "metadata": {},
   "outputs": [],
   "source": [
    "'''\n",
    "#8.Write a Python program to convert the date to datetime (midnight of the date).\n",
    "'''\n",
    "from datetime import date\n",
    "from datetime import datetime\n",
    "dt = date.today()\n",
    "print(datetime.combine(dt, datetime.min.time()))"
   ]
  },
  {
   "cell_type": "code",
   "execution_count": null,
   "metadata": {},
   "outputs": [],
   "source": [
    "'''\n",
    "#9.Write a Python program to print next 5 days starting from today.\n",
    "'''\n",
    "import datetime\n",
    "base = datetime.datetime.today()\n",
    "for x in range(0, 5):\n",
    "      print(base + datetime.timedelta(days=x))"
   ]
  },
  {
   "cell_type": "code",
   "execution_count": null,
   "metadata": {},
   "outputs": [],
   "source": [
    "'''\n",
    "#10.Write a Python program to add 5 seconds with the current time.\n",
    "'''\n",
    "import datetime\n",
    "x= datetime.datetime.now()\n",
    "y = x + datetime.timedelta(0,5)\n",
    "print(x.time())\n",
    "print(y.time())"
   ]
  },
  {
   "cell_type": "code",
   "execution_count": null,
   "metadata": {},
   "outputs": [],
   "source": [
    "'''\n",
    "#11.Write a Python program to convert Year/Month/Day to Day of Year.\n",
    "'''\n",
    "import datetime\n",
    "today = datetime.datetime.now()\n",
    "day_of_year = (today - datetime.datetime(today.year, 1, 1)).days + 1\n",
    "print(day_of_year)"
   ]
  },
  {
   "cell_type": "code",
   "execution_count": null,
   "metadata": {},
   "outputs": [],
   "source": [
    "'''\n",
    "#12.Write a Python program to get current time in milliseconds.\n",
    "'''\n",
    "import time\n",
    "milli_sec = int(round(time.time() * 1000))\n",
    "print(milli_sec)"
   ]
  },
  {
   "cell_type": "code",
   "execution_count": null,
   "metadata": {},
   "outputs": [],
   "source": [
    "'''\n",
    "#13.Write a Python program to get week number.\n",
    "'''\n",
    "import datetime\n",
    "print(datetime.date(2015, 6, 16).isocalendar()[1])\n"
   ]
  },
  {
   "cell_type": "code",
   "execution_count": null,
   "metadata": {},
   "outputs": [],
   "source": [
    "'''\n",
    "#14.Write a Python program to find the date of the first Monday of a given week.\n",
    "'''\n",
    "import time\n",
    "print(time.asctime(time.strptime('2015 50 1', '%Y %W %w')))"
   ]
  },
  {
   "cell_type": "code",
   "execution_count": null,
   "metadata": {},
   "outputs": [],
   "source": [
    "'''\n",
    "#15.Write a Python program to select all the Sundays of a specified year.\n",
    "'''\n",
    "from datetime import date, timedelta\n",
    "\n",
    "def all_sundays(year):\n",
    "# January 1st of the given year\n",
    "       dt = date(year, 1, 1)\n",
    "# First Sunday of the given year       \n",
    "       dt += timedelta(days = 6 - dt.weekday())  \n",
    "       while dt.year == year:\n",
    "          yield dt\n",
    "          dt += timedelta(days = 7)\n",
    "          \n",
    "for s in all_sundays(2020):\n",
    "   print(s)"
   ]
  },
  {
   "cell_type": "code",
   "execution_count": null,
   "metadata": {},
   "outputs": [],
   "source": [
    "'''\n",
    "#16.Write a program to add year(s) with a given date and display the new date.\n",
    "'''\n",
    "import datetime\n",
    "from datetime import date\n",
    "def addYears(d, years):\n",
    "    try:\n",
    "#Return same day of the current year        \n",
    "        return d.replace(year = d.year + years)\n",
    "    except ValueError:\n",
    "#If not same day, it will return other, i.e.  February 29 to March 1 etc.        \n",
    "        return d + (date(d.year + years, 1, 1) - date(d.year, 1, 1))\n",
    "\n",
    "print(addYears(datetime.date(2015,1,1), -1))\n",
    "print(addYears(datetime.date(2015,1,1), 0))\n",
    "print(addYears(datetime.date(2015,1,1), 2))\n",
    "print(addYears(datetime.date(2000,2,29),1))"
   ]
  },
  {
   "cell_type": "code",
   "execution_count": null,
   "metadata": {},
   "outputs": [],
   "source": [
    "'''\n",
    "#17.Write a Python program to drop microseconds from datetime.\n",
    "'''\n",
    "import datetime\n",
    "dt = datetime.datetime.today().replace(microsecond=0)\n",
    "print()\n",
    "print(dt)\n",
    "print()"
   ]
  },
  {
   "cell_type": "code",
   "execution_count": null,
   "metadata": {},
   "outputs": [],
   "source": [
    "'''\n",
    "#18.Write a Python program to get days between two dates.\n",
    "'''\n",
    "from datetime import date\n",
    "a = date(2000,2,28)\n",
    "b = date(2001,2,28)\n",
    "print(b-a)"
   ]
  },
  {
   "cell_type": "code",
   "execution_count": null,
   "metadata": {},
   "outputs": [],
   "source": [
    "'''\n",
    "#19.Write a Python program to get the date of the last Tuesday.\n",
    "'''\n",
    "from datetime import date\n",
    "from datetime import timedelta\n",
    "today = date.today()\n",
    "offset = (today.weekday() - 1) % 7\n",
    "last_tuesday = today - timedelta(days=offset)\n",
    "print(last_tuesday)"
   ]
  },
  {
   "cell_type": "code",
   "execution_count": null,
   "metadata": {},
   "outputs": [],
   "source": [
    "'''\n",
    "#20.Write a Python program to test the third Tuesday of a month.\n",
    "'''\n",
    "from datetime import datetime \n",
    "def is_third_tuesday(s):\n",
    "    d = datetime.strptime(s, '%b %d, %Y')\n",
    "    return d.weekday() == 1 and 14 < d.day < 22\n",
    "\n",
    "print(is_third_tuesday('Jun 23, 2015')) #False\n",
    "print(is_third_tuesday('Jun 16, 2015')) #True \n",
    "print(is_third_tuesday('Jul 21, 2015')) #False"
   ]
  },
  {
   "cell_type": "code",
   "execution_count": null,
   "metadata": {},
   "outputs": [],
   "source": [
    "'''\n",
    "#21.Write a Python program to get the last day of a specified year and month.\n",
    "'''\n",
    "import calendar\n",
    "year = 2015\n",
    "month = 2\n",
    "print(calendar.monthrange(year, month)[1])"
   ]
  },
  {
   "cell_type": "code",
   "execution_count": null,
   "metadata": {},
   "outputs": [],
   "source": [
    "'''\n",
    "#22.Write a Python program to get the number of days of a given month and year.\n",
    "'''\n",
    "from calendar import monthrange\n",
    "year = 2016\n",
    "month = 2\n",
    "print(monthrange(year, month))"
   ]
  },
  {
   "cell_type": "code",
   "execution_count": null,
   "metadata": {},
   "outputs": [],
   "source": [
    "'''\n",
    "#23.Write a Python program to add a month with a specified date.\n",
    "'''\n",
    "from datetime import date, timedelta\n",
    "import calendar\n",
    "start_date = date(2014, 12, 25)\n",
    "days_in_month = calendar.monthrange(start_date.year, start_date.month)[1]\n",
    "print(start_date + timedelta(days=days_in_month))"
   ]
  },
  {
   "cell_type": "code",
   "execution_count": null,
   "metadata": {},
   "outputs": [],
   "source": [
    "'''\n",
    "#24.Write a Python program to count the number of Monday of the 1st day of the month from 2015 to 2016.\n",
    "'''\n",
    "import datetime\n",
    "from datetime import datetime\n",
    "monday1 = 0\n",
    "months = range(1,13)\n",
    "for year in range(2015, 2017):\n",
    "    for month in months:\n",
    "        if datetime(year, month, 1).weekday() == 0:\n",
    "            monday1 += 1\n",
    "print(monday1)"
   ]
  },
  {
   "cell_type": "code",
   "execution_count": null,
   "metadata": {},
   "outputs": [],
   "source": [
    "'''\n",
    "#25.Write a Python program to print a string five times, delay three seconds.\n",
    "'''\n",
    "import time \n",
    "x=0\n",
    "print(\"\\nw3resource will print five  times, delay for three seconds.\")\n",
    "while x<5:\n",
    "    print(\"w3resource\")\n",
    "    time.sleep(3)\n",
    "    x=x+1"
   ]
  },
  {
   "cell_type": "code",
   "execution_count": null,
   "metadata": {},
   "outputs": [],
   "source": [
    "'''\n",
    "#26.Write a Python program calculates the date six months from the current date using the datetime module.\n",
    "'''\n",
    "import datetime\n",
    "print((datetime.date.today() + datetime.timedelta(6*365/12)).isoformat())"
   ]
  },
  {
   "cell_type": "code",
   "execution_count": null,
   "metadata": {},
   "outputs": [],
   "source": [
    "'''\n",
    "#27.Write a Python program to create 12 fixed dates from a specified date over a given period. The difference between two dates will be 20.\n",
    "'''\n",
    "import datetime\n",
    "def every_20_days(date):\n",
    "    print('Starting Date: {d}'.format(d=date))\n",
    "    print(\"Next 12 days :\")\n",
    "    for _ in range(12):\n",
    "        date=date+datetime.timedelta(days=20)\n",
    "        print('{d}'.format(d=date))\n",
    "\n",
    "dt = datetime.date(2016,8,1)\n",
    "every_20_days(dt)"
   ]
  },
  {
   "cell_type": "code",
   "execution_count": 1,
   "metadata": {},
   "outputs": [
    {
     "name": "stdout",
     "output_type": "stream",
     "text": [
      "\n",
      "Current Date:  2018-12-31\n",
      "30 days before current date:  2018-12-01\n",
      "30 days after current date :  2019-01-30\n"
     ]
    }
   ],
   "source": [
    "'''\n",
    "#28.Write a Python program to get the dates 30 days before and after from the current date.\n",
    "'''\n",
    "from datetime import date, timedelta\n",
    "\n",
    "current_date = date.today().isoformat()   \n",
    "days_before = (date.today()-timedelta(days=30)).isoformat()\n",
    "days_after = (date.today()+timedelta(days=30)).isoformat()  \n",
    "\n",
    "print(\"\\nCurrent Date: \",current_date)\n",
    "print(\"30 days before current date: \",days_before)\n",
    "print(\"30 days after current date : \",days_after)"
   ]
  },
  {
   "cell_type": "code",
   "execution_count": null,
   "metadata": {},
   "outputs": [],
   "source": [
    "'''\n",
    "#29.Write a Python program to get the GMT and local current time.\n",
    "'''\n",
    "from time import gmtime, strftime\n",
    "import time\n",
    "print(\"\\nGMT: \"+time.strftime(\"%a, %d %b %Y %I:%M:%S %p %Z\", time.gmtime()))\n",
    "print(\"Local: \"+strftime(\"%a, %d %b %Y %I:%M:%S %p %Z\\n\"))"
   ]
  },
  {
   "cell_type": "code",
   "execution_count": null,
   "metadata": {},
   "outputs": [],
   "source": [
    "'''\n",
    "#30.Write a Python program convert a date to timestamp.\n",
    "'''\n",
    "import time\n",
    "import datetime\n",
    "now = datetime.datetime.now()\n",
    "print()\n",
    "print(time.mktime(now.timetuple()))\n",
    "print()"
   ]
  },
  {
   "cell_type": "code",
   "execution_count": null,
   "metadata": {},
   "outputs": [],
   "source": [
    "'''\n",
    "#31.Write a Python program convert a string date to the timestamp.\n",
    "'''\n",
    "import time\n",
    "import datetime\n",
    "s = \"01/10/2016\"\n",
    "print()\n",
    "print(time.mktime(datetime.datetime.strptime(s, \"%d/%m/%Y\").timetuple()))\n",
    "print()"
   ]
  },
  {
   "cell_type": "code",
   "execution_count": null,
   "metadata": {},
   "outputs": [],
   "source": [
    "'''\n",
    "#32.Write a Python program to calculate a number of days between two dates.\n",
    "'''\n",
    "import datetime\n",
    "from datetime import date\n",
    "def differ_days(date1, date2):\n",
    "\n",
    "    a = date1\n",
    "    b = date2\n",
    "    return (a-b).days\n",
    "print()\n",
    "print(differ_days((date(2016,10,12)), date(2015,12,10)))\n",
    "print(differ_days((date(2016,3,23)), date(2017,12,10)))\n",
    "print()"
   ]
  },
  {
   "cell_type": "code",
   "execution_count": null,
   "metadata": {},
   "outputs": [],
   "source": [
    "'''\n",
    "#33.Write a Python program to calculate number of days between two datetimes.\n",
    "'''\n",
    "import datetime\n",
    "from datetime import datetime\n",
    "\n",
    "def differ_days(date1, date2):\n",
    "    a = date1\n",
    "    b = date2\n",
    "    return (a-b).days\n",
    "print()\n",
    "print(differ_days((datetime(2016,10,12,0,0,0)), datetime(2015,12,10,0,0,0)))\n",
    "print(differ_days((datetime(2016,10,12,0,0,0)), datetime(2015,12,10,23,59,59)))\n",
    "print()"
   ]
  },
  {
   "cell_type": "code",
   "execution_count": null,
   "metadata": {},
   "outputs": [],
   "source": [
    "'''\n",
    "#34.Write a Python program to display the date and time in a human-friendly string.\n",
    "'''\n",
    "import time\n",
    "print()\n",
    "print(time.ctime())\n",
    "print()"
   ]
  },
  {
   "cell_type": "code",
   "execution_count": null,
   "metadata": {},
   "outputs": [],
   "source": [
    "'''\n",
    "#35.Write a Python program to convert a date to Unix timestamp.\n",
    "'''\n",
    "import datetime\n",
    "import time\n",
    "dt = datetime.datetime(2016, 2, 25, 23, 23)\n",
    "print()\n",
    "print(\"Unix Timestamp: \",(time.mktime(dt.timetuple())))\n",
    "print()"
   ]
  },
  {
   "cell_type": "code",
   "execution_count": null,
   "metadata": {},
   "outputs": [],
   "source": [
    "'''\n",
    "#36.Write a Python program to calculate two date difference in seconds.\n",
    "'''\n",
    "from datetime import datetime, time\n",
    "def date_diff_in_Seconds(dt2, dt1):\n",
    "  timedelta = dt2 - dt1\n",
    "  return timedelta.days * 24 * 3600 + timedelta.seconds\n",
    "#Specified date\n",
    "date1 = datetime.strptime('2015-01-01 01:00:00', '%Y-%m-%d %H:%M:%S')\n",
    "#Current date\n",
    "date2 = datetime.now()\n",
    "print(\"\\n%d seconds\" %(date_diff_in_Seconds(date2, date1)))\n",
    "print()"
   ]
  },
  {
   "cell_type": "code",
   "execution_count": null,
   "metadata": {},
   "outputs": [],
   "source": [
    "'''\n",
    "#37.Write a Python program to convert two date difference in seconds.\n",
    "'''\n",
    "from datetime import datetime, time\n",
    "\n",
    "def date_diff_in_seconds(dt2, dt1):\n",
    "  timedelta = dt2 - dt1\n",
    "  return timedelta.days * 24 * 3600 + timedelta.seconds\n",
    "\n",
    "def dhms_from_seconds(seconds):\n",
    "\tminutes, seconds = divmod(seconds, 60)\n",
    "\thours, minutes = divmod(minutes, 60)\n",
    "\tdays, hours = divmod(hours, 24)\n",
    "\treturn (days, hours, minutes, seconds)\n",
    "\n",
    "#Specified date\n",
    "date1 = datetime.strptime('2015-01-01 01:00:00', '%Y-%m-%d %H:%M:%S')\n",
    "\n",
    "#Current date\n",
    "date2 = datetime.now()\n",
    "\n",
    "print(\"\\n%d days, %d hours, %d minutes, %d seconds\" % dhms_from_seconds(date_diff_in_seconds(date2, date1)))\n",
    "print()"
   ]
  },
  {
   "cell_type": "code",
   "execution_count": null,
   "metadata": {},
   "outputs": [],
   "source": [
    "'''\n",
    "#38.Write a Python program to get last modified information of a file.\n",
    "'''\n",
    "import os, time\n",
    "def last_modified_fileinfo(filepath):\n",
    "\t\n",
    "\tfilestat = os.stat(filepath)\n",
    "\tdate = time.localtime((filestat.st_mtime))\n",
    "\n",
    "\t# Extract year, month and day from the date\n",
    "\tyear = date[0]\n",
    "\tmonth = date[1]\n",
    "\tday = date[2]\n",
    "\t# Extract hour, minute, second\n",
    "\thour = date[3]\n",
    "\tminute = date[4]\n",
    "\tsecond = date[5]\n",
    "\t\n",
    "\t# Year\n",
    "\tstrYear = str(year)[0:]\n",
    "\n",
    "\t# Month\n",
    "\tif (month <=9):\n",
    "\t    strMonth = '0' + str(month)\n",
    "\telse:\n",
    "\t    strMonth = str(month)\n",
    "\n",
    "\t# Date\n",
    "\tif (day <=9):\n",
    "\t    strDay = '0' + str(day)\n",
    "\telse:\n",
    "\t    strDay = str(day)\n",
    "\n",
    "\treturn (strYear+\"-\"+strMonth+\"-\"+strDay+\" \"+str(hour)+\":\"+str(minute)+\":\"+str(second))\n",
    "print()\n",
    "print(last_modified_fileinfo('test.txt'))\n",
    "print()"
   ]
  },
  {
   "cell_type": "code",
   "execution_count": null,
   "metadata": {},
   "outputs": [],
   "source": [
    "'''\n",
    "#39.Write a Python program to calculate an age in year.\n",
    "'''\n",
    "from datetime import date\n",
    "\n",
    "def calculate_age(dtob):\n",
    "    today = date.today()\n",
    "    return today.year - dtob.year - ((today.month, today.day) < (dtob.month, dtob.day))\n",
    "print()\n",
    "print(calculate_age(date(2006,10,12)))\n",
    "print(calculate_age(date(1989,1,12)))\n",
    "print()"
   ]
  },
  {
   "cell_type": "code",
   "execution_count": null,
   "metadata": {},
   "outputs": [],
   "source": [
    "'''\n",
    "#40.Write a Python program to get the current date time information.\n",
    "'''\n",
    "import time\n",
    "import datetime\n",
    "\n",
    "print()\n",
    "print(\"Time in seconds since the epoch: %s\" %time.time())\n",
    "print(\"Current date and time: \" , datetime.datetime.now())\n",
    "print(\"Alternate date and time: \" ,datetime.datetime.now().strftime(\"%y-%m-%d-%H-%M\"))\n",
    "print(\"Current year: \", datetime.date.today().strftime(\"%Y\"))\n",
    "print(\"Month of year: \", datetime.date.today().strftime(\"%B\"))\n",
    "print(\"Week number of the year: \", datetime.date.today().strftime(\"%W\"))\n",
    "print(\"Weekday of the week: \", datetime.date.today().strftime(\"%w\"))\n",
    "print(\"Day of year: \", datetime.date.today().strftime(\"%j\"))\n",
    "print(\"Day of the month : \", datetime.date.today().strftime(\"%d\"))\n",
    "print(\"Day of week: \", datetime.date.today().strftime(\"%A\"))\n",
    "print()"
   ]
  },
  {
   "cell_type": "code",
   "execution_count": null,
   "metadata": {},
   "outputs": [],
   "source": [
    "'''\n",
    "#41.Write a python program to generate a date and time as a string.\n",
    "'''\n",
    "import datetime\n",
    "# Current time\n",
    "now = datetime.datetime.now()\n",
    "# Make a note of the date and time in a string\n",
    "# Date and time in string : 2016-11-05 11:24:24 PM\n",
    "datestr = \"# In string: \" + now.strftime(\"%Y-%m-%d %H:%M:%S %p\") + \"\\n\"\n",
    "print()\n",
    "print(datestr)\n",
    "print()"
   ]
  },
  {
   "cell_type": "code",
   "execution_count": 2,
   "metadata": {},
   "outputs": [
    {
     "name": "stdout",
     "output_type": "stream",
     "text": [
      "First Month - 2019\n",
      "    January 2019\n",
      "Su Mo Tu We Th Fr Sa\n",
      "       1  2  3  4  5\n",
      " 6  7  8  9 10 11 12\n",
      "13 14 15 16 17 18 19\n",
      "20 21 22 23 24 25 26\n",
      "27 28 29 30 31\n",
      "None\n"
     ]
    }
   ],
   "source": [
    "'''\n",
    "#42.Write a Python program to display formatted text output of a month and start weeks on Sunday.\n",
    "'''\n",
    "import calendar\n",
    "cal = calendar.TextCalendar(calendar.SUNDAY)\n",
    "print('First Month - 2019')\n",
    "print(cal.prmonth(2019, 1))"
   ]
  },
  {
   "cell_type": "code",
   "execution_count": 3,
   "metadata": {},
   "outputs": [
    {
     "name": "stdout",
     "output_type": "stream",
     "text": [
      "                              2019\n",
      "\n",
      "      January               February               March\n",
      "Su Mo Tu We Th Fr Sa  Su Mo Tu We Th Fr Sa  Su Mo Tu We Th Fr Sa\n",
      "       1  2  3  4  5                  1  2                  1  2\n",
      " 6  7  8  9 10 11 12   3  4  5  6  7  8  9   3  4  5  6  7  8  9\n",
      "13 14 15 16 17 18 19  10 11 12 13 14 15 16  10 11 12 13 14 15 16\n",
      "20 21 22 23 24 25 26  17 18 19 20 21 22 23  17 18 19 20 21 22 23\n",
      "27 28 29 30 31        24 25 26 27 28        24 25 26 27 28 29 30\n",
      "                                            31\n",
      "\n",
      "       April                  May                   June\n",
      "Su Mo Tu We Th Fr Sa  Su Mo Tu We Th Fr Sa  Su Mo Tu We Th Fr Sa\n",
      "    1  2  3  4  5  6            1  2  3  4                     1\n",
      " 7  8  9 10 11 12 13   5  6  7  8  9 10 11   2  3  4  5  6  7  8\n",
      "14 15 16 17 18 19 20  12 13 14 15 16 17 18   9 10 11 12 13 14 15\n",
      "21 22 23 24 25 26 27  19 20 21 22 23 24 25  16 17 18 19 20 21 22\n",
      "28 29 30              26 27 28 29 30 31     23 24 25 26 27 28 29\n",
      "                                            30\n",
      "\n",
      "        July                 August              September\n",
      "Su Mo Tu We Th Fr Sa  Su Mo Tu We Th Fr Sa  Su Mo Tu We Th Fr Sa\n",
      "    1  2  3  4  5  6               1  2  3   1  2  3  4  5  6  7\n",
      " 7  8  9 10 11 12 13   4  5  6  7  8  9 10   8  9 10 11 12 13 14\n",
      "14 15 16 17 18 19 20  11 12 13 14 15 16 17  15 16 17 18 19 20 21\n",
      "21 22 23 24 25 26 27  18 19 20 21 22 23 24  22 23 24 25 26 27 28\n",
      "28 29 30 31           25 26 27 28 29 30 31  29 30\n",
      "\n",
      "      October               November              December\n",
      "Su Mo Tu We Th Fr Sa  Su Mo Tu We Th Fr Sa  Su Mo Tu We Th Fr Sa\n",
      "       1  2  3  4  5                  1  2   1  2  3  4  5  6  7\n",
      " 6  7  8  9 10 11 12   3  4  5  6  7  8  9   8  9 10 11 12 13 14\n",
      "13 14 15 16 17 18 19  10 11 12 13 14 15 16  15 16 17 18 19 20 21\n",
      "20 21 22 23 24 25 26  17 18 19 20 21 22 23  22 23 24 25 26 27 28\n",
      "27 28 29 30 31        24 25 26 27 28 29 30  29 30 31\n",
      "\n"
     ]
    }
   ],
   "source": [
    "'''\n",
    "#43.Write a Python program to print a 3-column calendar for an entire year.\n",
    "'''\n",
    "import calendar\n",
    "cal = calendar.TextCalendar(calendar.SUNDAY)\n",
    "# year: 2022, column width: 2, lines per week: 1 \n",
    "# number of spaces between month columns: 1\n",
    "# 3: no. of months per column.\n",
    "print(cal.formatyear(2019, 2, 1, 1, 3))"
   ]
  },
  {
   "cell_type": "code",
   "execution_count": null,
   "metadata": {},
   "outputs": [],
   "source": [
    "'''\n",
    "#44.Write a Python program to display a calendar for a locale.\n",
    "\n",
    "Supported locale (locale –a): \n",
    "students@ubuntu-1gb-nyc2-01:~$ locale -a \n",
    "C , C.UTF-8, en_AG, en_AG.utf8, en_AU.utf8, en_BW.utf8, en_CA.utf8, en_DK.utf8,\n",
    "en_GB.utf8, en_HK.utf8, en_IE.utf8, en_IN, en_IN.utf8, en_NG, en_NG.utf8, en_NZ.utf8\n",
    "'''\n"
   ]
  },
  {
   "cell_type": "code",
   "execution_count": null,
   "metadata": {},
   "outputs": [],
   "source": [
    "'''\n",
    "#45.import calendar\n",
    "cal = calendar.LocaleTextCalendar(locale='en_AU.utf8')\n",
    "print(cal.prmonth(2025, 9))\n",
    "'''"
   ]
  },
  {
   "cell_type": "code",
   "execution_count": null,
   "metadata": {},
   "outputs": [],
   "source": [
    "'''\n",
    "#46.Write a Python program to create a HTML calendar with data for a specific year and month.\n",
    "'''\n",
    "import calendar\n",
    "htmlcal = calendar.HTMLCalendar(calendar.MONDAY)\n",
    "print(htmlcal.formatmonth(2020, 12))"
   ]
  },
  {
   "cell_type": "code",
   "execution_count": null,
   "metadata": {},
   "outputs": [],
   "source": [
    "'''\n",
    "#47.Write a Python program display a list of the dates for the 2nd Saturday of every month for a given year.\n",
    "'''\n",
    "import calendar\n",
    "# Show every month\n",
    "for month in range(1, 13):\n",
    "    cal = calendar.monthcalendar(2020, month)\n",
    "    first_week  = cal[0]\n",
    "    second_week = cal[1]\n",
    "    third_week  = cal[2]\n",
    "\n",
    "    # If a Saturday presents in the first week, the second Saturday\n",
    "    # is in the second week.  Otherwise, the second Saturday must \n",
    "    # be in the third week.\n",
    "    \n",
    "    if first_week[calendar.SATURDAY]:\n",
    "        holi_day = second_week[calendar.SATURDAY]\n",
    "    else:\n",
    "        holi_day = third_week[calendar.SATURDAY]\n",
    "\n",
    "    print('%3s: %2s' % (calendar.month_abbr[month], holi_day))"
   ]
  },
  {
   "cell_type": "code",
   "execution_count": null,
   "metadata": {},
   "outputs": [],
   "source": [
    "'''\n",
    "#48.Write a Python program to display a simple, formatted calendar of a given year and month.\n",
    "'''\n",
    "import calendar\n",
    "print('Print a calendar for a year and month:')\n",
    "month = int(input('Month (mm): '))\n",
    "year = int(input('Year (yyyy): '))\n",
    "print('\\n')\n",
    " \n",
    "calendar.setfirstweekday(calendar.SUNDAY)\n",
    "cal = calendar.monthcalendar(year, month)\n",
    " \n",
    "if len(str(month)) == 1:\n",
    "    month = '0%s' % month\n",
    " \n",
    "# Header\n",
    "print('|++++++ %s-%s +++++|' % (month, year))\n",
    "print('|Su Mo Tu We Th Fr Sa|')\n",
    "print('|--------------------|')\n",
    " \n",
    "# display calendar\n",
    "border = '|'\n",
    "for week in cal:\n",
    "    line = border\n",
    "\n",
    "      \n",
    "    for day in week:\n",
    "        if day == 0:\n",
    "      # 3 spaces for blank days       \n",
    "         line += '   ' \n",
    "        elif len(str(day)) == 1:\n",
    "            line += ' %d ' % day\n",
    "        else:\n",
    "         line += '%d ' % day\n",
    "    # remove space in last column\n",
    "    line = line[0:len(line) - 1]  \n",
    "    line += border\n",
    "    print(line)\n",
    " \n",
    "print('|--------------------|\\n')"
   ]
  },
  {
   "cell_type": "code",
   "execution_count": null,
   "metadata": {},
   "outputs": [],
   "source": [
    "'''\n",
    "#49.Write a Python program to convert a string into datetime.\n",
    "'''\n",
    "from datetime import datetime\n",
    "\n",
    "date_obj = datetime.strptime('May 12 2016  2:25AM', '%b %d %Y %I:%M%p')\n",
    "print()\n",
    "print(date_obj)\n",
    "print()"
   ]
  },
  {
   "cell_type": "code",
   "execution_count": null,
   "metadata": {},
   "outputs": [],
   "source": [
    "'''\n",
    "#50.Write a Python program to get a list of dates between two dates.\n",
    "'''\n",
    "from datetime import timedelta, date\n",
    "\n",
    "def daterange(date1, date2):\n",
    "    for n in range(int ((date2 - date1).days)+1):\n",
    "        yield date1 + timedelta(n)\n",
    "\n",
    "start_dt = date(2015, 12, 20)\n",
    "end_dt = date(2016, 1, 11)\n",
    "for dt in daterange(start_dt, end_dt):\n",
    "    print(dt.strftime(\"%Y-%m-%d\"))"
   ]
  },
  {
   "cell_type": "code",
   "execution_count": null,
   "metadata": {},
   "outputs": [],
   "source": [
    "'''\n",
    "#51.Write a Python program to generate RFC 3339 timestamp.\n",
    "'''\n",
    "from datetime import datetime, timezone\n",
    "local_time = datetime.now(timezone.utc).astimezone()\n",
    "print()\n",
    "print(local_time.isoformat())\n",
    "print()"
   ]
  },
  {
   "cell_type": "code",
   "execution_count": 4,
   "metadata": {},
   "outputs": [
    {
     "name": "stdout",
     "output_type": "stream",
     "text": [
      "First Second:  00:00:00\n",
      "Last Second:  23:59:59.999999\n"
     ]
    }
   ],
   "source": [
    "'''\n",
    "#52.Write a Python program to get the first and last second.\n",
    "'''\n",
    "import datetime\n",
    "print(\"First Second: \", datetime.time.min)\n",
    "print(\"Last Second: \", datetime.time.max)"
   ]
  },
  {
   "cell_type": "code",
   "execution_count": null,
   "metadata": {},
   "outputs": [],
   "source": []
  }
 ],
 "metadata": {
  "kernelspec": {
   "display_name": "Python 3",
   "language": "python",
   "name": "python3"
  },
  "language_info": {
   "codemirror_mode": {
    "name": "ipython",
    "version": 3
   },
   "file_extension": ".py",
   "mimetype": "text/x-python",
   "name": "python",
   "nbconvert_exporter": "python",
   "pygments_lexer": "ipython3",
   "version": "3.6.5"
  }
 },
 "nbformat": 4,
 "nbformat_minor": 2
}
