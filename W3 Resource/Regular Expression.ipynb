{
 "cells": [
  {
   "cell_type": "markdown",
   "metadata": {},
   "source": [
    "Regular Expression"
   ]
  },
  {
   "cell_type": "code",
   "execution_count": null,
   "metadata": {},
   "outputs": [],
   "source": [
    "'''\n",
    "#1.Write a Python program to check that a string contains only a certain set of characters (in this case a-z, A-Z and 0-9).\n",
    "'''\n",
    "import re\n",
    "def is_allowed_specific_char(string):\n",
    "    charRe = re.compile(r'[^a-zA-Z0-9.]')\n",
    "    string = charRe.search(string)\n",
    "    return not bool(string)\n",
    "\n",
    "print(is_allowed_specific_char(\"ABCDEFabcdef123450\")) \n",
    "print(is_allowed_specific_char(\"*&%@#!}{\"))"
   ]
  },
  {
   "cell_type": "code",
   "execution_count": null,
   "metadata": {},
   "outputs": [],
   "source": [
    "'''\n",
    "#2.Write a Python program that matches a string that has an a followed by zero or more b's.\n",
    "'''\n",
    "import re\n",
    "def text_match(text):\n",
    "        patterns = 'ab*?'\n",
    "        if re.search(patterns,  text):\n",
    "                return 'Found a match!'\n",
    "        else:\n",
    "                return('Not matched!')\n",
    "\n",
    "print(text_match(\"ac\"))\n",
    "print(text_match(\"abc\"))\n",
    "print(text_match(\"abbc\"))"
   ]
  },
  {
   "cell_type": "code",
   "execution_count": null,
   "metadata": {},
   "outputs": [],
   "source": [
    "'''\n",
    "#3.Write a Python program that matches a string that has an a followed by one or more b's.\n",
    "'''\n",
    "import re\n",
    "def text_match(text):\n",
    "        patterns = 'ab+?'\n",
    "        if re.search(patterns,  text):\n",
    "                return 'Found a match!'\n",
    "        else:\n",
    "                return('Not matched!')\n",
    "\n",
    "print(text_match(\"ab\"))\n",
    "print(text_match(\"abc\"))"
   ]
  },
  {
   "cell_type": "code",
   "execution_count": 1,
   "metadata": {},
   "outputs": [
    {
     "name": "stdout",
     "output_type": "stream",
     "text": [
      "Found a match!\n",
      "Found a match!\n",
      "Found a match!\n",
      "Found a match!\n"
     ]
    }
   ],
   "source": [
    "'''\n",
    "#4.Write a Python program that matches a string that has an a followed by zero or one 'b'.\n",
    "'''\n",
    "import re\n",
    "def text_match(text):\n",
    "        patterns = 'ab?'\n",
    "        if re.search(patterns,  text):\n",
    "                return 'Found a match!'\n",
    "        else:\n",
    "                return('Not matched!')\n",
    "\n",
    "print(text_match(\"ab\"))\n",
    "print(text_match(\"abc\"))\n",
    "print(text_match(\"abbc\"))\n",
    "print(text_match(\"aabbc\"))"
   ]
  },
  {
   "cell_type": "code",
   "execution_count": 2,
   "metadata": {},
   "outputs": [
    {
     "name": "stdout",
     "output_type": "stream",
     "text": [
      "Found a match!\n",
      "Found a match!\n"
     ]
    }
   ],
   "source": [
    "'''\n",
    "#5.Write a Python program that matches a string that has an a followed by three 'b'.\n",
    "'''\n",
    "import re\n",
    "def text_match(text):\n",
    "        patterns = 'ab{3}?'\n",
    "        if re.search(patterns,  text):\n",
    "                return 'Found a match!'\n",
    "        else:\n",
    "                return('Not matched!')\n",
    "\n",
    "print(text_match(\"abbb\"))\n",
    "print(text_match(\"aabbbbbc\"))"
   ]
  },
  {
   "cell_type": "code",
   "execution_count": 3,
   "metadata": {},
   "outputs": [
    {
     "name": "stdout",
     "output_type": "stream",
     "text": [
      "Not matched!\n",
      "Found a match!\n"
     ]
    }
   ],
   "source": [
    "'''\n",
    "#6.Write a Python program that matches a string that has an a followed by two to three 'b'.\n",
    "'''\n",
    "import re\n",
    "def text_match(text):\n",
    "        patterns = 'ab{2,3}?'\n",
    "        if re.search(patterns,  text):\n",
    "                return 'Found a match!'\n",
    "        else:\n",
    "                return('Not matched!')\n",
    "\n",
    "print(text_match(\"ab\"))\n",
    "print(text_match(\"aabbbbbc\"))"
   ]
  },
  {
   "cell_type": "code",
   "execution_count": null,
   "metadata": {},
   "outputs": [],
   "source": [
    "'''\n",
    "#7.Write a Python program to find sequences of lowercase letters joined with a underscore.\n",
    "'''\n",
    "import re\n",
    "def text_match(text):\n",
    "        patterns = '^[a-z]+_[a-z]+$'\n",
    "        if re.search(patterns,  text):\n",
    "                return 'Found a match!'\n",
    "        else:\n",
    "                return('Not matched!')\n",
    "\n",
    "print(text_match(\"aab_cbbbc\"))\n",
    "print(text_match(\"aab_Abbbc\"))\n",
    "print(text_match(\"Aaab_abbbc\"))\n"
   ]
  },
  {
   "cell_type": "code",
   "execution_count": null,
   "metadata": {},
   "outputs": [],
   "source": [
    "'''\n",
    "#8.Write a Python program to find sequences of one upper case letter followed by lower case letters.\n",
    "'''\n",
    "import re\n",
    "def text_match(text):\n",
    "        patterns = '^[a-z]+_[a-z]+$'\n",
    "        if re.search(patterns,  text):\n",
    "                return 'Found a match!'\n",
    "        else:\n",
    "                return('Not matched!')\n",
    "\n",
    "print(text_match(\"aab_cbbbc\"))\n",
    "print(text_match(\"aab_Abbbc\"))\n",
    "print(text_match(\"Aaab_abbbc\"))"
   ]
  },
  {
   "cell_type": "code",
   "execution_count": null,
   "metadata": {},
   "outputs": [],
   "source": [
    "'''\n",
    "#9.Write a Python program that matches a string that has an 'a' followed by anything, ending in 'b'.\n",
    "'''\n",
    "import re\n",
    "def text_match(text):\n",
    "        patterns = 'a.*?b$'\n",
    "        if re.search(patterns,  text):\n",
    "                return 'Found a match!'\n",
    "        else:\n",
    "                return('Not matched!')\n",
    "\n",
    "print(text_match(\"aabbbbd\"))\n",
    "print(text_match(\"aabAbbbc\"))\n",
    "print(text_match(\"accddbbjjjb\"))"
   ]
  },
  {
   "cell_type": "code",
   "execution_count": null,
   "metadata": {},
   "outputs": [],
   "source": [
    "'''\n",
    "#10.Write a Python program that matches a word at the beginning of a string.\n",
    "'''\n",
    "import re\n",
    "def text_match(text):\n",
    "        patterns = '^\\w+'\n",
    "        if re.search(patterns,  text):\n",
    "                return 'Found a match!'\n",
    "        else:\n",
    "                return('Not matched!')\n",
    "\n",
    "print(text_match(\"The quick brown fox jumps over the lazy dog.\"))\n",
    "print(text_match(\" The quick brown fox jumps over the lazy dog.\"))"
   ]
  },
  {
   "cell_type": "code",
   "execution_count": null,
   "metadata": {},
   "outputs": [],
   "source": [
    "'''\n",
    "#11.Write a Python program that matches a word at end of string, with optional punctuation.\n",
    "'''\n",
    "import re\n",
    "def text_match(text):\n",
    "        patterns = '\\w+\\S*$'\n",
    "        if re.search(patterns,  text):\n",
    "                return 'Found a match!'\n",
    "        else:\n",
    "                return('Not matched!')\n",
    "\n",
    "print(text_match(\"The quick brown fox jumps over the lazy dog.\"))\n",
    "print(text_match(\"The quick brown fox jumps over the lazy dog. \"))\n",
    "print(text_match(\"The quick brown fox jumps over the lazy dog \"))"
   ]
  },
  {
   "cell_type": "code",
   "execution_count": null,
   "metadata": {},
   "outputs": [],
   "source": [
    "'''\n",
    "#13.Write a Python program that matches a word containing 'z', not start or end of the word.\n",
    "'''\n",
    "import re\n",
    "def text_match(text):\n",
    "        patterns = '\\Bz\\B'\n",
    "        if re.search(patterns,  text):\n",
    "                return 'Found a match!'\n",
    "        else:\n",
    "                return('Not matched!')\n",
    "\n",
    "print(text_match(\"The quick brown fox jumps over the lazy dog.\"))\n",
    "print(text_match(\"Python Exercises.\"))\n"
   ]
  },
  {
   "cell_type": "code",
   "execution_count": null,
   "metadata": {},
   "outputs": [],
   "source": [
    "'''\n",
    "#14.Write a Python program to match a string that contains only upper and lowercase letters, numbers, and underscores\n",
    "'''\n",
    "import re\n",
    "def text_match(text):\n",
    "        patterns = '^[a-zA-Z0-9_]*$'\n",
    "        if re.search(patterns,  text):\n",
    "                return 'Found a match!'\n",
    "        else:\n",
    "                return('Not matched!')\n",
    "\n",
    "print(text_match(\"The quick brown fox jumps over the lazy dog.\"))\n",
    "print(text_match(\"Python_Exercises_1\"))"
   ]
  },
  {
   "cell_type": "code",
   "execution_count": null,
   "metadata": {},
   "outputs": [],
   "source": [
    "'''\n",
    "#15.Write a Python program where a string will start with a specific number.\n",
    "'''\n",
    "import re\n",
    "def match_num(string):\n",
    "    text = re.compile(r\"^5\")\n",
    "    if text.match(string):\n",
    "        return True\n",
    "    else:\n",
    "        return False\n",
    "print(match_num('5-2345861'))\n",
    "print(match_num('6-2345861'))\n"
   ]
  },
  {
   "cell_type": "code",
   "execution_count": null,
   "metadata": {},
   "outputs": [],
   "source": [
    "'''\n",
    "#16.Write a Python program to remove leading zeros from an IP address.\n",
    "'''\n",
    "import re\n",
    "ip = \"216.08.094.196\"\n",
    "string = re.sub('\\.[0]*', '.', ip)\n",
    "print(string)"
   ]
  },
  {
   "cell_type": "code",
   "execution_count": null,
   "metadata": {},
   "outputs": [],
   "source": [
    "'''\n",
    "#17.Write a Python program to check for a number at the end of a string.\n",
    "'''\n",
    "import re\n",
    "def end_num(string):\n",
    "    text = re.compile(r\".*[0-9]$\")\n",
    "    if text.match(string):\n",
    "        return True\n",
    "    else:\n",
    "        return False\n",
    "\n",
    "print(end_num('abcdef'))\n",
    "print(end_num('abcdef6'))"
   ]
  },
  {
   "cell_type": "code",
   "execution_count": null,
   "metadata": {},
   "outputs": [],
   "source": [
    "'''\n",
    "#18.Write Python program to search the numbers (0-9) of length between 1 to 3 in a given string.\n",
    "'''\n",
    "import re\n",
    "results = re.finditer(r\"([0-9]{1,3})\", \"Exercises number 1, 12, 13, and 345 are important\")\n",
    "print(\"Number of length 1 to 3\")\n",
    "for n in results:\n",
    "     print(n.group(0))"
   ]
  },
  {
   "cell_type": "code",
   "execution_count": null,
   "metadata": {},
   "outputs": [],
   "source": [
    "'''\n",
    "#19.Write a Python program to search some literals strings in a string.\n",
    "'''\n",
    "import re\n",
    "patterns = [ 'fox', 'dog', 'horse' ]\n",
    "text = 'The quick brown fox jumps over the lazy dog.'\n",
    "for pattern in patterns:\n",
    "    print('Searching for \"%s\" in \"%s\" ->' % (pattern, text),)\n",
    "    if re.search(pattern,  text):\n",
    "        print('Matched!')\n",
    "    else:\n",
    "        print('Not Matched!')"
   ]
  },
  {
   "cell_type": "code",
   "execution_count": null,
   "metadata": {},
   "outputs": [],
   "source": [
    "'''\n",
    "#20.Write a Python program to find the substrings within a string.\n",
    "\n",
    "Note: There are two instances of exercises in the input string.\n",
    "'''\n",
    "import re\n",
    "text = 'Python exercises, PHP exercises, C# exercises'\n",
    "pattern = 'exercises'\n",
    "for match in re.findall(pattern, text):\n",
    "    print('Found \"%s\"' % match)"
   ]
  },
  {
   "cell_type": "code",
   "execution_count": null,
   "metadata": {},
   "outputs": [],
   "source": [
    "'''\n",
    "#21.Write a Python program to find the substrings within a string.\n",
    "\n",
    "Note: There are two instances of exercises in the input string.\n",
    "'''\n",
    "import re\n",
    "text = 'Python exercises, PHP exercises, C# exercises'\n",
    "pattern = 'exercises'\n",
    "for match in re.findall(pattern, text):\n",
    "    print('Found \"%s\"' % match)"
   ]
  },
  {
   "cell_type": "code",
   "execution_count": null,
   "metadata": {},
   "outputs": [],
   "source": [
    "'''\n",
    "#22.Write a Python program to find the occurrence and position of the substrings within a string.\n",
    "'''\n",
    "import re\n",
    "text = 'Python exercises, PHP exercises, C# exercises'\n",
    "pattern = 'exercises'\n",
    "for match in re.finditer(pattern, text):\n",
    "    s = match.start()\n",
    "    e = match.end()\n",
    "    print('Found \"%s\" at %d:%d' % (text[s:e], s, e))"
   ]
  },
  {
   "cell_type": "code",
   "execution_count": null,
   "metadata": {},
   "outputs": [],
   "source": [
    "'''\n",
    "#23.Write a Python program to replace whitespaces with an underscore and vice versa.\n",
    "'''\n",
    "import re\n",
    "text = 'Python Exercises'\n",
    "text =text.replace (\" \", \"_\")\n",
    "print(text)\n",
    "text =text.replace (\"_\", \" \")\n",
    "print(text)"
   ]
  },
  {
   "cell_type": "code",
   "execution_count": null,
   "metadata": {},
   "outputs": [],
   "source": [
    "'''\n",
    "#24.Write a Python program to replace whitespaces with an underscore and vice versa.\n",
    "'''\n",
    "import re\n",
    "text = 'Python Exercises'\n",
    "text =text.replace (\" \", \"_\")\n",
    "print(text)\n",
    "text =text.replace (\"_\", \" \")\n",
    "print(text)"
   ]
  },
  {
   "cell_type": "code",
   "execution_count": null,
   "metadata": {},
   "outputs": [],
   "source": [
    "'''\n",
    "#25.Write a Python program to convert a date of yyyy-mm-dd format to dd-mm-yyyy format.\n",
    "'''\n",
    "import re\n",
    "def change_date_format(dt):\n",
    "        return re.sub(r'(\\d{4})-(\\d{1,2})-(\\d{1,2})', '\\\\3-\\\\2-\\\\1', dt)\n",
    "dt1 = \"2026-01-02\"\n",
    "print(\"Original date in YYY-MM-DD Format: \",dt1)\n",
    "print(\"New date in DD-MM-YYYY Format: \",change_date_format(dt1))"
   ]
  },
  {
   "cell_type": "code",
   "execution_count": null,
   "metadata": {},
   "outputs": [],
   "source": [
    "'''\n",
    "#26.Write a Python program to match if two words from a list of words starting with letter 'P'.\n",
    "'''\n",
    "import re\n",
    "\n",
    "# Sample strings.\n",
    "words = [\"Python PHP\", \"Java JavaScript\", \"c c++\"]\n",
    "\n",
    "for w in words:\n",
    "        m = re.match(\"(P\\w+)\\W(P\\w+)\", w)\n",
    "        # Check for success\n",
    "        if m:\n",
    "            print(m.groups())"
   ]
  },
  {
   "cell_type": "code",
   "execution_count": null,
   "metadata": {},
   "outputs": [],
   "source": [
    "'''\n",
    "#27.Write a Python program to separate and print the numbers of a given string.\n",
    "'''\n",
    "import re\n",
    "# Sample string.\n",
    "text = \"Ten 10, Twenty 20, Thirty 30\"\n",
    "result = re.split(\"\\D+\", text)\n",
    "# Print results.\n",
    "for element in result:\n",
    "    print(element)"
   ]
  },
  {
   "cell_type": "code",
   "execution_count": null,
   "metadata": {},
   "outputs": [],
   "source": [
    "'''\n",
    "#28.Write a Python program to find all words starting with 'a' or 'e' in a given string.\n",
    "'''\n",
    "import re\n",
    "# Input.\n",
    "text = \"The following example creates an ArrayList with a capacity of 50 elements. Four elements are then added to the ArrayList and the ArrayList is trimmed accordingly.\"\n",
    "#find all the words starting with 'a' or 'e'\n",
    "list = re.findall(\"[ae]\\w+\", text)\n",
    "# Print result.\n",
    "print(list)"
   ]
  },
  {
   "cell_type": "code",
   "execution_count": null,
   "metadata": {},
   "outputs": [],
   "source": [
    "'''\n",
    "#29.Write a Python program to separate and print the numbers and their position of a given string.\n",
    "'''\n",
    "import re\n",
    "# Input.\n",
    "text = \"The following example creates an ArrayList with a capacity of 50 elements. Four elements are then added to the ArrayList and the ArrayList is trimmed accordingly.\"\n",
    "\n",
    "for m in re.finditer(\"\\d+\", text):\n",
    "    print(m.group(0))\n",
    "    print(\"Index position:\", m.start())"
   ]
  },
  {
   "cell_type": "code",
   "execution_count": null,
   "metadata": {},
   "outputs": [],
   "source": [
    "'''\n",
    "#30.Write a Python program to abbreviate 'Road' as 'Rd.' in a given string.\n",
    "'''\n",
    "import re\n",
    "street = '21 Ramkrishna Road'\n",
    "print(re.sub('Road$', 'Rd.', street))"
   ]
  },
  {
   "cell_type": "code",
   "execution_count": null,
   "metadata": {},
   "outputs": [],
   "source": [
    "'''\n",
    "#31.Write a Python program to replace all occurrences of space, comma, or dot with a colon.\n",
    "'''\n",
    "import re\n",
    "text = 'Python Exercises, PHP exercises.'\n",
    "print(re.sub(\"[ ,.]\", \":\", text))"
   ]
  },
  {
   "cell_type": "code",
   "execution_count": null,
   "metadata": {},
   "outputs": [],
   "source": [
    "'''\n",
    "#32.Write a Python program to replace maximum 2 occurrences of space, comma, or dot with a colon.\n",
    "'''\n",
    "import re\n",
    "text = 'Python Exercises, PHP exercises.'\n",
    "print(re.sub(\"[ ,.]\", \":\", text, 2))"
   ]
  },
  {
   "cell_type": "code",
   "execution_count": null,
   "metadata": {},
   "outputs": [],
   "source": [
    "'''\n",
    "#33.Write a Python program to find all five characters long word in a string.\n",
    "'''\n",
    "import re\n",
    "text = 'The quick brown fox jumps over the lazy dog.'\n",
    "print(re.findall(r\"\\b\\w{5}\\b\", text))"
   ]
  },
  {
   "cell_type": "code",
   "execution_count": null,
   "metadata": {},
   "outputs": [],
   "source": [
    "'''\n",
    "#34.Write a Python program to find all three, four, five characters long words in a string.\n",
    "'''\n",
    "import re\n",
    "text = 'The quick brown fox jumps over the lazy dog.'\n",
    "print(re.findall(r\"\\b\\w{3,5}\\b\", text))"
   ]
  },
  {
   "cell_type": "code",
   "execution_count": null,
   "metadata": {},
   "outputs": [],
   "source": [
    "'''\n",
    "#35.Write a Python program to find all words which are at least 4 characters long in a string.\n",
    "'''\n",
    "import re\n",
    "text = 'The quick brown fox jumps over the lazy dog.'\n",
    "print(re.findall(r\"\\b\\w{4,}\\b\", text))"
   ]
  },
  {
   "cell_type": "code",
   "execution_count": null,
   "metadata": {},
   "outputs": [],
   "source": [
    "'''\n",
    "#36.Write a python program to convert camel case string to snake case string.\n",
    "'''\n",
    "def camel_to_snake(text):\n",
    "        import re\n",
    "        str1 = re.sub('(.)([A-Z][a-z]+)', r'\\1_\\2', text)\n",
    "        return re.sub('([a-z0-9])([A-Z])', r'\\1_\\2', str1).lower()\n",
    "\n",
    "print(camel_to_snake('PythonExercises'))"
   ]
  },
  {
   "cell_type": "code",
   "execution_count": null,
   "metadata": {},
   "outputs": [],
   "source": [
    "'''\n",
    "#37.Write a python program to convert snake case string to camel case string.\n",
    "'''\n",
    "def snake_to_camel(word):\n",
    "        import re\n",
    "        return ''.join(x.capitalize() or '_' for x in word.split('_'))\n",
    "\n",
    "print(snake_to_camel('python_exercises'))"
   ]
  },
  {
   "cell_type": "code",
   "execution_count": null,
   "metadata": {},
   "outputs": [],
   "source": [
    "'''\n",
    "#38.Write a Python program to extract values between quotation marks of a string.\n",
    "'''\n",
    "import re\n",
    "text1 = '\"Python\", \"PHP\", \"Java\"'\n",
    "print(re.findall(r'\"(.*?)\"', text1))"
   ]
  },
  {
   "cell_type": "code",
   "execution_count": null,
   "metadata": {},
   "outputs": [],
   "source": [
    "'''\n",
    "#39.Write a Python program to remove multiple spaces in a string.\n",
    "'''\n",
    "import re\n",
    "text1 = 'Python      Exercises'\n",
    "print(\"Original string:\",text1)\n",
    "print(\"Without extra spaces:\",re.sub(' +',' ',text1))"
   ]
  },
  {
   "cell_type": "code",
   "execution_count": null,
   "metadata": {},
   "outputs": [],
   "source": [
    "'''\n",
    "#40.Write a Python program to remove all whitespaces from a string.\n",
    "'''\n",
    "import re\n",
    "text1 = ' Python    Exercises '\n",
    "print(\"Original string:\",text1)\n",
    "print(\"Without extra spaces:\",re.sub(r'\\s+', '',text1))"
   ]
  },
  {
   "cell_type": "code",
   "execution_count": null,
   "metadata": {},
   "outputs": [],
   "source": [
    "'''\n",
    "#41.Write a Python program to remove everything except alphanumeric characters from a string.\n",
    "'''\n",
    "import re\n",
    "text1 = '**//Python Exercises// - 12. '\n",
    "pattern = re.compile('[\\W_]+')\n",
    "print(pattern.sub('', text1))"
   ]
  },
  {
   "cell_type": "code",
   "execution_count": null,
   "metadata": {},
   "outputs": [],
   "source": [
    "'''\n",
    "#42.Write a Python program to find urls in a string.\n",
    "'''\n",
    "import re\n",
    "text = '<p>Contents :</p><a href=\"https://w3resource.com\">Python Examples</a><a href=\"http://github.com\">Even More Examples</a>'\n",
    "urls = re.findall('http[s]?://(?:[a-zA-Z]|[0-9]|[$-_@.&+]|[!*\\(\\),]|(?:%[0-9a-fA-F][0-9a-fA-F]))+', text)\n",
    "print(\"Original string: \",text)\n",
    "print(\"Urls: \",urls)"
   ]
  },
  {
   "cell_type": "code",
   "execution_count": null,
   "metadata": {},
   "outputs": [],
   "source": [
    "'''\n",
    "#43.Write a Python program to split a string at uppercase letters.\n",
    "'''\n",
    "import re\n",
    "text = \"PythonTutorialAndExercises\"\n",
    "print(re.findall('[A-Z][^A-Z]*', text))\n"
   ]
  },
  {
   "cell_type": "code",
   "execution_count": null,
   "metadata": {},
   "outputs": [],
   "source": [
    "'''\n",
    "#44.Write a Python program to do a case-insensitive string replacement.\n",
    "'''\n",
    "import re\n",
    "text = \"PHP Exercises\"\n",
    "print(\"Original Text: \",text)\n",
    "redata = re.compile(re.escape('php'), re.IGNORECASE)\n",
    "new_text = redata.sub('Python', 'PHP Exercises')\n",
    "print(\"Using 'php' replace PHP\") \n",
    "print(\"New Text: \",new_text)"
   ]
  },
  {
   "cell_type": "code",
   "execution_count": null,
   "metadata": {},
   "outputs": [],
   "source": [
    "'''\n",
    "#45.Write a Python program to remove the ANSI escape sequences from a string.\n",
    "'''\n",
    "import re\n",
    "text = \"\\t\\u001b[0;35mgoogle.com\\u001b[0m \\u001b[0;36m216.58.218.206\\u001b[0m\"\n",
    "print(\"Original Text: \",text)\n",
    "reaesc = re.compile(r'\\x1b[^m]*m')\n",
    "new_text = reaesc.sub('', text)\n",
    "print(\"New Text: \",new_text)"
   ]
  },
  {
   "cell_type": "code",
   "execution_count": null,
   "metadata": {},
   "outputs": [],
   "source": [
    "'''\n",
    "#46.Write a Python program to find all adverbs and their positions in a given sentence.\n",
    "'''\n",
    "import re\n",
    "text = \"Clearly, he has no excuse for such behavior.\"\n",
    "for m in re.finditer(r\"\\w+ly\", text):\n",
    "    print('%d-%d: %s' % (m.start(), m.end(), m.group(0)))"
   ]
  },
  {
   "cell_type": "code",
   "execution_count": null,
   "metadata": {},
   "outputs": [],
   "source": [
    "'''\n",
    "#47.Write a Python program to split a string with multiple delimiters.\n",
    "\n",
    "Note : A delimiter is a sequence of one or more characters used to specify the boundary between separate, independent regions in plain text or other data streams. An example of a delimiter is the comma character, which acts as a field delimiter in a sequence of comma-separated values.\n",
    "'''\n",
    "import re\n",
    "text = 'The quick brown\\nfox jumps*over the lazy dog.'\n",
    "print(re.split('; |, |\\*|\\n',text))\n"
   ]
  },
  {
   "cell_type": "code",
   "execution_count": null,
   "metadata": {},
   "outputs": [],
   "source": [
    "'''\n",
    "#48.Write a Python program to check a decimal with a precision of 2.\n",
    "'''\n",
    "def is_decimal(num):\n",
    "    import re\n",
    "    dnumre = re.compile(r\"\"\"^[0-9]+(\\.[0-9]{1,2})?$\"\"\")\n",
    "    result = dnumre.search(num)\n",
    "    return bool(result)\n",
    "\n",
    "print(is_decimal('123.11'))\n",
    "print(is_decimal('123.1'))\n",
    "print(is_decimal('123'))\n",
    "print(is_decimal('0.21'))\n",
    "\n",
    "print(is_decimal('123.1214'))\n",
    "print(is_decimal('3.124587'))\n",
    "print(is_decimal('e666.86'))"
   ]
  },
  {
   "cell_type": "code",
   "execution_count": null,
   "metadata": {},
   "outputs": [],
   "source": [
    "'''\n",
    "#49.Write a Python program to remove words from a string of length between 1 and a given number.\n",
    "'''\n",
    "import re\n",
    "text = \"The quick brown fox jumps over the lazy dog.\"\n",
    "# remove words between 1 and 3\n",
    "shortword = re.compile(r'\\W*\\b\\w{1,3}\\b')\n",
    "print(shortword.sub('', text))"
   ]
  },
  {
   "cell_type": "code",
   "execution_count": 4,
   "metadata": {},
   "outputs": [
    {
     "name": "stdout",
     "output_type": "stream",
     "text": [
      "example\n",
      "w3resource\n",
      "github\n",
      "stackoverflow\n"
     ]
    }
   ],
   "source": [
    "'''\n",
    "#50.Write a Python program to remove the parenthesis area in a string.\n",
    "'''\n",
    "import re\n",
    "items = [\"example (.com)\", \"w3resource\", \"github (.com)\", \"stackoverflow (.com)\"]\n",
    "for item in items:\n",
    "    print(re.sub(r\" ?\\([^)]+\\)\", \"\", item))"
   ]
  },
  {
   "cell_type": "code",
   "execution_count": null,
   "metadata": {},
   "outputs": [],
   "source": []
  }
 ],
 "metadata": {
  "kernelspec": {
   "display_name": "Python 3",
   "language": "python",
   "name": "python3"
  },
  "language_info": {
   "codemirror_mode": {
    "name": "ipython",
    "version": 3
   },
   "file_extension": ".py",
   "mimetype": "text/x-python",
   "name": "python",
   "nbconvert_exporter": "python",
   "pygments_lexer": "ipython3",
   "version": "3.6.5"
  }
 },
 "nbformat": 4,
 "nbformat_minor": 2
}
