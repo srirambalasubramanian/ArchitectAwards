{
 "cells": [
  {
   "cell_type": "markdown",
   "metadata": {},
   "source": [
    "Tuple"
   ]
  },
  {
   "cell_type": "code",
   "execution_count": null,
   "metadata": {},
   "outputs": [],
   "source": [
    "'''\n",
    "#1.Write a Python program to create a tuple.\n",
    "'''\n",
    "#Create an empty tuple \n",
    "x = ()\n",
    "print(x)\n",
    "#Create an empty tuple with tuple() function built-in Python\n",
    "tuplex = tuple()\n",
    "print(tuplex)"
   ]
  },
  {
   "cell_type": "code",
   "execution_count": null,
   "metadata": {},
   "outputs": [],
   "source": [
    "'''\n",
    "#2.Write a Python program to create a tuple with different data types.\n",
    "'''\n",
    "#Create a tuple with different data types\n",
    "tuplex = (\"tuple\", False, 3.2, 1)\n",
    "print(tuplex)"
   ]
  },
  {
   "cell_type": "code",
   "execution_count": null,
   "metadata": {},
   "outputs": [],
   "source": [
    "'''\n",
    "#3.Write a Python program to create a tuple with numbers and print one item.\n",
    "'''\n",
    "#Create a tuple with numbers\n",
    "tuplex = 5, 10, 15, 20, 25\n",
    "print(tuplex)\n",
    "#Create a tuple of one item\n",
    "tuplex = 5,\n",
    "print(tuplex)"
   ]
  },
  {
   "cell_type": "code",
   "execution_count": null,
   "metadata": {},
   "outputs": [],
   "source": [
    "'''\n",
    "#4.Write a Python program to unpack a tuple in several variables.\n",
    "'''\n",
    "#create a tuple\n",
    "tuplex = 4, 8, 3 \n",
    "print(tuplex)\n",
    "n1, n2, n3 = tuplex\n",
    "#unpack a tuple in variables\n",
    "print(n1 + n2 + n3) \n",
    "#the number of variables must be equal to the number of items of the tuple\n",
    "n1, n2, n3, n4= tuplex "
   ]
  },
  {
   "cell_type": "code",
   "execution_count": null,
   "metadata": {},
   "outputs": [],
   "source": [
    "'''\n",
    "#5.Write a Python program to add an item in a tuple.\n",
    "'''\n",
    "#create a tuple\n",
    "tuplex = (4, 6, 2, 8, 3, 1) \n",
    "print(tuplex)\n",
    "#tuples are immutable, so you can not add new elements\n",
    "#using merge of tuples with the + operator you can add an element and it will create a new tuple\n",
    "tuplex = tuplex + (9,)\n",
    "print(tuplex)\n",
    "#adding items in a specific index\n",
    "tuplex = tuplex[:5] + (15, 20, 25) + tuplex[:5]\n",
    "print(tuplex)\n",
    "#converting the tuple to list\n",
    "listx = list(tuplex) \n",
    "#use different ways to add items in list\n",
    "listx.append(30)\n",
    "tuplex = tuple(listx)\n",
    "print(tuplex)"
   ]
  },
  {
   "cell_type": "code",
   "execution_count": null,
   "metadata": {},
   "outputs": [],
   "source": [
    "'''\n",
    "#6.Write a Python program to convert a tuple to a string.\n",
    "'''\n",
    "tup = ('e', 'x', 'e', 'r', 'c', 'i', 's', 'e', 's')\n",
    "str =  ''.join(tup)\n",
    "print(str)"
   ]
  },
  {
   "cell_type": "code",
   "execution_count": null,
   "metadata": {},
   "outputs": [],
   "source": [
    "'''\n",
    "#7.Write a Python program to get the 4th element and 4th element from last of a tuple.\n",
    "'''\n",
    "#Get an item of the tuple\n",
    "tuplex = (\"w\", 3, \"r\", \"e\", \"s\", \"o\", \"u\", \"r\", \"c\", \"e\")\n",
    "print(tuplex)\n",
    "#Get item (4th element)of the tuple by index\n",
    "item = tuplex[3]\n",
    "print(item)\n",
    "#Get item (4th element from last)by index negative\n",
    "item1 = tuplex[-4]\n",
    "print(item1)"
   ]
  },
  {
   "cell_type": "code",
   "execution_count": null,
   "metadata": {},
   "outputs": [],
   "source": [
    "'''\n",
    "#8.Write a Python program to create the colon of a tuple.\n",
    "'''\n",
    "from copy import deepcopy\n",
    "#create a tuple\n",
    "tuplex = (\"HELLO\", 5, [], True) \n",
    "print(tuplex)\n",
    "#make a copy of a tuple using deepcopy() function\n",
    "tuplex_clone = deepcopy(tuplex)\n",
    "tuplex_clone[2].append(50)\n",
    "print(tuplex_clone)\n",
    "print(tuplex)"
   ]
  },
  {
   "cell_type": "code",
   "execution_count": null,
   "metadata": {},
   "outputs": [],
   "source": [
    "'''\n",
    "#9.Write a Python program to find the repeated items of a tuple.\n",
    "'''\n",
    "#create a tuple\n",
    "tuplex = 2, 4, 5, 6, 2, 3, 4, 4, 7 \n",
    "print(tuplex)\n",
    "#return the number of times it appears in the tuple.\n",
    "count = tuplex.count(4)\n",
    "print(count)"
   ]
  },
  {
   "cell_type": "code",
   "execution_count": null,
   "metadata": {},
   "outputs": [],
   "source": [
    "'''\n",
    "#10.Write a Python program to check whether an element exists within a tuple.\n",
    "'''\n",
    "tuplex = (\"w\", 3, \"r\", \"e\", \"s\", \"o\", \"u\", \"r\", \"c\", \"e\")\n",
    "print(\"r\" in tuplex)\n",
    "print(5 in tuplex)\n"
   ]
  },
  {
   "cell_type": "code",
   "execution_count": null,
   "metadata": {},
   "outputs": [],
   "source": [
    "'''\n",
    "#11.Write a Python program to convert a list to a tuple.\n",
    "'''\n",
    "#Convert list to tuple\n",
    "listx = [5, 10, 7, 4, 15, 3]\n",
    "print(listx)\n",
    "#use the tuple() function built-in Python, passing as parameter the list\n",
    "tuplex = tuple(listx)\n",
    "print(tuplex)"
   ]
  },
  {
   "cell_type": "code",
   "execution_count": null,
   "metadata": {},
   "outputs": [],
   "source": [
    "'''\n",
    "#12.Write a Python program to remove an item from a tuple.\n",
    "'''\n",
    "#create a tuple\n",
    "tuplex = \"w\", 3, \"r\", \"s\", \"o\", \"u\", \"r\", \"c\", \"e\"\n",
    "print(tuplex)\n",
    "#tuples are immutable, so you can not remove elements\n",
    "#using merge of tuples with the + operator you can remove an item and it will create a new tuple\n",
    "tuplex = tuplex[:2] + tuplex[3:]\n",
    "print(tuplex)\n",
    "#converting the tuple to list\n",
    "listx = list(tuplex) \n",
    "#use different ways to remove an item of the list\n",
    "listx.remove(\"c\") \n",
    "#converting the tuple to list\n",
    "tuplex = tuple(listx)\n",
    "print(tuplex)"
   ]
  },
  {
   "cell_type": "code",
   "execution_count": null,
   "metadata": {},
   "outputs": [],
   "source": [
    "'''\n",
    "#13.Write a Python program to slice a tuple.\n",
    "'''\n",
    "#create a tuple\n",
    "tuplex = (2, 4, 3, 5, 4, 6, 7, 8, 6, 1)\n",
    "#used tuple[start:stop] the start index is inclusive and the stop index\n",
    "slice = tuplex[3:5]\n",
    "#is exclusive\n",
    "print(_slice)\n",
    "#if the start index isn't defined, is taken from the beg inning of the tuple\n",
    "_slice = tuplex[:6]\n",
    "print(_slice)\n",
    "#if the end index isn't defined, is taken until the end of the tuple\n",
    "_slice = tuplex[5:]\n",
    "print(_slice)\n",
    "#if neither is defined, returns the full tuple\n",
    "_slice = tuplex[:]\n",
    "print(_slice)\n",
    "#The indexes can be defined with negative values\n",
    "_slice = tuplex[-8:-4]\n",
    "print(_slice)\n",
    "#create another tuple\n",
    "tuplex = tuple(\"HELLO WORLD\")\n",
    "print(tuplex)\n",
    "#step specify an increment between the elements to cut of the tuple\n",
    "#tuple[start:stop:step]\n",
    "_slice = tuplex[2:9:2]\n",
    "print(_slice)\n",
    "#returns a tuple with a jump every 3 items\n",
    "_slice = tuplex[::4]\n",
    "print(_slice)\n",
    "#when step is negative the jump is made back\n",
    " _slice = tuplex[9:2:-4]\n",
    "print(_slice)"
   ]
  },
  {
   "cell_type": "code",
   "execution_count": null,
   "metadata": {},
   "outputs": [],
   "source": [
    "'''\n",
    "#14.Write a Python program to find the index of an item of a tuple.\n",
    "'''\n",
    "#create a tuple\n",
    "tuplex = tuple(\"index tuple\")\n",
    "print(tuplex)\n",
    "#get index of the first item whose value is passed as parameter\n",
    "index = tuplex.index(\"p\")\n",
    "print(index)\n",
    "#define the index from which you want to search\n",
    "index = tuplex.index(\"p\", 5)\n",
    "print(index)\n",
    "#define the segment of the tuple to be searched\n",
    "index = tuplex.index(\"e\", 3, 6)\n",
    "print(index)\n",
    "#if item not exists in the tuple return ValueError Exception\n",
    "index = tuplex.index(\"y\")"
   ]
  },
  {
   "cell_type": "code",
   "execution_count": null,
   "metadata": {},
   "outputs": [],
   "source": [
    "'''\n",
    "#15.Write a Python program to find the length of a tuple.\n",
    "'''\n",
    "#create a tuple\n",
    "tuplex = tuple(\"w3resource\")\n",
    "print(tuplex)\n",
    "#use the len() function to known the length of tuple\n",
    "print(len(tuplex))"
   ]
  },
  {
   "cell_type": "code",
   "execution_count": null,
   "metadata": {},
   "outputs": [],
   "source": [
    "'''\n",
    "#16.Write a Python program to convert a tuple to a dictionary.\n",
    "'''\n",
    "#create a tuple\n",
    "tuplex = ((2, \"w\"),(3, \"r\"))\n",
    "print(dict((y, x) for x, y in tuplex))"
   ]
  },
  {
   "cell_type": "code",
   "execution_count": null,
   "metadata": {},
   "outputs": [],
   "source": [
    "'''\n",
    "#17.Write a Python program to unzip a list of tuples into individual lists.\n",
    "'''\n",
    "#create a tuple\n",
    "l = [(1,2), (3,4), (8,9)]\n",
    "printlist((zip(*l)))"
   ]
  },
  {
   "cell_type": "code",
   "execution_count": null,
   "metadata": {},
   "outputs": [],
   "source": [
    "'''\n",
    "#18.Write a Python program to reverse a tuple.\n",
    "'''\n",
    "#create a tuple\n",
    "x = (\"w3resource\")\n",
    "# Reversed the tuple\n",
    "y = reversed(x)\n",
    "print(tuple(y))\n",
    "#create another tuple\n",
    "x = (5, 10, 15, 20)\n",
    "# Reversed the tuple\n",
    "y = reversed(x)\n",
    "print(tuple(y))"
   ]
  },
  {
   "cell_type": "code",
   "execution_count": null,
   "metadata": {},
   "outputs": [],
   "source": [
    "'''\n",
    "#19.Write a Python program to convert a list of tuples into a dictionary.\n",
    "'''\n",
    "#create a list\n",
    "l = [(\"x\", 1), (\"x\", 2), (\"x\", 3), (\"y\", 1), (\"y\", 2), (\"z\", 1)]\n",
    "d = {}\n",
    "for a, b in l:\n",
    "    d.setdefault(a, []).append(b)\n",
    "print (d)"
   ]
  },
  {
   "cell_type": "code",
   "execution_count": null,
   "metadata": {},
   "outputs": [],
   "source": [
    "'''\n",
    "#20.Write a Python program to print a tuple with string formatting.\n",
    "'''\n",
    "t = (100, 200, 300)\n",
    "print('This is a tuple {0}'.format(t))"
   ]
  },
  {
   "cell_type": "code",
   "execution_count": null,
   "metadata": {},
   "outputs": [],
   "source": [
    "'''\n",
    "#21.Write a Python program to replace last value of tuples in a list.\n",
    "'''\n",
    "l = [(10, 20, 40), (40, 50, 60), (70, 80, 90)]\n",
    "print([t[:-1] + (100,) for t in l])"
   ]
  },
  {
   "cell_type": "code",
   "execution_count": null,
   "metadata": {},
   "outputs": [],
   "source": [
    "'''\n",
    "#22.Write a Python program to remove an empty tuple(s) from a list of tuples.\n",
    "'''\n",
    "L = [(), (), ('',), ('a', 'b'), ('a', 'b', 'c'), ('d')]\n",
    "L = [t for t in L if t]\n",
    "print(L)"
   ]
  },
  {
   "cell_type": "code",
   "execution_count": null,
   "metadata": {},
   "outputs": [],
   "source": [
    "'''\n",
    "#23.Write a Python program to sort a tuple by its float element.\n",
    "'''\n",
    "price = [('item1', '12.20'), ('item2', '15.10'), ('item3', '24.5')]\n",
    "print( sorted(price, key=lambda x: float(x[1]), reverse=True))\n"
   ]
  },
  {
   "cell_type": "code",
   "execution_count": null,
   "metadata": {},
   "outputs": [],
   "source": [
    "'''\n",
    "#24.Write a Python program to count the elements in a list until an element is a tuple.\n",
    "'''\n",
    "num = [10,20,30,(10,20),40]\n",
    "ctr = 0\n",
    "for n in num:\n",
    "    if isinstance(n, tuple):\n",
    "        break\n",
    "    ctr += 1\n",
    "print(ctr)"
   ]
  },
  {
   "cell_type": "code",
   "execution_count": null,
   "metadata": {},
   "outputs": [],
   "source": [
    "'''\n",
    "#25.\n",
    "'''"
   ]
  },
  {
   "cell_type": "code",
   "execution_count": null,
   "metadata": {},
   "outputs": [],
   "source": [
    "'''\n",
    "#26.\n",
    "'''"
   ]
  },
  {
   "cell_type": "code",
   "execution_count": null,
   "metadata": {},
   "outputs": [],
   "source": [
    "'''\n",
    "#27.\n",
    "'''"
   ]
  },
  {
   "cell_type": "code",
   "execution_count": null,
   "metadata": {},
   "outputs": [],
   "source": [
    "'''\n",
    "#28.\n",
    "'''"
   ]
  },
  {
   "cell_type": "code",
   "execution_count": null,
   "metadata": {},
   "outputs": [],
   "source": [
    "'''\n",
    "#29.\n",
    "'''"
   ]
  },
  {
   "cell_type": "code",
   "execution_count": null,
   "metadata": {},
   "outputs": [],
   "source": [
    "'''\n",
    "#30.\n",
    "'''"
   ]
  },
  {
   "cell_type": "code",
   "execution_count": null,
   "metadata": {},
   "outputs": [],
   "source": [
    "'''\n",
    "#31.\n",
    "'''"
   ]
  },
  {
   "cell_type": "code",
   "execution_count": null,
   "metadata": {},
   "outputs": [],
   "source": [
    "'''\n",
    "#32.\n",
    "'''"
   ]
  },
  {
   "cell_type": "code",
   "execution_count": null,
   "metadata": {},
   "outputs": [],
   "source": [
    "'''\n",
    "#33.\n",
    "'''"
   ]
  },
  {
   "cell_type": "code",
   "execution_count": null,
   "metadata": {},
   "outputs": [],
   "source": [
    "'''\n",
    "#34.\n",
    "'''"
   ]
  },
  {
   "cell_type": "code",
   "execution_count": null,
   "metadata": {},
   "outputs": [],
   "source": [
    "'''\n",
    "#35.\n",
    "'''"
   ]
  },
  {
   "cell_type": "code",
   "execution_count": null,
   "metadata": {},
   "outputs": [],
   "source": [
    "'''\n",
    "#36.\n",
    "'''"
   ]
  },
  {
   "cell_type": "code",
   "execution_count": null,
   "metadata": {},
   "outputs": [],
   "source": [
    "'''\n",
    "#37.\n",
    "'''"
   ]
  },
  {
   "cell_type": "code",
   "execution_count": null,
   "metadata": {},
   "outputs": [],
   "source": [
    "'''\n",
    "#38.\n",
    "'''"
   ]
  },
  {
   "cell_type": "code",
   "execution_count": null,
   "metadata": {},
   "outputs": [],
   "source": [
    "'''\n",
    "#39.\n",
    "'''"
   ]
  },
  {
   "cell_type": "code",
   "execution_count": null,
   "metadata": {},
   "outputs": [],
   "source": [
    "'''\n",
    "#40.\n",
    "'''"
   ]
  },
  {
   "cell_type": "code",
   "execution_count": null,
   "metadata": {},
   "outputs": [],
   "source": [
    "'''\n",
    "#41.\n",
    "'''"
   ]
  },
  {
   "cell_type": "code",
   "execution_count": null,
   "metadata": {},
   "outputs": [],
   "source": [
    "'''\n",
    "#42.\n",
    "'''"
   ]
  },
  {
   "cell_type": "code",
   "execution_count": null,
   "metadata": {},
   "outputs": [],
   "source": [
    "'''\n",
    "#43.\n",
    "'''"
   ]
  },
  {
   "cell_type": "code",
   "execution_count": null,
   "metadata": {},
   "outputs": [],
   "source": [
    "'''\n",
    "#44.\n",
    "'''"
   ]
  },
  {
   "cell_type": "code",
   "execution_count": null,
   "metadata": {},
   "outputs": [],
   "source": [
    "'''\n",
    "#45.\n",
    "'''"
   ]
  },
  {
   "cell_type": "code",
   "execution_count": null,
   "metadata": {},
   "outputs": [],
   "source": [
    "'''\n",
    "#46.\n",
    "'''"
   ]
  },
  {
   "cell_type": "code",
   "execution_count": null,
   "metadata": {},
   "outputs": [],
   "source": [
    "'''\n",
    "#47.\n",
    "'''"
   ]
  },
  {
   "cell_type": "code",
   "execution_count": null,
   "metadata": {},
   "outputs": [],
   "source": [
    "'''\n",
    "#48.\n",
    "'''"
   ]
  },
  {
   "cell_type": "code",
   "execution_count": null,
   "metadata": {},
   "outputs": [],
   "source": [
    "'''\n",
    "#49.\n",
    "'''"
   ]
  },
  {
   "cell_type": "code",
   "execution_count": null,
   "metadata": {},
   "outputs": [],
   "source": [
    "'''\n",
    "#50.\n",
    "'''"
   ]
  }
 ],
 "metadata": {
  "kernelspec": {
   "display_name": "Python 3",
   "language": "python",
   "name": "python3"
  },
  "language_info": {
   "codemirror_mode": {
    "name": "ipython",
    "version": 3
   },
   "file_extension": ".py",
   "mimetype": "text/x-python",
   "name": "python",
   "nbconvert_exporter": "python",
   "pygments_lexer": "ipython3",
   "version": "3.6.5"
  }
 },
 "nbformat": 4,
 "nbformat_minor": 2
}
