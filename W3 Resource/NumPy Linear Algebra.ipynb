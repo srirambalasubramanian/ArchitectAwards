{
 "cells": [
  {
   "cell_type": "markdown",
   "metadata": {},
   "source": [
    "NumPy Linear Algebra"
   ]
  },
  {
   "cell_type": "code",
   "execution_count": 1,
   "metadata": {},
   "outputs": [
    {
     "name": "stdout",
     "output_type": "stream",
     "text": [
      "original matrix:\n",
      "[[1, 0], [0, 1]]\n",
      "[[1, 2], [3, 4]]\n",
      "Result of the said matrix multiplication:\n",
      "[[1 2]\n",
      " [3 4]]\n"
     ]
    },
    {
     "ename": "NameError",
     "evalue": "name 'result2' is not defined",
     "output_type": "error",
     "traceback": [
      "\u001b[1;31m---------------------------------------------------------------------------\u001b[0m",
      "\u001b[1;31mNameError\u001b[0m                                 Traceback (most recent call last)",
      "\u001b[1;32m<ipython-input-1-504dfd428e7d>\u001b[0m in \u001b[0;36m<module>\u001b[1;34m()\u001b[0m\n\u001b[0;32m     16\u001b[0m \u001b[0mprint\u001b[0m\u001b[1;33m(\u001b[0m\u001b[1;34m\"Result of the said matrix multiplication:\"\u001b[0m\u001b[1;33m)\u001b[0m\u001b[1;33m\u001b[0m\u001b[0m\n\u001b[0;32m     17\u001b[0m \u001b[0mprint\u001b[0m\u001b[1;33m(\u001b[0m\u001b[0mresult1\u001b[0m\u001b[1;33m)\u001b[0m\u001b[1;33m\u001b[0m\u001b[0m\n\u001b[1;32m---> 18\u001b[1;33m \u001b[0mprint\u001b[0m\u001b[1;33m(\u001b[0m\u001b[0mresult2\u001b[0m\u001b[1;33m)\u001b[0m\u001b[1;33m\u001b[0m\u001b[0m\n\u001b[0m",
      "\u001b[1;31mNameError\u001b[0m: name 'result2' is not defined"
     ]
    }
   ],
   "source": [
    "'''\n",
    "#1.Write a NumPy program to compute the multiplication of two given matrixes.\n",
    "\n",
    "Sample Matrix:\n",
    "\n",
    "[[1, 0], [0, 1]]\n",
    "[[1, 2], [3, 4]]\n",
    "'''\n",
    "import numpy as np\n",
    "p = [[1, 0], [0, 1]]\n",
    "q = [[1, 2], [3, 4]]\n",
    "print(\"original matrix:\")\n",
    "print(p)\n",
    "print(q)\n",
    "result1 = np.dot(p, q)\n",
    "print(\"Result of the said matrix multiplication:\")\n",
    "print(result1)\n",
    "print(result2)"
   ]
  },
  {
   "cell_type": "code",
   "execution_count": 2,
   "metadata": {},
   "outputs": [
    {
     "name": "stdout",
     "output_type": "stream",
     "text": [
      "original matrix:\n",
      "[[1, 0], [0, 1]]\n",
      "[[1, 2], [3, 4]]\n",
      "Outer product of the said two vectors:\n",
      "[[1 2 3 4]\n",
      " [0 0 0 0]\n",
      " [0 0 0 0]\n",
      " [1 2 3 4]]\n"
     ]
    }
   ],
   "source": [
    "'''\n",
    "#2.Write a NumPy program to compute the outer product of two given vectors.\n",
    "\n",
    "NumPy: Outer product of two vectors\n",
    "'''\n",
    "import numpy as np\n",
    "p = [[1, 0], [0, 1]]\n",
    "q = [[1, 2], [3, 4]]\n",
    "print(\"original matrix:\")\n",
    "print(p)\n",
    "print(q)\n",
    "result = np.outer(p, q)\n",
    "print(\"Outer product of the said two vectors:\")\n",
    "print(result)"
   ]
  },
  {
   "cell_type": "code",
   "execution_count": 3,
   "metadata": {},
   "outputs": [
    {
     "name": "stdout",
     "output_type": "stream",
     "text": [
      "original matrix:\n",
      "[[1, 0], [0, 1]]\n",
      "[[1, 2], [3, 4]]\n",
      "cross product of the said two vectors(p, q):\n",
      "[ 2 -3]\n",
      "cross product of the said two vectors(q, p):\n",
      "[-2  3]\n"
     ]
    }
   ],
   "source": [
    "'''\n",
    "#3.Write a NumPy program to compute the cross product of two given vectors.\n",
    "'''\n",
    "import numpy as np\n",
    "p = [[1, 0], [0, 1]]\n",
    "q = [[1, 2], [3, 4]]\n",
    "print(\"original matrix:\")\n",
    "print(p)\n",
    "print(q)\n",
    "result1 = np.cross(p, q)\n",
    "result2 = np.cross(q, p)\n",
    "print(\"cross product of the said two vectors(p, q):\")\n",
    "print(result1)\n",
    "print(\"cross product of the said two vectors(q, p):\")\n",
    "print(result2)"
   ]
  },
  {
   "cell_type": "code",
   "execution_count": 18,
   "metadata": {},
   "outputs": [
    {
     "name": "stdout",
     "output_type": "stream",
     "text": [
      "Original 2-d array\n",
      "[[1 0]\n",
      " [1 2]]\n",
      "Determinant of the said 2-D array:\n",
      "2.0\n"
     ]
    }
   ],
   "source": [
    "'''\n",
    "#4.Write a NumPy program to compute the determinant of a given square array.\n",
    "\n",
    "From Wikipedia: In linear algebra, the determinant is a value that can be computed from the elements of a square matrix. The determinant of a matrix A is denoted det(A), det A, or |A|. Geometrically, it can be viewed as the scaling factor of the linear transformation described by the matrix.\n",
    "\n",
    "In the case of a 2 × 2 matrix the determinant may be defined as:\n",
    "'''\n",
    "import numpy as np\n",
    "from numpy import linalg as LA\n",
    "a = np.array([[1, 0], [1, 2]])\n",
    "print(\"Original 2-d array\")\n",
    "print(a)\n",
    "print(\"Determinant of the said 2-D array:\")\n",
    "print(np.linalg.det(a))"
   ]
  },
  {
   "cell_type": "code",
   "execution_count": 17,
   "metadata": {},
   "outputs": [
    {
     "name": "stdout",
     "output_type": "stream",
     "text": [
      "Original 1-d arrays:\n",
      "[1 2 3]\n",
      "[0 1 0]\n",
      "Einstein’s summation convention of the said arrays:\n",
      "2\n",
      "Original Higher dimension:\n",
      "[[0 1 2]\n",
      " [3 4 5]\n",
      " [6 7 8]]\n",
      "[[ 3  4  5]\n",
      " [ 6  7  8]\n",
      " [ 9 10 11]]\n",
      "Einstein’s summation convention of the said arrays:\n",
      "[[ 24  27  30]\n",
      " [ 78  90 102]\n",
      " [132 153 174]]\n"
     ]
    }
   ],
   "source": [
    "'''\n",
    "#5.Write a NumPy program to evaluate Einstein’s summation convention of two given multidimensional arrays.\n",
    "\n",
    "Note: In mathematics, especially in applications of linear algebra to physics, the Einstein notation or Einstein summation convention is a notational convention that implies summation over a set of indexed terms in a formula, thus achieving notational brevity.\n",
    "'''\n",
    "import numpy as np\n",
    "a = np.array([1,2,3])\n",
    "b = np.array([0,1,0])\n",
    "print(\"Original 1-d arrays:\")\n",
    "print(a)\n",
    "print(b)\n",
    "result =  np.einsum(\"n,n\", a, b)\n",
    "print(\"Einstein’s summation convention of the said arrays:\")\n",
    "print(result)\n",
    "x = np.arange(9).reshape(3, 3)\n",
    "y = np.arange(3, 12).reshape(3, 3)\n",
    "print(\"Original Higher dimension:\")\n",
    "print(x)\n",
    "print(y)\n",
    "result = np.einsum(\"mk,kn\", x, y)\n",
    "print(\"Einstein’s summation convention of the said arrays:\")\n",
    "print(result)"
   ]
  },
  {
   "cell_type": "code",
   "execution_count": 16,
   "metadata": {},
   "outputs": [
    {
     "name": "stdout",
     "output_type": "stream",
     "text": [
      "Original 1-d arrays:\n",
      "[1 2 5]\n",
      "[2 1 0]\n",
      "Inner product of the said vectors:\n",
      "Higher dimension arrays:\n",
      "[[0 1 2]\n",
      " [3 4 5]\n",
      " [6 7 8]]\n",
      "[[ 3  4  5]\n",
      " [ 6  7  8]\n",
      " [ 9 10 11]]\n",
      "Inner product of the said vectors:\n",
      "[[ 14  23  32]\n",
      " [ 50  86 122]\n",
      " [ 86 149 212]]\n"
     ]
    }
   ],
   "source": [
    "'''\n",
    "#6.Write a NumPy program to compute the inner product of vectors for 1-D arrays (without complex conjugation) and in higher dimension.\n",
    "'''\n",
    "import numpy as np\n",
    "a = np.array([1,2,5])\n",
    "b = np.array([2,1,0])\n",
    "print(\"Original 1-d arrays:\")\n",
    "print(a)\n",
    "print(b)\n",
    "print \n",
    "result = np.inner(a, b)\n",
    "print(\"Inner product of the said vectors:\")\n",
    "x = np.arange(9).reshape(3, 3)\n",
    "y = np.arange(3, 12).reshape(3, 3)\n",
    "print(\"Higher dimension arrays:\")\n",
    "print(x)\n",
    "print(y)\n",
    "result = np.inner(x, y)\n",
    "print(\"Inner product of the said vectors:\")\n",
    "print(result)"
   ]
  },
  {
   "cell_type": "code",
   "execution_count": 4,
   "metadata": {},
   "outputs": [
    {
     "name": "stdout",
     "output_type": "stream",
     "text": [
      "Original matrix:\n",
      "a\n",
      " [[ 3 -2]\n",
      " [ 1  0]]\n",
      "Eigenvalues of the said matrix [2. 1.]\n",
      "Eigenvectors of the said matrix [[0.89442719 0.70710678]\n",
      " [0.4472136  0.70710678]]\n"
     ]
    }
   ],
   "source": [
    "'''\n",
    "#7.Write a NumPy program to compute the eigenvalues and right eigenvectors of a given square array.\n",
    "'''\n",
    "import numpy as np\n",
    "m = np.mat(\"3 -2;1 0\")\n",
    "print(\"Original matrix:\")\n",
    "print(\"a\\n\", m)\n",
    "w, v = np.linalg.eig(m) \n",
    "print( \"Eigenvalues of the said matrix\",w)\n",
    "print( \"Eigenvectors of the said matrix\",v)"
   ]
  },
  {
   "cell_type": "code",
   "execution_count": null,
   "metadata": {},
   "outputs": [],
   "source": [
    "'''\n",
    "#8.Write a NumPy program to compute the Kronecker product of two given mulitdimension arrays.\n",
    "\n",
    "Note: In mathematics, the Kronecker product, denoted by ⊗, is an operation on two matrices of arbitrary size resulting in a block matrix. It is a generalization of the outer product (which is denoted by the same symbol) from vectors to matrices, and gives the matrix of the tensor product with respect to a standard choice of basis. The Kronecker product should not be confused with the usual matrix multiplication, which is an entirely different operation.\n",
    "\n",
    "If A is an m × n matrix and B is a p × q matrix, then the Kronecker product A ⊗ B is the mp × nq block matrix:\n",
    "'''\n",
    "import numpy as np\n",
    "a = np.array([1,2,3])\n",
    "b = np.array([0,1,0])\n",
    "print(\"Original 1-d arrays:\")\n",
    "print(a)\n",
    "print(b)\n",
    "result =  np.kron(a, b)\n",
    "print(\"Kronecker product of the said arrays:\")\n",
    "print(result)\n",
    "x = np.arange(9).reshape(3, 3)\n",
    "y = np.arange(3, 12).reshape(3, 3)\n",
    "print(\"Original Higher dimension:\")\n",
    "print(x)\n",
    "print(y)\n",
    "result = np.kron(x, y)\n",
    "print(\"Kronecker product  of the said arrays:\")\n",
    "print(result)"
   ]
  },
  {
   "cell_type": "code",
   "execution_count": 15,
   "metadata": {},
   "outputs": [
    {
     "name": "stdout",
     "output_type": "stream",
     "text": [
      "Original matrix:\n",
      "[[ 1  0 -1]\n",
      " [ 0  1  0]\n",
      " [ 1  0  1]]\n",
      "The condition number of the said matrix:\n",
      "1.4142135623730951\n"
     ]
    }
   ],
   "source": [
    "'''\n",
    "#9.Write a NumPy program to compute the condition number of a given matrix.\n",
    "\n",
    "From Wikipedia, In the field of numerical analysis, the condition number of a function with respect to an argument measures how much the output value of the function can change for a small change in the input argument. This is used to measure how sensitive a function is to changes or errors in the input, and how much error in the output results from an error in the input. Very frequently, one is solving the inverse problem – given {\\displaystyle f(x)=y,} f(x) = y, one is solving for x, and thus the condition number of the (local) inverse must be used. In linear regression the condition number can be used as a diagnostic for multicollinearity.\n",
    "'''\n",
    "import numpy as np\n",
    "from numpy import linalg as LA\n",
    "a = np.array([[1, 0, -1], [0, 1, 0], [1, 0, 1]])\n",
    "print(\"Original matrix:\")\n",
    "print(a)\n",
    "print(\"The condition number of the said matrix:\")\n",
    "print(LA.cond(a))"
   ]
  },
  {
   "cell_type": "code",
   "execution_count": 14,
   "metadata": {},
   "outputs": [
    {
     "name": "stdout",
     "output_type": "stream",
     "text": [
      "Vector norm:\n",
      "9.539392014169456\n",
      "Matrix norm:\n",
      "5.477225575051661\n"
     ]
    }
   ],
   "source": [
    "'''\n",
    "#10.Write a NumPy program to find a matrix or vector norm.\n",
    "\n",
    "Notes on Vector and Matrix Norms from here\n",
    "'''\n",
    "import numpy as np\n",
    "v = np.arange(7)\n",
    "result = np.linalg.norm(v)\n",
    "print(\"Vector norm:\")\n",
    "print(result)\n",
    "m = np.matrix('1, 2; 3, 4') \n",
    "result1 = np.linalg.norm(m)\n",
    "print(\"Matrix norm:\")\n",
    "print(result1)"
   ]
  },
  {
   "cell_type": "code",
   "execution_count": 13,
   "metadata": {},
   "outputs": [
    {
     "name": "stdout",
     "output_type": "stream",
     "text": [
      "Original array:\n",
      "[[1 2]\n",
      " [3 4]]\n",
      "Determinant of the said array:\n",
      "-2.0000000000000004\n"
     ]
    }
   ],
   "source": [
    "'''\n",
    "#11.Write a NumPy program to compute the determinant of an array.\n",
    "\n",
    "From Wikipedia: In linear algebra, the determinant is a value that can be computed from the elements of a square matrix. The determinant of a matrix A is denoted det(A), det A, or |A|. Geometrically, it can be viewed as the scaling factor of the linear transformation described by the matrix.\n",
    "'''\n",
    "import numpy as np\n",
    "a = np.array([[1,2],[3,4]])\n",
    "print(\"Original array:\")\n",
    "print(a)\n",
    "result =  np.linalg.det(a)\n",
    "print(\"Determinant of the said array:\")\n",
    "print(result)"
   ]
  },
  {
   "cell_type": "code",
   "execution_count": 12,
   "metadata": {},
   "outputs": [
    {
     "name": "stdout",
     "output_type": "stream",
     "text": [
      "Original matrix:\n",
      "[[1 2]\n",
      " [3 4]]\n",
      "Inverse of the said matrix:\n",
      "[[-2.   1. ]\n",
      " [ 1.5 -0.5]]\n"
     ]
    }
   ],
   "source": [
    "'''\n",
    "#12.Write a NumPy program compute the inverse of a given matrix.\n",
    "'''\n",
    "import numpy as np\n",
    "m = np.array([[1,2],[3,4]])\n",
    "print(\"Original matrix:\")\n",
    "print(m)\n",
    "result =  np.linalg.inv(m)\n",
    "print(\"Inverse of the said matrix:\")\n",
    "print(result)"
   ]
  },
  {
   "cell_type": "code",
   "execution_count": 11,
   "metadata": {},
   "outputs": [
    {
     "name": "stdout",
     "output_type": "stream",
     "text": [
      "Original matrix:\n",
      "[[1 2]\n",
      " [3 4]]\n",
      "Decomposition of the said matrix:\n",
      "(array([[-0.31622777, -0.9486833 ],\n",
      "       [-0.9486833 ,  0.31622777]]), array([[-3.16227766, -4.42718872],\n",
      "       [ 0.        , -0.63245553]]))\n"
     ]
    }
   ],
   "source": [
    "'''\n",
    "#13.Write a NumPy program to calculate the QR decomposition of a given matrix.\n",
    "\n",
    "From Wikipedia: In linear algebra, a QR decomposition (also called a QR factorization) of a matrix is a decomposition of a matrix A into a product A = QR of an orthogonal matrix Q and an upper triangular matrix R. QR decomposition is often used to solve the linear least squares problem and is the basis for a particular eigenvalue algorithm, the QR algorithm.\n",
    "Square matrix\n",
    "Any real square matrix A may be decomposed as\n",
    "\n",
    "NumPy: Compute the condition number of a given matrix\n",
    "where Q is an orthogonal matrix (its columns are orthogonal unit vectors meaning {\\displaystyle Q^{\\textsf {T}}Q=QQ^{\\textsf {T}}=I} {\\displaystyle Q^{\\textsf {T}}Q=QQ^{\\textsf {T}}=I}) and R is an upper triangular matrix (also called right triangular matrix). If A is invertible, then the factorization is unique if we require the diagonal elements of R to be positive.\n",
    "If instead A is a complex square matrix, then there is a decomposition A = QR where Q is a unitary matrix (so {\\displaystyle Q^{*}Q=QQ^{*}=I} {\\displaystyle Q^{*}Q=QQ^{*}=I}).\n",
    "If A has n linearly independent columns, then the first n columns of Q form an orthonormal basis for the column space of A. More generally, the first k columns of Q form an orthonormal basis for the span of the first k columns of A for any 1 ≤ k ≤ n.[1] The fact that any column k of A only depends on the first k columns of Q is responsible for the triangular form of R.[1]\n",
    "'''\n",
    "import numpy as np\n",
    "m = np.array([[1,2],[3,4]])\n",
    "print(\"Original matrix:\")\n",
    "print(m)\n",
    "result =  np.linalg.qr(m)\n",
    "print(\"Decomposition of the said matrix:\")\n",
    "print(result)"
   ]
  },
  {
   "cell_type": "code",
   "execution_count": 10,
   "metadata": {},
   "outputs": [
    {
     "name": "stdout",
     "output_type": "stream",
     "text": [
      "Original matrix:\n",
      "[[1 2]\n",
      " [3 4]]\n",
      "Condition number of the said matrix:\n",
      "14.933034373659265\n"
     ]
    }
   ],
   "source": [
    "'''\n",
    "#14.Write a NumPy program compute the condition number of a given matrix.\n",
    "\n",
    "From Wikipedia: In the field of numerical analysis, the condition number of a function with respect to an argument measures how much the output value of the function can change for a small change in the input argument. This is used to measure how sensitive a function is to changes or errors in the input, and how much error in the output results from an error in the input.\n",
    "'''\n",
    "import numpy as np\n",
    "m = np.array([[1,2],[3,4]])\n",
    "print(\"Original matrix:\")\n",
    "print(m)\n",
    "result =  np.linalg.cond(m)\n",
    "print(\"Condition number of the said matrix:\")\n",
    "print(result)"
   ]
  },
  {
   "cell_type": "code",
   "execution_count": 9,
   "metadata": {},
   "outputs": [
    {
     "name": "stdout",
     "output_type": "stream",
     "text": [
      "Original matrix:\n",
      "[[0 1 2]\n",
      " [3 4 5]]\n",
      "Condition number of the said matrix:\n",
      "4\n"
     ]
    }
   ],
   "source": [
    "'''\n",
    "#15.Write a NumPy program compute the sum of the diagonal element of a given array.\n",
    "'''\n",
    "import numpy as np\n",
    "m = np.arange(6).reshape(2,3)\n",
    "print(\"Original matrix:\")\n",
    "print(m)\n",
    "result =  np.trace(m)\n",
    "print(\"Condition number of the said matrix:\")\n",
    "print(result)"
   ]
  },
  {
   "cell_type": "code",
   "execution_count": 8,
   "metadata": {},
   "outputs": [
    {
     "name": "stdout",
     "output_type": "stream",
     "text": [
      "Original array:\n",
      "[[  4  12 -16]\n",
      " [ 12  37 -53]\n",
      " [-16 -53  98]]\n",
      "Lower-trianglular L in the Cholesky decomposition of the said array:\n",
      "[[ 2.  0.  0.]\n",
      " [ 6.  1.  0.]\n",
      " [-8. -5.  3.]]\n"
     ]
    }
   ],
   "source": [
    "'''\n",
    "#16.Write a NumPy program to get the lower-triangular L in the Cholesky decomposition of a given array.\n",
    "'''\n",
    "import numpy as np\n",
    "a = np.array([[4, 12, -16], [12, 37, -53], [-16, -53, 98]], dtype=np.int32)\n",
    "print(\"Original array:\")\n",
    "print(a)\n",
    "L = np.linalg.cholesky(a)\n",
    "print(\"Lower-trianglular L in the Cholesky decomposition of the said array:\")\n",
    "print(L)"
   ]
  },
  {
   "cell_type": "code",
   "execution_count": 7,
   "metadata": {},
   "outputs": [
    {
     "name": "stdout",
     "output_type": "stream",
     "text": [
      "Original array:\n",
      "[[  4  12 -14]\n",
      " [ 12  37 -53]\n",
      " [-14 -53  98]]\n",
      "qr factorization of the said array:\n",
      "q=\n",
      " [[-0.21199958 -0.27930103  0.93650794]\n",
      " [-0.63599873 -0.68815735 -0.34920635]\n",
      " [ 0.74199852 -0.66964945 -0.03174603]] \n",
      "r=\n",
      " [[-18.86796226 -65.4018692  109.39178122]\n",
      " [  0.           6.67798664 -25.24309237]\n",
      " [  0.           0.           2.28571429]]\n"
     ]
    }
   ],
   "source": [
    "'''\n",
    "#17.Write a NumPy program to get the qr factorization of a given array.\n",
    "'''\n",
    "import numpy as np\n",
    "a = np.array([[4, 12, -14], [12, 37, -53], [-14, -53, 98]], dtype=np.int32)\n",
    "print(\"Original array:\")\n",
    "print(a)\n",
    "q, r = np.linalg.qr(a)\n",
    "print(\"qr factorization of the said array:\")\n",
    "print( \"q=\\n\", q, \"\\nr=\\n\", r)"
   ]
  },
  {
   "cell_type": "code",
   "execution_count": 6,
   "metadata": {},
   "outputs": [
    {
     "name": "stdout",
     "output_type": "stream",
     "text": [
      "Original array:\n",
      "[[1. 0. 0. 0. 2.]\n",
      " [0. 0. 3. 0. 0.]\n",
      " [0. 0. 0. 0. 0.]\n",
      " [0. 2. 0. 0. 0.]]\n",
      "Factor of a given array  by Singular Value Decomposition:\n",
      "U=\n",
      " [[ 0.  1.  0.  0.]\n",
      " [ 1.  0.  0.  0.]\n",
      " [ 0.  0.  0. -1.]\n",
      " [ 0.  0.  1.  0.]] \n",
      "s=\n",
      " [3.       2.236068 2.       0.      ] \n",
      "V=\n",
      " [[-0.         0.         1.         0.         0.       ]\n",
      " [ 0.4472136  0.         0.         0.         0.8944272]\n",
      " [-0.         1.         0.         0.         0.       ]\n",
      " [ 0.         0.         0.         1.         0.       ]]\n"
     ]
    }
   ],
   "source": [
    "'''\n",
    "#18.Write a NumPy program to compute the factor of a given array by Singular Value Decomposition.\n",
    "'''\n",
    "import numpy as np\n",
    "a = np.array([[1, 0, 0, 0, 2], [0, 0, 3, 0, 0], [0, 0, 0, 0, 0], [0, 2, 0, 0, 0]], dtype=np.float32)\n",
    "print(\"Original array:\")\n",
    "print(a)\n",
    "U, s, V = np.linalg.svd(a, full_matrices=False)\n",
    "q, r = np.linalg.qr(a)\n",
    "print(\"Factor of a given array  by Singular Value Decomposition:\")\n",
    "print(\"U=\\n\", U, \"\\ns=\\n\", s, \"\\nV=\\n\", V)"
   ]
  },
  {
   "cell_type": "code",
   "execution_count": 5,
   "metadata": {},
   "outputs": [
    {
     "name": "stdout",
     "output_type": "stream",
     "text": [
      "Original array:\n",
      "[[1 2 3]\n",
      " [4 5 6]\n",
      " [7 8 9]]\n",
      "Frobenius norm and the condition number:\n",
      "16.881943016134134\n",
      "3.193239515623568e+17\n"
     ]
    }
   ],
   "source": [
    "'''\n",
    "#19.Write a NumPy program to calculate the Frobenius norm and the condition number of a given array.\n",
    "'''\n",
    "import numpy as np\n",
    "a = np.arange(1, 10).reshape((3, 3))\n",
    "print(\"Original array:\")\n",
    "print(a)\n",
    "print(\"Frobenius norm and the condition number:\")\n",
    "print(np.linalg.norm(a, 'fro'))\n",
    "print(np.linalg.cond(a, 'fro'))"
   ]
  }
 ],
 "metadata": {
  "kernelspec": {
   "display_name": "Python 3",
   "language": "python",
   "name": "python3"
  },
  "language_info": {
   "codemirror_mode": {
    "name": "ipython",
    "version": 3
   },
   "file_extension": ".py",
   "mimetype": "text/x-python",
   "name": "python",
   "nbconvert_exporter": "python",
   "pygments_lexer": "ipython3",
   "version": "3.6.5"
  }
 },
 "nbformat": 4,
 "nbformat_minor": 2
}
