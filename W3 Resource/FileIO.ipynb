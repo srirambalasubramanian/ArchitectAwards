{
 "cells": [
  {
   "cell_type": "markdown",
   "metadata": {},
   "source": [
    "File IO"
   ]
  },
  {
   "cell_type": "code",
   "execution_count": 1,
   "metadata": {},
   "outputs": [
    {
     "name": "stdout",
     "output_type": "stream",
     "text": [
      "What is Python language?                                                \n",
      "Python is a widely used high-level, general-purpose, interpreted, dynamic programming language.Its design philosophy emphasizes code readability, and its syntax allows programmers to express concepts in fewer lines of code than possible in\n",
      "languages such as C++ or Java. \n",
      "Python supports multiple programming paradigms, including object-oriented, imperative and functional programming or procedural styles. It features a dynamic type system and automatic memory management and has a large and comprehensive standard library.The best way we learn anything is by practice and exercise questions. We  have started this section for those (beginner to intermediate) who are \n",
      "familiar with Python.\n"
     ]
    }
   ],
   "source": [
    "'''\n",
    "#1.Write a Python program to read an entire text file.\n",
    "\n",
    "Contain of text.txt\n",
    "What is Python language?                                                \n",
    "Python is a widely used high-level, general-purpose, interpreted, dynamic programming language.Its design philosophy emphasizes code readability, and its syntax allows programmers to express concepts in fewer lines of code than possible in \n",
    "languages such as C++ or Java. \n",
    "Python supports multiple programming paradigms, including object-oriented, imperative and functional programming or procedural styles. It features a dynamic type system and automatic memory management and has a large and comprehensive standard library.The best way we learn anything is by practice and exercise questions. We  have started this section for those (beginner to intermediate) who are familiar with Python.\n",
    "'''\n",
    "def file_read(fname):\n",
    "        txt = open(fname)\n",
    "        print(txt.read())\n",
    "\n",
    "file_read('test.txt')"
   ]
  },
  {
   "cell_type": "code",
   "execution_count": null,
   "metadata": {},
   "outputs": [],
   "source": [
    "'''\n",
    "#2.Write a Python program to read first n lines of a file.\n",
    "\n",
    "Contain of text.txt\n",
    "What is Python language?                                                \n",
    "Python is a widely used high-level, general-purpose, interpreted, dynamic programming language.Its design philosophy emphasizes code readability, and its syntax allows programmers to express concepts in fewer lines of code than possible in\n",
    "languages such as C++ or Java. \n",
    "Python supports multiple programming paradigms, including object-oriented, imperative and functional programming or procedural styles. It features a dynamic type system and automatic memory management and has a large and comprehensive standard library.The best way we learn anything is by practice and exercise questions. We  have started this section for those (beginner to intermediate) who are \n",
    "familiar with Python.\n",
    "'''\n",
    "def file_read_from_head(fname, nlines):\n",
    "        from itertools import islice\n",
    "        with open(fname) as f:\n",
    "                for line in islice(f, nlines):\n",
    "                        print(line)\n",
    "file_read_from_head('test.txt',2)\n",
    "\n"
   ]
  },
  {
   "cell_type": "code",
   "execution_count": null,
   "metadata": {},
   "outputs": [],
   "source": [
    "'''\n",
    "#3.Write a Python program to append text to a file and display the text.\n",
    "'''\n",
    "def file_read(fname):\n",
    "        from itertools import islice\n",
    "        with open(fname, \"w\") as myfile:\n",
    "                myfile.write(\"Python Exercises\\n\")\n",
    "                myfile.write(\"Java Exercises\")\n",
    "        txt = open(fname)\n",
    "        print(txt.read())\n",
    "file_read('abc.txt')"
   ]
  },
  {
   "cell_type": "code",
   "execution_count": null,
   "metadata": {},
   "outputs": [],
   "source": [
    "'''\n",
    "#4.Write a Python program to read last n lines of a file.\n",
    "'''\n",
    "import sys\n",
    "import os\n",
    "def file_read_from_tail(fname,lines):\n",
    "        bufsize = 8192\n",
    "        fsize = os.stat(fname).st_size\n",
    "        iter = 0\n",
    "        with open(fname) as f:\n",
    "                if bufsize > fsize:\n",
    "                        bufsize = fsize-1\n",
    "                        data = []\n",
    "                        while True:\n",
    "                                iter +=1\n",
    "                                f.seek(fsize-bufsize*iter)\n",
    "                                data.extend(f.readlines())\n",
    "                                if len(data) >= lines or f.tell() == 0:\n",
    "                                        print(''.join(data[-lines:]))\n",
    "                                        break\n",
    "\n",
    "file_read_from_tail('test.txt',2)"
   ]
  },
  {
   "cell_type": "code",
   "execution_count": null,
   "metadata": {},
   "outputs": [],
   "source": [
    "'''\n",
    "#5.Write a Python program to read a file line by line and store it into a list.\n",
    "'''\n",
    "def file_read(fname):\n",
    "        with open(fname) as f:\n",
    "                #Content_list is the list that contains the read lines.     \n",
    "                content_list = f.readlines()\n",
    "                print(content_list)\n",
    "\n",
    "file_read(\\'test.txt\\')"
   ]
  },
  {
   "cell_type": "code",
   "execution_count": null,
   "metadata": {},
   "outputs": [],
   "source": [
    "'''\n",
    "#6.Write a Python program to read a file line by line store it into a variable.\n",
    "'''\n",
    "def file_read(fname):\n",
    "        with open (fname, \"r\") as myfile:\n",
    "                data=myfile.readlines()\n",
    "                print(data)\n",
    "file_read('test.txt')"
   ]
  },
  {
   "cell_type": "code",
   "execution_count": null,
   "metadata": {},
   "outputs": [],
   "source": [
    "'''\n",
    "#7.Write a Python program to read a file line by line store it into an array.\n",
    "'''\n",
    "def file_read(fname):\n",
    "        content_array = []\n",
    "        with open(fname) as f:\n",
    "                #Content_list is the list that contains the read lines.     \n",
    "                for line in f:\n",
    "                        content_array.append(line)\n",
    "                print(content_array)\n",
    "\n",
    "file_read('test.txt')"
   ]
  },
  {
   "cell_type": "code",
   "execution_count": null,
   "metadata": {},
   "outputs": [],
   "source": [
    "'''\n",
    "#8.Write a python program to find the longest words.\n",
    "\n",
    "Contain of text.txt\n",
    "What is Python language?                                                \n",
    "Python is a widely used high-level, general-purpose, interpreted, dynamic programming language.Its design philosophy emphasizes code readability, and its syntax allows programmers to express concepts in fewer lines of code than possible in \n",
    "languages such as C++ or Java. \n",
    "Python supports multiple programming paradigms, including object-oriented, imperative and functional programming or procedural styles.It features a dynamic type system and automatic memory management and has a large and comprehensive standard library.The best way we learn anything is by practice and exercise questions. We  have started this section for those (beginner to intermediate) who are familiar with Python.\n",
    "'''\n",
    "def longest_word(filename):\n",
    "    with open(filename, 'r') as infile:\n",
    "              words = infile.read().split()\n",
    "    max_len = len(max(words, key=len))\n",
    "    return [word for word in words if len(word) == max_len]\n",
    "\n",
    "print(longest_word('test.txt'))\n"
   ]
  },
  {
   "cell_type": "code",
   "execution_count": null,
   "metadata": {},
   "outputs": [],
   "source": [
    "'''\n",
    "#9.Write a Python program to count the number of lines in a text file.\n",
    "\n",
    "Contain of text.txt\n",
    "\n",
    "What is Python language?                                                \n",
    "Python is a widely used high-level, general-purpose, interpreted, dynamic programming language.Its design philosophy emphasizes code readability, and its syntax allows programmers to express concepts in fewer lines of code than possible in \n",
    "languages such as C++ or Java.                                         \n",
    "Python supports multiple programming paradigms, including object-oriented, imperative and functional programming or procedural styles.It features a dynamic type system and automatic memory management and has a large and comprehensive standard library.The best way we learn anything is by practice and exercise questions. We  have started this section for those (beginner to intermediate) who are familiar with Python.\n",
    "'''\n",
    "def file_lengthy(fname):\n",
    "        with open(fname) as f:\n",
    "                for i, l in enumerate(f):\n",
    "                        pass\n",
    "        return i + 1\n",
    "print(\"Number of lines in the file: \",file_lengthy(\"test.txt\"))\n"
   ]
  },
  {
   "cell_type": "code",
   "execution_count": null,
   "metadata": {},
   "outputs": [],
   "source": [
    "'''\n",
    "#10.Write a Python program to count the frequency of words in a file.\n",
    "\n",
    "Contain of text.txt\n",
    "What is Python language?                                                \n",
    "Python is a widely used high-level, general-purpose, interpreted, dynamic programming language. Its design philosophy emphasizes code readability, and its syntax allows programmers to express concepts in fewer lines of code than possible in \n",
    "languages such as C++ or Java.                                         \n",
    "Python supports multiple programming paradigms, including object-oriented, imperative and functional programming or procedural styles.It features a dynamic type system and automatic memory management and has a large and comprehensive standard library. The best way we learn anything is by practice and exercise questions. We  have started this section for those (beginner to intermediate) who are familiar with Python.\n",
    "Sample Solution:-\n",
    "'''\n",
    "from collections import Counter\n",
    "def word_count(fname):\n",
    "        with open(fname) as f:\n",
    "                return Counter(f.read().split())\n",
    "\n",
    "print(\"Number of words in the file :\",word_count(\"test.txt\"))"
   ]
  },
  {
   "cell_type": "code",
   "execution_count": null,
   "metadata": {},
   "outputs": [],
   "source": [
    "'''\n",
    "#11.Write a Python program to get the file size of a plain file.\n",
    "\n",
    "Contain of text.txt\n",
    "What is Python language?                                                \n",
    "Python is a widely used high-level, general-purpose, interpreted, dynamic programming language.Its design philosophy emphasizes code readability, and its syntax allows programmers to express concepts in fewer lines of code than possible in \n",
    "languages such as C++ or Java.                                         \n",
    "Python supports multiple programming paradigms, including object-oriented, imperative and functional programming or procedural styles.It features a dynamic type system and automatic memory management and has a large and comprehensive standard library.The best way we learn anything is by practice and exercise questions. We  have started this section for those (beginner to intermediate) who are \n",
    "familiar with Python.\n",
    "'''"
   ]
  },
  {
   "cell_type": "code",
   "execution_count": null,
   "metadata": {},
   "outputs": [],
   "source": [
    "'''\n",
    "#12.Write a Python program to write a list content to a file.\n",
    "'''\n",
    "color = ['Red', 'Green', 'White', 'Black', 'Pink', 'Yellow']\n",
    "with open('abc.txt', \"w\") as myfile:\n",
    "        for c in color:\n",
    "                myfile.write(\"%s\\n\" % c)\n",
    "\n",
    "content = open('abc.txt')\n",
    "print(content.read())"
   ]
  },
  {
   "cell_type": "code",
   "execution_count": null,
   "metadata": {},
   "outputs": [],
   "source": [
    "'''\n",
    "#13.Write a Python program to copy the contents of a file to another file .\n",
    "'''\n",
    "from shutil import copyfile\n",
    "copyfile('test.py', 'abc.py')\n"
   ]
  },
  {
   "cell_type": "code",
   "execution_count": null,
   "metadata": {},
   "outputs": [],
   "source": [
    "'''\n",
    "#14.Write a Python program to combine each line from first file with the corresponding line in second file.\n",
    "'''\n",
    "with open('abc.txt') as fh1, open('test.txt') as fh2:\n",
    "    for line1, line2 in zip(fh1, fh2):\n",
    "        # line1 from abc.txt, line2 from test.txtg\n",
    "        print(line1+line2)"
   ]
  },
  {
   "cell_type": "code",
   "execution_count": null,
   "metadata": {},
   "outputs": [],
   "source": [
    "'''\n",
    "#15.Write a Python program to read a random line from a file.\n",
    "'''\n",
    "import random\n",
    "def random_line(fname):\n",
    "    lines = open(fname).read().splitlines()\n",
    "    return random.choice(lines)\n",
    "print(random_line('test.txt'))"
   ]
  },
  {
   "cell_type": "code",
   "execution_count": null,
   "metadata": {},
   "outputs": [],
   "source": [
    "'''\n",
    "#16.Write a Python program to assess if a file is closed or not.\n",
    "'''\n",
    " f = open('abc.txt','r')\n",
    "print(f.closed)\n",
    "f.close()\n",
    "print(f.closed)"
   ]
  },
  {
   "cell_type": "code",
   "execution_count": null,
   "metadata": {},
   "outputs": [],
   "source": [
    "'''\n",
    "#17.Write a Python program to remove newline characters from a file.\n",
    "'''\n",
    "def remove_newlines(fname):\n",
    "    flist = open(fname).readlines()\n",
    "    return [s.rstrip('\\n') for s in flist]\n",
    "\n",
    "print(remove_newlines(\"test.txt\"))"
   ]
  },
  {
   "cell_type": "code",
   "execution_count": null,
   "metadata": {},
   "outputs": [],
   "source": []
  }
 ],
 "metadata": {
  "kernelspec": {
   "display_name": "Python 3",
   "language": "python",
   "name": "python3"
  },
  "language_info": {
   "codemirror_mode": {
    "name": "ipython",
    "version": 3
   },
   "file_extension": ".py",
   "mimetype": "text/x-python",
   "name": "python",
   "nbconvert_exporter": "python",
   "pygments_lexer": "ipython3",
   "version": "3.6.5"
  }
 },
 "nbformat": 4,
 "nbformat_minor": 2
}
