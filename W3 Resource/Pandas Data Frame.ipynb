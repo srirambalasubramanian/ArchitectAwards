{
 "cells": [
  {
   "cell_type": "markdown",
   "metadata": {},
   "source": [
    "Pandas Data Frame"
   ]
  },
  {
   "cell_type": "code",
   "execution_count": 1,
   "metadata": {},
   "outputs": [
    {
     "name": "stdout",
     "output_type": "stream",
     "text": [
      "    X   Y   Z\n",
      "0  78  84  86\n",
      "1  85  94  97\n",
      "2  96  89  96\n",
      "3  80  83  72\n",
      "4  86  86  83\n"
     ]
    }
   ],
   "source": [
    "'''\n",
    "#1.Write a Pandas program to get the powers of an array values element-wise.\n",
    "\n",
    "Sample data: {‘X’:[78,85,96,80,86], 'Y':[84,94,89,83,86],'Z':[86,97,96,72,83]}\n",
    "'''\n",
    "import pandas as pd\n",
    "df = pd.DataFrame({'X':[78,85,96,80,86], 'Y':[84,94,89,83,86],'Z':[86,97,96,72,83]});\n",
    "print(df)"
   ]
  },
  {
   "cell_type": "code",
   "execution_count": 2,
   "metadata": {},
   "outputs": [
    {
     "name": "stdout",
     "output_type": "stream",
     "text": [
      "        name  score  attempts qualify\n",
      "a  Anastasia   12.5         1     yes\n",
      "b       Dima    9.0         3      no\n",
      "c  Katherine   16.5         2     yes\n",
      "d      James    NaN         3      no\n",
      "e      Emily    9.0         2      no\n",
      "f    Michael   20.0         3     yes\n",
      "g    Matthew   14.5         1     yes\n",
      "h      Laura    NaN         1      no\n",
      "i      Kevin    8.0         2      no\n",
      "j      Jonas   19.0         1     yes\n"
     ]
    }
   ],
   "source": [
    "'''\n",
    "#2.Write a Pandas program to create and display a DataFrame from a specified dictionary data which has the index labels.\n",
    "Sample DataFrame:\n",
    "exam_data = {'name': ['Anastasia', 'Dima', 'Katherine', 'James', 'Emily', 'Michael', 'Matthew', 'Laura', 'Kevin', 'Jonas'],\n",
    "'score': [12.5, 9, 16.5, np.nan, 9, 20, 14.5, np.nan, 8, 19],\n",
    "'attempts': [1, 3, 2, 3, 2, 3, 1, 1, 2, 1],\n",
    "'qualify': ['yes', 'no', 'yes', 'no', 'no', 'yes', 'yes', 'no', 'no', 'yes']}\n",
    "labels = ['a', 'b', 'c', 'd', 'e', 'f', 'g', 'h', 'i', 'j']\n",
    "'''\n",
    "import pandas as pd\n",
    "import numpy as np\n",
    "\n",
    "exam_data  = {'name': ['Anastasia', 'Dima', 'Katherine', 'James', 'Emily', 'Michael', 'Matthew', 'Laura', 'Kevin', 'Jonas'],\n",
    "        'score': [12.5, 9, 16.5, np.nan, 9, 20, 14.5, np.nan, 8, 19],\n",
    "        'attempts': [1, 3, 2, 3, 2, 3, 1, 1, 2, 1],\n",
    "        'qualify': ['yes', 'no', 'yes', 'no', 'no', 'yes', 'yes', 'no', 'no', 'yes']}\n",
    "labels = ['a', 'b', 'c', 'd', 'e', 'f', 'g', 'h', 'i', 'j']\n",
    "\n",
    "df = pd.DataFrame(exam_data , index=labels)\n",
    "print(df)\n"
   ]
  },
  {
   "cell_type": "code",
   "execution_count": 4,
   "metadata": {},
   "outputs": [
    {
     "name": "stdout",
     "output_type": "stream",
     "text": [
      "Summary of the basic information about this DataFrame and its data:\n",
      "<class 'pandas.core.frame.DataFrame'>\n",
      "Index: 10 entries, a to j\n",
      "Data columns (total 4 columns):\n",
      "name        10 non-null object\n",
      "score       8 non-null float64\n",
      "attempts    10 non-null int64\n",
      "qualify     10 non-null object\n",
      "dtypes: float64(1), int64(1), object(2)\n",
      "memory usage: 400.0+ bytes\n",
      "None\n"
     ]
    }
   ],
   "source": [
    "'''\n",
    "#3.Write a Pandas program to display a summary of the basic information about a specified DataFrame and its data.\n",
    "\n",
    "Sample DataFrame:\n",
    "exam_data = {'name': ['Anastasia', 'Dima', 'Katherine', 'James', 'Emily', 'Michael', 'Matthew', 'Laura', 'Kevin', 'Jonas'],\n",
    "'score': [12.5, 9, 16.5, np.nan, 9, 20, 14.5, np.nan, 8, 19],\n",
    "'attempts': [1, 3, 2, 3, 2, 3, 1, 1, 2, 1],\n",
    "'qualify': ['yes', 'no', 'yes', 'no', 'no', 'yes', 'yes', 'no', 'no', 'yes']}\n",
    "labels = ['a', 'b', 'c', 'd', 'e', 'f', 'g', 'h', 'i', 'j']\n",
    "'''\n",
    "import pandas as pd\n",
    "import numpy as np\n",
    "\n",
    "exam_data  = {'name': ['Anastasia', 'Dima', 'Katherine', 'James', 'Emily', 'Michael', 'Matthew', 'Laura', 'Kevin', 'Jonas'],\n",
    "        'score': [12.5, 9, 16.5, np.nan, 9, 20, 14.5, np.nan, 8, 19],\n",
    "        'attempts': [1, 3, 2, 3, 2, 3, 1, 1, 2, 1],\n",
    "        'qualify': ['yes', 'no', 'yes', 'no', 'no', 'yes', 'yes', 'no', 'no', 'yes']}\n",
    "labels = ['a', 'b', 'c', 'd', 'e', 'f', 'g', 'h', 'i', 'j']\n",
    "\n",
    "df = pd.DataFrame(exam_data , index=labels)\n",
    "print(\"Summary of the basic information about this DataFrame and its data:\")\n",
    "print(df.info())"
   ]
  },
  {
   "cell_type": "code",
   "execution_count": 5,
   "metadata": {},
   "outputs": [
    {
     "name": "stdout",
     "output_type": "stream",
     "text": [
      "First three rows of the data frame:\n",
      "        name  score  attempts qualify\n",
      "a  Anastasia   12.5         1     yes\n",
      "b       Dima    9.0         3      no\n",
      "c  Katherine   16.5         2     yes\n"
     ]
    }
   ],
   "source": [
    "'''\n",
    "#4.Write a Pandas program to get the first 3 rows of a given DataFrame.\n",
    "\n",
    "Sample DataFrame:\n",
    "exam_data = {'name': ['Anastasia', 'Dima', 'Katherine', 'James', 'Emily', 'Michael', 'Matthew', 'Laura', 'Kevin', 'Jonas'],\n",
    "'score': [12.5, 9, 16.5, np.nan, 9, 20, 14.5, np.nan, 8, 19],\n",
    "'attempts': [1, 3, 2, 3, 2, 3, 1, 1, 2, 1],\n",
    "'qualify': ['yes', 'no', 'yes', 'no', 'no', 'yes', 'yes', 'no', 'no', 'yes']}\n",
    "labels = ['a', 'b', 'c', 'd', 'e', 'f', 'g', 'h', 'i', 'j']\n",
    "'''\n",
    "import pandas as pd\n",
    "import numpy as np\n",
    "\n",
    "exam_data  = {'name': ['Anastasia', 'Dima', 'Katherine', 'James', 'Emily', 'Michael', 'Matthew', 'Laura', 'Kevin', 'Jonas'],\n",
    "        'score': [12.5, 9, 16.5, np.nan, 9, 20, 14.5, np.nan, 8, 19],\n",
    "        'attempts': [1, 3, 2, 3, 2, 3, 1, 1, 2, 1],\n",
    "        'qualify': ['yes', 'no', 'yes', 'no', 'no', 'yes', 'yes', 'no', 'no', 'yes']}\n",
    "labels = ['a', 'b', 'c', 'd', 'e', 'f', 'g', 'h', 'i', 'j']\n",
    "\n",
    "df = pd.DataFrame(exam_data , index=labels)\n",
    "print(\"First three rows of the data frame:\")\n",
    "print(df.iloc[:3])"
   ]
  },
  {
   "cell_type": "code",
   "execution_count": 6,
   "metadata": {},
   "outputs": [
    {
     "name": "stdout",
     "output_type": "stream",
     "text": [
      "Select specific columns:\n",
      "        name  score\n",
      "a  Anastasia   12.5\n",
      "b       Dima    9.0\n",
      "c  Katherine   16.5\n",
      "d      James    NaN\n",
      "e      Emily    9.0\n",
      "f    Michael   20.0\n",
      "g    Matthew   14.5\n",
      "h      Laura    NaN\n",
      "i      Kevin    8.0\n",
      "j      Jonas   19.0\n"
     ]
    }
   ],
   "source": [
    "'''\n",
    "#5.Write a Pandas program to select the 'name' and 'score' columns from the following DataFrame.\n",
    "\n",
    "Sample DataFrame:\n",
    "exam_data = {'name': ['Anastasia', 'Dima', 'Katherine', 'James', 'Emily', 'Michael', 'Matthew', 'Laura', 'Kevin', 'Jonas'],\n",
    "'score': [12.5, 9, 16.5, np.nan, 9, 20, 14.5, np.nan, 8, 19],\n",
    "'attempts': [1, 3, 2, 3, 2, 3, 1, 1, 2, 1],\n",
    "'qualify': ['yes', 'no', 'yes', 'no', 'no', 'yes', 'yes', 'no', 'no', 'yes']}\n",
    "labels = ['a', 'b', 'c', 'd', 'e', 'f', 'g', 'h', 'i', 'j']\n",
    "'''\n",
    "import pandas as pd\n",
    "import numpy as np\n",
    "\n",
    "exam_data  = {'name': ['Anastasia', 'Dima', 'Katherine', 'James', 'Emily', 'Michael', 'Matthew', 'Laura', 'Kevin', 'Jonas'],\n",
    "        'score': [12.5, 9, 16.5, np.nan, 9, 20, 14.5, np.nan, 8, 19],\n",
    "        'attempts': [1, 3, 2, 3, 2, 3, 1, 1, 2, 1],\n",
    "        'qualify': ['yes', 'no', 'yes', 'no', 'no', 'yes', 'yes', 'no', 'no', 'yes']}\n",
    "labels = ['a', 'b', 'c', 'd', 'e', 'f', 'g', 'h', 'i', 'j']\n",
    "\n",
    "df = pd.DataFrame(exam_data , index=labels)\n",
    "print(\"Select specific columns:\")\n",
    "print(df[['name', 'score']])"
   ]
  },
  {
   "cell_type": "code",
   "execution_count": 7,
   "metadata": {},
   "outputs": [
    {
     "name": "stdout",
     "output_type": "stream",
     "text": [
      "Select specific columns and rows:\n",
      "   score qualify\n",
      "b    9.0      no\n",
      "d    NaN      no\n",
      "f   20.0     yes\n",
      "g   14.5     yes\n"
     ]
    }
   ],
   "source": [
    "'''\n",
    "#6.Write a Pandas program to select the specified columns and rows from a given DataFrame. \n",
    "Select 'name' and 'score' columns in rows 1, 3, 5, 6 from the following data frame.\n",
    "\n",
    "Sample DataFrame:\n",
    "exam_data = {'name': ['Anastasia', 'Dima', 'Katherine', 'James', 'Emily', 'Michael', 'Matthew', 'Laura', 'Kevin', 'Jonas'],\n",
    "'score': [12.5, 9, 16.5, np.nan, 9, 20, 14.5, np.nan, 8, 19],\n",
    "'attempts': [1, 3, 2, 3, 2, 3, 1, 1, 2, 1],\n",
    "'qualify': ['yes', 'no', 'yes', 'no', 'no', 'yes', 'yes', 'no', 'no', 'yes']}\n",
    "labels = ['a', 'b', 'c', 'd', 'e', 'f', 'g', 'h', 'i', 'j']\n",
    "'''\n",
    "import pandas as pd\n",
    "import numpy as np\n",
    "\n",
    "exam_data  = {'name': ['Anastasia', 'Dima', 'Katherine', 'James', 'Emily', 'Michael', 'Matthew', 'Laura', 'Kevin', 'Jonas'],\n",
    "        'score': [12.5, 9, 16.5, np.nan, 9, 20, 14.5, np.nan, 8, 19],\n",
    "        'attempts': [1, 3, 2, 3, 2, 3, 1, 1, 2, 1],\n",
    "        'qualify': ['yes', 'no', 'yes', 'no', 'no', 'yes', 'yes', 'no', 'no', 'yes']}\n",
    "labels = ['a', 'b', 'c', 'd', 'e', 'f', 'g', 'h', 'i', 'j']\n",
    "\n",
    "df = pd.DataFrame(exam_data , index=labels)\n",
    "print(\"Select specific columns and rows:\")\n",
    "print(df.iloc[[1, 3, 5, 6], [1, 3]])"
   ]
  },
  {
   "cell_type": "code",
   "execution_count": 8,
   "metadata": {},
   "outputs": [
    {
     "name": "stdout",
     "output_type": "stream",
     "text": [
      "Select specific columns and rows:\n",
      "      name  score\n",
      "b     Dima    9.0\n",
      "d    James    NaN\n",
      "f  Michael   20.0\n"
     ]
    },
    {
     "name": "stderr",
     "output_type": "stream",
     "text": [
      "C:\\Users\\VIJAY\\Anaconda3\\lib\\site-packages\\ipykernel_launcher.py:22: DeprecationWarning: \n",
      ".ix is deprecated. Please use\n",
      ".loc for label based indexing or\n",
      ".iloc for positional indexing\n",
      "\n",
      "See the documentation here:\n",
      "http://pandas.pydata.org/pandas-docs/stable/indexing.html#ix-indexer-is-deprecated\n"
     ]
    }
   ],
   "source": [
    "'''\n",
    "#7.Write a Pandas program to select the rows where the number of attempts in the examination is greater than 2.\n",
    "\n",
    "Sample DataFrame:\n",
    "exam_data = {'name': ['Anastasia', 'Dima', 'Katherine', 'James', 'Emily', 'Michael', 'Matthew', 'Laura', 'Kevin', 'Jonas'],\n",
    "'score': [12.5, 9, 16.5, np.nan, 9, 20, 14.5, np.nan, 8, 19],\n",
    "'attempts': [1, 3, 2, 3, 2, 3, 1, 1, 2, 1],\n",
    "'qualify': ['yes', 'no', 'yes', 'no', 'no', 'yes', 'yes', 'no', 'no', 'yes']}\n",
    "labels = ['a', 'b', 'c', 'd', 'e', 'f', 'g', 'h', 'i', 'j']\n",
    "'''\n",
    "import pandas as pd\n",
    "import numpy as np\n",
    "\n",
    "exam_data  = {'name': ['Anastasia', 'Dima', 'Katherine', 'James', 'Emily', 'Michael', 'Matthew', 'Laura', 'Kevin', 'Jonas'],\n",
    "        'score': [12.5, 9, 16.5, np.nan, 9, 20, 14.5, np.nan, 8, 19],\n",
    "        ' attempts' : [1, 3, 2, 3, 2, 3, 1, 1, 2, 1],\n",
    "        'qualify': ['yes', 'no', 'yes', 'no', 'no', 'yes', 'yes', 'no', 'no', 'yes']}\n",
    "labels = ['a', 'b', 'c', 'd', 'e', 'f', 'g', 'h', 'i', 'j']\n",
    "\n",
    "df = pd.DataFrame(exam_data , index=labels)\n",
    "print(\"Select specific columns and rows:\")\n",
    "print(df.ix[[1, 3, 5], ['name', 'score']])"
   ]
  },
  {
   "cell_type": "code",
   "execution_count": 3,
   "metadata": {},
   "outputs": [
    {
     "name": "stdout",
     "output_type": "stream",
     "text": [
      "Original DataFrame\n",
      "   col1  col2  col3\n",
      "0     1     4     7\n",
      "1     2     5     8\n",
      "2     3     6     9\n",
      "New DataFrame after renaming columns:\n",
      "   Column1  Column2  Column3\n",
      "0        1        4        7\n",
      "1        2        5        8\n",
      "2        3        6        9\n"
     ]
    }
   ],
   "source": [
    "'''\n",
    "#8.Write a Pandas program to rename columns of a given DataFrame.\n",
    "Sample data:\n",
    "Original DataFrame\n",
    "col1 col2 col3\n",
    "0 1 4 7\n",
    "1 2 5 8\n",
    "2 3 6 9\n",
    "New DataFrame after renaming columns:\n",
    "Column1 Column2 Column3\n",
    "0 1 4 7\n",
    "1 2 5 8\n",
    "2 3 6 9\n",
    "'''\n",
    "import pandas as pd\n",
    "d = {'col1': [1, 2, 3], 'col2': [4, 5, 6], 'col3': [7, 8, 9]}\n",
    "df = pd.DataFrame(data=d)\n",
    "print(\"Original DataFrame\")\n",
    "print(df)\n",
    "df.columns = ['Column1', 'Column2', 'Column3']\n",
    "df = df.rename(columns={'col1': 'Column1', 'col2': 'Column2', 'col3': 'Column3'})\n",
    "print(\"New DataFrame after renaming columns:\")\n",
    "print(df)\n"
   ]
  },
  {
   "cell_type": "code",
   "execution_count": 9,
   "metadata": {},
   "outputs": [
    {
     "name": "stdout",
     "output_type": "stream",
     "text": [
      "Rows where score is missing:\n",
      "    name  score  attempts qualify\n",
      "d  James    NaN         3      no\n",
      "h  Laura    NaN         1      no\n"
     ]
    }
   ],
   "source": [
    "'''\n",
    "#9.Write a Pandas program to select the rows where the score is missing, i.e. is NaN.\n",
    "\n",
    "Sample DataFrame:\n",
    "exam_data = {'name': ['Anastasia', 'Dima', 'Katherine', 'James', 'Emily', 'Michael', 'Matthew', 'Laura', 'Kevin', 'Jonas'],\n",
    "'score': [12.5, 9, 16.5, np.nan, 9, 20, 14.5, np.nan, 8, 19],\n",
    "'attempts': [1, 3, 2, 3, 2, 3, 1, 1, 2, 1],\n",
    "'qualify': ['yes', 'no', 'yes', 'no', 'no', 'yes', 'yes', 'no', 'no', 'yes']}\n",
    "labels = ['a', 'b', 'c', 'd', 'e', 'f', 'g', 'h', 'i', 'j']\n",
    "'''\n",
    "import pandas as pd\n",
    "import numpy as np\n",
    "exam_data  = {'name': ['Anastasia', 'Dima', 'Katherine', 'James', 'Emily', 'Michael', 'Matthew', 'Laura', 'Kevin', 'Jonas'],\n",
    "        'score': [12.5, 9, 16.5, np.nan, 9, 20, 14.5, np.nan, 8, 19],\n",
    "        'attempts': [1, 3, 2, 3, 2, 3, 1, 1, 2, 1],\n",
    "        'qualify': ['yes', 'no', 'yes', 'no', 'no', 'yes', 'yes', 'no', 'no', 'yes']}\n",
    "labels = ['a', 'b', 'c', 'd', 'e', 'f', 'g', 'h', 'i', 'j']\n",
    "\n",
    "df = pd.DataFrame(exam_data , index=labels)\n",
    "print(\"Rows where score is missing:\")\n",
    "print(df[df['score'].isnull()])"
   ]
  },
  {
   "cell_type": "code",
   "execution_count": 10,
   "metadata": {},
   "outputs": [
    {
     "name": "stdout",
     "output_type": "stream",
     "text": [
      "Rows where score between 15 and 20 (inclusive):\n",
      "        name  score  attempts qualify\n",
      "c  Katherine   16.5         2     yes\n",
      "f    Michael   20.0         3     yes\n",
      "j      Jonas   19.0         1     yes\n"
     ]
    }
   ],
   "source": [
    "'''\n",
    "#10.Write a Pandas program to select the rows the score is between 15 and 20 (inclusive).\n",
    "\n",
    "Sample DataFrame:\n",
    "exam_data = {'name': ['Anastasia', 'Dima', 'Katherine', 'James', 'Emily', 'Michael', 'Matthew', 'Laura', 'Kevin', 'Jonas'],\n",
    "'score': [12.5, 9, 16.5, np.nan, 9, 20, 14.5, np.nan, 8, 19],\n",
    "'attempts': [1, 3, 2, 3, 2, 3, 1, 1, 2, 1],\n",
    "'qualify': ['yes', 'no', 'yes', 'no', 'no', 'yes', 'yes', 'no', 'no', 'yes']}\n",
    "labels = ['a', 'b', 'c', 'd', 'e', 'f', 'g', 'h', 'i', 'j']\n",
    "'''\n",
    "import pandas as pd\n",
    "import numpy as np\n",
    "exam_data  = {'name': ['Anastasia', 'Dima', 'Katherine', 'James', 'Emily', 'Michael', 'Matthew', 'Laura', 'Kevin', 'Jonas'],\n",
    "        'score': [12.5, 9, 16.5, np.nan, 9, 20, 14.5, np.nan, 8, 19],\n",
    "        'attempts': [1, 3, 2, 3, 2, 3, 1, 1, 2, 1],\n",
    "        'qualify': ['yes', 'no', 'yes', 'no', 'no', 'yes', 'yes', 'no', 'no', 'yes']}\n",
    "labels = ['a', 'b', 'c', 'd', 'e', 'f', 'g', 'h', 'i', 'j']\n",
    "\n",
    "df = pd.DataFrame(exam_data , index=labels)\n",
    "print(\"Rows where score between 15 and 20 (inclusive):\")\n",
    "print(df[df['score'].between(15, 20)])"
   ]
  },
  {
   "cell_type": "code",
   "execution_count": 11,
   "metadata": {},
   "outputs": [
    {
     "name": "stdout",
     "output_type": "stream",
     "text": [
      "Rows where score between 15 and 20 (inclusive):\n",
      "        name  score  attempts qualify\n",
      "c  Katherine   16.5         2     yes\n",
      "j      Jonas   19.0         1     yes\n"
     ]
    }
   ],
   "source": [
    "'''\n",
    "#11.Write a Pandas program to select the rows where number of attempts in the examination is less than 2 and score greater than 15.\n",
    "\n",
    "Sample DataFrame:\n",
    "exam_data = {'name': ['Anastasia', 'Dima', 'Katherine', 'James', 'Emily', 'Michael', 'Matthew', 'Laura', 'Kevin', 'Jonas'],\n",
    "'score': [12.5, 9, 16.5, np.nan, 9, 20, 14.5, np.nan, 8, 19],\n",
    "'attempts': [1, 3, 2, 3, 2, 3, 1, 1, 2, 1],\n",
    "'qualify': ['yes', 'no', 'yes', 'no', 'no', 'yes', 'yes', 'no', 'no', 'yes']}\n",
    "labels = ['a', 'b', 'c', 'd', 'e', 'f', 'g', 'h', 'i', 'j']\n",
    "'''\n",
    "import pandas as pd\n",
    "import numpy as np\n",
    "exam_data  = {'name': ['Anastasia', 'Dima', 'Katherine', 'James', 'Emily', 'Michael', 'Matthew', 'Laura', 'Kevin', 'Jonas'],\n",
    "        'score': [12.5, 9, 16.5, np.nan, 9, 20, 14.5, np.nan, 8, 19],\n",
    "        'attempts': [1, 3, 2, 3, 2, 3, 1, 1, 2, 1],\n",
    "        'qualify': ['yes', 'no', 'yes', 'no', 'no', 'yes', 'yes', 'no', 'no', 'yes']}\n",
    "labels = ['a', 'b', 'c', 'd', 'e', 'f', 'g', 'h', 'i', 'j']\n",
    "\n",
    "df = pd.DataFrame(exam_data , index=labels)\n",
    "print(\"Rows where score between 15 and 20 (inclusive):\")\n",
    "print(df[(df['attempts'] < 3) & (df['score'] > 15)])"
   ]
  },
  {
   "cell_type": "code",
   "execution_count": 12,
   "metadata": {},
   "outputs": [
    {
     "name": "stdout",
     "output_type": "stream",
     "text": [
      "\n",
      "Original data frame:\n",
      "        name  score  attempts qualify\n",
      "a  Anastasia   12.5         1     yes\n",
      "b       Dima    9.0         3      no\n",
      "c  Katherine   16.5         2     yes\n",
      "d      James    NaN         3      no\n",
      "e      Emily    9.0         2      no\n",
      "f    Michael   20.0         3     yes\n",
      "g    Matthew   14.5         1     yes\n",
      "h      Laura    NaN         1      no\n",
      "i      Kevin    8.0         2      no\n",
      "j      Jonas   19.0         1     yes\n",
      "\n",
      "Change the score in row 'd' to 11.5:\n",
      "        name  score  attempts qualify\n",
      "a  Anastasia   12.5         1     yes\n",
      "b       Dima    9.0         3      no\n",
      "c  Katherine   16.5         2     yes\n",
      "d      James   11.5         3      no\n",
      "e      Emily    9.0         2      no\n",
      "f    Michael   20.0         3     yes\n",
      "g    Matthew   14.5         1     yes\n",
      "h      Laura    NaN         1      no\n",
      "i      Kevin    8.0         2      no\n",
      "j      Jonas   19.0         1     yes\n"
     ]
    }
   ],
   "source": [
    "'''\n",
    "#12.Write a Pandas program to change the score in row 'd' to 11.5.\n",
    "\n",
    "Sample DataFrame:\n",
    "exam_data = {'name': ['Anastasia', 'Dima', 'Katherine', 'James', 'Emily', 'Michael', 'Matthew', 'Laura', 'Kevin', 'Jonas'],\n",
    "'score': [12.5, 9, 16.5, np.nan, 9, 20, 14.5, np.nan, 8, 19],\n",
    "'attempts': [1, 3, 2, 3, 2, 3, 1, 1, 2, 1],\n",
    "'qualify': ['yes', 'no', 'yes', 'no', 'no', 'yes', 'yes', 'no', 'no', 'yes']}\n",
    "labels = ['a', 'b', 'c', 'd', 'e', 'f', 'g', 'h', 'i', 'j']\n",
    "'''\n",
    "import pandas as pd\n",
    "import numpy as np\n",
    "exam_data  = {'name': ['Anastasia', 'Dima', 'Katherine', 'James', 'Emily', 'Michael', 'Matthew', 'Laura', 'Kevin', 'Jonas'],\n",
    "        'score': [12.5, 9, 16.5, np.nan, 9, 20, 14.5, np.nan, 8, 19],\n",
    "        'attempts': [1, 3, 2, 3, 2, 3, 1, 1, 2, 1],\n",
    "        'qualify': ['yes', 'no', 'yes', 'no', 'no', 'yes', 'yes', 'no', 'no', 'yes']}\n",
    "labels = ['a', 'b', 'c', 'd', 'e', 'f', 'g', 'h', 'i', 'j']\n",
    "\n",
    "df = pd.DataFrame(exam_data , index=labels)\n",
    "print(\"\\nOriginal data frame:\")\n",
    "print(df)\n",
    "print(\"\\nChange the score in row 'd' to 11.5:\")\n",
    "df.loc['d', 'score'] = 11.5\n",
    "print(df)"
   ]
  },
  {
   "cell_type": "code",
   "execution_count": 13,
   "metadata": {},
   "outputs": [
    {
     "name": "stdout",
     "output_type": "stream",
     "text": [
      "\n",
      "Sum of the examination attempts by the students:\n",
      "19\n"
     ]
    }
   ],
   "source": [
    "'''\n",
    "#13.Write a Pandas program to calculate the sum of the examination attempts by the students.\n",
    "\n",
    "Sample DataFrame:\n",
    "exam_data = {'name': ['Anastasia', 'Dima', 'Katherine', 'James', 'Emily', 'Michael', 'Matthew', 'Laura', 'Kevin', 'Jonas'],\n",
    "'score': [12.5, 9, 16.5, np.nan, 9, 20, 14.5, np.nan, 8, 19],\n",
    "'attempts': [1, 3, 2, 3, 2, 3, 1, 1, 2, 1],\n",
    "'qualify': ['yes', 'no', 'yes', 'no', 'no', 'yes', 'yes', 'no', 'no', 'yes']}\n",
    "labels = ['a', 'b', 'c', 'd', 'e', 'f', 'g', 'h', 'i', 'j']\n",
    "'''\n",
    "import pandas as pd\n",
    "import numpy as np\n",
    "exam_data  = {'name': ['Anastasia', 'Dima', 'Katherine', 'James', 'Emily', 'Michael', 'Matthew', 'Laura', 'Kevin', 'Jonas'],\n",
    "        'score': [12.5, 9, 16.5, np.nan, 9, 20, 14.5, np.nan, 8, 19],\n",
    "        'attempts': [1, 3, 2, 3, 2, 3, 1, 1, 2, 1],\n",
    "        'qualify': ['yes', 'no', 'yes', 'no', 'no', 'yes', 'yes', 'no', 'no', 'yes']}\n",
    "labels = ['a', 'b', 'c', 'd', 'e', 'f', 'g', 'h', 'i', 'j']\n",
    "\n",
    "df = pd.DataFrame(exam_data , index=labels)\n",
    "print(\"\\nSum of the examination attempts by the students:\")\n",
    "print(df['attempts'].sum())"
   ]
  },
  {
   "cell_type": "code",
   "execution_count": 14,
   "metadata": {},
   "outputs": [
    {
     "name": "stdout",
     "output_type": "stream",
     "text": [
      "\n",
      "Mean score for each different student in data frame:\n",
      "13.5625\n"
     ]
    }
   ],
   "source": [
    "'''\n",
    "#14.Write a Pandas program to calculate the mean score for each different student in data frame.\n",
    "\n",
    "Sample DataFrame:\n",
    "exam_data = {'name': ['Anastasia', 'Dima', 'Katherine', 'James', 'Emily', 'Michael', 'Matthew', 'Laura', 'Kevin', 'Jonas'],\n",
    "'score': [12.5, 9, 16.5, np.nan, 9, 20, 14.5, np.nan, 8, 19],\n",
    "'attempts': [1, 3, 2, 3, 2, 3, 1, 1, 2, 1],\n",
    "'qualify': ['yes', 'no', 'yes', 'no', 'no', 'yes', 'yes', 'no', 'no', 'yes']}\n",
    "labels = ['a', 'b', 'c', 'd', 'e', 'f', 'g', 'h', 'i', 'j']\n",
    "'''\n",
    "import pandas as pd\n",
    "import numpy as np\n",
    "exam_data  = {'name': ['Anastasia', 'Dima', 'Katherine', 'James', 'Emily', 'Michael', 'Matthew', 'Laura', 'Kevin', 'Jonas'],\n",
    "        'score': [12.5, 9, 16.5, np.nan, 9, 20, 14.5, np.nan, 8, 19],\n",
    "        'attempts': [1, 3, 2, 3, 2, 3, 1, 1, 2, 1],\n",
    "        'qualify': ['yes', 'no', 'yes', 'no', 'no', 'yes', 'yes', 'no', 'no', 'yes']}\n",
    "labels = ['a', 'b', 'c', 'd', 'e', 'f', 'g', 'h', 'i', 'j']\n",
    "\n",
    "df = pd.DataFrame(exam_data , index=labels)\n",
    "print(\"\\nMean score for each different student in data frame:\")\n",
    "print(df['score'].mean())"
   ]
  },
  {
   "cell_type": "code",
   "execution_count": 15,
   "metadata": {},
   "outputs": [
    {
     "name": "stdout",
     "output_type": "stream",
     "text": [
      "Orginal rows:\n",
      "        name  score  attempts qualify\n",
      "a  Anastasia   12.5         1     yes\n",
      "b       Dima    9.0         3      no\n",
      "c  Katherine   16.5         2     yes\n",
      "d      James    NaN         3      no\n",
      "e      Emily    9.0         2      no\n",
      "f    Michael   20.0         3     yes\n",
      "g    Matthew   14.5         1     yes\n",
      "h      Laura    NaN         1      no\n",
      "i      Kevin    8.0         2      no\n",
      "j      Jonas   19.0         1     yes\n",
      "\n",
      "Append a new row:\n",
      "Print all records after insert a new record:\n",
      "        name   score attempts qualify\n",
      "a  Anastasia    12.5        1     yes\n",
      "b       Dima       9        3      no\n",
      "c  Katherine    16.5        2     yes\n",
      "d      James     NaN        3      no\n",
      "e      Emily       9        2      no\n",
      "f    Michael      20        3     yes\n",
      "g    Matthew    14.5        1     yes\n",
      "h      Laura     NaN        1      no\n",
      "i      Kevin       8        2      no\n",
      "j      Jonas      19        1     yes\n",
      "k          1  Suresh      yes    15.5\n",
      "\n",
      "Delete the new row and display the original  rows:\n",
      "        name score attempts qualify\n",
      "a  Anastasia  12.5        1     yes\n",
      "b       Dima     9        3      no\n",
      "c  Katherine  16.5        2     yes\n",
      "d      James   NaN        3      no\n",
      "e      Emily     9        2      no\n",
      "f    Michael    20        3     yes\n",
      "g    Matthew  14.5        1     yes\n",
      "h      Laura   NaN        1      no\n",
      "i      Kevin     8        2      no\n",
      "j      Jonas    19        1     yes\n"
     ]
    }
   ],
   "source": [
    "'''\n",
    "#15.Write a Pandas program to append a new row 'k' to DataFrame with given values for each column. Now delete the new row and return the original data frame.\n",
    "\n",
    "Sample DataFrame:\n",
    "exam_data = {'name': ['Anastasia', 'Dima', 'Katherine', 'James', 'Emily', 'Michael', 'Matthew', 'Laura', 'Kevin', 'Jonas'],\n",
    "'score': [12.5, 9, 16.5, np.nan, 9, 20, 14.5, np.nan, 8, 19],\n",
    "'attempts': [1, 3, 2, 3, 2, 3, 1, 1, 2, 1],\n",
    "'qualify': ['yes', 'no', 'yes', 'no', 'no', 'yes', 'yes', 'no', 'no', 'yes']}\n",
    "labels = ['a', 'b', 'c', 'd', 'e', 'f', 'g', 'h', 'i', 'j']\n",
    "Values for each column will be:\n",
    "name : ‘Suresh’, score: 15.5, attempts: 1, qualify: ‘yes’, label: ‘k’\n",
    "'''\n",
    "import pandas as pd\n",
    "import numpy as np\n",
    "exam_data  = {'name': ['Anastasia', 'Dima', 'Katherine', 'James', 'Emily', 'Michael', 'Matthew', 'Laura', 'Kevin', 'Jonas'],\n",
    "        'score': [12.5, 9, 16.5, np.nan, 9, 20, 14.5, np.nan, 8, 19],\n",
    "        'attempts': [1, 3, 2, 3, 2, 3, 1, 1, 2, 1],\n",
    "        'qualify': ['yes', 'no', 'yes', 'no', 'no', 'yes', 'yes', 'no', 'no', 'yes']}\n",
    "labels = ['a', 'b', 'c', 'd', 'e', 'f', 'g', 'h', 'i', 'j']\n",
    "df = pd.DataFrame(exam_data , index=labels)\n",
    "print(\"Orginal rows:\")\n",
    "print(df)\n",
    "print(\"\\nAppend a new row:\")\n",
    "df.loc['k'] = [1, 'Suresh', 'yes', 15.5]\n",
    "print(\"Print all records after insert a new record:\")\n",
    "print(df)\n",
    "print(\"\\nDelete the new row and display the original  rows:\")\n",
    "df = df.drop('k')\n",
    "print(df)"
   ]
  },
  {
   "cell_type": "code",
   "execution_count": 16,
   "metadata": {},
   "outputs": [
    {
     "name": "stdout",
     "output_type": "stream",
     "text": [
      "Orginal rows:\n",
      "        name  score  attempts qualify\n",
      "a  Anastasia   12.5         1     yes\n",
      "b       Dima    9.0         3      no\n",
      "c  Katherine   16.5         2     yes\n",
      "d      James    NaN         3      no\n",
      "e      Emily    9.0         2      no\n",
      "f    Michael   20.0         3     yes\n",
      "g    Matthew   14.5         1     yes\n",
      "h      Laura    NaN         1      no\n",
      "i      Kevin    8.0         2      no\n",
      "j      Jonas   19.0         1     yes\n",
      "Sort the data frame first by ‘name’ in descending order, then by ‘score’ in ascending order:\n",
      "        name  score  attempts qualify\n",
      "a  Anastasia   12.5         1     yes\n",
      "b       Dima    9.0         3      no\n",
      "c  Katherine   16.5         2     yes\n",
      "d      James    NaN         3      no\n",
      "e      Emily    9.0         2      no\n",
      "f    Michael   20.0         3     yes\n",
      "g    Matthew   14.5         1     yes\n",
      "h      Laura    NaN         1      no\n",
      "i      Kevin    8.0         2      no\n",
      "j      Jonas   19.0         1     yes\n"
     ]
    }
   ],
   "source": [
    "'''\n",
    "#16.Write a Pandas program to sort the data frame first by 'name' in descending order, then by 'score' in ascending order.\n",
    "\n",
    "Sample DataFrame:\n",
    "exam_data = {'name': ['Anastasia', 'Dima', 'Katherine', 'James', 'Emily', 'Michael', 'Matthew', 'Laura', 'Kevin', 'Jonas'],\n",
    "'score': [12.5, 9, 16.5, np.nan, 9, 20, 14.5, np.nan, 8, 19],\n",
    "'attempts': [1, 3, 2, 3, 2, 3, 1, 1, 2, 1],\n",
    "'qualify': ['yes', 'no', 'yes', 'no', 'no', 'yes', 'yes', 'no', 'no', 'yes']}\n",
    "labels = ['a', 'b', 'c', 'd', 'e', 'f', 'g', 'h', 'i', 'j']\n",
    "Values for each column will be:\n",
    "name : ‘Suresh’, score: 15.5, attempts: 1, qualify: ‘yes’, label: ‘k’\n",
    "'''\n",
    "import pandas as pd\n",
    "import numpy as np\n",
    "exam_data  = {'name': ['Anastasia', 'Dima', 'Katherine', 'James', 'Emily', 'Michael', 'Matthew', 'Laura', 'Kevin', 'Jonas'],\n",
    "        'score': [12.5, 9, 16.5, np.nan, 9, 20, 14.5, np.nan, 8, 19],\n",
    "        'attempts': [1, 3, 2, 3, 2, 3, 1, 1, 2, 1],\n",
    "        'qualify': ['yes', 'no', 'yes', 'no', 'no', 'yes', 'yes', 'no', 'no', 'yes']}\n",
    "labels = ['a', 'b', 'c', 'd', 'e', 'f', 'g', 'h', 'i', 'j']\n",
    "df = pd.DataFrame(exam_data , index=labels)\n",
    "print(\"Orginal rows:\")\n",
    "print(df)\n",
    "df.sort_values(by=['name', 'score'], ascending=[False, True])\n",
    "print(\"Sort the data frame first by ‘name’ in descending order, then by ‘score’ in ascending order:\")\n",
    "print(df)"
   ]
  },
  {
   "cell_type": "code",
   "execution_count": 17,
   "metadata": {},
   "outputs": [
    {
     "name": "stdout",
     "output_type": "stream",
     "text": [
      "Orginal rows:\n",
      "        name  score  attempts qualify\n",
      "a  Anastasia   12.5         1     yes\n",
      "b       Dima    9.0         3      no\n",
      "c  Katherine   16.5         2     yes\n",
      "d      James    NaN         3      no\n",
      "e      Emily    9.0         2      no\n",
      "f    Michael   20.0         3     yes\n",
      "g    Matthew   14.5         1     yes\n",
      "h      Laura    NaN         1      no\n",
      "i      Kevin    8.0         2      no\n",
      "j      Jonas   19.0         1     yes\n",
      "\n",
      "Replace the ‘qualify' column contains the values 'yes' and 'no'  with True and  False:\n",
      "        name  score  attempts  qualify\n",
      "a  Anastasia   12.5         1     True\n",
      "b       Dima    9.0         3    False\n",
      "c  Katherine   16.5         2     True\n",
      "d      James    NaN         3    False\n",
      "e      Emily    9.0         2    False\n",
      "f    Michael   20.0         3     True\n",
      "g    Matthew   14.5         1     True\n",
      "h      Laura    NaN         1    False\n",
      "i      Kevin    8.0         2    False\n",
      "j      Jonas   19.0         1     True\n"
     ]
    }
   ],
   "source": [
    "'''\n",
    "#17.Write a Pandas program to replace the ‘qualify' column contains the values 'yes' and 'no' with True and False.\n",
    "\n",
    "Sample DataFrame:\n",
    "exam_data = {'name': ['Anastasia', 'Dima', 'Katherine', 'James', 'Emily', 'Michael', 'Matthew', 'Laura', 'Kevin', 'Jonas'],\n",
    "'score': [12.5, 9, 16.5, np.nan, 9, 20, 14.5, np.nan, 8, 19],\n",
    "'attempts': [1, 3, 2, 3, 2, 3, 1, 1, 2, 1],\n",
    "'qualify': ['yes', 'no', 'yes', 'no', 'no', 'yes', 'yes', 'no', 'no', 'yes']}\n",
    "labels = ['a', 'b', 'c', 'd', 'e', 'f', 'g', 'h', 'i', 'j']\n",
    "Values for each column will be:\n",
    "name : ‘Suresh’, score: 15.5, attempts: 1, qualify: ‘yes’, label: ‘k’\n",
    "'''\n",
    "import pandas as pd\n",
    "import numpy as np\n",
    "exam_data  = {'name': ['Anastasia', 'Dima', 'Katherine', 'James', 'Emily', 'Michael', 'Matthew', 'Laura', 'Kevin', 'Jonas'],\n",
    "        'score': [12.5, 9, 16.5, np.nan, 9, 20, 14.5, np.nan, 8, 19],\n",
    "        'attempts': [1, 3, 2, 3, 2, 3, 1, 1, 2, 1],\n",
    "        'qualify': ['yes', 'no', 'yes', 'no', 'no', 'yes', 'yes', 'no', 'no', 'yes']}\n",
    "labels = ['a', 'b', 'c', 'd', 'e', 'f', 'g', 'h', 'i', 'j']\n",
    "df = pd.DataFrame(exam_data , index=labels)\n",
    "print(\"Orginal rows:\")\n",
    "print(df)\n",
    "print(\"\\nReplace the ‘qualify' column contains the values 'yes' and 'no'  with True and  False:\")\n",
    "df['qualify'] = df['qualify'].map({'yes': True, 'no': False})\n",
    "print(df)"
   ]
  },
  {
   "cell_type": "code",
   "execution_count": 18,
   "metadata": {},
   "outputs": [
    {
     "name": "stdout",
     "output_type": "stream",
     "text": [
      "Orginal rows:\n",
      "        name  score  attempts qualify\n",
      "a  Anastasia   12.5         1     yes\n",
      "b       Dima    9.0         3      no\n",
      "c  Katherine   16.5         2     yes\n",
      "d      James    NaN         3      no\n",
      "e      Emily    9.0         2      no\n",
      "f    Michael   20.0         3     yes\n",
      "g    Matthew   14.5         1     yes\n",
      "h      Laura    NaN         1      no\n",
      "i      Kevin    8.0         2      no\n",
      "j      Jonas   19.0         1     yes\n",
      "\n",
      "Change the name 'James' to ‘Suresh’:\n",
      "        name  score  attempts qualify\n",
      "a  Anastasia   12.5         1     yes\n",
      "b       Dima    9.0         3      no\n",
      "c  Katherine   16.5         2     yes\n",
      "d     Suresh    NaN         3      no\n",
      "e      Emily    9.0         2      no\n",
      "f    Michael   20.0         3     yes\n",
      "g    Matthew   14.5         1     yes\n",
      "h      Laura    NaN         1      no\n",
      "i      Kevin    8.0         2      no\n",
      "j      Jonas   19.0         1     yes\n"
     ]
    }
   ],
   "source": [
    "'''\n",
    "#18.Write a Pandas program to change the name 'James' to 'Suresh' in name column of the data frame.\n",
    "\n",
    "Sample DataFrame:\n",
    "exam_data = {'name': ['Anastasia', 'Dima', 'Katherine', 'James', 'Emily', 'Michael', 'Matthew', 'Laura', 'Kevin', 'Jonas'],\n",
    "'score': [12.5, 9, 16.5, np.nan, 9, 20, 14.5, np.nan, 8, 19],\n",
    "'attempts': [1, 3, 2, 3, 2, 3, 1, 1, 2, 1],\n",
    "'qualify': ['yes', 'no', 'yes', 'no', 'no', 'yes', 'yes', 'no', 'no', 'yes']}\n",
    "labels = ['a', 'b', 'c', 'd', 'e', 'f', 'g', 'h', 'i', 'j']\n",
    "'''\n",
    "import pandas as pd\n",
    "import numpy as np\n",
    "exam_data  = {'name': ['Anastasia', 'Dima', 'Katherine', 'James', 'Emily', 'Michael', 'Matthew', 'Laura', 'Kevin', 'Jonas'],\n",
    "        'score': [12.5, 9, 16.5, np.nan, 9, 20, 14.5, np.nan, 8, 19],\n",
    "        'attempts': [1, 3, 2, 3, 2, 3, 1, 1, 2, 1],\n",
    "        'qualify': ['yes', 'no', 'yes', 'no', 'no', 'yes', 'yes', 'no', 'no', 'yes']}\n",
    "labels = ['a', 'b', 'c', 'd', 'e', 'f', 'g', 'h', 'i', 'j']\n",
    "df = pd.DataFrame(exam_data , index=labels)\n",
    "print(\"Orginal rows:\")\n",
    "print(df)\n",
    "print(\"\\nChange the name 'James' to ‘Suresh’:\")\n",
    "df['name'] = df['name'].replace('James', 'Suresh')\n",
    "print(df)"
   ]
  },
  {
   "cell_type": "code",
   "execution_count": 19,
   "metadata": {},
   "outputs": [
    {
     "name": "stdout",
     "output_type": "stream",
     "text": [
      "Orginal rows:\n",
      "        name  score  attempts qualify\n",
      "a  Anastasia   12.5         1     yes\n",
      "b       Dima    9.0         3      no\n",
      "c  Katherine   16.5         2     yes\n",
      "d      James    NaN         3      no\n",
      "e      Emily    9.0         2      no\n",
      "f    Michael   20.0         3     yes\n",
      "g    Matthew   14.5         1     yes\n",
      "h      Laura    NaN         1      no\n",
      "i      Kevin    8.0         2      no\n",
      "j      Jonas   19.0         1     yes\n",
      "\n",
      "Delete the 'attempts' column from the data frame:\n",
      "        name  score qualify\n",
      "a  Anastasia   12.5     yes\n",
      "b       Dima    9.0      no\n",
      "c  Katherine   16.5     yes\n",
      "d      James    NaN      no\n",
      "e      Emily    9.0      no\n",
      "f    Michael   20.0     yes\n",
      "g    Matthew   14.5     yes\n",
      "h      Laura    NaN      no\n",
      "i      Kevin    8.0      no\n",
      "j      Jonas   19.0     yes\n"
     ]
    }
   ],
   "source": [
    "'''\n",
    "#19.Write a Pandas program to delete the 'attempts' column from the DataFrame.\n",
    "\n",
    "Sample DataFrame:\n",
    "exam_data = {'name': ['Anastasia', 'Dima', 'Katherine', 'James', 'Emily', 'Michael', 'Matthew', 'Laura', 'Kevin', 'Jonas'],\n",
    "'score': [12.5, 9, 16.5, np.nan, 9, 20, 14.5, np.nan, 8, 19],\n",
    "'attempts': [1, 3, 2, 3, 2, 3, 1, 1, 2, 1],\n",
    "'qualify': ['yes', 'no', 'yes', 'no', 'no', 'yes', 'yes', 'no', 'no', 'yes']}\n",
    "labels = ['a', 'b', 'c', 'd', 'e', 'f', 'g', 'h', 'i', 'j']\n",
    "'''\n",
    "import pandas as pd\n",
    "import numpy as np\n",
    "exam_data  = {'name': ['Anastasia', 'Dima', 'Katherine', 'James', 'Emily', 'Michael', 'Matthew', 'Laura', 'Kevin', 'Jonas'],\n",
    "        'score': [12.5, 9, 16.5, np.nan, 9, 20, 14.5, np.nan, 8, 19],\n",
    "        'attempts': [1, 3, 2, 3, 2, 3, 1, 1, 2, 1],\n",
    "        'qualify': ['yes', 'no', 'yes', 'no', 'no', 'yes', 'yes', 'no', 'no', 'yes']}\n",
    "labels = ['a', 'b', 'c', 'd', 'e', 'f', 'g', 'h', 'i', 'j']\n",
    "df = pd.DataFrame(exam_data , index=labels)\n",
    "print(\"Orginal rows:\")\n",
    "print(df)\n",
    "print(\"\\nDelete the 'attempts' column from the data frame:\")\n",
    "df.pop('attempts')\n",
    "print(df)"
   ]
  },
  {
   "cell_type": "code",
   "execution_count": 20,
   "metadata": {},
   "outputs": [
    {
     "name": "stdout",
     "output_type": "stream",
     "text": [
      "Orginal rows:\n",
      "        name  score  attempts qualify\n",
      "a  Anastasia   12.5         1     yes\n",
      "b       Dima    9.0         3      no\n",
      "c  Katherine   16.5         2     yes\n",
      "d      James    NaN         3      no\n",
      "e      Emily    9.0         2      no\n",
      "f    Michael   20.0         3     yes\n",
      "g    Matthew   14.5         1     yes\n",
      "h      Laura    NaN         1      no\n",
      "i      Kevin    8.0         2      no\n",
      "j      Jonas   19.0         1     yes\n",
      "\n",
      "New DataFrame after inserting the 'color' column\n",
      "        name  score  attempts qualify   color\n",
      "a  Anastasia   12.5         1     yes     Red\n",
      "b       Dima    9.0         3      no    Blue\n",
      "c  Katherine   16.5         2     yes  Orange\n",
      "d      James    NaN         3      no     Red\n",
      "e      Emily    9.0         2      no   White\n",
      "f    Michael   20.0         3     yes   White\n",
      "g    Matthew   14.5         1     yes    Blue\n",
      "h      Laura    NaN         1      no   Green\n",
      "i      Kevin    8.0         2      no   Green\n",
      "j      Jonas   19.0         1     yes     Red\n"
     ]
    }
   ],
   "source": [
    "'''\n",
    "#20.Write a Pandas program to insert a new column in existing DataFrame.\n",
    "\n",
    "Sample DataFrame:\n",
    "exam_data = {'name': ['Anastasia', 'Dima', 'Katherine', 'James', 'Emily', 'Michael', 'Matthew', 'Laura', 'Kevin', 'Jonas'],\n",
    "'score': [12.5, 9, 16.5, np.nan, 9, 20, 14.5, np.nan, 8, 19],\n",
    "'attempts': [1, 3, 2, 3, 2, 3, 1, 1, 2, 1],\n",
    "'qualify': ['yes', 'no', 'yes', 'no', 'no', 'yes', 'yes', 'no', 'no', 'yes']}\n",
    "labels = ['a', 'b', 'c', 'd', 'e', 'f', 'g', 'h', 'i', 'j']\n",
    "Insert the following column:\n",
    "color = ['Red','Blue','Orange','Red','White','White','Blue','Green','Green','Red']\n",
    "'''\n",
    "import pandas as pd\n",
    "import numpy as np\n",
    "exam_data  = {'name': ['Anastasia', 'Dima', 'Katherine', 'James', 'Emily', 'Michael', 'Matthew', 'Laura', 'Kevin', 'Jonas'],\n",
    "        'score': [12.5, 9, 16.5, np.nan, 9, 20, 14.5, np.nan, 8, 19],\n",
    "        'attempts': [1, 3, 2, 3, 2, 3, 1, 1, 2, 1],\n",
    "        'qualify': ['yes', 'no', 'yes', 'no', 'no', 'yes', 'yes', 'no', 'no', 'yes']}\n",
    "labels = ['a', 'b', 'c', 'd', 'e', 'f', 'g', 'h', 'i', 'j']\n",
    "df = pd.DataFrame(exam_data , index=labels)\n",
    "print(\"Orginal rows:\")\n",
    "print(df)\n",
    "color = ['Red','Blue','Orange','Red','White','White','Blue','Green','Green','Red']\n",
    "df['color'] = color\n",
    "print(\"\\nNew DataFrame after inserting the 'color' column\")\n",
    "print(df)"
   ]
  },
  {
   "cell_type": "code",
   "execution_count": 21,
   "metadata": {},
   "outputs": [
    {
     "name": "stdout",
     "output_type": "stream",
     "text": [
      "Anastasia 12.5\n",
      "Dima 9.0\n",
      "Katherine 16.5\n"
     ]
    }
   ],
   "source": [
    "'''\n",
    "#21.Write a Pandas program to iterate over rows in a DataFrame.\n",
    "'''\n",
    "import pandas as pd\n",
    "import numpy as np\n",
    "exam_data = [{'name':'Anastasia', 'score':12.5}, {'name':'Dima','score':9}, {'name':'Katherine','score':16.5}]\n",
    "df = pd.DataFrame(exam_data)\n",
    "for index, row in df.iterrows():\n",
    "    print(row['name'], row['score'])"
   ]
  },
  {
   "cell_type": "code",
   "execution_count": 22,
   "metadata": {},
   "outputs": [
    {
     "name": "stdout",
     "output_type": "stream",
     "text": [
      "['name', 'score', 'attempts', 'qualify']\n"
     ]
    }
   ],
   "source": [
    "'''\n",
    "#22.Write a Pandas program to get list from DataFrame column headers.\n",
    "\n",
    "Sample data:\n",
    "exam_data = {'name': ['Anastasia', 'Dima', 'Katherine', 'James', 'Emily', 'Michael', 'Matthew', 'Laura', 'Kevin', 'Jonas'],\n",
    "'score': [12.5, 9, 16.5, np.nan, 9, 20, 14.5, np.nan, 8, 19],\n",
    "'attempts': [1, 3, 2, 3, 2, 3, 1, 1, 2, 1],\n",
    "'qualify': ['yes', 'no', 'yes', 'no', 'no', 'yes', 'yes', 'no', 'no', 'yes']}\n",
    "labels = ['a', 'b', 'c', 'd', 'e', 'f', 'g', 'h', 'i', 'j']\n",
    "'''\n",
    "import pandas as pd\n",
    "import numpy as np\n",
    "exam_data  = {'name': ['Anastasia', 'Dima', 'Katherine', 'James', 'Emily', 'Michael', 'Matthew', 'Laura', 'Kevin', 'Jonas'],\n",
    "        'score': [12.5, 9, 16.5, np.nan, 9, 20, 14.5, np.nan, 8, 19],\n",
    "        'attempts': [1, 3, 2, 3, 2, 3, 1, 1, 2, 1],\n",
    "        'qualify': ['yes', 'no', 'yes', 'no', 'no', 'yes', 'yes', 'no', 'no', 'yes']}\n",
    "labels = ['a', 'b', 'c', 'd', 'e', 'f', 'g', 'h', 'i', 'j']\n",
    "df = pd.DataFrame(exam_data , index=labels)\n",
    "print(list(df.columns.values))"
   ]
  },
  {
   "cell_type": "code",
   "execution_count": 23,
   "metadata": {},
   "outputs": [
    {
     "name": "stdout",
     "output_type": "stream",
     "text": [
      "Original DataFrame\n",
      "   col1  col2  col3\n",
      "0     1     4     7\n",
      "1     2     5     8\n",
      "2     3     6     9\n",
      "New DataFrame after renaming columns:\n",
      "   Column1  Column2  Column3\n",
      "0        1        4        7\n",
      "1        2        5        8\n",
      "2        3        6        9\n"
     ]
    }
   ],
   "source": [
    "'''\n",
    "#23.Write a Pandas program to rename columns of a given DataFrame.\n",
    "\n",
    "Sample data:\n",
    "Original DataFrame\n",
    "col1 col2 col3\n",
    "0 1 4 7\n",
    "1 2 5 8\n",
    "2 3 6 9\n",
    "New DataFrame after renaming columns:\n",
    "Column1 Column2 Column3\n",
    "0 1 4 7\n",
    "1 2 5 8\n",
    "2 3 6 9\n",
    "'''\n",
    "import pandas as pd\n",
    "d = {'col1': [1, 2, 3], 'col2': [4, 5, 6], 'col3': [7, 8, 9]}\n",
    "df = pd.DataFrame(data=d)\n",
    "print(\"Original DataFrame\")\n",
    "print(df)\n",
    "df.columns = ['Column1', 'Column2', 'Column3']\n",
    "df = df.rename(columns={'col1': 'Column1', 'col2': 'Column2', 'col3': 'Column3'})\n",
    "print(\"New DataFrame after renaming columns:\")\n",
    "print(df)"
   ]
  },
  {
   "cell_type": "code",
   "execution_count": 24,
   "metadata": {},
   "outputs": [
    {
     "name": "stdout",
     "output_type": "stream",
     "text": [
      "Original DataFrame\n",
      "   col1  col2  col3\n",
      "0     1     4     7\n",
      "1     4     5     8\n",
      "2     3     6     9\n",
      "3     4     7     0\n",
      "4     5     8     1\n",
      "Rows for colum1 value == 4\n",
      "   col1  col2  col3\n",
      "1     4     5     8\n",
      "3     4     7     0\n"
     ]
    }
   ],
   "source": [
    "'''\n",
    "#24.Write a Pandas program to select rows from a given DataFrame based on values in some columns.\n",
    "\n",
    "Sample data:\n",
    "Original DataFrame\n",
    "col1 col2 col3\n",
    "0 1 4 7\n",
    "1 4 5 8\n",
    "2 3 6 9\n",
    "3 4 7 0\n",
    "4 5 8 1\n",
    "Rows for colum1 value == 4\n",
    "col1 col2 col3\n",
    "1 4 5 8\n",
    "3 4 7 0\n",
    "'''\n",
    "import pandas as pd\n",
    "import numpy as np\n",
    "d = {'col1': [1, 4, 3, 4, 5], 'col2': [4, 5, 6, 7, 8], 'col3': [7, 8, 9, 0, 1]}\n",
    "df = pd.DataFrame(data=d)\n",
    "print(\"Original DataFrame\")\n",
    "print(df)\n",
    "print('Rows for colum1 value == 4')\n",
    "print(df.loc[df['col1'] == 4])"
   ]
  },
  {
   "cell_type": "code",
   "execution_count": 25,
   "metadata": {},
   "outputs": [
    {
     "name": "stdout",
     "output_type": "stream",
     "text": [
      "Original DataFrame\n",
      "   col1  col2  col3\n",
      "0     1     4     7\n",
      "1     4     5     8\n",
      "2     3     6     9\n",
      "3     4     7     0\n",
      "4     5     8     1\n",
      "After altering col1 and col3\n",
      "   col3  col2  col1\n",
      "0     7     4     1\n",
      "1     8     5     4\n",
      "2     9     6     3\n",
      "3     0     7     4\n",
      "4     1     8     5\n"
     ]
    }
   ],
   "source": [
    "'''\n",
    "#25.Write a Pandas program to change the order of a DataFrame columns.\n",
    "\n",
    "Sample data:\n",
    "Original DataFrame\n",
    "col1 col2 col3\n",
    "0 1 4 7\n",
    "1 4 5 8\n",
    "2 3 6 9\n",
    "3 4 7 0\n",
    "4 5 8 1\n",
    "After altering col1 and col3\n",
    "col3 col2 col1\n",
    "0 7 4 1\n",
    "1 8 5 4\n",
    "2 9 6 3\n",
    "3 0 7 4\n",
    "4 1 8 5\n",
    "'''\n",
    "import pandas as pd\n",
    "import numpy as np\n",
    "d = {'col1': [1, 4, 3, 4, 5], 'col2': [4, 5, 6, 7, 8], 'col3': [7, 8, 9, 0, 1]}\n",
    "df = pd.DataFrame(data=d)\n",
    "print(\"Original DataFrame\")\n",
    "print(df)\n",
    "print('After altering col1 and col3')\n",
    "df = df[['col3', 'col2', 'col1']]\n",
    "print(df)"
   ]
  },
  {
   "cell_type": "code",
   "execution_count": 26,
   "metadata": {},
   "outputs": [
    {
     "name": "stdout",
     "output_type": "stream",
     "text": [
      "Original DataFrame\n",
      "   col1  col2  col3\n",
      "0     1     4     7\n",
      "1     4     5     8\n",
      "2     3     6     9\n",
      "3     4     7     0\n",
      "4     5     8     1\n",
      "After add one row:\n",
      "   col1  col2  col3\n",
      "0     1     4     7\n",
      "1     4     5     8\n",
      "2     3     6     9\n",
      "3     4     7     0\n",
      "4     5     8     1\n",
      "5    10    11    12\n"
     ]
    }
   ],
   "source": [
    "'''\n",
    "#26.Write a Pandas program to add one row in an existing DataFrame.\n",
    "\n",
    "Sample data:\n",
    "Original DataFrame\n",
    "col1 col2 col3\n",
    "0 1 4 7\n",
    "1 4 5 8\n",
    "2 3 6 9\n",
    "3 4 7 0\n",
    "4 5 8 1\n",
    "After add one row:\n",
    "col1 col2 col3\n",
    "0 1 4 7\n",
    "1 4 5 8\n",
    "2 3 6 9\n",
    "3 4 7 0\n",
    "4 5 8 1\n",
    "5 10 11 12\n",
    "'''\n",
    "import pandas as pd\n",
    "import numpy as np\n",
    "d = {'col1': [1, 4, 3, 4, 5], 'col2': [4, 5, 6, 7, 8], 'col3': [7, 8, 9, 0, 1]}\n",
    "df = pd.DataFrame(data=d)\n",
    "print(\"Original DataFrame\")\n",
    "print(df)\n",
    "print('After add one row:')\n",
    "df2 = {'col1': 10, 'col2': 11, 'col3': 12}\n",
    "df = df.append(df2, ignore_index=True)\n",
    "print(df)"
   ]
  },
  {
   "cell_type": "code",
   "execution_count": 27,
   "metadata": {},
   "outputs": [
    {
     "name": "stdout",
     "output_type": "stream",
     "text": [
      "Original DataFrame\n",
      "   col1  col2  col3\n",
      "0     1     4     7\n",
      "1     4     5     8\n",
      "2     3     6     9\n",
      "3     4     7     0\n",
      "4     5     8     1\n",
      "Data from new_file.csv file:\n",
      "  col1\\tcol2\\tcol3\n",
      "0          1\\t4\\t7\n",
      "1          4\\t5\\t8\n",
      "2          3\\t6\\t9\n",
      "3          4\\t7\\t0\n",
      "4          5\\t8\\t1\n"
     ]
    }
   ],
   "source": [
    "'''\n",
    "#27.Write a Pandas program to write a DataFrame to CSV file using tab separator.\n",
    "\n",
    "Sample data:\n",
    "Original DataFrame\n",
    "col1 col2 col3\n",
    "0 1 4 7\n",
    "1 4 5 8\n",
    "2 3 6 9\n",
    "3 4 7 0\n",
    "4 5 8 1\n",
    "Data from new_file.csv file:\n",
    "col1\\tcol2\\tcol3\n",
    "0 1\\t4\\t7\n",
    "1 4\\t5\\t8\n",
    "2 3\\t6\\t9\n",
    "3 4\\t7\\t0\n",
    "4 5\\t8\\t1\n",
    "'''\n",
    "import pandas as pd\n",
    "import numpy as np\n",
    "d = {'col1': [1, 4, 3, 4, 5], 'col2': [4, 5, 6, 7, 8], 'col3': [7, 8, 9, 0, 1]}\n",
    "df = pd.DataFrame(data=d)\n",
    "print(\"Original DataFrame\")\n",
    "print(df)\n",
    "print('Data from new_file.csv file:')\n",
    "df.to_csv('new_file.csv', sep='\\t', index=False)\n",
    "new_df = pd.read_csv('new_file.csv')\n",
    "print(new_df)"
   ]
  },
  {
   "cell_type": "code",
   "execution_count": 28,
   "metadata": {},
   "outputs": [
    {
     "name": "stdout",
     "output_type": "stream",
     "text": [
      "          city  Number of people\n",
      "0   California                 4\n",
      "1      Georgia                 2\n",
      "2  Los Angeles                 4\n"
     ]
    }
   ],
   "source": [
    "'''\n",
    "#28.Write a Pandas program to count city wise number of people from a given of data set (city, name of the person).\n",
    "Sample data:\n",
    "city Number of people\n",
    "0 California 4\n",
    "1 Georgia 2\n",
    "2 Los Angeles 4\n",
    "'''\n",
    "import pandas as pd\n",
    "df1 = pd.DataFrame({'name': ['Anastasia', 'Dima', 'Katherine', 'James', 'Emily', 'Michael', 'Matthew', 'Laura', 'Kevin', 'Jonas'],\n",
    "'city': ['California', 'Los Angeles', 'California', 'California', 'California', 'Los Angeles', 'Los Angeles', 'Georgia', 'Georgia', 'Los Angeles']})\n",
    "g1 = df1.groupby([\"city\"]).size().reset_index(name='Number of people')\n",
    "print(g1)"
   ]
  },
  {
   "cell_type": "code",
   "execution_count": 29,
   "metadata": {},
   "outputs": [
    {
     "name": "stdout",
     "output_type": "stream",
     "text": [
      "Original DataFrame\n",
      "   col1  col2  col3\n",
      "0     1     4     7\n",
      "1     4     5     8\n",
      "2     3     6     9\n",
      "3     4     7     0\n",
      "4     5     8     1\n",
      "New DataFrame\n",
      "   col1  col2  col3\n",
      "0     1     4     7\n",
      "2     3     6     9\n",
      "3     4     7     0\n",
      "4     5     8     1\n"
     ]
    }
   ],
   "source": [
    "'''\n",
    "#29.Write a Pandas program to delete DataFrame row(s) based on given column value.\n",
    "\n",
    "Sample data:\n",
    "Original DataFrame\n",
    "col1 col2 col3\n",
    "0 1 4 7\n",
    "1 4 5 8\n",
    "2 3 6 9\n",
    "3 4 7 0\n",
    "4 5 8 1\n",
    "New DataFrame\n",
    "col1 col2 col3\n",
    "0 1 4 7\n",
    "2 3 6 9\n",
    "3 4 7 0\n",
    "4 5 8 1\n",
    "'''\n",
    "import pandas as pd\n",
    "import numpy as np\n",
    "d = {'col1': [1, 4, 3, 4, 5], 'col2': [4, 5, 6, 7, 8], 'col3': [7, 8, 9, 0, 1]}\n",
    "df = pd.DataFrame(data=d)\n",
    "print(\"Original DataFrame\")\n",
    "print(df)\n",
    "df = df[df.col2 != 5]\n",
    "print(\"New DataFrame\")\n",
    "print(df)"
   ]
  },
  {
   "cell_type": "code",
   "execution_count": 30,
   "metadata": {},
   "outputs": [
    {
     "name": "stdout",
     "output_type": "stream",
     "text": [
      "Original DataFrame\n",
      "   col1  col2  col3\n",
      "0     1     4     7\n",
      "1     4     5     8\n",
      "2     3     6     9\n",
      "3     4     7     0\n",
      "4     5     8     1\n"
     ]
    }
   ],
   "source": [
    "'''\n",
    "#30.Write a Pandas program to widen output display to see more columns.\n",
    "\n",
    "Sample data:\n",
    "Original DataFrame\n",
    "col1 col2 col3\n",
    "0 1 4 7\n",
    "1 4 5 8\n",
    "2 3 6 9\n",
    "3 4 7 0\n",
    "4 5 8 1\n",
    "'''\n",
    "import pandas as pd\n",
    "import numpy as np\n",
    "d = {'col1': [1, 4, 3, 4, 5], 'col2': [4, 5, 6, 7, 8], 'col3': [7, 8, 9, 0, 1]}\n",
    "df = pd.DataFrame(data=d)\n",
    "pd.set_option('display.max_rows', 500)\n",
    "pd.set_option('display.max_columns', 500)\n",
    "pd.set_option('display.width', 1000)\n",
    "print(\"Original DataFrame\")\n",
    "print(df)"
   ]
  },
  {
   "cell_type": "code",
   "execution_count": 31,
   "metadata": {},
   "outputs": [
    {
     "name": "stdout",
     "output_type": "stream",
     "text": [
      "Original DataFrame\n",
      "   col1  col2  col3\n",
      "0     1     4     7\n",
      "1     4     5     8\n",
      "2     3     6     9\n",
      "3     4     7     0\n",
      "4     5     8     1\n",
      "Index-2: Details\n",
      "   col1  col2  col3\n",
      "2     3     6     9\n"
     ]
    }
   ],
   "source": [
    "'''\n",
    "#31.Write a Pandas program to select a row of series/dataframe by given integer index.\n",
    "\n",
    "Sample data:\n",
    "Original DataFrame\n",
    "col1 col2 col3\n",
    "0 1 4 7\n",
    "1 4 5 8\n",
    "2 3 6 9\n",
    "3 4 7 0\n",
    "4 5 8 1\n",
    "Index-2: Details\n",
    "col1 col2 col3\n",
    "2 3 6 9\n",
    "'''\n",
    "import pandas as pd\n",
    "import numpy as np\n",
    "d = {'col1': [1, 4, 3, 4, 5], 'col2': [4, 5, 6, 7, 8], 'col3': [7, 8, 9, 0, 1]}\n",
    "df = pd.DataFrame(data=d)\n",
    "print(\"Original DataFrame\")\n",
    "print(df)\n",
    "result = df.iloc[[2]]\n",
    "print(\"Index-2: Details\")\n",
    "print(result)"
   ]
  },
  {
   "cell_type": "code",
   "execution_count": 32,
   "metadata": {},
   "outputs": [
    {
     "name": "stdout",
     "output_type": "stream",
     "text": [
      "Original DataFrame\n",
      "   col1  col2  col3\n",
      "0     1     4     7\n",
      "1     4     5     8\n",
      "2     3     6     9\n",
      "3     4     7     0\n",
      "4     5     8     1\n",
      "Index-2: Details\n",
      "   col1  col2  col3\n",
      "2     3     6     9\n"
     ]
    }
   ],
   "source": [
    "'''\n",
    "#32.import pandas as pd\n",
    "import numpy as np\n",
    "d = {'col1': [1, 4, 3, 4, 5], 'col2': [4, 5, 6, 7, 8], 'col3': [7, 8, 9, 0, 1]}\n",
    "df = pd.DataFrame(data=d)\n",
    "print(\"Original DataFrame\")\n",
    "print(df)\n",
    "result = df.iloc[[2]]\n",
    "print(\"Index-2: Details\")\n",
    "print(result)\n",
    "'''\n",
    "import pandas as pd\n",
    "import numpy as np\n",
    "d = {'col1': [1, 4, 3, 4, 5], 'col2': [4, 5, 6, 7, 8], 'col3': [7, 8, 9, 0, 1]}\n",
    "df = pd.DataFrame(data=d)\n",
    "print(\"Original DataFrame\")\n",
    "print(df)\n",
    "result = df.iloc[[2]]\n",
    "print(\"Index-2: Details\")\n",
    "print(result)"
   ]
  },
  {
   "cell_type": "code",
   "execution_count": 33,
   "metadata": {},
   "outputs": [
    {
     "name": "stdout",
     "output_type": "stream",
     "text": [
      "Original DataFrame\n",
      "        name  score  attempts qualify\n",
      "0  Anastasia   12.5         1     yes\n",
      "1       Dima    9.0         3      no\n",
      "2  Katherine   16.5         2     yes\n",
      "3      James    NaN         3      no\n",
      "4      Emily    9.0         2      no\n",
      "5    Michael   20.0         3     yes\n",
      "6    Matthew   14.5         1     yes\n",
      "7      Laura    NaN         1      no\n",
      "8      Kevin    8.0         2      no\n",
      "9      Jonas   19.0         1     yes\n",
      "\n",
      "After converting index in a column:\n",
      "   index       name  score  attempts qualify\n",
      "0      0  Anastasia   12.5         1     yes\n",
      "1      1       Dima    9.0         3      no\n",
      "2      2  Katherine   16.5         2     yes\n",
      "3      3      James    NaN         3      no\n",
      "4      4      Emily    9.0         2      no\n",
      "5      5    Michael   20.0         3     yes\n",
      "6      6    Matthew   14.5         1     yes\n",
      "7      7      Laura    NaN         1      no\n",
      "8      8      Kevin    8.0         2      no\n",
      "9      9      Jonas   19.0         1     yes\n",
      "\n",
      "Hiding index:\n",
      "index       name  score  attempts qualify\n",
      "    0  Anastasia   12.5         1     yes\n",
      "    1       Dima    9.0         3      no\n",
      "    2  Katherine   16.5         2     yes\n",
      "    3      James    NaN         3      no\n",
      "    4      Emily    9.0         2      no\n",
      "    5    Michael   20.0         3     yes\n",
      "    6    Matthew   14.5         1     yes\n",
      "    7      Laura    NaN         1      no\n",
      "    8      Kevin    8.0         2      no\n",
      "    9      Jonas   19.0         1     yes\n"
     ]
    }
   ],
   "source": [
    "'''\n",
    "#33.Write a Pandas program to convert index in a column of the given dataframe.\n",
    "\n",
    "Sample data:\n",
    "Original DataFrame\n",
    "attempts name qualify score\n",
    "0 1 Anastasia yes 12.5\n",
    "1 3 Dima no 9.0\n",
    "2 2 Katherine yes 16.5\n",
    "3 3 James no NaN\n",
    "4 2 Emily no 9.0\n",
    "5 3 Michael yes 20.0\n",
    "6 1 Matthew yes 14.5\n",
    "7 1 Laura no NaN\n",
    "8 2 Kevin no 8.0\n",
    "9 1 Jonas yes 19.0\n",
    "After converting index in a column:\n",
    "index attempts name qualify score\n",
    "0 0 1 Anastasia yes 12.5\n",
    "1 1 3 Dima no 9.0\n",
    "2 2 2 Katherine yes 16.5\n",
    "3 3 3 James no NaN\n",
    "4 4 2 Emily no 9.0\n",
    "5 5 3 Michael yes 20.0\n",
    "6 6 1 Matthew yes 14.5\n",
    "7 7 1 Laura no NaN\n",
    "8 8 2 Kevin no 8.0\n",
    "9 9 1 Jonas yes 19.0\n",
    "Hiding index:\n",
    "index attempts name qualify score\n",
    "0 1 Anastasia yes 12.5\n",
    "1 3 Dima no 9.0\n",
    "2 2 Katherine yes 16.5\n",
    "3 3 James no NaN\n",
    "4 2 Emily no 9.0\n",
    "5 3 Michael yes 20.0\n",
    "6 1 Matthew yes 14.5\n",
    "7 1 Laura no NaN\n",
    "8 2 Kevin no 8.0\n",
    "9 1 Jonas yes 19.0\n",
    "'''\n",
    "import pandas as pd\n",
    "import numpy as np\n",
    "exam_data = {'name': ['Anastasia', 'Dima', 'Katherine', 'James', 'Emily', 'Michael', 'Matthew', 'Laura', 'Kevin', 'Jonas'],\n",
    "        'score': [12.5, 9, 16.5, np.nan, 9, 20, 14.5, np.nan, 8, 19],\n",
    "        'attempts': [1, 3, 2, 3, 2, 3, 1, 1, 2, 1],\n",
    "        'qualify': ['yes', 'no', 'yes', 'no', 'no', 'yes', 'yes', 'no', 'no', 'yes']}\n",
    "df = pd.DataFrame(exam_data)\n",
    "print(\"Original DataFrame\")\n",
    "print(df)\n",
    "print(\"\\nAfter converting index in a column:\")\n",
    "df.reset_index(level=0, inplace=True)\n",
    "print(df)\n",
    "print(\"\\nHiding index:\")\n",
    "print( df.to_string(index=False))"
   ]
  },
  {
   "cell_type": "code",
   "execution_count": 34,
   "metadata": {},
   "outputs": [
    {
     "name": "stdout",
     "output_type": "stream",
     "text": [
      "Original DataFrame\n",
      "        name  score  attempts qualify\n",
      "0  Anastasia   12.5         1     yes\n",
      "1       Dima    9.0         3      no\n",
      "2  Katherine   16.5         2     yes\n",
      "3      James    NaN         3      no\n",
      "4      Emily    9.0         2      no\n",
      "5    Michael   20.0         3     yes\n",
      "6    Matthew   14.5         1     yes\n",
      "7      Laura    NaN         1      no\n",
      "8      Kevin    8.0         2      no\n",
      "9      Jonas   19.0         1     yes\n",
      "\n",
      "Set a given value for particular cell in the DataFrame\n",
      "        name  score  attempts qualify\n",
      "0  Anastasia   12.5         1     yes\n",
      "1       Dima    9.0         3      no\n",
      "2  Katherine   16.5         2     yes\n",
      "3      James    NaN         3      no\n",
      "4      Emily    9.0         2      no\n",
      "5    Michael   20.0         3     yes\n",
      "6    Matthew   14.5         1     yes\n",
      "7      Laura    NaN         1      no\n",
      "8      Kevin   10.2         2      no\n",
      "9      Jonas   19.0         1     yes\n"
     ]
    },
    {
     "name": "stderr",
     "output_type": "stream",
     "text": [
      "C:\\Users\\VIJAY\\Anaconda3\\lib\\site-packages\\ipykernel_launcher.py:40: FutureWarning: set_value is deprecated and will be removed in a future release. Please use .at[] or .iat[] accessors instead\n"
     ]
    }
   ],
   "source": [
    "'''\n",
    "#34.Write a Pandas program to set a given value for particular cell in DataFrame using index value.\n",
    "\n",
    "Sample data:\n",
    "Original DataFrame\n",
    "attempts name qualify score\n",
    "0 1 Anastasia yes 12.5\n",
    "1 3 Dima no 9.0\n",
    "2 2 Katherine yes 16.5\n",
    "3 3 James no NaN\n",
    "4 2 Emily no 9.0\n",
    "5 3 Michael yes 20.0\n",
    "6 1 Matthew yes 14.5\n",
    "7 1 Laura no NaN\n",
    "8 2 Kevin no 8.0\n",
    "9 1 Jonas yes 19.0\n",
    "Set a given value for particular cell in the DataFrame\n",
    "attempts name qualify score\n",
    "0 1 Anastasia yes 12.5\n",
    "1 3 Dima no 9.0\n",
    "2 2 Katherine yes 16.5\n",
    "3 3 James no NaN\n",
    "4 2 Emily no 9.0\n",
    "5 3 Michael yes 20.0\n",
    "6 1 Matthew yes 14.5\n",
    "7 1 Laura no NaN\n",
    "8 2 Kevin no 10.2\n",
    "9 1 Jonas yes 19.0\n",
    "'''\n",
    "import pandas as pd\n",
    "import numpy as np\n",
    "exam_data = {'name': ['Anastasia', 'Dima', 'Katherine', 'James', 'Emily', 'Michael', 'Matthew', 'Laura', 'Kevin', 'Jonas'],\n",
    "        'score': [12.5, 9, 16.5, np.nan, 9, 20, 14.5, np.nan, 8, 19],\n",
    "        'attempts': [1, 3, 2, 3, 2, 3, 1, 1, 2, 1],\n",
    "        'qualify': ['yes', 'no', 'yes', 'no', 'no', 'yes', 'yes', 'no', 'no', 'yes']}\n",
    "df = pd.DataFrame(exam_data)\n",
    "print(\"Original DataFrame\")\n",
    "print(df)\n",
    "print(\"\\nSet a given value for particular cell in the DataFrame\")\n",
    "df.set_value(8, 'score', 10.2)\n",
    "print(df)"
   ]
  },
  {
   "cell_type": "code",
   "execution_count": 35,
   "metadata": {},
   "outputs": [
    {
     "name": "stdout",
     "output_type": "stream",
     "text": [
      "Original DataFrame\n",
      "        name  score  attempts qualify\n",
      "0  Anastasia   12.5         1     yes\n",
      "1       Dima    9.0         3      no\n",
      "2  Katherine   16.5         2     yes\n",
      "3      James    NaN         3      no\n",
      "4      Emily    9.0         2      no\n",
      "5    Michael   20.0         3     yes\n",
      "6    Matthew   14.5         1     yes\n",
      "7      Laura    NaN         1      no\n",
      "8      Kevin    8.0         2      no\n",
      "9      Jonas   19.0         1     yes\n",
      "\n",
      "Number of NaN values in one or more columns:\n",
      "2\n"
     ]
    }
   ],
   "source": [
    "'''\n",
    "#35.Write a Pandas program to count the NaN values in one or more columns in DataFrame.\n",
    "\n",
    "Sample data:\n",
    "Original DataFrame\n",
    "attempts name qualify score\n",
    "0 1 Anastasia yes 12.5\n",
    "1 3 Dima no 9.0\n",
    "2 2 Katherine yes 16.5\n",
    "3 3 James no NaN\n",
    "4 2 Emily no 9.0\n",
    "5 3 Michael yes 20.0\n",
    "6 1 Matthew yes 14.5\n",
    "7 1 Laura no NaN\n",
    "8 2 Kevin no 8.0\n",
    "9 1 Jonas yes 19.0\n",
    "Number of NaN values in one or more columns:\n",
    "2\n",
    "'''\n",
    "import pandas as pd\n",
    "import numpy as np\n",
    "exam_data = {'name': ['Anastasia', 'Dima', 'Katherine', 'James', 'Emily', 'Michael', 'Matthew', 'Laura', 'Kevin', 'Jonas'],\n",
    "        'score': [12.5, 9, 16.5, np.nan, 9, 20, 14.5, np.nan, 8, 19],\n",
    "        'attempts': [1, 3, 2, 3, 2, 3, 1, 1, 2, 1],\n",
    "        'qualify': ['yes', 'no', 'yes', 'no', 'no', 'yes', 'yes', 'no', 'no', 'yes']}\n",
    "df = pd.DataFrame(exam_data)\n",
    "print(\"Original DataFrame\")\n",
    "print(df)\n",
    "print(\"\\nNumber of NaN values in one or more columns:\")\n",
    "print(df.isnull().values.sum())"
   ]
  },
  {
   "cell_type": "code",
   "execution_count": 36,
   "metadata": {},
   "outputs": [
    {
     "name": "stdout",
     "output_type": "stream",
     "text": [
      "Original DataFrame\n",
      "   col1  col2  col3\n",
      "0     1     4     7\n",
      "1     4     5     8\n",
      "2     3     6     9\n",
      "3     4     7     0\n",
      "4     5     8     1\n",
      "New DataFrame after removing 2nd & 4th rows:\n",
      "   col1  col2  col3\n",
      "0     1     4     7\n",
      "1     4     5     8\n",
      "3     4     7     0\n"
     ]
    }
   ],
   "source": [
    "'''\n",
    "#36.Write a Pandas program to drop a list of rows from a specified DataFrame.\n",
    "\n",
    "Sample data:\n",
    "Original DataFrame\n",
    "col1 col2 col3\n",
    "0 1 4 7\n",
    "1 4 5 8\n",
    "2 3 6 9\n",
    "3 4 7 0\n",
    "4 5 8 1\n",
    "New DataFrame after removing 2nd & 4th rows:\n",
    "col1 col2 col3\n",
    "0 1 4 7\n",
    "1 4 5 8\n",
    "3 4 7 0\n",
    "'''\n",
    "import pandas as pd\n",
    "import numpy as np\n",
    "d = {'col1': [1, 4, 3, 4, 5], 'col2': [4, 5, 6, 7, 8], 'col3': [7, 8, 9, 0, 1]}\n",
    "df = pd.DataFrame(d)\n",
    "print(\"Original DataFrame\")\n",
    "print(df)\n",
    "print(\"New DataFrame after removing 2nd & 4th rows:\")\n",
    "df = df.drop(df.index[[2,4]])\n",
    "print(df)"
   ]
  },
  {
   "cell_type": "code",
   "execution_count": 37,
   "metadata": {},
   "outputs": [
    {
     "name": "stdout",
     "output_type": "stream",
     "text": [
      "Original DataFrame\n",
      "        name  score  attempts qualify\n",
      "0  Anastasia   12.5         1     yes\n",
      "1       Dima    9.0         3      no\n",
      "2  Katherine   16.5         2     yes\n",
      "3      James    NaN         3      no\n",
      "4      Emily    9.0         2      no\n",
      "5    Michael   20.0         3     yes\n",
      "6    Matthew   14.5         1     yes\n",
      "7      Laura    NaN         1      no\n",
      "8      Kevin    8.0         2      no\n",
      "9      Jonas   19.0         1     yes\n",
      "\n",
      "After removing first and second rows\n",
      "        name  score  attempts qualify\n",
      "2  Katherine   16.5         2     yes\n",
      "3      James    NaN         3      no\n",
      "4      Emily    9.0         2      no\n",
      "5    Michael   20.0         3     yes\n",
      "6    Matthew   14.5         1     yes\n",
      "7      Laura    NaN         1      no\n",
      "8      Kevin    8.0         2      no\n",
      "9      Jonas   19.0         1     yes\n",
      "\n",
      "Reset the Index:\n",
      "   index       name  score  attempts qualify\n",
      "0      2  Katherine   16.5         2     yes\n",
      "1      3      James    NaN         3      no\n",
      "2      4      Emily    9.0         2      no\n",
      "3      5    Michael   20.0         3     yes\n",
      "4      6    Matthew   14.5         1     yes\n",
      "5      7      Laura    NaN         1      no\n",
      "6      8      Kevin    8.0         2      no\n",
      "7      9      Jonas   19.0         1     yes\n"
     ]
    }
   ],
   "source": [
    "'''\n",
    "#37.Write a Pandas program to reset index in a given DataFrame.\n",
    "\n",
    "Sample data:\n",
    "Original DataFrame\n",
    "attempts name qualify score\n",
    "0 1 Anastasia yes 12.5\n",
    "1 3 Dima no 9.0\n",
    "2 2 Katherine yes 16.5\n",
    "3 3 James no NaN\n",
    "4 2 Emily no 9.0\n",
    "5 3 Michael yes 20.0\n",
    "6 1 Matthew yes 14.5\n",
    "7 1 Laura no NaN\n",
    "8 2 Kevin no 8.0\n",
    "9 1 Jonas yes 19.0\n",
    "After removing first and second rows\n",
    "attempts name qualify score\n",
    "2 2 Katherine yes 16.5\n",
    "3 3 James no NaN\n",
    "4 2 Emily no 9.0\n",
    "5 3 Michael yes 20.0\n",
    "6 1 Matthew yes 14.5\n",
    "7 1 Laura no NaN\n",
    "8 2 Kevin no 8.0\n",
    "9 1 Jonas yes 19.0\n",
    "Reset the Index:\n",
    "index attempts name qualify score\n",
    "0 2 2 Katherine yes 16.5\n",
    "1 3 3 James no NaN\n",
    "2 4 2 Emily no 9.0\n",
    "3 5 3 Michael yes 20.0\n",
    "4 6 1 Matthew yes 14.5\n",
    "5 7 1 Laura no NaN\n",
    "6 8 2 Kevin no 8.0\n",
    "7 9 1 Jonas yes 19.0\n",
    "'''\n",
    "import pandas as pd\n",
    "import numpy as np\n",
    "exam_data = {'name': ['Anastasia', 'Dima', 'Katherine', 'James', 'Emily', 'Michael', 'Matthew', 'Laura', 'Kevin', 'Jonas'],\n",
    "        'score': [12.5, 9, 16.5, np.nan, 9, 20, 14.5, np.nan, 8, 19],\n",
    "        'attempts': [1, 3, 2, 3, 2, 3, 1, 1, 2, 1],\n",
    "        'qualify': ['yes', 'no', 'yes', 'no', 'no', 'yes', 'yes', 'no', 'no', 'yes']}\n",
    "df = pd.DataFrame(exam_data)\n",
    "print(\"Original DataFrame\")\n",
    "print(df)\n",
    "print(\"\\nAfter removing first and second rows\")\n",
    "df = df.drop([0, 1])\n",
    "print(df)\n",
    "print(\"\\nReset the Index:\")\n",
    "df = df.reset_index()\n",
    "print(df)"
   ]
  },
  {
   "cell_type": "code",
   "execution_count": 38,
   "metadata": {},
   "outputs": [
    {
     "name": "stdout",
     "output_type": "stream",
     "text": [
      "Original DataFrame:\n",
      "          0         1\n",
      "0 -0.532656  1.129975\n",
      "1 -1.430847  0.185598\n",
      "2  1.380220  0.414046\n",
      "3  0.862238  1.165908\n",
      "4  0.297681  0.276557\n",
      "5 -0.773546 -0.348735\n",
      "6 -0.902478  1.087665\n",
      "7  1.325383  2.211779\n",
      "8  0.163433  1.002023\n",
      "9 -1.087839 -1.740241\n",
      "\n",
      "70% of the said DataFrame:\n",
      "          0         1\n",
      "8  0.163433  1.002023\n",
      "2  1.380220  0.414046\n",
      "5 -0.773546 -0.348735\n",
      "6 -0.902478  1.087665\n",
      "3  0.862238  1.165908\n",
      "1 -1.430847  0.185598\n",
      "0 -0.532656  1.129975\n",
      "\n",
      "30% of the said DataFrame:\n",
      "          0         1\n",
      "4  0.297681  0.276557\n",
      "7  1.325383  2.211779\n",
      "9 -1.087839 -1.740241\n"
     ]
    }
   ],
   "source": [
    "'''\n",
    "#38.Write a Pandas program to devide a DataFrame in a given ratio.\n",
    "\n",
    "Sample data:\n",
    "Original DataFrame:\n",
    "0 1\n",
    "0 0.316147 -0.767359\n",
    "1 -0.813410 -2.522672\n",
    "2 0.869615 1.194704\n",
    "3 -0.892915 -0.055133\n",
    "4 -0.341126 0.518266\n",
    "5 1.857342 1.361229\n",
    "6 -0.044353 -1.205002\n",
    "7 -0.726346 -0.535147\n",
    "8 -1.350726 0.563117\n",
    "9 1.051666 -0.441533\n",
    "70% of the said DataFrame:\n",
    "0 1\n",
    "8 -1.350726 0.563117\n",
    "2 0.869615 1.194704\n",
    "5 1.857342 1.361229\n",
    "6 -0.044353 -1.205002\n",
    "3 -0.892915 -0.055133\n",
    "1 -0.813410 -2.522672\n",
    "0 0.316147 -0.767359\n",
    "30% of the said DataFrame:\n",
    "0 1\n",
    "4 -0.341126 0.518266\n",
    "7 -0.726346 -0.535147\n",
    "9 1.051666 -0.441533\n",
    "'''\n",
    "import pandas as pd\n",
    "import numpy as np\n",
    "df = pd.DataFrame(np.random.randn(10, 2))\n",
    "print(\"Original DataFrame:\")\n",
    "print(df)\n",
    "part_70 = df.sample(frac=0.7,random_state=10)\n",
    "part_30 = df.drop(part_70.index)\n",
    "print(\"\\n70% of the said DataFrame:\")\n",
    "print(part_70)\n",
    "print(\"\\n30% of the said DataFrame:\")\n",
    "print(part_30)"
   ]
  },
  {
   "cell_type": "code",
   "execution_count": 39,
   "metadata": {},
   "outputs": [
    {
     "name": "stdout",
     "output_type": "stream",
     "text": [
      "Data Series:\n",
      "0       100\n",
      "1       200\n",
      "2    python\n",
      "3    300.12\n",
      "4       400\n",
      "dtype: object\n",
      "0       10\n",
      "1       20\n",
      "2      php\n",
      "3    30.12\n",
      "4       40\n",
      "dtype: object\n",
      "New DataFrame combining two series:\n",
      "        0      1\n",
      "0     100     10\n",
      "1     200     20\n",
      "2  python    php\n",
      "3  300.12  30.12\n",
      "4     400     40\n"
     ]
    }
   ],
   "source": [
    "'''\n",
    "#39.Write a Pandas program to combining two series into a DataFrame.\n",
    "\n",
    "Sample data:\n",
    "Data Series:\n",
    "0 100\n",
    "1 200\n",
    "2 python\n",
    "3 300.12\n",
    "4 400\n",
    "dtype: object\n",
    "0 10\n",
    "1 20\n",
    "2 php\n",
    "3 30.12\n",
    "4 40\n",
    "dtype: object\n",
    "New DataFrame combining two series:\n",
    "0 1\n",
    "0 100 10\n",
    "1 200 20\n",
    "2 python php\n",
    "3 300.12 30.12\n",
    "4 400 40\n",
    "'''\n",
    "import pandas as pd\n",
    "import numpy as np\n",
    "s1 = pd.Series(['100', '200', 'python', '300.12', '400'])\n",
    "s2 = pd.Series(['10', '20', 'php', '30.12', '40'])\n",
    "print(\"Data Series:\")\n",
    "print(s1)\n",
    "print(s2)\n",
    "df = pd.concat([s1, s2], axis=1)\n",
    "print(\"New DataFrame combining two series:\")\n",
    "print(df)"
   ]
  },
  {
   "cell_type": "code",
   "execution_count": 40,
   "metadata": {},
   "outputs": [
    {
     "name": "stdout",
     "output_type": "stream",
     "text": [
      "Original DataFrame:\n",
      "        name  score  attempts qualify\n",
      "0  Anastasia   12.5         1     yes\n",
      "1       Dima    9.0         3      no\n",
      "2  Katherine   16.5         2     yes\n",
      "3      James    NaN         3      no\n",
      "4      Emily    9.0         2      no\n",
      "5    Michael   20.0         3     yes\n",
      "6    Matthew   14.5         1     yes\n",
      "7      Laura    NaN         1      no\n",
      "8      Kevin    8.0         2      no\n",
      "9      Jonas   19.0         1     yes\n",
      "\n",
      "New DataFrame:\n",
      "        name  score  attempts qualify\n",
      "5    Michael   20.0         3     yes\n",
      "8      Kevin    8.0         2      no\n",
      "6    Matthew   14.5         1     yes\n",
      "2  Katherine   16.5         2     yes\n",
      "4      Emily    9.0         2      no\n",
      "1       Dima    9.0         3      no\n",
      "9      Jonas   19.0         1     yes\n",
      "7      Laura    NaN         1      no\n",
      "0  Anastasia   12.5         1     yes\n",
      "3      James    NaN         3      no\n"
     ]
    }
   ],
   "source": [
    "'''\n",
    "#40.Write a Pandas program to shuffle a given DataFrame rows.\n",
    "Sample data:\n",
    "Original DataFrame:\n",
    "attempts name qualify score\n",
    "0 1 Anastasia yes 12.5\n",
    "1 3 Dima no 9.0\n",
    "2 2 Katherine yes 16.5\n",
    "3 3 James no NaN\n",
    "4 2 Emily no 9.0\n",
    "5 3 Michael yes 20.0\n",
    "6 1 Matthew yes 14.5\n",
    "7 1 Laura no NaN\n",
    "8 2 Kevin no 8.0\n",
    "9 1 Jonas yes 19.0\n",
    "New DataFrame:\n",
    "attempts name qualify score\n",
    "5 3 Michael yes 20.0\n",
    "0 1 Anastasia yes 12.5\n",
    "9 1 Jonas yes 19.0\n",
    "6 1 Matthew yes 14.5\n",
    "7 1 Laura no NaN\n",
    "1 3 Dima no 9.0\n",
    "3 3 James no NaN\n",
    "4 2 Emily no 9.0\n",
    "8 2 Kevin no 8.0\n",
    "2 2 Katherine yes 16.5\n",
    "'''\n",
    "import pandas as pd\n",
    "import numpy as np\n",
    "exam_data = {'name': ['Anastasia', 'Dima', 'Katherine', 'James', 'Emily', 'Michael', 'Matthew', 'Laura', 'Kevin', 'Jonas'],\n",
    "        'score': [12.5, 9, 16.5, np.nan, 9, 20, 14.5, np.nan, 8, 19],\n",
    "        'attempts': [1, 3, 2, 3, 2, 3, 1, 1, 2, 1],\n",
    "        'qualify': ['yes', 'no', 'yes', 'no', 'no', 'yes', 'yes', 'no', 'no', 'yes']}\n",
    "df = pd.DataFrame(exam_data)\n",
    "print(\"Original DataFrame:\")\n",
    "print(df)\n",
    "df = df.sample(frac=1)\n",
    "print(\"\\nNew DataFrame:\")\n",
    "print(df)"
   ]
  },
  {
   "cell_type": "code",
   "execution_count": 41,
   "metadata": {},
   "outputs": [
    {
     "name": "stdout",
     "output_type": "stream",
     "text": [
      "String Date:\n",
      "0    3/11/2000\n",
      "1    3/12/2000\n",
      "2    3/13/2000\n",
      "dtype: object\n",
      "Original DataFrame (string to datetime):\n",
      "           0\n",
      "0 2000-03-11\n",
      "1 2000-03-12\n",
      "2 2000-03-13\n"
     ]
    }
   ],
   "source": [
    "'''\n",
    "#41.Write a Pandas program to convert DataFrame column type from string to datetime.\n",
    "Sample data:\n",
    "String Date:\n",
    "0 3/11/2000\n",
    "1 3/12/2000\n",
    "2 3/13/2000\n",
    "dtype: object\n",
    "Original DataFrame (string to datetime):\n",
    "0\n",
    "0 2000-03-11\n",
    "1 2000-03-12\n",
    "2 2000-03-13\n",
    "'''\n",
    "import pandas as pd\n",
    "import numpy as np\n",
    "s = pd.Series(['3/11/2000', '3/12/2000', '3/13/2000'])\n",
    "print(\"String Date:\")\n",
    "print(s)\n",
    "r = pd.to_datetime(pd.Series(s))\n",
    "df = pd.DataFrame(r)\n",
    "print(\"Original DataFrame (string to datetime):\")\n",
    "print(df)"
   ]
  },
  {
   "cell_type": "code",
   "execution_count": 42,
   "metadata": {},
   "outputs": [
    {
     "name": "stdout",
     "output_type": "stream",
     "text": [
      "Original DataFrame\n",
      "   col1  col2  col3\n",
      "0     1     4     7\n",
      "1     2     5     8\n",
      "2     3     6     9\n",
      "New DataFrame after renaming second column:\n",
      "   col1  Column2  col3\n",
      "0     1        4     7\n",
      "1     2        5     8\n",
      "2     3        6     9\n"
     ]
    }
   ],
   "source": [
    "'''\n",
    "#42.Write a Pandas program to rename a specific column name in a given DataFrame.\n",
    "Sample data:\n",
    "Original DataFrame\n",
    "col1 col2 col3\n",
    "0 1 4 7\n",
    "1 2 5 8\n",
    "2 3 6 9\n",
    "New DataFrame after renaming second column:\n",
    "col1 Column2 col3\n",
    "0 1 4 7\n",
    "1 2 5 8\n",
    "2 3 6 9\n",
    "'''\n",
    "import pandas as pd\n",
    "d = {'col1': [1, 2, 3], 'col2': [4, 5, 6], 'col3': [7, 8, 9]}\n",
    "df = pd.DataFrame(data=d)\n",
    "print(\"Original DataFrame\")\n",
    "print(df)\n",
    "df=df.rename(columns = {'col2':'Column2'})\n",
    "print(\"New DataFrame after renaming second column:\")\n",
    "print(df)"
   ]
  },
  {
   "cell_type": "code",
   "execution_count": 43,
   "metadata": {},
   "outputs": [
    {
     "name": "stdout",
     "output_type": "stream",
     "text": [
      "Original DataFrame\n",
      "   col1  col2  col3\n",
      "0     1     4     7\n",
      "1     2     5     8\n",
      "2     3     6     9\n",
      "Col2 of the DataFrame to list:\n",
      "[4, 5, 6]\n"
     ]
    }
   ],
   "source": [
    "'''\n",
    "#43.Write a Pandas program to get a list of a specified column of a DataFrame.\n",
    "Sample data:\n",
    "Powered by Original DataFrame col1 col2 col3 0 1 4 7 1 2 5 8 2 3 6 9 Col2 of the DataFrame to list: [4, 5, 6]\n",
    "'''\n",
    "import pandas as pd\n",
    "d = {'col1': [1, 2, 3], 'col2': [4, 5, 6], 'col3': [7, 8, 9]}\n",
    "df = pd.DataFrame(data=d)\n",
    "print(\"Original DataFrame\")\n",
    "print(df)\n",
    "col2_list = df[\"col2\"].tolist()\n",
    "print(\"Col2 of the DataFrame to list:\")\n",
    "print(col2_list)"
   ]
  },
  {
   "cell_type": "code",
   "execution_count": 44,
   "metadata": {},
   "outputs": [
    {
     "name": "stdout",
     "output_type": "stream",
     "text": [
      "         Column1  Column2  Column3\n",
      "Index1         0      0.0      0.0\n",
      "Index2         0      0.0      0.0\n",
      "Index3         0      0.0      0.0\n",
      "Index4         0      0.0      0.0\n",
      "Index5         0      0.0      0.0\n",
      "Index6         0      0.0      0.0\n",
      "Index7         0      0.0      0.0\n",
      "Index8         0      0.0      0.0\n",
      "Index9         0      0.0      0.0\n",
      "Index10        0      0.0      0.0\n",
      "Index11        0      0.0      0.0\n",
      "Index12        0      0.0      0.0\n",
      "Index13        0      0.0      0.0\n",
      "Index14        0      0.0      0.0\n",
      "Index15        0      0.0      0.0\n"
     ]
    }
   ],
   "source": [
    "'''\n",
    "#44.Write a Pandas program to create a DataFrame from a Numpy array and specify the index column and column headers.\n",
    "'''\n",
    "import pandas\n",
    "import numpy\n",
    "dtype = [('Column1','int32'), ('Column2','float32'), ('Column3','float32')]\n",
    "values = numpy.zeros(15, dtype=dtype)\n",
    "index = ['Index'+str(i) for i in range(1, len(values)+1)]\n",
    "df = pandas.DataFrame(values, index=index)\n",
    "print(df)"
   ]
  },
  {
   "cell_type": "code",
   "execution_count": 45,
   "metadata": {},
   "outputs": [
    {
     "name": "stdout",
     "output_type": "stream",
     "text": [
      "Original DataFrame\n",
      "   col1  col2  col3\n",
      "0     1     4     7\n",
      "1     2     5     8\n",
      "2     3     6    12\n",
      "3     4     9     1\n",
      "4     7     5    11\n",
      "Row where col1 has maximum value:\n",
      "4\n",
      "Row where col2 has maximum value:\n",
      "3\n",
      "Row where col3 has maximum value:\n",
      "2\n"
     ]
    },
    {
     "name": "stderr",
     "output_type": "stream",
     "text": [
      "C:\\Users\\VIJAY\\Anaconda3\\lib\\site-packages\\ipykernel_launcher.py:10: FutureWarning: 'argmax' is deprecated, use 'idxmax' instead. The behavior of 'argmax'\n",
      "will be corrected to return the positional maximum in the future.\n",
      "Use 'series.values.argmax' to get the position of the maximum now.\n",
      "  # Remove the CWD from sys.path while we load stuff.\n",
      "C:\\Users\\VIJAY\\Anaconda3\\lib\\site-packages\\ipykernel_launcher.py:12: FutureWarning: 'argmax' is deprecated, use 'idxmax' instead. The behavior of 'argmax'\n",
      "will be corrected to return the positional maximum in the future.\n",
      "Use 'series.values.argmax' to get the position of the maximum now.\n",
      "  if sys.path[0] == '':\n",
      "C:\\Users\\VIJAY\\Anaconda3\\lib\\site-packages\\ipykernel_launcher.py:14: FutureWarning: 'argmax' is deprecated, use 'idxmax' instead. The behavior of 'argmax'\n",
      "will be corrected to return the positional maximum in the future.\n",
      "Use 'series.values.argmax' to get the position of the maximum now.\n",
      "  \n"
     ]
    }
   ],
   "source": [
    "'''\n",
    "#45.Write a Pandas program to find the row for where the value of a given column is maximum.\n",
    "'''\n",
    "import pandas as pd\n",
    "d = {'col1': [1, 2, 3, 4, 7], 'col2': [4, 5, 6, 9, 5], 'col3': [7, 8, 12, 1, 11]}\n",
    "df = pd.DataFrame(data=d)\n",
    "print(\"Original DataFrame\")\n",
    "print(df)\n",
    "print(\"Row where col1 has maximum value:\")\n",
    "print(df['col1'].argmax())\n",
    "print(\"Row where col2 has maximum value:\")\n",
    "print(df['col2'].argmax())\n",
    "print(\"Row where col3 has maximum value:\")\n",
    "print(df['col3'].argmax())"
   ]
  },
  {
   "cell_type": "code",
   "execution_count": 46,
   "metadata": {},
   "outputs": [
    {
     "name": "stdout",
     "output_type": "stream",
     "text": [
      "Original DataFrame\n",
      "   col1  col2  col3\n",
      "0     1     4     7\n",
      "1     2     5     8\n",
      "2     3     6    12\n",
      "3     4     9     1\n",
      "4     7     5    11\n",
      "Col4 is not present in DataFrame.\n",
      "Col1 is present in DataFrame.\n"
     ]
    }
   ],
   "source": [
    "'''\n",
    "#46.Write a Pandas program to check whether a given column is present in a DataFrame or not.\n",
    "'''\n",
    "import pandas as pd\n",
    "d = {'col1': [1, 2, 3, 4, 7], 'col2': [4, 5, 6, 9, 5], 'col3': [7, 8, 12, 1, 11]}\n",
    "df = pd.DataFrame(data=d)\n",
    "print(\"Original DataFrame\")\n",
    "print(df)\n",
    "if 'col4' in df.columns:\n",
    "  print(\"Col4 is present in DataFrame.\")\n",
    "else:\n",
    "  print(\"Col4 is not present in DataFrame.\")\n",
    "if 'col1' in df.columns:\n",
    "  print(\"Col1 is present in DataFrame.\")\n",
    "else:\n",
    "  print(\"Col1 is not present in DataFrame.\")"
   ]
  },
  {
   "cell_type": "code",
   "execution_count": 47,
   "metadata": {},
   "outputs": [
    {
     "name": "stdout",
     "output_type": "stream",
     "text": [
      "Original DataFrame\n",
      "   col1  col2  col3\n",
      "0     1     4     7\n",
      "1     2     5     8\n",
      "2     3     6    12\n",
      "3     4     9     1\n",
      "4     7     5    11\n",
      "Value of Row1\n",
      "col1    1\n",
      "col2    4\n",
      "col3    7\n",
      "Name: 0, dtype: int64\n",
      "Value of Row4\n",
      "col1    4\n",
      "col2    9\n",
      "col3    1\n",
      "Name: 3, dtype: int64\n"
     ]
    }
   ],
   "source": [
    "'''\n",
    "#47.Write a Pandas program to get the specified row value of a given DataFrame.\n",
    "'''\n",
    "import pandas as pd\n",
    "d = {'col1': [1, 2, 3, 4, 7], 'col2': [4, 5, 6, 9, 5], 'col3': [7, 8, 12, 1, 11]}\n",
    "df = pd.DataFrame(data=d)\n",
    "print(\"Original DataFrame\")\n",
    "print(df)\n",
    "print(\"Value of Row1\")\n",
    "print(df.iloc[0])\n",
    "print(\"Value of Row4\")\n",
    "print(df.iloc[3])"
   ]
  },
  {
   "cell_type": "code",
   "execution_count": 48,
   "metadata": {},
   "outputs": [
    {
     "name": "stdout",
     "output_type": "stream",
     "text": [
      "Original DataFrame:\n",
      "        name  score  attempts qualify\n",
      "0  Anastasia   12.5         1     yes\n",
      "1       Dima    9.0         3      no\n",
      "2  Katherine   16.5         2     yes\n",
      "3      James    NaN         3      no\n",
      "4      Emily    9.0         2      no\n",
      "5    Michael   20.0         3     yes\n",
      "6    Matthew   14.5         1     yes\n",
      "7      Laura    NaN         1      no\n",
      "8      Kevin    8.0         2      no\n",
      "9      Jonas   19.0         1     yes\n",
      "Data types of the columns of the said DataFrame:\n",
      "name         object\n",
      "score       float64\n",
      "attempts      int64\n",
      "qualify      object\n",
      "dtype: object\n"
     ]
    }
   ],
   "source": [
    "'''\n",
    "#48.Write a Pandas program to get the datatypes of columns of a DataFrame.\n",
    "'''\n",
    "import pandas as pd\n",
    "import numpy as np\n",
    "exam_data = {'name': ['Anastasia', 'Dima', 'Katherine', 'James', 'Emily', 'Michael', 'Matthew', 'Laura', 'Kevin', 'Jonas'],\n",
    "        'score': [12.5, 9, 16.5, np.nan, 9, 20, 14.5, np.nan, 8, 19],\n",
    "        'attempts': [1, 3, 2, 3, 2, 3, 1, 1, 2, 1],\n",
    "        'qualify': ['yes', 'no', 'yes', 'no', 'no', 'yes', 'yes', 'no', 'no', 'yes']}\n",
    "df = pd.DataFrame(exam_data)\n",
    "print(\"Original DataFrame:\")\n",
    "print(df)\n",
    "print(\"Data types of the columns of the said DataFrame:\")\n",
    "print(df.dtypes)"
   ]
  },
  {
   "cell_type": "code",
   "execution_count": 49,
   "metadata": {},
   "outputs": [
    {
     "name": "stdout",
     "output_type": "stream",
     "text": [
      "After appending some data:\n",
      "   col1  col2\n",
      "0     0     0\n",
      "1     1     1\n",
      "2     2     2\n"
     ]
    }
   ],
   "source": [
    "'''\n",
    "#49.Write a Pandas program to append data to an empty DataFrame.\n",
    "'''\n",
    "import pandas as pd\n",
    "import numpy as np\n",
    "df = pd.DataFrame()\n",
    "data = pd.DataFrame({\"col1\": range(3),\"col2\": range(3)})\n",
    "print(\"After appending some data:\")\n",
    "df = df.append(data)\n",
    "print(df)"
   ]
  },
  {
   "cell_type": "code",
   "execution_count": 50,
   "metadata": {},
   "outputs": [
    {
     "name": "stdout",
     "output_type": "stream",
     "text": [
      "Original DataFrame:\n",
      "        name  score  attempts qualify\n",
      "0  Anastasia   12.5         1     yes\n",
      "1       Dima    9.0         3      no\n",
      "2  Katherine   16.5         2     yes\n",
      "3      James    NaN         3      no\n",
      "4      Emily    9.0         2      no\n",
      "5    Michael   20.0         3     yes\n",
      "6    Matthew   14.5         1     yes\n",
      "7      Laura    NaN         1      no\n",
      "8      Kevin    8.0         2      no\n",
      "9      Jonas   19.0         1     yes\n",
      "\n",
      "Sort the above DataFrame on attempts, name:\n",
      "        name  score  attempts qualify\n",
      "0  Anastasia   12.5         1     yes\n",
      "9      Jonas   19.0         1     yes\n",
      "7      Laura    NaN         1      no\n",
      "6    Matthew   14.5         1     yes\n",
      "4      Emily    9.0         2      no\n",
      "2  Katherine   16.5         2     yes\n",
      "8      Kevin    8.0         2      no\n",
      "1       Dima    9.0         3      no\n",
      "3      James    NaN         3      no\n",
      "5    Michael   20.0         3     yes\n"
     ]
    }
   ],
   "source": [
    "'''\n",
    "#50.Write a Pandas program to sort a given DataFrame by two or more columns.\n",
    "'''\n",
    "import pandas as pd\n",
    "import numpy as np\n",
    "exam_data = {'name': ['Anastasia', 'Dima', 'Katherine', 'James', 'Emily', 'Michael', 'Matthew', 'Laura', 'Kevin', 'Jonas'],\n",
    "        'score': [12.5, 9, 16.5, np.nan, 9, 20, 14.5, np.nan, 8, 19],\n",
    "        'attempts': [1, 3, 2, 3, 2, 3, 1, 1, 2, 1],\n",
    "        'qualify': ['yes', 'no', 'yes', 'no', 'no', 'yes', 'yes', 'no', 'no', 'yes']}\n",
    "df = pd.DataFrame(exam_data)\n",
    "print(\"Original DataFrame:\")\n",
    "print(df)\n",
    "print(\"\\nSort the above DataFrame on attempts, name:\")\n",
    "df = df.sort_values(['attempts', 'name'], ascending=[True, True])\n",
    "print(df)"
   ]
  },
  {
   "cell_type": "code",
   "execution_count": 51,
   "metadata": {},
   "outputs": [
    {
     "name": "stdout",
     "output_type": "stream",
     "text": [
      "Original DataFrame:\n",
      "        name  score  attempts qualify\n",
      "0  Anastasia  12.50         1     yes\n",
      "1       Dima   9.10         3      no\n",
      "2  Katherine  16.50         2     yes\n",
      "3      James  12.77         3      no\n",
      "4      Emily   9.21         2      no\n",
      "5    Michael  20.22         3     yes\n",
      "6    Matthew  14.50         1     yes\n",
      "7      Laura  11.34         1      no\n",
      "8      Kevin   8.80         2      no\n",
      "9      Jonas  19.13         1     yes\n",
      "\n",
      "Data types of the columns of the said DataFrame:\n",
      "name         object\n",
      "score       float64\n",
      "attempts      int64\n",
      "qualify      object\n",
      "dtype: object\n",
      "\n",
      "Now change the Data type of 'score' column from float to int:\n",
      "        name  score  attempts qualify\n",
      "0  Anastasia     12         1     yes\n",
      "1       Dima      9         3      no\n",
      "2  Katherine     16         2     yes\n",
      "3      James     12         3      no\n",
      "4      Emily      9         2      no\n",
      "5    Michael     20         3     yes\n",
      "6    Matthew     14         1     yes\n",
      "7      Laura     11         1      no\n",
      "8      Kevin      8         2      no\n",
      "9      Jonas     19         1     yes\n",
      "\n",
      "Data types of the columns of the DataFrame now:\n",
      "name        object\n",
      "score        int32\n",
      "attempts     int64\n",
      "qualify     object\n",
      "dtype: object\n"
     ]
    }
   ],
   "source": [
    "'''\n",
    "#51.Write a Pandas program to convert the datatype of a given column(floats to ints).\n",
    "'''\n",
    "import pandas as pd\n",
    "import numpy as np\n",
    "exam_data = {'name': ['Anastasia', 'Dima', 'Katherine', 'James', 'Emily', 'Michael', 'Matthew', 'Laura', 'Kevin', 'Jonas'],\n",
    "        'score': [12.5, 9.1, 16.5, 12.77, 9.21, 20.22, 14.5, 11.34, 8.8, 19.13],\n",
    "        'attempts': [1, 3, 2, 3, 2, 3, 1, 1, 2, 1],\n",
    "        'qualify': ['yes', 'no', 'yes', 'no', 'no', 'yes', 'yes', 'no', 'no', 'yes']}\n",
    "df = pd.DataFrame(exam_data)\n",
    "print(\"Original DataFrame:\")\n",
    "print(df)\n",
    "print(\"\\nData types of the columns of the said DataFrame:\")\n",
    "print(df.dtypes)\n",
    "print(\"\\nNow change the Data type of 'score' column from float to int:\")\n",
    "df.score = df.score.astype(int)\n",
    "print(df)\n",
    "print(\"\\nData types of the columns of the DataFrame now:\")\n",
    "print(df.dtypes)"
   ]
  },
  {
   "cell_type": "code",
   "execution_count": 52,
   "metadata": {},
   "outputs": [
    {
     "name": "stdout",
     "output_type": "stream",
     "text": [
      "Original DataFrame:\n",
      "             0\n",
      "0  1000.000000\n",
      "1  2000.000000\n",
      "2  3000.000000\n",
      "3 -4000.000000\n",
      "4          inf\n",
      "5         -inf\n",
      "Removing infinite values:\n",
      "        0\n",
      "0  1000.0\n",
      "1  2000.0\n",
      "2  3000.0\n",
      "3 -4000.0\n",
      "4     NaN\n",
      "5     NaN\n"
     ]
    }
   ],
   "source": [
    "'''\n",
    "#52.Write a Pandas program to remove infinite values from a given DataFrame.\n",
    "'''\n",
    "import pandas as pd\n",
    "import numpy as np\n",
    "df = pd.DataFrame([1000, 2000, 3000, -4000, np.inf, -np.inf])\n",
    "print(\"Original DataFrame:\")\n",
    "print(df)\n",
    "print(\"Removing infinite values:\")\n",
    "df = df.replace([np.inf, -np.inf], np.nan)\n",
    "print(df)"
   ]
  },
  {
   "cell_type": "code",
   "execution_count": 53,
   "metadata": {},
   "outputs": [
    {
     "name": "stdout",
     "output_type": "stream",
     "text": [
      "Original DataFrame\n",
      "   col2  col3\n",
      "0     4     7\n",
      "1     5     8\n",
      "2     6    12\n",
      "3     9     1\n",
      "4     5    11\n",
      "\n",
      "New DataFrame\n",
      "   col1  col2  col3\n",
      "0     1     4     7\n",
      "1     2     5     8\n",
      "2     3     6    12\n",
      "3     4     9     1\n",
      "4     7     5    11\n"
     ]
    }
   ],
   "source": [
    "'''\n",
    "#53.Write a Pandas program to insert a given column at a specific column index in a DataFrame.\n",
    "'''\n",
    "import pandas as pd\n",
    "d = {'col2': [4, 5, 6, 9, 5], 'col3': [7, 8, 12, 1, 11]}\n",
    "df = pd.DataFrame(data=d)\n",
    "print(\"Original DataFrame\")\n",
    "print(df)\n",
    "new_col = [1, 2, 3, 4, 7]  \n",
    "# insert the said column at the beginning in the DataFrame\n",
    "idx = 0\n",
    "df.insert(loc=idx, column='col1', value=new_col)\n",
    "print(\"\\nNew DataFrame\")\n",
    "print(df)"
   ]
  },
  {
   "cell_type": "code",
   "execution_count": 54,
   "metadata": {},
   "outputs": [
    {
     "name": "stdout",
     "output_type": "stream",
     "text": [
      "Original list of lists:\n",
      "[[2, 4], [1, 3]]\n",
      "New DataFrame\n",
      "   col1  col2\n",
      "0     2     4\n",
      "1     1     3\n"
     ]
    }
   ],
   "source": [
    "'''\n",
    "#54.Write a Pandas program to convert a given list of lists into a Dataframe.\n",
    "'''\n",
    "import pandas as pd\n",
    "my_lists = [['col1', 'col2'], [2, 4], [1, 3]]\n",
    "# sets the headers as list\n",
    "headers = my_lists.pop(0) \n",
    "print(\"Original list of lists:\")\n",
    "print(my_lists)\n",
    "df = pd.DataFrame(my_lists, columns = headers)\n",
    "print(\"New DataFrame\")\n",
    "print(df)"
   ]
  },
  {
   "cell_type": "code",
   "execution_count": 55,
   "metadata": {},
   "outputs": [
    {
     "name": "stdout",
     "output_type": "stream",
     "text": [
      "Original DataFrame\n",
      "  col1  col2\n",
      "0   C1     1\n",
      "1   C1     2\n",
      "2   C2     3\n",
      "3   C2     3\n",
      "4   C2     4\n",
      "5   C3     6\n",
      "6   C2     5\n",
      "\n",
      "Group on the col1:\n",
      "col1\n",
      "C1          [1, 2]\n",
      "C2    [3, 3, 4, 5]\n",
      "C3             [6]\n",
      "Name: col2, dtype: object\n"
     ]
    }
   ],
   "source": [
    "'''\n",
    "#55.Write a Pandas program to group by the first column and get second column as lists in rows.\n",
    "'''\n",
    "import pandas as pd\n",
    "df = pd.DataFrame( {'col1':['C1','C1','C2','C2','C2','C3','C2'], 'col2':[1,2,3,3,4,6,5]})\n",
    "print(\"Original DataFrame\")\n",
    "print(df)\n",
    "df = df.groupby('col1')['col2'].apply(list)\n",
    "print(\"\\nGroup on the col1:\")\n",
    "print(df)"
   ]
  },
  {
   "cell_type": "code",
   "execution_count": null,
   "metadata": {},
   "outputs": [],
   "source": [
    "'''\n",
    "#56.Write a Pandas program to get column index from column name of a given DataFrame.\n",
    "'''\n",
    "import pandas as pd\n",
    "d = {'col1': [1, 2, 3, 4, 7], 'col2': [4, 5, 6, 9, 5], 'col3': [7, 8, 12, 1, 11]}\n",
    "df = pd.DataFrame(data=d)\n",
    "print(\"Original DataFrame\")\n",
    "print(df)\n",
    "print(\"\\nIndex of 'col2'\")\n",
    "print(df.columns.get_loc(\"col2\"))"
   ]
  },
  {
   "cell_type": "code",
   "execution_count": 56,
   "metadata": {},
   "outputs": [
    {
     "name": "stdout",
     "output_type": "stream",
     "text": [
      "Original DataFrame\n",
      "   col1  col2  col3\n",
      "0     1     4     7\n",
      "1     2     5     8\n",
      "2     3     6    12\n",
      "3     4     9     1\n",
      "4     7     5    11\n",
      "\n",
      "Number of columns:\n",
      "3\n"
     ]
    }
   ],
   "source": [
    "'''\n",
    "#57.Write a Pandas program to count number of columns of a DataFrame.\n",
    "'''\n",
    "import pandas as pd\n",
    "d = {'col1': [1, 2, 3, 4, 7], 'col2': [4, 5, 6, 9, 5], 'col3': [7, 8, 12, 1, 11]}\n",
    "df = pd.DataFrame(data=d)\n",
    "print(\"Original DataFrame\")\n",
    "print(df)\n",
    "print(\"\\nNumber of columns:\")\n",
    "print(len(df.columns))"
   ]
  },
  {
   "cell_type": "code",
   "execution_count": 57,
   "metadata": {},
   "outputs": [
    {
     "name": "stdout",
     "output_type": "stream",
     "text": [
      "Original DataFrame\n",
      "   col1  col2  col3\n",
      "0     1     4     7\n",
      "1     2     5     8\n",
      "2     3     6    12\n",
      "3     4     9     1\n",
      "4     7     5    11\n",
      "\n",
      "All columns except 'col3':\n",
      "   col1  col2\n",
      "0     1     4\n",
      "1     2     5\n",
      "2     3     6\n",
      "3     4     9\n",
      "4     7     5\n"
     ]
    }
   ],
   "source": [
    "'''\n",
    "#58.Write a Pandas program to select all columns, except one given column in a DataFrame.\n",
    "'''\n",
    "import pandas as pd\n",
    "d = {'col1': [1, 2, 3, 4, 7], 'col2': [4, 5, 6, 9, 5], 'col3': [7, 8, 12, 1, 11]}\n",
    "df = pd.DataFrame(data=d)\n",
    "print(\"Original DataFrame\")\n",
    "print(df)\n",
    "print(\"\\nAll columns except 'col3':\")\n",
    "df = df.loc[:, df.columns != 'col3']\n",
    "print(df)"
   ]
  },
  {
   "cell_type": "code",
   "execution_count": 58,
   "metadata": {},
   "outputs": [
    {
     "name": "stdout",
     "output_type": "stream",
     "text": [
      "Original DataFrame\n",
      "   col1  col2  col3\n",
      "0     1     4     7\n",
      "1     2     5     5\n",
      "2     3     6     8\n",
      "3     4     9    12\n",
      "4     7     5     1\n",
      "5    11     0    11\n",
      "\n",
      "First 3 rows of the said DataFrame':\n",
      "   col1  col2  col3\n",
      "0     1     4     7\n",
      "1     2     5     5\n",
      "2     3     6     8\n"
     ]
    }
   ],
   "source": [
    "'''\n",
    "#59.Write a Pandas program to get first n records of a DataFrame.\n",
    "'''\n",
    "import pandas as pd\n",
    "d = {'col1': [1, 2, 3, 4, 7, 11], 'col2': [4, 5, 6, 9, 5, 0], 'col3': [7, 5, 8, 12, 1,11]}\n",
    "df = pd.DataFrame(data=d)\n",
    "print(\"Original DataFrame\")\n",
    "print(df)\n",
    "print(\"\\nFirst 3 rows of the said DataFrame':\")\n",
    "df1 = df.head(3)\n",
    "print(df1)"
   ]
  },
  {
   "cell_type": "code",
   "execution_count": 59,
   "metadata": {},
   "outputs": [
    {
     "name": "stdout",
     "output_type": "stream",
     "text": [
      "Original DataFrame\n",
      "   col1  col2  col3\n",
      "0     1     4     7\n",
      "1     2     5     5\n",
      "2     3     6     8\n",
      "3     4     9    12\n",
      "4     7     5     1\n",
      "5    11     0    11\n",
      "\n",
      "Last 3 rows of the said DataFrame':\n",
      "   col1  col2  col3\n",
      "3     4     9    12\n",
      "4     7     5     1\n",
      "5    11     0    11\n"
     ]
    }
   ],
   "source": [
    "'''\n",
    "#60.Write a Pandas program to get last n records of a DataFrame.\n",
    "'''\n",
    "import pandas as pd\n",
    "d = {'col1': [1, 2, 3, 4, 7, 11], 'col2': [4, 5, 6, 9, 5, 0], 'col3': [7, 5, 8, 12, 1,11]}\n",
    "df = pd.DataFrame(data=d)\n",
    "print(\"Original DataFrame\")\n",
    "print(df)\n",
    "print(\"\\nLast 3 rows of the said DataFrame':\")\n",
    "df1 = df.tail(3)\n",
    "print(df1)"
   ]
  },
  {
   "cell_type": "code",
   "execution_count": 60,
   "metadata": {},
   "outputs": [
    {
     "name": "stdout",
     "output_type": "stream",
     "text": [
      "Original DataFrame\n",
      "   col1  col2  col3\n",
      "0     1     4     7\n",
      "1     2     5     5\n",
      "2     3     6     8\n",
      "3     4     9    12\n",
      "4     7     5     1\n",
      "5    11     0    11\n",
      "\n",
      "topmost n records within each group of a DataFrame:\n",
      "   col1  col2  col3\n",
      "5    11     0    11\n",
      "4     7     5     1\n",
      "3     4     9    12\n",
      "   col1  col2  col3\n",
      "3     4     9    12\n",
      "2     3     6     8\n",
      "1     2     5     5\n",
      "   col1  col2  col3\n",
      "3     4     9    12\n",
      "5    11     0    11\n",
      "2     3     6     8\n"
     ]
    }
   ],
   "source": [
    "'''\n",
    "#61.Write a Pandas program to get topmost n records within each group of a DataFrame.\n",
    "'''\n",
    "import pandas as pd\n",
    "d = {'col1': [1, 2, 3, 4, 7, 11], 'col2': [4, 5, 6, 9, 5, 0], 'col3': [7, 5, 8, 12, 1,11]}\n",
    "df = pd.DataFrame(data=d)\n",
    "print(\"Original DataFrame\")\n",
    "print(df)\n",
    "print(\"\\ntopmost n records within each group of a DataFrame:\")\n",
    "df1 = df.nlargest(3, 'col1')\n",
    "print(df1)\n",
    "df2 = df.nlargest(3, 'col2')\n",
    "print(df2)\n",
    "df3 = df.nlargest(3, 'col3')\n",
    "print(df3)"
   ]
  },
  {
   "cell_type": "code",
   "execution_count": 61,
   "metadata": {},
   "outputs": [
    {
     "name": "stdout",
     "output_type": "stream",
     "text": [
      "Original DataFrame\n",
      "   col1  col2  col3\n",
      "0     1     4     7\n",
      "1     2     5     5\n",
      "2     3     6     8\n",
      "3     4     9    12\n",
      "4     7     5     1\n",
      "5    11     0    11\n",
      "\n",
      "After removing first 3 rows of the said DataFrame:\n",
      "   col1  col2  col3\n",
      "3     4     9    12\n",
      "4     7     5     1\n",
      "5    11     0    11\n"
     ]
    }
   ],
   "source": [
    "'''\n",
    "#62.Write a Pandas program to remove first n rows of a given DataFrame.\n",
    "'''\n",
    "import pandas as pd\n",
    "d = {'col1': [1, 2, 3, 4, 7, 11], 'col2': [4, 5, 6, 9, 5, 0], 'col3': [7, 5, 8, 12, 1,11]}\n",
    "df = pd.DataFrame(data=d)\n",
    "print(\"Original DataFrame\")\n",
    "print(df)\n",
    "print(\"\\nAfter removing first 3 rows of the said DataFrame:\")\n",
    "df1 = df.iloc[3:]\n",
    "print(df1)"
   ]
  },
  {
   "cell_type": "code",
   "execution_count": 62,
   "metadata": {},
   "outputs": [
    {
     "name": "stdout",
     "output_type": "stream",
     "text": [
      "Original DataFrame\n",
      "   col1  col2  col3\n",
      "0     1     4     7\n",
      "1     2     5     5\n",
      "2     3     6     8\n",
      "3     4     9    12\n",
      "4     7     5     1\n",
      "5    11     0    11\n",
      "\n",
      "After removing last 3 rows of the said DataFrame:\n",
      "   col1  col2  col3\n",
      "0     1     4     7\n",
      "1     2     5     5\n",
      "2     3     6     8\n"
     ]
    }
   ],
   "source": [
    "'''\n",
    "#63.Write a Pandas program to remove last n rows of a given DataFrame.\n",
    "'''\n",
    "import pandas as pd\n",
    "d = {'col1': [1, 2, 3, 4, 7, 11], 'col2': [4, 5, 6, 9, 5, 0], 'col3': [7, 5, 8, 12, 1,11]}\n",
    "df = pd.DataFrame(data=d)\n",
    "print(\"Original DataFrame\")\n",
    "print(df)\n",
    "print(\"\\nAfter removing last 3 rows of the said DataFrame:\")\n",
    "df1 = df.iloc[:3]\n",
    "print(df1)"
   ]
  },
  {
   "cell_type": "code",
   "execution_count": null,
   "metadata": {},
   "outputs": [],
   "source": []
  }
 ],
 "metadata": {
  "kernelspec": {
   "display_name": "Python 3",
   "language": "python",
   "name": "python3"
  },
  "language_info": {
   "codemirror_mode": {
    "name": "ipython",
    "version": 3
   },
   "file_extension": ".py",
   "mimetype": "text/x-python",
   "name": "python",
   "nbconvert_exporter": "python",
   "pygments_lexer": "ipython3",
   "version": "3.6.5"
  }
 },
 "nbformat": 4,
 "nbformat_minor": 2
}
