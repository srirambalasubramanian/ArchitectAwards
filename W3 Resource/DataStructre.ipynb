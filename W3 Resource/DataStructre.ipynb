{
 "cells": [
  {
   "cell_type": "markdown",
   "metadata": {},
   "source": [
    "Data Strcture"
   ]
  },
  {
   "cell_type": "code",
   "execution_count": null,
   "metadata": {},
   "outputs": [],
   "source": [
    "'''\n",
    "#1.Write a Python program to create an Enum object and display a member name and value.\n",
    "'''\n",
    "from enum import Enum\n",
    "class Country(Enum):\n",
    "    Afghanistan = 93\n",
    "    Albania = 355\n",
    "    Algeria = 213\n",
    "    Andorra = 376\n",
    "    Angola = 244\n",
    "    Antarctica = 672\n",
    "print('\\nMember name: {}'.format(Country.Albania.name))\n",
    "print('Member value: {}'.format(Country.Albania.value))"
   ]
  },
  {
   "cell_type": "code",
   "execution_count": null,
   "metadata": {},
   "outputs": [],
   "source": [
    "'''\n",
    "#2.Write a Python program to iterate over an enum class and display individual member and their value.\n",
    "'''\n",
    "from enum import Enum\n",
    "class Country(Enum):\n",
    "    Afghanistan = 93\n",
    "    Albania = 355\n",
    "    Algeria = 213\n",
    "    Andorra = 376\n",
    "    Angola = 244\n",
    "    Antarctica = 672\n",
    "for data in Country:\n",
    "    print('{:15} = {}'.format(data.name, data.value))"
   ]
  },
  {
   "cell_type": "code",
   "execution_count": null,
   "metadata": {},
   "outputs": [],
   "source": [
    "'''\n",
    "#3.Write a Python program to display all the member name of an enum class ordered by their values.\n",
    "'''\n",
    "import enum\n",
    "class Country(enum.IntEnum):\n",
    "    Afghanistan = 93\n",
    "    Albania = 355\n",
    "    Algeria = 213\n",
    "    Andorra = 376\n",
    "    Angola = 244\n",
    "    Antarctica = 672\n",
    "print('Country Name ordered by Country Code:')\n",
    "print('\\n'.join('  ' + c.name for c in sorted(Country)))"
   ]
  },
  {
   "cell_type": "code",
   "execution_count": null,
   "metadata": {},
   "outputs": [],
   "source": [
    "'''\n",
    "#4.Write a Python program to get all values from an enum class.\n",
    "'''\n",
    "from enum import IntEnum\n",
    "class Country(IntEnum):\n",
    "    Afghanistan = 93\n",
    "    Albania = 355\n",
    "    Algeria = 213\n",
    "    Andorra = 376\n",
    "    Angola = 244\n",
    "    Antarctica = 672\n",
    "country_code_list = list(map(int, Country))\n",
    "print(country_code_list)"
   ]
  },
  {
   "cell_type": "code",
   "execution_count": null,
   "metadata": {},
   "outputs": [],
   "source": [
    "'''\n",
    "#5.Write a Python program to count the most common words in a dictionary.\n",
    "'''\n",
    "words = [\n",
    "   'red', 'green', 'black', 'pink', 'black', 'white', 'black', 'eyes',\n",
    "   'white', 'black', 'orange', 'pink', 'pink', 'red', 'red', 'white', 'orange',\n",
    "   'white', \"black\", 'pink', 'green', 'green', 'pink', 'green', 'pink',\n",
    "   'white', 'orange', \"orange\", 'red'\n",
    "]\n",
    "from collections import Counter\n",
    "word_counts = Counter(words)\n",
    "top_four = word_counts.most_common(4)\n",
    "print(top_four)"
   ]
  },
  {
   "cell_type": "code",
   "execution_count": null,
   "metadata": {},
   "outputs": [],
   "source": [
    "'''\n",
    "#6.Write a Python program to find the class wise roll number from a tuple-of-tuples.\n",
    "'''\n",
    "from collections import defaultdict\n",
    "classes = (\n",
    "    ('V', 1),\n",
    "    ('VI', 1),\n",
    "    ('V', 2),\n",
    "    ('VI', 2),\n",
    "    ('VI', 3),\n",
    "    ('VII', 1),\n",
    ")\n",
    "\n",
    "class_rollno = defaultdict(list)\n",
    "\n",
    "for class_name, roll_id in classes:\n",
    "    class_rollno[class_name].append(roll_id)\n",
    "\n",
    "print(class_rollno)\n"
   ]
  },
  {
   "cell_type": "code",
   "execution_count": null,
   "metadata": {},
   "outputs": [],
   "source": [
    "'''\n",
    "#7.Write a Python program to count the number of students of individual class.\n",
    "'''\n",
    "from collections import Counter\n",
    "classes = (\n",
    "    ('V', 1),\n",
    "    ('VI', 1),\n",
    "    ('V', 2),\n",
    "    ('VI', 2),\n",
    "    ('VI', 3),\n",
    "    ('VII', 1),\n",
    ")\n",
    "students = Counter(class_name for class_name, no_students in classes)\n",
    "print(students)"
   ]
  },
  {
   "cell_type": "code",
   "execution_count": null,
   "metadata": {},
   "outputs": [],
   "source": [
    "'''\n",
    "#8.Write a Python program to get the unique enumeration values.\n",
    "'''\n",
    "import enum\n",
    "class Countries(enum.Enum):\n",
    "    Afghanistan = 93\n",
    "    Albania = 355\n",
    "    Algeria = 213\n",
    "    Andorra = 376\n",
    "    Angola = 244\n",
    "    India = 355\n",
    "    USA = 213\n",
    "for result in Countries:\n",
    "    print('{:15} = {}'.format(result.name, result.value))"
   ]
  },
  {
   "cell_type": "code",
   "execution_count": null,
   "metadata": {},
   "outputs": [],
   "source": [
    "'''\n",
    "#9.Write a Python program to create an instance of an OrderedDict using a given dictionary. Sort the dictionary during the creation and print the members of the dictionary in reverse order.\n",
    "'''\n",
    "from collections import OrderedDict\n",
    "dict = {'Afghanistan': 93, 'Albania': 355, 'Algeria': 213, 'Andorra': 376, 'Angola': 244}\n",
    "new_dict = OrderedDict(dict.items())\n",
    "for key in new_dict:\n",
    "    print (key, new_dict[key])\n",
    "\n",
    "print(\"\\nIn reverse order:\")\n",
    "for key in reversed(new_dict):\n",
    "    print (key, new_dict[key])"
   ]
  },
  {
   "cell_type": "code",
   "execution_count": null,
   "metadata": {},
   "outputs": [],
   "source": [
    "'''\n",
    "#10.Write a Python program to group a sequence of key-value pairs into a dictionary of lists.\n",
    "'''\n",
    "from collections import defaultdict\n",
    "class_roll = [('v', 1), ('vi', 2), ('v', 3), ('vi', 4), ('vii', 1)]\n",
    "d = defaultdict(list)\n",
    "for k, v in class_roll:\n",
    "    d[k].append(v)\n",
    "print(sorted(d.items()))"
   ]
  },
  {
   "cell_type": "code",
   "execution_count": 1,
   "metadata": {},
   "outputs": [
    {
     "name": "stdout",
     "output_type": "stream",
     "text": [
      "False\n"
     ]
    }
   ],
   "source": [
    "'''\n",
    "#11.Write a Python program to compare two unordered lists (not sets).\n",
    "'''\n",
    "from collections import Counter\n",
    "def compare_lists(x, y):\n",
    "    return Counter(x) == Counter(y)\n",
    "n1 = [20, 10, 30, 10, 20, 30]\n",
    "n2 = [30, 20, 10, 30, 20, 50]\n",
    "print(compare_lists(n1, n2))"
   ]
  },
  {
   "cell_type": "code",
   "execution_count": null,
   "metadata": {},
   "outputs": [],
   "source": [
    "'''\n",
    "#12.Write a Python program to create an array contains six integers. Also print all the members of the array.\n",
    "'''\n",
    "from array import array\n",
    "my_array = array('i', [10, 20, 30, 40, 50])\n",
    "for i in my_array:\n",
    "    print(i)"
   ]
  },
  {
   "cell_type": "code",
   "execution_count": null,
   "metadata": {},
   "outputs": [],
   "source": [
    "'''\n",
    "#13.Write a Python program to get the array size of types unsigned integer and float.\n",
    "'''\n",
    "from array import array\n",
    "a = array(\"I\", (12,25))\n",
    "print(a.itemsize)\n",
    "a = array(\"f\", (12.236,36.36))\n",
    "print(a.itemsize)"
   ]
  },
  {
   "cell_type": "code",
   "execution_count": null,
   "metadata": {},
   "outputs": [],
   "source": [
    "'''\n",
    "#14.Write a Python program to get an array buffer information.\n",
    "'''\n",
    "from array import array\n",
    "a = array(\"I\", (12,25))\n",
    "print(\"Array buffer start address in memory and number of elements.\")\n",
    "print(a.buffer_info())"
   ]
  },
  {
   "cell_type": "code",
   "execution_count": null,
   "metadata": {},
   "outputs": [],
   "source": [
    "'''\n",
    "#15.Write a Python program to get the length of an array.\n",
    "'''\n",
    "from array import array\n",
    "num_array = array('i', [10,20,30,40,50])\n",
    "print(\"Length of the array is:\")\n",
    "print(len(num_array))"
   ]
  },
  {
   "cell_type": "code",
   "execution_count": null,
   "metadata": {},
   "outputs": [],
   "source": [
    "'''\n",
    "#16.Write a Python program to convert an array to an ordinary list with the same items.\n",
    "'''\n",
    "from array import array\n",
    "arra1 = array('b', [1,2,3,4])\n",
    "print(\"Original array: \")\n",
    "print(arra1)\n",
    "print(\"Array to list: \")\n",
    "print(arra1.tolist())"
   ]
  },
  {
   "cell_type": "code",
   "execution_count": null,
   "metadata": {},
   "outputs": [],
   "source": [
    "'''\n",
    "#17.Write a Python program to convert an array to an array of machine values and return the bytes representation.\n",
    "'''\n",
    "import array\n",
    "import binascii\n",
    "a = array.array('i', [1,2,3,4,5,6])\n",
    "print(\"Original array:\")\n",
    "print('A1:', a)\n",
    "bytes_array = a.tobytes()\n",
    "print('Array of bytes:', binascii.hexlify(bytes_array))"
   ]
  },
  {
   "cell_type": "code",
   "execution_count": null,
   "metadata": {},
   "outputs": [],
   "source": [
    "'''\n",
    "#18.Write a Python program to read a string and interpreting the string as an array of machine values.\n",
    "'''\n",
    "from array import array\n",
    "import binascii\n",
    "array1 = array('i', [7, 8, 9, 10])\n",
    "print('array1:', array1)\n",
    "as_bytes = array1.tobytes()\n",
    "print('Bytes:', binascii.hexlify(as_bytes))\n",
    "array2 = array('i')\n",
    "array2.frombytes(as_bytes)\n",
    "print('array2:', array2)\n"
   ]
  },
  {
   "cell_type": "code",
   "execution_count": null,
   "metadata": {},
   "outputs": [],
   "source": [
    "'''\n",
    "#19.Write a Python program to push three items into the heap and print the items from the heap.\n",
    "'''\n",
    "import heapq\n",
    "heap = []\n",
    "heapq.heappush(heap, ('V', 1))\n",
    "heapq.heappush(heap, ('V', 2))\n",
    "heapq.heappush(heap, ('V', 3))\n",
    "for a in heap:\n",
    "print(a)"
   ]
  },
  {
   "cell_type": "code",
   "execution_count": null,
   "metadata": {},
   "outputs": [],
   "source": [
    "'''\n",
    "#20.Write a Python program to push three items into a heap and return the smallest item from the heap. Also Pop and return the smallest item from the heap.\n",
    "'''\n",
    "import heapq\n",
    "heap = []\n",
    "heapq.heappush(heap, ('V', 3))\n",
    "heapq.heappush(heap, ('V', 2))\n",
    "heapq.heappush(heap, ('V', 1))\n",
    "print(\"Items in the heap:\")\n",
    "for a in heap:\n",
    "    print(a)\n",
    "print(\"----------------------\")\n",
    "print(\"The smallest item in the heap:\")\n",
    "print(heap[0])\n",
    "print(\"----------------------\")\n",
    "print(\"Pop the smallest item in the heap:\")\n",
    "heapq.heappop(heap)\n",
    "for a in heap:\n",
    "    print(a)"
   ]
  },
  {
   "cell_type": "code",
   "execution_count": null,
   "metadata": {},
   "outputs": [],
   "source": [
    "'''\n",
    "#21.Write a Python program to push an item on the heap, then pop and return the smallest item from the heap.\n",
    "'''\n",
    "import heapq\n",
    "heap = []\n",
    "heapq.heappush(heap, ('V', 3))\n",
    "heapq.heappush(heap, ('V', 2))\n",
    "heapq.heappush(heap, ('V', 1))\n",
    "print(\"Items in the heap:\")\n",
    "for a in heap:\n",
    "    print(a)\n",
    "print(\"----------------------\")\n",
    "print(\"Using heappushpop push item on the heap and return the smallest item.\")\n",
    "heapq.heappushpop(heap, ('V', 6))\n",
    "for a in heap:\n",
    "    print(a)"
   ]
  },
  {
   "cell_type": "code",
   "execution_count": null,
   "metadata": {},
   "outputs": [],
   "source": [
    "'''\n",
    "#22.Write a Python program to create a heapsort, pushing all values onto a heap and then popping off the smallest values one at a time.\n",
    "'''\n",
    "import heapq\n",
    "def heapsort(h):\n",
    "    heap = []\n",
    "    for value in h:\n",
    "        heapq.heappush(heap, value)\n",
    "    return [heapq.heappop(heap) for i in range(len(heap))]\n",
    "\n",
    "print(heapsort([10, 20, 50, 70, 90, 20, 50, 40, 60, 80, 100]))"
   ]
  },
  {
   "cell_type": "code",
   "execution_count": null,
   "metadata": {},
   "outputs": [],
   "source": [
    "'''\n",
    "#23.Write a Python program to get the two largest and three smallest items from a dataset.\n",
    "'''\n",
    "import heapq\n",
    "h = [10, 20, 50, 70, 90, 20, 50, 40, 60, 80, 100]\n",
    "print(heapq.nlargest(2,h))\n",
    "print(heapq.nsmallest(3,h))"
   ]
  },
  {
   "cell_type": "code",
   "execution_count": null,
   "metadata": {},
   "outputs": [],
   "source": [
    "'''\n",
    "#24.Write a Python program to locate the left insertion point for a specified value in sorted order.\n",
    "'''\n",
    "import bisect\n",
    "def index(a, x):\n",
    "    i = bisect.bisect_left(a, x)\n",
    "    return i\n",
    "    \n",
    "a = [1,2,4,5]\n",
    "print(index(a, 6))\n",
    "print(index(a, 3))"
   ]
  },
  {
   "cell_type": "code",
   "execution_count": null,
   "metadata": {},
   "outputs": [],
   "source": [
    "'''\n",
    "#25.Write a Python program to locate the right insertion point for a specified value in sorted order.\n",
    "'''\n",
    "import bisect\n",
    "def index(a, x):\n",
    "    i = bisect.bisect_right(a, x)\n",
    "    return i\n",
    "    \n",
    "a = [1,2,4,7]\n",
    "print(index(a, 6))\n",
    "print(index(a, 3))"
   ]
  },
  {
   "cell_type": "code",
   "execution_count": null,
   "metadata": {},
   "outputs": [],
   "source": [
    "'''\n",
    "#26.Write a Python program to insert items into a list in sorted order.\n",
    "'''\n",
    "import bisect\n",
    "# Sample list\n",
    "my_list = [25, 45, 36, 47, 69, 48, 68, 78, 14, 36]\n",
    "\n",
    "print(\"Original List:\")\n",
    "print(my_list)\n",
    "sorted_list = []\n",
    "for i in my_list:\n",
    "    position = bisect.bisect(sorted_list, i)\n",
    "    bisect.insort(sorted_list, i)\n",
    "print(\"Sorted List:\")\n",
    "print(sorted_list)"
   ]
  },
  {
   "cell_type": "code",
   "execution_count": null,
   "metadata": {},
   "outputs": [],
   "source": [
    "'''\n",
    "#27.Write a Python program to create a queue and display all the members and size of the queue.\n",
    "'''\n",
    "import queue\n",
    "q = queue.Queue()\n",
    "for x in range(4):\n",
    "    q.put(x)\n",
    "print(\"Members of the queue:\")\n",
    "y=z=q.qsize()\n",
    "\n",
    "for n in list(q.queue):\n",
    "    print(n, end=\" \")\n",
    "print(\"\\nSize of the queue:\")\n",
    "print(q.qsize())\n"
   ]
  },
  {
   "cell_type": "code",
   "execution_count": null,
   "metadata": {},
   "outputs": [],
   "source": [
    "'''\n",
    "#28.Write a Python program to find whether a queue is empty or not.\n",
    "'''\n",
    "import queue\n",
    "p = queue.Queue()\n",
    "q = queue.Queue()\n",
    "for x in range(4):\n",
    "    q.put(x)\n",
    "print(p.empty())\n",
    "print(q.empty())\n"
   ]
  },
  {
   "cell_type": "code",
   "execution_count": null,
   "metadata": {},
   "outputs": [],
   "source": [
    "'''\n",
    "#29.Write a Python program to create a FIFO queue.\n",
    "'''\n",
    "import queue\n",
    "q = queue.Queue()\n",
    "#insert items at the end of the queue \n",
    "for x in range(4):\n",
    "    q.put(str(x))\n",
    "#remove items from the head of the queue \n",
    "while not q.empty():\n",
    "    print(q.get(), end=\" \")\n",
    "print(\"\\n\")"
   ]
  },
  {
   "cell_type": "code",
   "execution_count": 2,
   "metadata": {},
   "outputs": [
    {
     "name": "stdout",
     "output_type": "stream",
     "text": [
      "3 2 1 0 \n"
     ]
    }
   ],
   "source": [
    "'''\n",
    "#30.Write a Python program to create a LIFO queue.\n",
    "'''\n",
    "import queue\n",
    "q = queue.LifoQueue()\n",
    "#insert items at the head of the queue \n",
    "for x in range(4):\n",
    "    q.put(str(x))\n",
    "#remove items from the head of the queue \n",
    "while not q.empty():\n",
    "    print(q.get(), end=\" \")\n",
    "print()"
   ]
  },
  {
   "cell_type": "code",
   "execution_count": null,
   "metadata": {},
   "outputs": [],
   "source": []
  }
 ],
 "metadata": {
  "kernelspec": {
   "display_name": "Python 3",
   "language": "python",
   "name": "python3"
  },
  "language_info": {
   "codemirror_mode": {
    "name": "ipython",
    "version": 3
   },
   "file_extension": ".py",
   "mimetype": "text/x-python",
   "name": "python",
   "nbconvert_exporter": "python",
   "pygments_lexer": "ipython3",
   "version": "3.6.5"
  }
 },
 "nbformat": 4,
 "nbformat_minor": 2
}
