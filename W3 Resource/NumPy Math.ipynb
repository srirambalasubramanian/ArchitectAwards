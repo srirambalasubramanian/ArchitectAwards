{
 "cells": [
  {
   "cell_type": "markdown",
   "metadata": {},
   "source": [
    "NumPy Math"
   ]
  },
  {
   "cell_type": "code",
   "execution_count": 6,
   "metadata": {},
   "outputs": [
    {
     "name": "stdout",
     "output_type": "stream",
     "text": [
      "Add:\n",
      "5.0\n",
      "Subtract:\n",
      "-3.0\n",
      "Multiply:\n",
      "4.0\n",
      "Divide:\n",
      "0.25\n"
     ]
    }
   ],
   "source": [
    "'''\n",
    "#1.Write a NumPy program to add, subtract, multiply, divide arguments element-wise.\n",
    "Sample elements: 4.0, 1.2\n",
    "'''\n",
    "import numpy as np\n",
    "print(\"Add:\")\n",
    "print(np.add(1.0, 4.0))\n",
    "print(\"Subtract:\")\n",
    "print(np.subtract(1.0, 4.0))\n",
    "print(\"Multiply:\")\n",
    "print(np.multiply(1.0, 4.0))\n",
    "print(\"Divide:\")\n",
    "print(np.divide(1.0, 4.0))"
   ]
  },
  {
   "cell_type": "code",
   "execution_count": 5,
   "metadata": {},
   "outputs": [
    {
     "name": "stdout",
     "output_type": "stream",
     "text": [
      "Logarithm of the sum of exponentiations:\n",
      "-113.87649168120691\n",
      "Logarithm of the sum of exponentiations of the inputs in base-2:\n",
      "-113.59955522772194\n"
     ]
    }
   ],
   "source": [
    "'''\n",
    "#2.Write a NumPy program to compute logarithm of the sum of exponentiations of the inputs, sum of exponentiations of the inputs in base-2.\n",
    "'''\n",
    "import numpy as np\n",
    "l1 = np.log(1e-50)\n",
    "l2 = np.log(2.5e-50)\n",
    "print(\"Logarithm of the sum of exponentiations:\")\n",
    "print(np.logaddexp(l1, l2))\n",
    "print(\"Logarithm of the sum of exponentiations of the inputs in base-2:\")\n",
    "print(np.logaddexp2(l1, l2))"
   ]
  },
  {
   "cell_type": "code",
   "execution_count": 4,
   "metadata": {},
   "outputs": [
    {
     "name": "stdout",
     "output_type": "stream",
     "text": [
      "Original array:\n",
      "[0 1 2 3 4 5 6 7 8 9]\n",
      "Division of the array inputs, element-wise:\n",
      "[0.         0.33333333 0.66666667 1.         1.33333333 1.66666667\n",
      " 2.         2.33333333 2.66666667 3.        ]\n"
     ]
    }
   ],
   "source": [
    "'''\n",
    "#3.Write a NumPy program to get true division of the element-wise array inputs.\n",
    "'''\n",
    "import numpy as np\n",
    "x = np.arange(10)\n",
    "print(\"Original array:\")\n",
    "print(x)\n",
    "print(\"Division of the array inputs, element-wise:\")\n",
    "print(np.true_divide(x, 3))"
   ]
  },
  {
   "cell_type": "code",
   "execution_count": 2,
   "metadata": {},
   "outputs": [
    {
     "name": "stdout",
     "output_type": "stream",
     "text": [
      "Original array:\n",
      "[1.0, 2.0, 3.0, 4.0]\n",
      "Largest integer smaller or equal to the division of the inputs:\n",
      "[0. 1. 2. 2.]\n"
     ]
    }
   ],
   "source": [
    "'''\n",
    "#4.Write a NumPy program to get the largest integer smaller or equal to the division of the inputs\n",
    "'''\n",
    "import numpy as np\n",
    "x = [1., 2., 3., 4.]\n",
    "print(\"Original array:\")\n",
    "print(x)\n",
    "print(\"Largest integer smaller or equal to the division of the inputs:\")\n",
    "print(np.floor_divide(x, 1.5))"
   ]
  },
  {
   "cell_type": "code",
   "execution_count": 3,
   "metadata": {},
   "outputs": [
    {
     "name": "stdout",
     "output_type": "stream",
     "text": [
      "Original array\n",
      "[0 1 2 3 4 5 6]\n",
      "First array elements raised to powers from second array, element-wise:\n",
      "[  0   1   8  27  64 125 216]\n"
     ]
    }
   ],
   "source": [
    "'''\n",
    "#5.Write a NumPy program to get the powers of an array values element-wise.\n",
    "\n",
    "Note: First array elements raised to powers from second array.\n",
    "'''\n",
    "import numpy as np\n",
    "x = np.arange(7)\n",
    "print(\"Original array\")\n",
    "print(x)\n",
    "print(\"First array elements raised to powers from second array, element-wise:\")\n",
    "print(np.power(x, 3))"
   ]
  },
  {
   "cell_type": "code",
   "execution_count": 7,
   "metadata": {},
   "outputs": [
    {
     "name": "stdout",
     "output_type": "stream",
     "text": [
      "Original array:\n",
      "[0 1 2 3 4 5 6]\n",
      "Element-wise remainder of division:\n",
      "[0 1 2 3 4 0 1]\n"
     ]
    }
   ],
   "source": [
    "'''\n",
    "#6.Write a NumPy program to get the element-wise remainder of an array of division.\n",
    "'''\n",
    "import numpy as np\n",
    "x = np.arange(7)\n",
    "print(\"Original array:\")\n",
    "print(x)\n",
    "print(\"Element-wise remainder of division:\")\n",
    "print(np.remainder(x, 5))"
   ]
  },
  {
   "cell_type": "code",
   "execution_count": 8,
   "metadata": {},
   "outputs": [
    {
     "name": "stdout",
     "output_type": "stream",
     "text": [
      "Original array:\n",
      "[-10.2 122.2   0.2]\n",
      "Element-wise absolute value:\n",
      "[ 10.2 122.2   0.2]\n"
     ]
    }
   ],
   "source": [
    "'''\n",
    "#7.Write a NumPy program to calculate the absolute value element-wise.\n",
    "'''\n",
    "import numpy as np\n",
    "x = np.array([-10.2, 122.2, .20])\n",
    "print(\"Original array:\")\n",
    "print(x)\n",
    "print(\"Element-wise absolute value:\")\n",
    "print(np.absolute(x))"
   ]
  },
  {
   "cell_type": "code",
   "execution_count": 9,
   "metadata": {},
   "outputs": [
    {
     "name": "stdout",
     "output_type": "stream",
     "text": [
      "[1. 2. 2.]\n",
      "[0.3 0.5 0.6]\n",
      "[0. 2. 2. 4. 4.]\n"
     ]
    }
   ],
   "source": [
    "'''\n",
    "#8.Write a NumPy program to round array elements to the given number of decimals.\n",
    "'''\n",
    "import numpy as np\n",
    "x = np.round([1.45, 1.50, 1.55])\n",
    "print(x)\n",
    "x = np.round([0.28, .50, .64], decimals=1)\n",
    "print(x)\n",
    "x = np.round([.5, 1.5, 2.5, 3.5, 4.5]) # rounds to nearest even value\n",
    "print(x)"
   ]
  },
  {
   "cell_type": "code",
   "execution_count": 10,
   "metadata": {},
   "outputs": [
    {
     "name": "stdout",
     "output_type": "stream",
     "text": [
      "Original array:\n",
      "[-0.7 -1.5 -1.7  0.3  1.5  1.8  2. ]\n",
      "Round elements of the array to the nearest integer:\n",
      "[-1. -2. -2.  0.  2.  2.  2.]\n"
     ]
    }
   ],
   "source": [
    "'''\n",
    "#9.Write a NumPy program to round elements of the array to the nearest integer.\n",
    "'''\n",
    "import numpy as np\n",
    "x = np.array([-.7, -1.5, -1.7, 0.3, 1.5, 1.8, 2.0])\n",
    "print(\"Original array:\")\n",
    "print(x)\n",
    "x = np.rint(x)\n",
    "print(\"Round elements of the array to the nearest integer:\")\n",
    "print(x)"
   ]
  },
  {
   "cell_type": "code",
   "execution_count": 11,
   "metadata": {},
   "outputs": [
    {
     "name": "stdout",
     "output_type": "stream",
     "text": [
      "Original array:\n",
      "[-1.6 -1.5 -0.3  0.1  1.4  1.8  2. ]\n",
      "Floor values of the above array elements:\n",
      "[-2. -2. -1.  0.  1.  1.  2.]\n",
      "Ceil values of the above array elements:\n",
      "[-1. -1. -0.  1.  2.  2.  2.]\n",
      "Truncated values of the above array elements:\n",
      "[-1. -1. -0.  0.  1.  1.  2.]\n"
     ]
    }
   ],
   "source": [
    "'''\n",
    "#10.Write a NumPy program to get the floor, ceiling and truncated values of the elements of an numpy array.\n",
    "'''\n",
    "import numpy as np\n",
    "x = np.array([-1.6, -1.5, -0.3, 0.1, 1.4, 1.8, 2.0])\n",
    "print(\"Original array:\")\n",
    "print(x)\n",
    "print(\"Floor values of the above array elements:\")\n",
    "print(np.floor(x))\n",
    "print(\"Ceil values of the above array elements:\")\n",
    "print(np.ceil(x))\n",
    "print(\"Truncated values of the above array elements:\")\n",
    "print(np.trunc(x))"
   ]
  },
  {
   "cell_type": "code",
   "execution_count": 12,
   "metadata": {},
   "outputs": [
    {
     "name": "stdout",
     "output_type": "stream",
     "text": [
      "First array:\n",
      "[[0.65002272 0.9223962  0.82471299]\n",
      " [0.54099523 0.42259479 0.98534849]\n",
      " [0.20621513 0.43238962 0.0293461 ]\n",
      " [0.35185821 0.4429339  0.19590679]\n",
      " [0.34320087 0.71638939 0.39073803]]\n",
      "Second array:\n",
      "[[0.0948771  0.73960199]\n",
      " [0.40324362 0.45775862]\n",
      " [0.94626698 0.50791232]]\n",
      "Dot product of two arrays:\n",
      "[[1.21402132 1.3218748 ]\n",
      " [1.15413945 1.0940382 ]\n",
      " [0.22169269 0.36535244]\n",
      " [0.39737368 0.56249532]\n",
      " [0.69118385 0.78022613]]\n"
     ]
    }
   ],
   "source": [
    "'''\n",
    "#11.Write a NumPy program to multiply a 5x3 matrix by a 3x2 matrix and create a real matrix product.\n",
    "'''\n",
    "import numpy as np\n",
    "x = np.random.random((5,3))\n",
    "print(\"First array:\")\n",
    "print(x)\n",
    "y = np.random.random((3,2))\n",
    "print(\"Second array:\")\n",
    "print(y)\n",
    "z = np.dot(x, y)\n",
    "print(\"Dot product of two arrays:\")\n",
    "print(z)"
   ]
  },
  {
   "cell_type": "code",
   "execution_count": 13,
   "metadata": {},
   "outputs": [
    {
     "name": "stdout",
     "output_type": "stream",
     "text": [
      "First array:\n",
      "[1.+2.j 3.+4.j]\n",
      "Second array:\n",
      "[5.+6.j 7.+8.j]\n",
      "Product of above two arrays:\n",
      "(70-8j)\n"
     ]
    }
   ],
   "source": [
    "'''\n",
    "#12.Write a NumPy program to multiply a matrix by another matrix of complex numbers and create a new matrix of complex numbers.\n",
    "'''\n",
    "import numpy as np\n",
    "x = np.array([1+2j,3+4j])\n",
    "print(\"First array:\")\n",
    "print(x)\n",
    "y = np.array([5+6j,7+8j])\n",
    "print(\"Second array:\")\n",
    "print(y)\n",
    "z = np.vdot(x, y)\n",
    "print(\"Product of above two arrays:\")\n",
    "print(z)"
   ]
  },
  {
   "cell_type": "code",
   "execution_count": 14,
   "metadata": {},
   "outputs": [
    {
     "name": "stdout",
     "output_type": "stream",
     "text": [
      "Array x:\n",
      "[[[ 0  1  2  3]\n",
      "  [ 4  5  6  7]\n",
      "  [ 8  9 10 11]]\n",
      "\n",
      " [[12 13 14 15]\n",
      "  [16 17 18 19]\n",
      "  [20 21 22 23]]]\n",
      "Array y:\n",
      "[0 1 2 3]\n",
      "Inner of x and y arrays:\n",
      "[[ 14  38  62]\n",
      " [ 86 110 134]]\n"
     ]
    }
   ],
   "source": [
    "'''\n",
    "#13.Write a NumPy program to create an inner product of two arrays.\n",
    "'''\n",
    "import numpy as np\n",
    "x = np.arange(24).reshape((2,3,4))\n",
    "print(\"Array x:\")\n",
    "print(x)\n",
    "print(\"Array y:\")\n",
    "y = np.arange(4)\n",
    "print(y)\n",
    "print(\"Inner of x and y arrays:\")\n",
    "print(np.inner(x, y))"
   ]
  },
  {
   "cell_type": "code",
   "execution_count": 15,
   "metadata": {},
   "outputs": [
    {
     "name": "stdout",
     "output_type": "stream",
     "text": [
      "Matrices and vectors.\n",
      "x:\n",
      "[1. 4. 0.]\n",
      "y:\n",
      "[2. 2. 1.]\n",
      "Inner product of x and y:\n",
      "10.0\n",
      "Outer product of x and y:\n",
      "[[2. 2. 1.]\n",
      " [8. 8. 4.]\n",
      " [0. 0. 0.]]\n",
      "Cross product of x and y:\n",
      "[ 4. -1. -6.]\n"
     ]
    }
   ],
   "source": [
    "'''\n",
    "#14.Write a NumPy program to generate inner, outer, and cross products of matrices and vectors.\n",
    "'''\n",
    "import numpy as np\n",
    "x = np.array([1, 4, 0], float)\n",
    "y = np.array([2, 2, 1], float)\n",
    "print(\"Matrices and vectors.\")\n",
    "print(\"x:\")\n",
    "print(x)\n",
    "print(\"y:\")\n",
    "print(y)\n",
    "print(\"Inner product of x and y:\")\n",
    "print(np.inner(x, y))\n",
    "print(\"Outer product of x and y:\")\n",
    "print(np.outer(x, y))\n",
    "print(\"Cross product of x and y:\")\n",
    "print(np.cross(x, y))"
   ]
  },
  {
   "cell_type": "code",
   "execution_count": 16,
   "metadata": {},
   "outputs": [
    {
     "name": "stdout",
     "output_type": "stream",
     "text": [
      "Matrices and vectors.\n",
      "x:\n",
      "[[1, 0], [1, 1]]\n",
      "y:\n",
      "[[3, 1], [2, 2]]\n",
      "Matrix product of above two arrays:\n",
      "[[3 1]\n",
      " [5 3]]\n"
     ]
    }
   ],
   "source": [
    "'''\n",
    "#15.Write a NumPy program to generate a matrix product of two arrays.\n",
    "'''\n",
    "import numpy as np\n",
    "x = [[1, 0], [1, 1]]\n",
    "y = [[3, 1], [2, 2]]\n",
    "print(\"Matrices and vectors.\")\n",
    "print(\"x:\")\n",
    "print(x)\n",
    "print(\"y:\")\n",
    "print(y)\n",
    "print(\"Matrix product of above two arrays:\")\n",
    "print(np.matmul(x, y))"
   ]
  },
  {
   "cell_type": "code",
   "execution_count": 17,
   "metadata": {},
   "outputs": [
    {
     "name": "stdout",
     "output_type": "stream",
     "text": [
      "Roots of the first polynomial:\n",
      "[1. 1.]\n",
      "Roots of the second polynomial:\n",
      "[11.04461946+0.j        -0.8711421 +0.j         0.91326132+0.4531004j\n",
      "  0.91326132-0.4531004j]\n"
     ]
    }
   ],
   "source": [
    "'''\n",
    "#16.Write a NumPy program to find the roots of the following polynomials.\n",
    "a) x2 − 4x + 7.\n",
    "b) x4 − 11x3 + 9x2 + 11x – 10\n",
    "'''\n",
    "import numpy as np\n",
    "print(\"Roots of the first polynomial:\")\n",
    "print(np.roots([1, -2, 1]))\n",
    "print(\"Roots of the second polynomial:\")\n",
    "print(np.roots([1, -12, 10, 7, -10]))"
   ]
  },
  {
   "cell_type": "code",
   "execution_count": 18,
   "metadata": {},
   "outputs": [
    {
     "name": "stdout",
     "output_type": "stream",
     "text": [
      "Polynomial value when x = 2:\n",
      "1\n",
      "Polynomial value when x = 3:\n",
      "-142\n"
     ]
    }
   ],
   "source": [
    "'''\n",
    "#17.Write a NumPy program to compute the following polynomial values.\n",
    "a) x2 − 4x + 7, when x = 2\n",
    "b) x4 − 11x3 + 9x2 + 11x – 10, when x = 3\n",
    "'''\n",
    "import numpy as np\n",
    "print(\"Polynomial value when x = 2:\")\n",
    "print(np.polyval([1, -2, 1], 2))\n",
    "print(\"Polynomial value when x = 3:\")\n",
    "print(np.polyval([1, -12, 10, 7, -10], 3))"
   ]
  },
  {
   "cell_type": "code",
   "execution_count": 20,
   "metadata": {},
   "outputs": [
    {
     "name": "stdout",
     "output_type": "stream",
     "text": [
      "Add one polynomial to another:\n",
      "[40. 60. 80.]\n",
      "Subtract one polynomial from another:\n",
      "[-20. -20. -20.]\n",
      "Multiply one polynomial by another:\n",
      "[ 300. 1000. 2200. 2200. 1500.]\n",
      "Divide one polynomial by another:\n",
      "(array([0.6]), array([-8., -4.]))\n"
     ]
    }
   ],
   "source": [
    "'''\n",
    "#18.Write a NumPy program to add one polynomial to another, subtract one polynomial from another, multiply one polynomial by another and divide one polynomial by another.\n",
    "'''\n",
    "from numpy.polynomial import polynomial as P\n",
    "x = (10,20,30)\n",
    "y = (30,40,50)\n",
    "print(\"Add one polynomial to another:\")\n",
    "print(P.polyadd(x,y))\n",
    "print(\"Subtract one polynomial from another:\")\n",
    "print(P.polysub(x,y))\n",
    "print(\"Multiply one polynomial by another:\")\n",
    "print(P.polymul(x,y))\n",
    "print(\"Divide one polynomial by another:\")\n",
    "print(P.polydiv(x,y))"
   ]
  },
  {
   "cell_type": "code",
   "execution_count": 19,
   "metadata": {},
   "outputs": [
    {
     "name": "stdout",
     "output_type": "stream",
     "text": [
      "Original array:\n",
      "[[10 30]\n",
      " [20 60]]\n",
      "Mean of each row:\n",
      "[15. 45.]\n",
      "Mean of each column:\n",
      "[20. 40.]\n"
     ]
    }
   ],
   "source": [
    "'''\n",
    "#19.Write a NumPy program to calculate mean across dimension, in a 2D numpy array.\n",
    "'''\n",
    "import numpy as np\n",
    "x = np.array([[10, 30], [20, 60]])\n",
    "print(\"Original array:\")\n",
    "print(x)\n",
    "print(\"Mean of each row:\")\n",
    "print(x.mean(axis=0))\n",
    "print(\"Mean of each column:\")\n",
    "print(x.mean(axis=1))"
   ]
  },
  {
   "cell_type": "code",
   "execution_count": 21,
   "metadata": {},
   "outputs": [
    {
     "name": "stdout",
     "output_type": "stream",
     "text": [
      "Average of the array elements:\n",
      "-0.005946023739128627\n",
      "Standard deviation of the array elements:\n",
      "1.026304659763013\n",
      "Variance of the array elements:\n",
      "1.0533012546512737\n"
     ]
    }
   ],
   "source": [
    "'''\n",
    "#20.Write a NumPy program to create a random array with 1000 elements and compute the average, variance, standard deviation of the array elements.\n",
    "'''\n",
    "import numpy as np\n",
    "x = np.random.randn(1000)\n",
    "print(\"Average of the array elements:\")\n",
    "mean = x.mean()\n",
    "print(mean)\n",
    "print(\"Standard deviation of the array elements:\")\n",
    "std = x.std()\n",
    "print(std)\n",
    "print(\"Variance of the array elements:\")\n",
    "var = x.var()\n",
    "print(var)"
   ]
  },
  {
   "cell_type": "code",
   "execution_count": 22,
   "metadata": {},
   "outputs": [
    {
     "name": "stdout",
     "output_type": "stream",
     "text": [
      "sine: array of angles given in degrees\n",
      "[0.         0.5        0.70710678 0.8660254  1.        ]\n",
      "cosine: array of angles given in degrees\n",
      "[1.00000000e+00 8.66025404e-01 7.07106781e-01 5.00000000e-01\n",
      " 6.12323400e-17]\n",
      "tangent: array of angles given in degrees\n",
      "[0.00000000e+00 5.77350269e-01 1.00000000e+00 1.73205081e+00\n",
      " 1.63312394e+16]\n"
     ]
    }
   ],
   "source": [
    "'''\n",
    "#21.Write a NumPy program to compute the trigonometric sine, cosine and tangent array of angles given in degrees.\n",
    "'''\n",
    "import numpy as np\n",
    "print(\"sine: array of angles given in degrees\")\n",
    "print(np.sin(np.array((0., 30., 45., 60., 90.)) * np.pi / 180.))\n",
    "print(\"cosine: array of angles given in degrees\")\n",
    "print(np.cos(np.array((0., 30., 45., 60., 90.)) * np.pi / 180.))\n",
    "print(\"tangent: array of angles given in degrees\")\n",
    "print(np.tan(np.array((0., 30., 45., 60., 90.)) * np.pi / 180.))\n"
   ]
  },
  {
   "cell_type": "code",
   "execution_count": null,
   "metadata": {},
   "outputs": [],
   "source": []
  }
 ],
 "metadata": {
  "kernelspec": {
   "display_name": "Python 3",
   "language": "python",
   "name": "python3"
  },
  "language_info": {
   "codemirror_mode": {
    "name": "ipython",
    "version": 3
   },
   "file_extension": ".py",
   "mimetype": "text/x-python",
   "name": "python",
   "nbconvert_exporter": "python",
   "pygments_lexer": "ipython3",
   "version": "3.6.5"
  }
 },
 "nbformat": 4,
 "nbformat_minor": 2
}
