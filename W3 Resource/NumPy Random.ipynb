{
 "cells": [
  {
   "cell_type": "markdown",
   "metadata": {},
   "source": [
    "NumPy Random"
   ]
  },
  {
   "cell_type": "code",
   "execution_count": 17,
   "metadata": {},
   "outputs": [
    {
     "name": "stdout",
     "output_type": "stream",
     "text": [
      "[-0.70390266  1.03681568  0.9640547   1.03034322 -0.8665461 ]\n"
     ]
    }
   ],
   "source": [
    "'''\n",
    "#1.Write a NumPy program to generate five random numbers from the normal distribution.\n",
    "'''\n",
    "import numpy as np\n",
    "x = np.random.normal(size=5)\n",
    "print(x)"
   ]
  },
  {
   "cell_type": "code",
   "execution_count": 16,
   "metadata": {},
   "outputs": [
    {
     "name": "stdout",
     "output_type": "stream",
     "text": [
      "[15 10 24 23 26 27]\n"
     ]
    }
   ],
   "source": [
    "'''\n",
    "#2.Write a NumPy program to generate six random integers between 10 and 30.\n",
    "'''\n",
    "import numpy as np\n",
    "x = np.random.randint(low=10, high=30, size=6)\n",
    "print(x)"
   ]
  },
  {
   "cell_type": "code",
   "execution_count": 14,
   "metadata": {},
   "outputs": [
    {
     "name": "stdout",
     "output_type": "stream",
     "text": [
      "[[[0.60597026 0.85915611 0.32074855]\n",
      "  [0.4758747  0.52053305 0.98541266]\n",
      "  [0.16076319 0.280097   0.72864692]]\n",
      "\n",
      " [[0.7572718  0.26815135 0.89020609]\n",
      "  [0.23073596 0.99725298 0.76258805]\n",
      "  [0.38048288 0.57918874 0.67381115]]\n",
      "\n",
      " [[0.79980369 0.79041318 0.71033265]\n",
      "  [0.72098013 0.58247582 0.61961404]\n",
      "  [0.31151544 0.6007221  0.2805731 ]]]\n"
     ]
    }
   ],
   "source": [
    "'''\n",
    "#3.Write a NumPy program to create a 3x3x3 array with random values.\n",
    "'''\n",
    "import numpy as np\n",
    "x = np.random.random((3,3,3))\n",
    "print(x)"
   ]
  },
  {
   "cell_type": "code",
   "execution_count": 13,
   "metadata": {},
   "outputs": [
    {
     "name": "stdout",
     "output_type": "stream",
     "text": [
      "Original Array:\n",
      "[[0.03595106 0.02963732 0.0346901  0.87992167 0.70261223]\n",
      " [0.62109548 0.30049082 0.8973774  0.3860045  0.77348433]\n",
      " [0.03431331 0.1183619  0.83816304 0.33324428 0.63535587]\n",
      " [0.16781842 0.22926883 0.31252692 0.7018931  0.92374662]\n",
      " [0.76787071 0.82082673 0.98035305 0.12075857 0.71180435]]\n",
      "Minimum and Maximum Values:\n",
      "0.029637315141422205 0.9803530456013979\n"
     ]
    }
   ],
   "source": [
    "'''\n",
    "#4.Write a NumPy program to create a 5x5 array with random values and find the minimum and maximum values.\n",
    "'''\n",
    "import numpy as np\n",
    "x = np.random.random((5,5))\n",
    "print(\"Original Array:\")\n",
    "print(x) \n",
    "xmin, xmax = x.min(), x.max()\n",
    "print(\"Minimum and Maximum Values:\")\n",
    "print(xmin, xmax)"
   ]
  },
  {
   "cell_type": "code",
   "execution_count": 11,
   "metadata": {},
   "outputs": [
    {
     "name": "stdout",
     "output_type": "stream",
     "text": [
      "Original array: \n",
      "[[0.13336252 0.04323503 0.09290302 0.69033471]\n",
      " [0.43226526 0.83246093 0.150625   0.33881738]\n",
      " [0.39150844 0.79775127 0.26391483 0.51840056]\n",
      " [0.35196689 0.88697237 0.05682728 0.54277377]\n",
      " [0.52683154 0.64910057 0.48486885 0.51185435]\n",
      " [0.1691336  0.23037134 0.75965093 0.99729626]\n",
      " [0.99362945 0.84774167 0.53066181 0.09345218]\n",
      " [0.22849869 0.83047631 0.57106414 0.38245225]\n",
      " [0.94345711 0.1321829  0.07645258 0.75799177]\n",
      " [0.01803426 0.37463966 0.80721755 0.55551648]]\n",
      "First 5 rows of the above array:\n",
      "[[0.13336252 0.04323503 0.09290302 0.69033471]\n",
      " [0.43226526 0.83246093 0.150625   0.33881738]\n",
      " [0.39150844 0.79775127 0.26391483 0.51840056]\n",
      " [0.35196689 0.88697237 0.05682728 0.54277377]\n",
      " [0.52683154 0.64910057 0.48486885 0.51185435]]\n"
     ]
    }
   ],
   "source": [
    "'''\n",
    "#5.Write a NumPy program to create a random 10x4 array and extract the first five rows of the array and store them into a variable.\n",
    "'''\n",
    "import numpy as np\n",
    "x = np.random.rand(10, 4)\n",
    "print(\"Original array: \")\n",
    "print(x)\n",
    "y= x[:5, :]\n",
    "print(\"First 5 rows of the above array:\")\n",
    "print(y)"
   ]
  },
  {
   "cell_type": "code",
   "execution_count": null,
   "metadata": {},
   "outputs": [],
   "source": [
    "'''\n",
    "#6.Write a NumPy program to shuffle numbers between 0 and 10 (inclusive).\n",
    "'''\n",
    "import numpy as np\n",
    "x = np.arange(10)\n",
    "np.random.shuffle(x)\n",
    "print(x)\n",
    "print(\"Same result using permutation():\")\n",
    "print(np.random.permutation(10))"
   ]
  },
  {
   "cell_type": "code",
   "execution_count": 10,
   "metadata": {},
   "outputs": [
    {
     "name": "stdout",
     "output_type": "stream",
     "text": [
      "Original Array:\n",
      "[[0.49261285 0.31884278 0.52866029]\n",
      " [0.73316849 0.5258387  0.17598287]\n",
      " [0.40233282 0.86646964 0.44010997]]\n",
      "After normalization:\n",
      "[[0.45856052 0.20689738 0.51076637]\n",
      " [0.80694612 0.50667999 0.        ]\n",
      " [0.32781214 1.         0.38252305]]\n"
     ]
    }
   ],
   "source": [
    "'''\n",
    "#7.Write a NumPy program to normalize a 3x3 random matrix.\n",
    "'''\n",
    "import numpy as np\n",
    "x= np.random.random((3,3))\n",
    "print(\"Original Array:\")\n",
    "print(x)\n",
    "xmax, xmin = x.max(), x.min()\n",
    "x = (x - xmin)/(xmax - xmin)\n",
    "print(\"After normalization:\")\n",
    "print(x)"
   ]
  },
  {
   "cell_type": "code",
   "execution_count": 9,
   "metadata": {},
   "outputs": [
    {
     "name": "stdout",
     "output_type": "stream",
     "text": [
      "Original array:\n",
      "[0.54544435 0.84966648 0.96655733 0.7045382  0.78008639 0.4804652\n",
      " 0.3590365  0.39034764 0.78681858 0.86235796]\n",
      "Sorted array:\n",
      "[0.3590365  0.39034764 0.4804652  0.54544435 0.7045382  0.78008639\n",
      " 0.78681858 0.84966648 0.86235796 0.96655733]\n"
     ]
    }
   ],
   "source": [
    "'''\n",
    "#8.Write a NumPy program to create a random vector of size 10 and sort it.\n",
    "'''\n",
    "import numpy as np\n",
    "x = np.random.random(10)\n",
    "print(\"Original array:\")\n",
    "print(x)\n",
    "x.sort()\n",
    "print(\"Sorted array:\")\n",
    "print(x)"
   ]
  },
  {
   "cell_type": "code",
   "execution_count": 8,
   "metadata": {},
   "outputs": [
    {
     "name": "stdout",
     "output_type": "stream",
     "text": [
      "3.282653685311122\n"
     ]
    }
   ],
   "source": [
    "'''\n",
    "#9.Write a NumPy program to find the nearest value from a given value in an array.\n",
    "'''\n",
    "import numpy as np\n",
    "x = np.random.uniform(1, 12, 5)\n",
    "v = 4\n",
    "n = x.flat[np.abs(x - v).argmin()]\n",
    "print(n)"
   ]
  },
  {
   "cell_type": "code",
   "execution_count": 7,
   "metadata": {},
   "outputs": [
    {
     "name": "stdout",
     "output_type": "stream",
     "text": [
      "First array:\n",
      "[1 1 1 0 0 0]\n",
      "Second array:\n",
      "[0 0 1 0 0 0]\n",
      "Test above two arrays are equal or not!\n",
      "False\n"
     ]
    }
   ],
   "source": [
    "'''\n",
    "#10.Write a NumPy program to check two random arrays are equal or not.\n",
    "'''\n",
    "import numpy as np\n",
    "x = np.random.randint(0,2,6)\n",
    "print(\"First array:\")\n",
    "print(x)\n",
    "y = np.random.randint(0,2,6)\n",
    "print(\"Second array:\")\n",
    "print(y)\n",
    "print(\"Test above two arrays are equal or not!\")\n",
    "array_equal = np.allclose(x, y)\n",
    "print(array_equal)"
   ]
  },
  {
   "cell_type": "code",
   "execution_count": 6,
   "metadata": {},
   "outputs": [
    {
     "name": "stdout",
     "output_type": "stream",
     "text": [
      "Original array:\n",
      "[0.85926554 0.73703334 0.0498422  0.12884231 0.35081801 0.91773323\n",
      " 0.97249693 0.20045378 0.3660715  0.46257624 0.13842051 0.77442819\n",
      " 0.28655464 0.85632081 0.46436692]\n",
      "Maximum value replaced by -1:\n",
      "[ 0.85926554  0.73703334  0.0498422   0.12884231  0.35081801  0.91773323\n",
      " -1.          0.20045378  0.3660715   0.46257624  0.13842051  0.77442819\n",
      "  0.28655464  0.85632081  0.46436692]\n"
     ]
    }
   ],
   "source": [
    "'''\n",
    "#11.Write a NumPy program to create random vector of size 15 and replace the maximum value by -1.\n",
    "'''\n",
    "import numpy as np\n",
    "x = np.random.random(15)\n",
    "print(\"Original array:\")\n",
    "print(x)\n",
    "x[x.argmax()] = -1\n",
    "print(\"Maximum value replaced by -1:\")\n",
    "print(x)"
   ]
  },
  {
   "cell_type": "code",
   "execution_count": 5,
   "metadata": {},
   "outputs": [
    {
     "name": "stdout",
     "output_type": "stream",
     "text": [
      "[[0.         0.56544382 1.04518015 0.29025116 0.8211624  0.48597393\n",
      "  0.644881   0.31793886 1.07550864 0.76226764]\n",
      " [0.56544382 0.         0.48554335 0.31771085 0.50248332 0.30840509\n",
      "  0.33616736 0.30752256 0.51257201 0.34619147]\n",
      " [1.04518015 0.48554335 0.         0.77232706 0.70924703 0.73126221\n",
      "  0.65666499 0.78771175 0.17461612 0.4137292 ]\n",
      " [0.29025116 0.31771085 0.77232706 0.         0.7193195  0.40142912\n",
      "  0.52915171 0.24605882 0.82544863 0.47244551]\n",
      " [0.8211624  0.50248332 0.70924703 0.7193195  0.         0.33805425\n",
      "  0.19020369 0.51471859 0.59542738 0.81784632]\n",
      " [0.48597393 0.30840509 0.73126221 0.40142912 0.33805425 0.\n",
      "  0.15971448 0.17711706 0.69377592 0.65229328]\n",
      " [0.644881   0.33616736 0.65666499 0.52915171 0.19020369 0.15971448\n",
      "  0.         0.33098097 0.58651705 0.67335139]\n",
      " [0.31793886 0.30752256 0.78771175 0.24605882 0.51471859 0.17711706\n",
      "  0.33098097 0.         0.78735217 0.6082765 ]\n",
      " [1.07550864 0.51257201 0.17461612 0.82544863 0.59542738 0.69377592\n",
      "  0.58651705 0.78735217 0.         0.54825705]\n",
      " [0.76226764 0.34619147 0.4137292  0.47244551 0.81784632 0.65229328\n",
      "  0.67335139 0.6082765  0.54825705 0.        ]]\n"
     ]
    }
   ],
   "source": [
    "'''\n",
    "#12.Write a NumPy program to find point by point distances of a random vector with shape (10,2) representing coordinates.\n",
    "'''\n",
    "import numpy as np\n",
    "a= np.random.random((10,2))\n",
    "x,y = np.atleast_2d(a[:,0], a[:,1])\n",
    "d = np.sqrt( (x-x.T)**2 + (y-y.T)**2)\n",
    "print(d)"
   ]
  },
  {
   "cell_type": "code",
   "execution_count": 4,
   "metadata": {},
   "outputs": [
    {
     "name": "stdout",
     "output_type": "stream",
     "text": [
      "Original array:\n",
      "[5 5 3 7 6 9 9 0 8 7 1 6 4 0 9 6 2 2 7 8 7 3 5 3 7 3 1 8 6 8 2 1 0 4 1 7 5\n",
      " 8 6 1]\n",
      "Most frequent value in the above array:\n",
      "7\n"
     ]
    }
   ],
   "source": [
    "'''\n",
    "#13.Write a NumPy program to find the most frequent value in an array.\n",
    "'''\n",
    "import numpy as np\n",
    "x = np.random.randint(0, 10, 40)\n",
    "print(\"Original array:\")\n",
    "print(x)\n",
    "print(\"Most frequent value in the above array:\")\n",
    "print(np.bincount(x).argmax())"
   ]
  },
  {
   "cell_type": "code",
   "execution_count": 3,
   "metadata": {},
   "outputs": [
    {
     "name": "stdout",
     "output_type": "stream",
     "text": [
      "[0.07558146 1.05817222 1.24013869 0.81420451 0.51980916 0.92368848\n",
      " 1.04620946 0.9962279  0.2766911  1.12082597]\n",
      "[0.90321729 0.58709719 0.79984396 0.08603365 0.64188142 0.11817661\n",
      " 0.67400646 0.03917987 0.4318423  1.05608276]\n"
     ]
    }
   ],
   "source": [
    "'''\n",
    "#14.Write a NumPy program to convert cartesian coordinates to polar coordinates of a random 10x3 matrix representing cartesian coordinates.\n",
    "'''\n",
    "import numpy as np\n",
    "z= np.random.random((10,3))\n",
    "x,y = z[:,0], z[:,1]\n",
    "r = np.sqrt(x**2+y**2)\n",
    "t = np.arctan2(y,x)\n",
    "print(r)\n",
    "print(t)"
   ]
  },
  {
   "cell_type": "code",
   "execution_count": 2,
   "metadata": {},
   "outputs": [
    {
     "name": "stdout",
     "output_type": "stream",
     "text": [
      "Original array:\n",
      "[ 0  1  2  3  4  5  6  7  8  9 10 11 12 13 14 15 16 17 18 19 20 21 22 23\n",
      " 24 25 26 27 28 29 30 31 32 33 34 35 36 37 38 39 40 41 42 43 44 45 46 47\n",
      " 48 49 50 51 52 53 54 55 56 57 58 59 60 61 62 63 64 65 66 67 68 69 70 71\n",
      " 72 73 74 75 76 77 78 79 80 81 82 83 84 85 86 87 88 89 90 91 92 93 94 95\n",
      " 96 97 98 99]\n",
      "Value to compare:\n",
      "90.2577483863723\n",
      "90\n"
     ]
    }
   ],
   "source": [
    "'''\n",
    "#15.Write a NumPy program to find the closest value (to a given scalar) in an array.\n",
    "'''\n",
    "import numpy as np\n",
    "x = np.arange(100)\n",
    "print(\"Original array:\")\n",
    "print(x)\n",
    "a = np.random.uniform(0,100)\n",
    "print(\"Value to compare:\")\n",
    "print(a)\n",
    "index = (np.abs(x-a)).argmin()\n",
    "print(x[index])"
   ]
  },
  {
   "cell_type": "code",
   "execution_count": 1,
   "metadata": {},
   "outputs": [
    {
     "name": "stdout",
     "output_type": "stream",
     "text": [
      "Original array:\n",
      "[0 1 2 3 4 5 6 7 8 9]\n",
      "[9]\n"
     ]
    }
   ],
   "source": [
    "'''\n",
    "#16.Write a NumPy program to get the n largest values of an array.\n",
    "'''\n",
    "import numpy as np\n",
    "x = np.arange(10)\n",
    "print(\"Original array:\")\n",
    "print(x)\n",
    "np.random.shuffle(x)\n",
    "n = 1\n",
    "print (x[np.argsort(x)[-n:]])"
   ]
  },
  {
   "cell_type": "code",
   "execution_count": null,
   "metadata": {},
   "outputs": [],
   "source": []
  }
 ],
 "metadata": {
  "kernelspec": {
   "display_name": "Python 3",
   "language": "python",
   "name": "python3"
  },
  "language_info": {
   "codemirror_mode": {
    "name": "ipython",
    "version": 3
   },
   "file_extension": ".py",
   "mimetype": "text/x-python",
   "name": "python",
   "nbconvert_exporter": "python",
   "pygments_lexer": "ipython3",
   "version": "3.6.5"
  }
 },
 "nbformat": 4,
 "nbformat_minor": 2
}
