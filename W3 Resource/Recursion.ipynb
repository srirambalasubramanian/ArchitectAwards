{
 "cells": [
  {
   "cell_type": "markdown",
   "metadata": {},
   "source": [
    "Recursion"
   ]
  },
  {
   "cell_type": "code",
   "execution_count": null,
   "metadata": {},
   "outputs": [],
   "source": [
    "'''\n",
    "#1.Write a Python program to calculate the sum of a list of numbers.\n",
    "'''\n",
    "def list_sum(num_List):\n",
    "    if len(num_List) == 1:\n",
    "        return num_List[0]\n",
    "    else:\n",
    "        return num_List[0] + list_sum(num_List[1:])\n",
    "        \n",
    "print(list_sum([2, 4, 5, 6, 7]))"
   ]
  },
  {
   "cell_type": "code",
   "execution_count": null,
   "metadata": {},
   "outputs": [],
   "source": [
    "'''\n",
    "#2.Write a Python program to converting an integer to a string in any base.\n",
    "'''\n",
    "def to_string(n,base):\n",
    "   conver_tString = \"0123456789ABCDEF\"\n",
    "   if n < base:\n",
    "      return conver_tString[n]\n",
    "   else:\n",
    "      return to_string(n//base,base) + conver_tString[n % base]\n",
    "\n",
    "print(to_string(2835,16))"
   ]
  },
  {
   "cell_type": "code",
   "execution_count": null,
   "metadata": {},
   "outputs": [],
   "source": [
    "'''\n",
    "#3.Write a Python program of recursion list sum.\n",
    "'''\n",
    "def recursive_list_sum(data_list):\n",
    "\ttotal = 0\n",
    "\tfor element in data_list:\n",
    "\t\tif type(element) == type([]):\n",
    "\t\t\ttotal = total + recursive_list_sum(element)\n",
    "\t\telse:\n",
    "\t\t\ttotal = total + element\n",
    "\n",
    "\treturn total\n",
    "print( recursive_list_sum([1, 2, [3,4],[5,6]]))\n"
   ]
  },
  {
   "cell_type": "code",
   "execution_count": null,
   "metadata": {},
   "outputs": [],
   "source": [
    "'''\n",
    "#4.Write a Python program to get the factorial of a non-negative integer.\n",
    "'''\n",
    "def factorial(n):\n",
    "  if n <= 1:\n",
    "    return 1\n",
    "  else:\n",
    "    return n * (factorial(n - 1))\n",
    "    \n",
    "print(factorial(5))"
   ]
  },
  {
   "cell_type": "code",
   "execution_count": null,
   "metadata": {},
   "outputs": [],
   "source": [
    "'''\n",
    "#5.Write a Python program to solve the Fibonacci sequence using recursion.\n",
    "'''\n",
    "def fibonacci(n):\n",
    "  if n == 1 or n == 2:\n",
    "    return 1\n",
    "  else:\n",
    "    return (fibonacci(n - 1) + (fibonacci(n - 2)))\n",
    "\n",
    "print(fibonacci(7))"
   ]
  },
  {
   "cell_type": "code",
   "execution_count": null,
   "metadata": {},
   "outputs": [],
   "source": [
    "'''\n",
    "#6.Write a Python program to get the sum of a non-negative integer.\n",
    "'''\n",
    "def sumDigits(n):\n",
    "  if n == 0:\n",
    "    return 0\n",
    "  else:\n",
    "    return n % 10 + sumDigits(int(n / 10))\n",
    "\n",
    "print(sumDigits(345))\n",
    "print(sumDigits(45))"
   ]
  },
  {
   "cell_type": "code",
   "execution_count": null,
   "metadata": {},
   "outputs": [],
   "source": [
    "'''\n",
    "#7.Write a Python program to calculate the sum of the positive integers of n+(n-2)+(n-4)... (until n-x =< 0).\n",
    "'''\n",
    "def sum_series(n):\n",
    "  if n < 1:\n",
    "    return 0\n",
    "  else:\n",
    "    return n + sum_series(n - 2)\n",
    "\n",
    "print(sum_series(6))\n",
    "print(sum_series(10))"
   ]
  },
  {
   "cell_type": "code",
   "execution_count": null,
   "metadata": {},
   "outputs": [],
   "source": [
    "'''\n",
    "#8.Write a Python program to calculate the harmonic sum of n-1. \n",
    "Note: The harmonic sum is the sum of reciprocals of the positive integers. \n",
    "'''\n",
    "def harmonic_sum(n):\n",
    "  if n < 2:\n",
    "    return 1\n",
    "  else:\n",
    "    return 1 / n + (harmonic_sum(n - 1))\n",
    "    \n",
    "print(harmonic_sum(7))\n",
    "print(harmonic_sum(4))"
   ]
  },
  {
   "cell_type": "code",
   "execution_count": null,
   "metadata": {},
   "outputs": [],
   "source": [
    "'''\n",
    "#9.Write a Python program to calculate the geometric sum of n-1.\n",
    "Note : In mathematics, a geometric series is a series with a constant ratio between successive terms. \n",
    "Example : \n",
    "harmonic series\n",
    "'''\n",
    "def geometric_sum(n):\n",
    "  if n < 0:\n",
    "    return 0\n",
    "  else:\n",
    "    return 1 / (pow(2, n)) + geometric_sum(n - 1)\n",
    " \n",
    "print(geometric_sum(7))\n",
    "print(geometric_sum(4))"
   ]
  },
  {
   "cell_type": "code",
   "execution_count": null,
   "metadata": {},
   "outputs": [],
   "source": [
    "'''\n",
    "#10.Write a Python program to calculate the value of 'a' to the power 'b'.\n",
    "'''\n",
    "def power(a,b):\n",
    "\tif b==0:\n",
    "\t\treturn 1\n",
    "\telif a==0:\n",
    "\t\treturn 0\n",
    "\telif b==1:\n",
    "\t\treturn a\n",
    "\telse:\n",
    "\t\treturn a*power(a,b-1)\n",
    "\n",
    "print(power(3,4))"
   ]
  },
  {
   "cell_type": "code",
   "execution_count": 1,
   "metadata": {},
   "outputs": [
    {
     "name": "stdout",
     "output_type": "stream",
     "text": [
      "2\n"
     ]
    }
   ],
   "source": [
    "'''\n",
    "#11.Write a Python program to find the greatest common divisor (gcd) of two integers.\n",
    "'''\n",
    "def Recurgcd(a, b):\n",
    "\tlow = min(a, b)\n",
    "\thigh = max(a, b)\n",
    "\n",
    "\tif low == 0:\n",
    "\t\treturn high\n",
    "\telif low == 1:\n",
    "\t\treturn 1\n",
    "\telse:\n",
    "\t\treturn Recurgcd(low, high%low)\n",
    "print(Recurgcd(12,14))"
   ]
  },
  {
   "cell_type": "code",
   "execution_count": null,
   "metadata": {},
   "outputs": [],
   "source": []
  }
 ],
 "metadata": {
  "kernelspec": {
   "display_name": "Python 3",
   "language": "python",
   "name": "python3"
  },
  "language_info": {
   "codemirror_mode": {
    "name": "ipython",
    "version": 3
   },
   "file_extension": ".py",
   "mimetype": "text/x-python",
   "name": "python",
   "nbconvert_exporter": "python",
   "pygments_lexer": "ipython3",
   "version": "3.6.5"
  }
 },
 "nbformat": 4,
 "nbformat_minor": 2
}
